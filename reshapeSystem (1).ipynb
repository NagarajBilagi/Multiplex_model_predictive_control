{
 "cells": [
  {
   "cell_type": "code",
   "execution_count": 1,
   "id": "2795300d",
   "metadata": {},
   "outputs": [],
   "source": [
    "using JuMP,Ipopt, LinearAlgebra, ControlSystems"
   ]
  },
  {
   "cell_type": "code",
   "execution_count": 2,
   "id": "63059090",
   "metadata": {},
   "outputs": [
    {
     "data": {
      "text/plain": [
       "MathOptInterface.OptimizerWithAttributes(Ipopt.Optimizer, Pair{MathOptInterface.AbstractOptimizerAttribute, Any}[MathOptInterface.RawParameter(\"print_level\") => 0])"
      ]
     },
     "execution_count": 2,
     "metadata": {},
     "output_type": "execute_result"
    }
   ],
   "source": [
    "my_optimizer = with_optimizer(Ipopt.Optimizer, print_level = 0)"
   ]
  },
  {
   "cell_type": "code",
   "execution_count": 3,
   "id": "5c375f4a",
   "metadata": {},
   "outputs": [
    {
     "data": {
      "text/plain": [
       "5.0"
      ]
     },
     "execution_count": 3,
     "metadata": {},
     "output_type": "execute_result"
    }
   ],
   "source": [
    "begin\n",
    "    const c1 = 1; # Spring constant\n",
    "    const c2 = 1;\n",
    "    const c3 = 1;\n",
    "    const m1 = 5.0; # Mass\n",
    "    const m2 = 5.0;\n",
    "    const m3 = 5.0;\n",
    "    const m4 = 5.0;\n",
    "end"
   ]
  },
  {
   "cell_type": "code",
   "execution_count": 4,
   "id": "fc8fced6",
   "metadata": {},
   "outputs": [
    {
     "data": {
      "text/plain": [
       "8×8 Matrix{Float64}:\n",
       "  0.0   0.0   0.0   0.0  1.0  0.0  0.0  0.0\n",
       "  0.0   0.0   0.0   0.0  0.0  1.0  0.0  0.0\n",
       "  0.0   0.0   0.0   0.0  0.0  0.0  1.0  0.0\n",
       "  0.0   0.0   0.0   0.0  0.0  0.0  0.0  1.0\n",
       " -0.2   0.2   0.0   0.0  0.0  0.0  0.0  0.0\n",
       "  0.2  -0.4   0.2   0.0  0.0  0.0  0.0  0.0\n",
       "  0.0   0.2  -0.4   0.2  0.0  0.0  0.0  0.0\n",
       "  0.0   0.0   0.2  -0.2  0.0  0.0  0.0  0.0"
      ]
     },
     "execution_count": 4,
     "metadata": {},
     "output_type": "execute_result"
    }
   ],
   "source": [
    "A = [0 0 0 0 1 0 0 0; 0 0 0 0 0 1 0 0 ; 0 0 0 0 0 0 1 0 ; 0 0 0 0 0 0 0 1 ; -c1/m1 c1/m1 0 0 0 0 0 0 ; c1/m2 -(c2+c1)/m2 c2/m2 0 0 0 0 0 ; 0 c2/m3 -(c2+c3)/m3 c3/m3 0 0 0 0 ; 0 0 c3/m4 -c3/m4 0 0 0 0]"
   ]
  },
  {
   "cell_type": "code",
   "execution_count": 5,
   "id": "c8864f4e",
   "metadata": {},
   "outputs": [
    {
     "data": {
      "text/plain": [
       "8×4 Matrix{Float64}:\n",
       " 0.0  0.0  0.0  0.0\n",
       " 0.0  0.0  0.0  0.0\n",
       " 0.0  0.0  0.0  0.0\n",
       " 0.0  0.0  0.0  0.0\n",
       " 0.2  0.0  0.0  0.0\n",
       " 0.0  0.2  0.0  0.0\n",
       " 0.0  0.0  0.2  0.0\n",
       " 0.0  0.0  0.0  0.2"
      ]
     },
     "execution_count": 5,
     "metadata": {},
     "output_type": "execute_result"
    }
   ],
   "source": [
    "B = [0 0 0 0 ; 0 0 0 0 ; 0 0 0 0; 0 0 0 0; 1/m1 0 0 0 ; 0 1/m2 0 0; 0 0 1/m3 0 ; 0 0 0 1/m4] # Input matrix\n"
   ]
  },
  {
   "cell_type": "code",
   "execution_count": 6,
   "id": "b62f9706",
   "metadata": {},
   "outputs": [
    {
     "data": {
      "text/plain": [
       "4×8 Matrix{Int64}:\n",
       " 1  0  0  0  0  0  0  0\n",
       " 0  1  0  0  0  0  0  0\n",
       " 0  0  1  0  0  0  0  0\n",
       " 0  0  0  1  0  0  0  0"
      ]
     },
     "execution_count": 6,
     "metadata": {},
     "output_type": "execute_result"
    }
   ],
   "source": [
    "C = [1 0 0 0 0 0 0 0 ; 0 1 0 0 0 0 0 0 ; 0 0 1 0 0 0 0 0; 0 0 0 1 0 0 0 0 ; ] # Output matrix\n"
   ]
  },
  {
   "cell_type": "code",
   "execution_count": 7,
   "id": "37e859a9",
   "metadata": {},
   "outputs": [
    {
     "data": {
      "text/plain": [
       "StateSpace{Continuous, Float64}\n",
       "A = \n",
       "  0.0   0.0   0.0   0.0  1.0  0.0  0.0  0.0\n",
       "  0.0   0.0   0.0   0.0  0.0  1.0  0.0  0.0\n",
       "  0.0   0.0   0.0   0.0  0.0  0.0  1.0  0.0\n",
       "  0.0   0.0   0.0   0.0  0.0  0.0  0.0  1.0\n",
       " -0.2   0.2   0.0   0.0  0.0  0.0  0.0  0.0\n",
       "  0.2  -0.4   0.2   0.0  0.0  0.0  0.0  0.0\n",
       "  0.0   0.2  -0.4   0.2  0.0  0.0  0.0  0.0\n",
       "  0.0   0.0   0.2  -0.2  0.0  0.0  0.0  0.0\n",
       "B = \n",
       " 0.0  0.0  0.0  0.0\n",
       " 0.0  0.0  0.0  0.0\n",
       " 0.0  0.0  0.0  0.0\n",
       " 0.0  0.0  0.0  0.0\n",
       " 0.2  0.0  0.0  0.0\n",
       " 0.0  0.2  0.0  0.0\n",
       " 0.0  0.0  0.2  0.0\n",
       " 0.0  0.0  0.0  0.2\n",
       "C = \n",
       " 1.0  0.0  0.0  0.0  0.0  0.0  0.0  0.0\n",
       " 0.0  1.0  0.0  0.0  0.0  0.0  0.0  0.0\n",
       " 0.0  0.0  1.0  0.0  0.0  0.0  0.0  0.0\n",
       " 0.0  0.0  0.0  1.0  0.0  0.0  0.0  0.0\n",
       "D = \n",
       " 0.0  0.0  0.0  0.0\n",
       " 0.0  0.0  0.0  0.0\n",
       " 0.0  0.0  0.0  0.0\n",
       " 0.0  0.0  0.0  0.0\n",
       "\n",
       "Continuous-time state-space model"
      ]
     },
     "execution_count": 7,
     "metadata": {},
     "output_type": "execute_result"
    }
   ],
   "source": [
    "sys_c = ss( A, B, C, zeros(4,4) )\n"
   ]
  },
  {
   "cell_type": "code",
   "execution_count": 8,
   "id": "ed9a6ea1",
   "metadata": {},
   "outputs": [
    {
     "data": {
      "text/plain": [
       "StateSpace{Discrete{Float64}, Float64}\n",
       "A = \n",
       "  0.9990003332777834       0.0009995000999888902   1.6661111904696678e-7   1.1108730387993082e-11  0.09996667333253974     3.332333476178134e-5   3.3325397707171583e-9  1.587037057961754e-13\n",
       "  0.00099950009998889      0.9980009997889134      0.0009993334999785736   1.666111190469667e-7    3.332333476178133e-5    0.09993335333031773    3.332000238071431e-5   3.3325397707171546e-9\n",
       "  1.6661111904696675e-7    0.000999333499978573    0.9980009997889134      0.0009995000999888897   3.3325397707171575e-9   3.3320002380714325e-5  0.09993335333031773    3.332333476178132e-5\n",
       "  1.1108730387993066e-11   1.6661111904696656e-7   0.00099950009998889     0.9990003332777833      1.5870370579617432e-13  3.332539770717151e-9   3.332333476178132e-5   0.09996667333253974\n",
       " -0.019986669999555597     0.0199800059991112      6.663333968188722e-6    6.664762134022716e-10   0.9990003332777835      0.0009995000999888902  1.6661111904696675e-7  1.1108730387993102e-11\n",
       "  0.019980005999111195    -0.0399600126646986      0.019973343331619223    6.66333396818872e-6     0.00099950009998889     0.9980009997889135     0.0009993334999785736  1.6661111904696667e-7\n",
       "  6.663333968188723e-6     0.019973343331619216   -0.0399600126646986      0.01998000599911119     1.6661111904696672e-7   0.0009993334999785736  0.9980009997889134     0.0009995000999888897\n",
       "  6.664762134022713e-10    6.663333968188718e-6    0.019980005999111195   -0.019986669999555593    1.110873038799308e-11   1.6661111904696664e-7  0.0009995000999888897  0.9990003332777834\n",
       "B = \n",
       " 0.000999833355553572    1.666333369045151e-7    1.1109127160483473e-11  3.9677249041141993e-16\n",
       " 1.666333369045151e-7    0.0009996667333257944   1.6662222817412726e-7   1.1109127160483488e-11\n",
       " 1.1109127160483525e-11  1.6662222817412726e-7   0.0009996667333257942   1.666333369045151e-7\n",
       " 3.967724904114183e-16   1.1109127160483473e-11  1.66633336904515e-7     0.0009998333555535715\n",
       " 0.019993334666507954    6.664666952356266e-6    6.665079541434308e-10   3.174074115923501e-14\n",
       " 6.664666952356266e-6    0.01998667066606355     6.664000476142863e-6    6.665079541434304e-10\n",
       " 6.66507954143431e-10    6.664000476142867e-6    0.019986670666063543    6.664666952356264e-6\n",
       " 3.174074115923504e-14   6.665079541434308e-10   6.6646669523562615e-6   0.01999333466650795\n",
       "C = \n",
       " 1.0  0.0  0.0  0.0  0.0  0.0  0.0  0.0\n",
       " 0.0  1.0  0.0  0.0  0.0  0.0  0.0  0.0\n",
       " 0.0  0.0  1.0  0.0  0.0  0.0  0.0  0.0\n",
       " 0.0  0.0  0.0  1.0  0.0  0.0  0.0  0.0\n",
       "D = \n",
       " 0.0  0.0  0.0  0.0\n",
       " 0.0  0.0  0.0  0.0\n",
       " 0.0  0.0  0.0  0.0\n",
       " 0.0  0.0  0.0  0.0\n",
       "\n",
       "Sample Time: 0.1 (seconds)\n",
       "Discrete-time state-space model"
      ]
     },
     "execution_count": 8,
     "metadata": {},
     "output_type": "execute_result"
    }
   ],
   "source": [
    "Ts = 0.1\n",
    "sys_d = c2d(sys_c, Ts)"
   ]
  },
  {
   "cell_type": "code",
   "execution_count": 9,
   "id": "b5adf7d2",
   "metadata": {},
   "outputs": [
    {
     "data": {
      "text/plain": [
       "4×8 Matrix{Float64}:\n",
       " 1.0  0.0  0.0  0.0  0.0  0.0  0.0  0.0\n",
       " 0.0  1.0  0.0  0.0  0.0  0.0  0.0  0.0\n",
       " 0.0  0.0  1.0  0.0  0.0  0.0  0.0  0.0\n",
       " 0.0  0.0  0.0  1.0  0.0  0.0  0.0  0.0"
      ]
     },
     "execution_count": 9,
     "metadata": {},
     "output_type": "execute_result"
    }
   ],
   "source": [
    "Ad = sys_d.A \n",
    "Bd = sys_d.B\n",
    "Cd = sys_d.C"
   ]
  },
  {
   "cell_type": "code",
   "execution_count": 10,
   "id": "6414f671",
   "metadata": {},
   "outputs": [
    {
     "data": {
      "text/plain": [
       "(8, 4)"
      ]
     },
     "execution_count": 10,
     "metadata": {},
     "output_type": "execute_result"
    }
   ],
   "source": [
    "Nx = size(Ad) # size(A) == size(Ad) -> 8x8 -> Nx=8 \n",
    "Ny = size(Cd) # Number of outputs\n",
    "Nu = size(Bd)"
   ]
  },
  {
   "cell_type": "code",
   "execution_count": 11,
   "id": "5b5bd808",
   "metadata": {},
   "outputs": [
    {
     "data": {
      "text/plain": [
       "12×12 Matrix{Float64}:\n",
       "  0.999         0.0009995     1.66611e-7   …  1.58704e-13  0.0  0.0  0.0  0.0\n",
       "  0.0009995     0.998001      0.000999333     3.33254e-9   0.0  0.0  0.0  0.0\n",
       "  1.66611e-7    0.000999333   0.998001        3.33233e-5   0.0  0.0  0.0  0.0\n",
       "  1.11087e-11   1.66611e-7    0.0009995       0.0999667    0.0  0.0  0.0  0.0\n",
       " -0.0199867     0.01998       6.66333e-6      1.11087e-11  0.0  0.0  0.0  0.0\n",
       "  0.01998      -0.03996       0.0199733    …  1.66611e-7   0.0  0.0  0.0  0.0\n",
       "  6.66333e-6    0.0199733    -0.03996         0.0009995    0.0  0.0  0.0  0.0\n",
       "  6.66476e-10   6.66333e-6    0.01998         0.999        0.0  0.0  0.0  0.0\n",
       "  0.999         0.0009995     1.66611e-7      1.58704e-13  1.0  0.0  0.0  0.0\n",
       "  0.0009995     0.998001      0.000999333     3.33254e-9   0.0  1.0  0.0  0.0\n",
       "  1.66611e-7    0.000999333   0.998001     …  3.33233e-5   0.0  0.0  1.0  0.0\n",
       "  1.11087e-11   1.66611e-7    0.0009995       0.0999667    0.0  0.0  0.0  1.0"
      ]
     },
     "execution_count": 11,
     "metadata": {},
     "output_type": "execute_result"
    }
   ],
   "source": [
    "Id8 =1* Matrix(I, 4, 4)\n",
    "p = zeros(Int8, 8, 4)\n",
    "R = C*Ad\n",
    "Ã = [Ad p ; R Id8]"
   ]
  },
  {
   "cell_type": "code",
   "execution_count": 12,
   "id": "811857d5",
   "metadata": {},
   "outputs": [
    {
     "data": {
      "text/plain": [
       "12×4 Matrix{Float64}:\n",
       " 0.000999833  1.66633e-7   1.11091e-11  3.96772e-16\n",
       " 1.66633e-7   0.000999667  1.66622e-7   1.11091e-11\n",
       " 1.11091e-11  1.66622e-7   0.000999667  1.66633e-7\n",
       " 3.96772e-16  1.11091e-11  1.66633e-7   0.000999833\n",
       " 0.0199933    6.66467e-6   6.66508e-10  3.17407e-14\n",
       " 6.66467e-6   0.0199867    6.664e-6     6.66508e-10\n",
       " 6.66508e-10  6.664e-6     0.0199867    6.66467e-6\n",
       " 3.17407e-14  6.66508e-10  6.66467e-6   0.0199933\n",
       " 0.000999833  1.66633e-7   1.11091e-11  3.96772e-16\n",
       " 1.66633e-7   0.000999667  1.66622e-7   1.11091e-11\n",
       " 1.11091e-11  1.66622e-7   0.000999667  1.66633e-7\n",
       " 3.96772e-16  1.11091e-11  1.66633e-7   0.000999833"
      ]
     },
     "execution_count": 12,
     "metadata": {},
     "output_type": "execute_result"
    }
   ],
   "source": [
    "B̃ = [Bd ; C*Bd]"
   ]
  },
  {
   "cell_type": "code",
   "execution_count": 13,
   "id": "69a06cae",
   "metadata": {},
   "outputs": [
    {
     "data": {
      "text/plain": [
       "4×12 Matrix{Float64}:\n",
       " 0.0  0.0  0.0  0.0  0.0  0.0  0.0  0.0  1.0  0.0  0.0  0.0\n",
       " 0.0  0.0  0.0  0.0  0.0  0.0  0.0  0.0  0.0  1.0  0.0  0.0\n",
       " 0.0  0.0  0.0  0.0  0.0  0.0  0.0  0.0  0.0  0.0  1.0  0.0\n",
       " 0.0  0.0  0.0  0.0  0.0  0.0  0.0  0.0  0.0  0.0  0.0  1.0"
      ]
     },
     "execution_count": 13,
     "metadata": {},
     "output_type": "execute_result"
    }
   ],
   "source": [
    " C̃ = hcat(zeros(Ny), diagm(ones(4)))\n"
   ]
  },
  {
   "cell_type": "code",
   "execution_count": 14,
   "id": "5cd7bdb3",
   "metadata": {},
   "outputs": [
    {
     "data": {
      "text/plain": [
       "mech_osc_mmpc (generic function with 1 method)"
      ]
     },
     "execution_count": 14,
     "metadata": {},
     "output_type": "execute_result"
    }
   ],
   "source": [
    "mech_osc_mmpc(x,u) = Ã * x + B̃ * u # System dynamics in MMPC formulation"
   ]
  },
  {
   "cell_type": "code",
   "execution_count": 15,
   "id": "a1dbdf70",
   "metadata": {},
   "outputs": [
    {
     "data": {
      "text/plain": [
       "mpc_emo (generic function with 1 method)"
      ]
     },
     "execution_count": 15,
     "metadata": {},
     "output_type": "execute_result"
    }
   ],
   "source": [
    "function mpc_emo(z_init)\n",
    "    \n",
    "    model = Model(my_optimizer)\n",
    "    \n",
    "    ΔT = 0.1            #  Sampling time\n",
    "    n_horizon = 20;     # MPC horizon\n",
    "    Nz = size(Ã)[1] # Number of states z\n",
    "    Nu = size(B̃)[2]\n",
    "    Ny = size(C̃)[1] # Number of outputs\n",
    "    \n",
    "    \n",
    "    # Input constraints\n",
    "    Δumin = -100.0\n",
    "    Δumax = 100.0 \n",
    "    ref = [0.0, 0.0, 0.0, 0.0] # Reference \n",
    "    @variables model begin\n",
    "        # x[1: Nx, 1:n_horizon]    # States\n",
    "        y[1: Ny, 1:n_horizon] # Output\n",
    "        z[1:Nz, 1:n_horizon] # New state\n",
    "        \n",
    "        e[1:Ny, 1:n_horizon]    # Errors = Reference - Outputs\n",
    "        Δumin <= Δu[1:Nu, 1:(n_horizon-1)] <= Δumax  # Input constraints\n",
    "    end\n",
    "     \n",
    "\n",
    "    @constraint(model, z[1:Nz, 1] .== z_init)     # Initial values\n",
    "\n",
    "    for i = 1 : n_horizon\n",
    "        @constraint(model, y[1:Ny, i] .== C̃ * z[1:Nz, i] )  # Output y(n) = C̃ z(n)  \n",
    "    end\n",
    "    \n",
    "    @constraint(model, [k=1:n_horizon], e[:, k] .== ref[:] - y[:, k])   # Error = Reference - States\n",
    "    @constraint(model, [k=1:n_horizon-1], z[:, k+1] .==  mech_osc_mmpc(z[:,k], Δu[:,k])) # System dynamics with new state\n",
    "   \n",
    "    J_err = @NLexpression(model, 100*sum(e[n,k]^2 for n=1:Ny, k=1:n_horizon))\n",
    "    J_in = @NLexpression(model, sum(Δu[j,k]^2 for j = 1:Nu, k = 1:n_horizon-1))\n",
    "    J = @NLexpression(model, J_err + J_in )\n",
    "\n",
    "    @NLobjective( model, Min, J)\n",
    "    \n",
    "    optimize!(model)\n",
    "\n",
    "    return JuMP.value.(z), JuMP.value.(Δu), JuMP.value.(e)\n",
    "end\n",
    "\n"
   ]
  },
  {
   "cell_type": "code",
   "execution_count": 16,
   "id": "148caa4e",
   "metadata": {},
   "outputs": [
    {
     "data": {
      "text/plain": [
       "8×49 Matrix{Float64}:\n",
       " 0.0  0.0  0.0  0.0  0.0  0.0  0.0  0.0  …  0.0  0.0  0.0  0.0  0.0  0.0  0.0\n",
       " 0.0  0.0  0.0  0.0  0.0  0.0  0.0  0.0     0.0  0.0  0.0  0.0  0.0  0.0  0.0\n",
       " 0.0  0.0  0.0  0.0  0.0  0.0  0.0  0.0     0.0  0.0  0.0  0.0  0.0  0.0  0.0\n",
       " 0.0  0.0  0.0  0.0  0.0  0.0  0.0  0.0     0.0  0.0  0.0  0.0  0.0  0.0  0.0\n",
       " 0.0  0.0  0.0  0.0  0.0  0.0  0.0  0.0     0.0  0.0  0.0  0.0  0.0  0.0  0.0\n",
       " 0.0  0.0  0.0  0.0  0.0  0.0  0.0  0.0  …  0.0  0.0  0.0  0.0  0.0  0.0  0.0\n",
       " 0.0  0.0  0.0  0.0  0.0  0.0  0.0  0.0     0.0  0.0  0.0  0.0  0.0  0.0  0.0\n",
       " 0.0  0.0  0.0  0.0  0.0  0.0  0.0  0.0     0.0  0.0  0.0  0.0  0.0  0.0  0.0"
      ]
     },
     "execution_count": 16,
     "metadata": {},
     "output_type": "execute_result"
    }
   ],
   "source": [
    "Δx_val = zeros(8,49)\n"
   ]
  },
  {
   "cell_type": "code",
   "execution_count": 17,
   "id": "1e04a33e",
   "metadata": {},
   "outputs": [
    {
     "data": {
      "text/plain": [
       "8×50 Matrix{Float64}:\n",
       "  1.0           0.992192      0.970344     …  -0.0109645    -0.00993288\n",
       "  0.0          -4.84571e-5   -0.000121897      0.00196081    0.00155029\n",
       "  0.0          -3.30724e-5   -0.000124651      0.000348126   0.000373793\n",
       "  0.0           7.48945e-7    3.05422e-6      -9.12503e-5   -8.818e-5\n",
       " -4.343e-26    -0.156139     -0.280742         0.0104591     0.0101683\n",
       " -7.18283e-28  -0.00099496   -0.000546496  …  -0.00431516   -0.00388887\n",
       "  3.22452e-27  -0.000661386  -0.00116982       0.000290419   0.000221398\n",
       "  1.76206e-28   1.48661e-5    3.09263e-5       2.82171e-5    3.32648e-5"
      ]
     },
     "execution_count": 17,
     "metadata": {},
     "output_type": "execute_result"
    }
   ],
   "source": [
    "Δx_val = zeros(8,49)\n",
    "using JLD\n",
    "x_val = load(\"data.jld\")[\"data\"]"
   ]
  },
  {
   "cell_type": "code",
   "execution_count": 18,
   "id": "41436b77",
   "metadata": {},
   "outputs": [],
   "source": [
    "for i in 1:49\n",
    "    Δx_val[:, i] = x_val[:, i+1] - x_val[:, i]\n",
    "end\n",
    "    "
   ]
  },
  {
   "cell_type": "code",
   "execution_count": 19,
   "id": "3a90d852",
   "metadata": {},
   "outputs": [
    {
     "data": {
      "text/plain": [
       "4×50 Matrix{Float64}:\n",
       " 1.0   0.992192     0.970344      0.937415     …  -0.0109645    -0.00993288\n",
       " 0.0  -4.84571e-5  -0.000121897  -0.000101621      0.00196081    0.00155029\n",
       " 0.0  -3.30724e-5  -0.000124651  -0.000260644      0.000348126   0.000373793\n",
       " 0.0   7.48945e-7   3.05422e-6    6.94724e-6      -9.12503e-5   -8.818e-5"
      ]
     },
     "execution_count": 19,
     "metadata": {},
     "output_type": "execute_result"
    }
   ],
   "source": [
    "ypos = Cd * x_val\n"
   ]
  },
  {
   "cell_type": "code",
   "execution_count": 20,
   "id": "4ced4060",
   "metadata": {},
   "outputs": [
    {
     "data": {
      "text/plain": [
       "4×49 Matrix{Float64}:\n",
       " 1.0   0.992192     0.970344      0.937415     …  -0.0120183    -0.0109645\n",
       " 0.0  -4.84571e-5  -0.000121897  -0.000101621      0.00241447    0.00196081\n",
       " 0.0  -3.30724e-5  -0.000124651  -0.000260644      0.000315315   0.000348126\n",
       " 0.0   7.48945e-7   3.05422e-6    6.94724e-6      -9.37808e-5   -9.12503e-5"
      ]
     },
     "execution_count": 20,
     "metadata": {},
     "output_type": "execute_result"
    }
   ],
   "source": [
    "ypos = ypos[:,1:end-1]"
   ]
  },
  {
   "cell_type": "code",
   "execution_count": 21,
   "id": "d693db69",
   "metadata": {},
   "outputs": [
    {
     "data": {
      "text/plain": [
       "12×49 Matrix{Float64}:\n",
       " -0.00780825   -0.0218477    -0.0329288    …   0.0010538     0.00103161\n",
       " -4.84571e-5   -7.34403e-5    2.02765e-5      -0.000453666  -0.000410515\n",
       " -3.30724e-5   -9.15789e-5   -0.000135993      3.28111e-5    2.56674e-5\n",
       "  7.48945e-7    2.30527e-6    3.89302e-6       2.53042e-6    3.07033e-6\n",
       " -0.156139     -0.124603     -0.0969826       -0.000152841  -0.000290766\n",
       " -0.00099496    0.000448464   0.00138816   …   0.000436351   0.000426292\n",
       " -0.000661386  -0.000508429  -0.000379239     -7.36612e-5   -6.9021e-5\n",
       "  1.48661e-5    1.60602e-5    1.55415e-5       5.72474e-6    5.04776e-6\n",
       "  1.0           0.992192      0.970344        -0.0120183    -0.0109645\n",
       "  0.0          -4.84571e-5   -0.000121897      0.00241447    0.00196081\n",
       "  0.0          -3.30724e-5   -0.000124651  …   0.000315315   0.000348126\n",
       "  0.0           7.48945e-7    3.05422e-6      -9.37808e-5   -9.12503e-5"
      ]
     },
     "execution_count": 21,
     "metadata": {},
     "output_type": "execute_result"
    }
   ],
   "source": [
    "zpos = vcat(Δx_val,ypos)"
   ]
  },
  {
   "cell_type": "code",
   "execution_count": 22,
   "id": "9532ec3f",
   "metadata": {},
   "outputs": [
    {
     "data": {
      "text/plain": [
       "12×0 Matrix{Float64}"
      ]
     },
     "execution_count": 22,
     "metadata": {},
     "output_type": "execute_result"
    }
   ],
   "source": [
    "u_hist = zeros(4,0)\n",
    "z_hist = zeros(12,0)"
   ]
  },
  {
   "cell_type": "code",
   "execution_count": 23,
   "id": "d6b30b95",
   "metadata": {},
   "outputs": [
    {
     "data": {
      "text/plain": [
       "12-element Vector{Float64}:\n",
       " -0.007808246744595793\n",
       " -4.845713168491082e-5\n",
       " -3.307242355244581e-5\n",
       "  7.489446194138775e-7\n",
       " -0.15613906720364776\n",
       " -0.000994959902310029\n",
       " -0.0006613861469649292\n",
       "  1.4866148646285156e-5\n",
       "  1.0\n",
       "  0.0\n",
       "  0.0\n",
       "  0.0"
      ]
     },
     "execution_count": 23,
     "metadata": {},
     "output_type": "execute_result"
    }
   ],
   "source": [
    "zpos_new = zpos[:,1]"
   ]
  },
  {
   "cell_type": "code",
   "execution_count": 24,
   "id": "8fe4950a",
   "metadata": {},
   "outputs": [],
   "source": [
    "# zpos_new = 2*rand(12) # Only for testing\n",
    "# zpos_new = zeros(12) # Only for testing\n",
    "# zpos_new[9] = 1"
   ]
  },
  {
   "cell_type": "code",
   "execution_count": 25,
   "id": "dbe6c9d2",
   "metadata": {},
   "outputs": [
    {
     "data": {
      "text/plain": [
       "12-element Vector{Float64}:\n",
       " -0.007808246744595793\n",
       " -4.845713168491082e-5\n",
       " -3.307242355244581e-5\n",
       "  7.489446194138775e-7\n",
       " -0.15613906720364776\n",
       " -0.000994959902310029\n",
       " -0.0006613861469649292\n",
       "  1.4866148646285156e-5\n",
       "  1.0\n",
       "  0.0\n",
       "  0.0\n",
       "  0.0"
      ]
     },
     "execution_count": 25,
     "metadata": {},
     "output_type": "execute_result"
    }
   ],
   "source": [
    "zpos_new"
   ]
  },
  {
   "cell_type": "code",
   "execution_count": 26,
   "id": "7605bc6c",
   "metadata": {},
   "outputs": [
    {
     "data": {
      "text/plain": [
       "4×19 Matrix{Float64}:\n",
       " 0.0  0.0  0.0  0.0  0.0  0.0  0.0  0.0  …  0.0  0.0  0.0  0.0  0.0  0.0  0.0\n",
       " 0.0  0.0  0.0  0.0  0.0  0.0  0.0  0.0     0.0  0.0  0.0  0.0  0.0  0.0  0.0\n",
       " 0.0  0.0  0.0  0.0  0.0  0.0  0.0  0.0     0.0  0.0  0.0  0.0  0.0  0.0  0.0\n",
       " 0.0  0.0  0.0  0.0  0.0  0.0  0.0  0.0     0.0  0.0  0.0  0.0  0.0  0.0  0.0"
      ]
     },
     "execution_count": 26,
     "metadata": {},
     "output_type": "execute_result"
    }
   ],
   "source": [
    "zpos_plan_last = zeros(length(zpos_new),20)\n",
    "u_plan_last = zeros(4,19)"
   ]
  },
  {
   "cell_type": "code",
   "execution_count": 27,
   "id": "01a16a66",
   "metadata": {},
   "outputs": [
    {
     "name": "stdout",
     "output_type": "stream",
     "text": [
      "\n",
      "******************************************************************************\n",
      "This program contains Ipopt, a library for large-scale nonlinear optimization.\n",
      " Ipopt is released as open source code under the Eclipse Public License (EPL).\n",
      "         For more information visit https://github.com/coin-or/Ipopt\n",
      "******************************************************************************\n",
      "\n"
     ]
    }
   ],
   "source": [
    "for i = 1 : 50\n",
    "    z_plan, Δu_plan, e_plan = mpc_emo(zpos_new)\n",
    "    z_hist = hcat(z_hist, z_plan[:,1])\n",
    "    u_hist = hcat(u_hist, Δu_plan[:,1])\n",
    "    zpos_new = mech_osc_mmpc(z_plan[:,1], Δu_plan[:,1])\n",
    "    zpos_plan_last = z_plan\n",
    "    u_plan_last = Δu_plan \n",
    "end"
   ]
  },
  {
   "cell_type": "code",
   "execution_count": 54,
   "id": "008607f4",
   "metadata": {},
   "outputs": [
    {
     "data": {
      "image/svg+xml": [
       "<?xml version=\"1.0\" encoding=\"utf-8\"?>\n",
       "<svg xmlns=\"http://www.w3.org/2000/svg\" xmlns:xlink=\"http://www.w3.org/1999/xlink\" width=\"600\" height=\"400\" viewBox=\"0 0 2400 1600\">\n",
       "<defs>\n",
       "  <clipPath id=\"clip590\">\n",
       "    <rect x=\"0\" y=\"0\" width=\"2400\" height=\"1600\"/>\n",
       "  </clipPath>\n",
       "</defs>\n",
       "<path clip-path=\"url(#clip590)\" d=\"\n",
       "M0 1600 L2400 1600 L2400 0 L0 0  Z\n",
       "  \" fill=\"#ffffff\" fill-rule=\"evenodd\" fill-opacity=\"1\"/>\n",
       "<defs>\n",
       "  <clipPath id=\"clip591\">\n",
       "    <rect x=\"480\" y=\"0\" width=\"1681\" height=\"1600\"/>\n",
       "  </clipPath>\n",
       "</defs>\n",
       "<path clip-path=\"url(#clip590)\" d=\"\n",
       "M156.274 1486.45 L2352.76 1486.45 L2352.76 47.2441 L156.274 47.2441  Z\n",
       "  \" fill=\"#ffffff\" fill-rule=\"evenodd\" fill-opacity=\"1\"/>\n",
       "<defs>\n",
       "  <clipPath id=\"clip592\">\n",
       "    <rect x=\"156\" y=\"47\" width=\"2197\" height=\"1440\"/>\n",
       "  </clipPath>\n",
       "</defs>\n",
       "<polyline clip-path=\"url(#clip592)\" style=\"stroke:#000000; stroke-linecap:butt; stroke-linejoin:round; stroke-width:2; stroke-opacity:0.1; fill:none\" points=\"\n",
       "  176.15,1486.45 176.15,47.2441 \n",
       "  \"/>\n",
       "<polyline clip-path=\"url(#clip592)\" style=\"stroke:#000000; stroke-linecap:butt; stroke-linejoin:round; stroke-width:2; stroke-opacity:0.1; fill:none\" points=\"\n",
       "  599.038,1486.45 599.038,47.2441 \n",
       "  \"/>\n",
       "<polyline clip-path=\"url(#clip592)\" style=\"stroke:#000000; stroke-linecap:butt; stroke-linejoin:round; stroke-width:2; stroke-opacity:0.1; fill:none\" points=\"\n",
       "  1021.93,1486.45 1021.93,47.2441 \n",
       "  \"/>\n",
       "<polyline clip-path=\"url(#clip592)\" style=\"stroke:#000000; stroke-linecap:butt; stroke-linejoin:round; stroke-width:2; stroke-opacity:0.1; fill:none\" points=\"\n",
       "  1444.81,1486.45 1444.81,47.2441 \n",
       "  \"/>\n",
       "<polyline clip-path=\"url(#clip592)\" style=\"stroke:#000000; stroke-linecap:butt; stroke-linejoin:round; stroke-width:2; stroke-opacity:0.1; fill:none\" points=\"\n",
       "  1867.7,1486.45 1867.7,47.2441 \n",
       "  \"/>\n",
       "<polyline clip-path=\"url(#clip592)\" style=\"stroke:#000000; stroke-linecap:butt; stroke-linejoin:round; stroke-width:2; stroke-opacity:0.1; fill:none\" points=\"\n",
       "  2290.59,1486.45 2290.59,47.2441 \n",
       "  \"/>\n",
       "<polyline clip-path=\"url(#clip590)\" style=\"stroke:#000000; stroke-linecap:butt; stroke-linejoin:round; stroke-width:4; stroke-opacity:1; fill:none\" points=\"\n",
       "  156.274,1486.45 2352.76,1486.45 \n",
       "  \"/>\n",
       "<polyline clip-path=\"url(#clip590)\" style=\"stroke:#000000; stroke-linecap:butt; stroke-linejoin:round; stroke-width:4; stroke-opacity:1; fill:none\" points=\"\n",
       "  176.15,1486.45 176.15,1467.55 \n",
       "  \"/>\n",
       "<polyline clip-path=\"url(#clip590)\" style=\"stroke:#000000; stroke-linecap:butt; stroke-linejoin:round; stroke-width:4; stroke-opacity:1; fill:none\" points=\"\n",
       "  599.038,1486.45 599.038,1467.55 \n",
       "  \"/>\n",
       "<polyline clip-path=\"url(#clip590)\" style=\"stroke:#000000; stroke-linecap:butt; stroke-linejoin:round; stroke-width:4; stroke-opacity:1; fill:none\" points=\"\n",
       "  1021.93,1486.45 1021.93,1467.55 \n",
       "  \"/>\n",
       "<polyline clip-path=\"url(#clip590)\" style=\"stroke:#000000; stroke-linecap:butt; stroke-linejoin:round; stroke-width:4; stroke-opacity:1; fill:none\" points=\"\n",
       "  1444.81,1486.45 1444.81,1467.55 \n",
       "  \"/>\n",
       "<polyline clip-path=\"url(#clip590)\" style=\"stroke:#000000; stroke-linecap:butt; stroke-linejoin:round; stroke-width:4; stroke-opacity:1; fill:none\" points=\"\n",
       "  1867.7,1486.45 1867.7,1467.55 \n",
       "  \"/>\n",
       "<polyline clip-path=\"url(#clip590)\" style=\"stroke:#000000; stroke-linecap:butt; stroke-linejoin:round; stroke-width:4; stroke-opacity:1; fill:none\" points=\"\n",
       "  2290.59,1486.45 2290.59,1467.55 \n",
       "  \"/>\n",
       "<path clip-path=\"url(#clip590)\" d=\"M176.15 1517.37 Q172.539 1517.37 170.71 1520.93 Q168.905 1524.47 168.905 1531.6 Q168.905 1538.71 170.71 1542.27 Q172.539 1545.82 176.15 1545.82 Q179.784 1545.82 181.59 1542.27 Q183.418 1538.71 183.418 1531.6 Q183.418 1524.47 181.59 1520.93 Q179.784 1517.37 176.15 1517.37 M176.15 1513.66 Q181.96 1513.66 185.016 1518.27 Q188.094 1522.85 188.094 1531.6 Q188.094 1540.33 185.016 1544.94 Q181.96 1549.52 176.15 1549.52 Q170.34 1549.52 167.261 1544.94 Q164.206 1540.33 164.206 1531.6 Q164.206 1522.85 167.261 1518.27 Q170.34 1513.66 176.15 1513.66 Z\" fill=\"#000000\" fill-rule=\"evenodd\" fill-opacity=\"1\" /><path clip-path=\"url(#clip590)\" d=\"M573.726 1544.91 L581.365 1544.91 L581.365 1518.55 L573.055 1520.21 L573.055 1515.95 L581.318 1514.29 L585.994 1514.29 L585.994 1544.91 L593.633 1544.91 L593.633 1548.85 L573.726 1548.85 L573.726 1544.91 Z\" fill=\"#000000\" fill-rule=\"evenodd\" fill-opacity=\"1\" /><path clip-path=\"url(#clip590)\" d=\"M613.077 1517.37 Q609.466 1517.37 607.638 1520.93 Q605.832 1524.47 605.832 1531.6 Q605.832 1538.71 607.638 1542.27 Q609.466 1545.82 613.077 1545.82 Q616.712 1545.82 618.517 1542.27 Q620.346 1538.71 620.346 1531.6 Q620.346 1524.47 618.517 1520.93 Q616.712 1517.37 613.077 1517.37 M613.077 1513.66 Q618.888 1513.66 621.943 1518.27 Q625.022 1522.85 625.022 1531.6 Q625.022 1540.33 621.943 1544.94 Q618.888 1549.52 613.077 1549.52 Q607.267 1549.52 604.189 1544.94 Q601.133 1540.33 601.133 1531.6 Q601.133 1522.85 604.189 1518.27 Q607.267 1513.66 613.077 1513.66 Z\" fill=\"#000000\" fill-rule=\"evenodd\" fill-opacity=\"1\" /><path clip-path=\"url(#clip590)\" d=\"M1000.7 1544.91 L1017.02 1544.91 L1017.02 1548.85 L995.075 1548.85 L995.075 1544.91 Q997.737 1542.16 1002.32 1537.53 Q1006.93 1532.88 1008.11 1531.53 Q1010.35 1529.01 1011.23 1527.27 Q1012.13 1525.51 1012.13 1523.82 Q1012.13 1521.07 1010.19 1519.33 Q1008.27 1517.6 1005.17 1517.6 Q1002.97 1517.6 1000.51 1518.36 Q998.084 1519.13 995.306 1520.68 L995.306 1515.95 Q998.13 1514.82 1000.58 1514.24 Q1003.04 1513.66 1005.07 1513.66 Q1010.45 1513.66 1013.64 1516.35 Q1016.83 1519.03 1016.83 1523.52 Q1016.83 1525.65 1016.02 1527.57 Q1015.24 1529.47 1013.13 1532.07 Q1012.55 1532.74 1009.45 1535.95 Q1006.35 1539.15 1000.7 1544.91 Z\" fill=\"#000000\" fill-rule=\"evenodd\" fill-opacity=\"1\" /><path clip-path=\"url(#clip590)\" d=\"M1036.83 1517.37 Q1033.22 1517.37 1031.39 1520.93 Q1029.59 1524.47 1029.59 1531.6 Q1029.59 1538.71 1031.39 1542.27 Q1033.22 1545.82 1036.83 1545.82 Q1040.47 1545.82 1042.27 1542.27 Q1044.1 1538.71 1044.1 1531.6 Q1044.1 1524.47 1042.27 1520.93 Q1040.47 1517.37 1036.83 1517.37 M1036.83 1513.66 Q1042.64 1513.66 1045.7 1518.27 Q1048.78 1522.85 1048.78 1531.6 Q1048.78 1540.33 1045.7 1544.94 Q1042.64 1549.52 1036.83 1549.52 Q1031.02 1549.52 1027.94 1544.94 Q1024.89 1540.33 1024.89 1531.6 Q1024.89 1522.85 1027.94 1518.27 Q1031.02 1513.66 1036.83 1513.66 Z\" fill=\"#000000\" fill-rule=\"evenodd\" fill-opacity=\"1\" /><path clip-path=\"url(#clip590)\" d=\"M1433.66 1530.21 Q1437.01 1530.93 1438.89 1533.2 Q1440.79 1535.47 1440.79 1538.8 Q1440.79 1543.92 1437.27 1546.72 Q1433.75 1549.52 1427.27 1549.52 Q1425.09 1549.52 1422.78 1549.08 Q1420.49 1548.66 1418.03 1547.81 L1418.03 1543.29 Q1419.98 1544.43 1422.29 1545.01 Q1424.61 1545.58 1427.13 1545.58 Q1431.53 1545.58 1433.82 1543.85 Q1436.13 1542.11 1436.13 1538.8 Q1436.13 1535.75 1433.98 1534.03 Q1431.85 1532.3 1428.03 1532.3 L1424 1532.3 L1424 1528.45 L1428.22 1528.45 Q1431.67 1528.45 1433.5 1527.09 Q1435.32 1525.7 1435.32 1523.11 Q1435.32 1520.45 1433.43 1519.03 Q1431.55 1517.6 1428.03 1517.6 Q1426.11 1517.6 1423.91 1518.01 Q1421.71 1518.43 1419.07 1519.31 L1419.07 1515.14 Q1421.74 1514.4 1424.05 1514.03 Q1426.39 1513.66 1428.45 1513.66 Q1433.77 1513.66 1436.87 1516.09 Q1439.98 1518.5 1439.98 1522.62 Q1439.98 1525.49 1438.33 1527.48 Q1436.69 1529.45 1433.66 1530.21 Z\" fill=\"#000000\" fill-rule=\"evenodd\" fill-opacity=\"1\" /><path clip-path=\"url(#clip590)\" d=\"M1459.65 1517.37 Q1456.04 1517.37 1454.21 1520.93 Q1452.41 1524.47 1452.41 1531.6 Q1452.41 1538.71 1454.21 1542.27 Q1456.04 1545.82 1459.65 1545.82 Q1463.29 1545.82 1465.09 1542.27 Q1466.92 1538.71 1466.92 1531.6 Q1466.92 1524.47 1465.09 1520.93 Q1463.29 1517.37 1459.65 1517.37 M1459.65 1513.66 Q1465.46 1513.66 1468.52 1518.27 Q1471.6 1522.85 1471.6 1531.6 Q1471.6 1540.33 1468.52 1544.94 Q1465.46 1549.52 1459.65 1549.52 Q1453.84 1549.52 1450.76 1544.94 Q1447.71 1540.33 1447.71 1531.6 Q1447.71 1522.85 1450.76 1518.27 Q1453.84 1513.66 1459.65 1513.66 Z\" fill=\"#000000\" fill-rule=\"evenodd\" fill-opacity=\"1\" /><path clip-path=\"url(#clip590)\" d=\"M1855.87 1518.36 L1844.07 1536.81 L1855.87 1536.81 L1855.87 1518.36 M1854.65 1514.29 L1860.53 1514.29 L1860.53 1536.81 L1865.46 1536.81 L1865.46 1540.7 L1860.53 1540.7 L1860.53 1548.85 L1855.87 1548.85 L1855.87 1540.7 L1840.27 1540.7 L1840.27 1536.19 L1854.65 1514.29 Z\" fill=\"#000000\" fill-rule=\"evenodd\" fill-opacity=\"1\" /><path clip-path=\"url(#clip590)\" d=\"M1883.19 1517.37 Q1879.58 1517.37 1877.75 1520.93 Q1875.94 1524.47 1875.94 1531.6 Q1875.94 1538.71 1877.75 1542.27 Q1879.58 1545.82 1883.19 1545.82 Q1886.82 1545.82 1888.63 1542.27 Q1890.46 1538.71 1890.46 1531.6 Q1890.46 1524.47 1888.63 1520.93 Q1886.82 1517.37 1883.19 1517.37 M1883.19 1513.66 Q1889 1513.66 1892.05 1518.27 Q1895.13 1522.85 1895.13 1531.6 Q1895.13 1540.33 1892.05 1544.94 Q1889 1549.52 1883.19 1549.52 Q1877.38 1549.52 1874.3 1544.94 Q1871.24 1540.33 1871.24 1531.6 Q1871.24 1522.85 1874.3 1518.27 Q1877.38 1513.66 1883.19 1513.66 Z\" fill=\"#000000\" fill-rule=\"evenodd\" fill-opacity=\"1\" /><path clip-path=\"url(#clip590)\" d=\"M2265.29 1514.29 L2283.65 1514.29 L2283.65 1518.22 L2269.57 1518.22 L2269.57 1526.7 Q2270.59 1526.35 2271.61 1526.19 Q2272.63 1526 2273.65 1526 Q2279.43 1526 2282.81 1529.17 Q2286.19 1532.34 2286.19 1537.76 Q2286.19 1543.34 2282.72 1546.44 Q2279.25 1549.52 2272.93 1549.52 Q2270.75 1549.52 2268.48 1549.15 Q2266.24 1548.78 2263.83 1548.04 L2263.83 1543.34 Q2265.92 1544.47 2268.14 1545.03 Q2270.36 1545.58 2272.84 1545.58 Q2276.84 1545.58 2279.18 1543.48 Q2281.52 1541.37 2281.52 1537.76 Q2281.52 1534.15 2279.18 1532.04 Q2276.84 1529.94 2272.84 1529.94 Q2270.96 1529.94 2269.09 1530.35 Q2267.23 1530.77 2265.29 1531.65 L2265.29 1514.29 Z\" fill=\"#000000\" fill-rule=\"evenodd\" fill-opacity=\"1\" /><path clip-path=\"url(#clip590)\" d=\"M2305.41 1517.37 Q2301.79 1517.37 2299.97 1520.93 Q2298.16 1524.47 2298.16 1531.6 Q2298.16 1538.71 2299.97 1542.27 Q2301.79 1545.82 2305.41 1545.82 Q2309.04 1545.82 2310.85 1542.27 Q2312.67 1538.71 2312.67 1531.6 Q2312.67 1524.47 2310.85 1520.93 Q2309.04 1517.37 2305.41 1517.37 M2305.41 1513.66 Q2311.22 1513.66 2314.27 1518.27 Q2317.35 1522.85 2317.35 1531.6 Q2317.35 1540.33 2314.27 1544.94 Q2311.22 1549.52 2305.41 1549.52 Q2299.6 1549.52 2296.52 1544.94 Q2293.46 1540.33 2293.46 1531.6 Q2293.46 1522.85 2296.52 1518.27 Q2299.6 1513.66 2305.41 1513.66 Z\" fill=\"#000000\" fill-rule=\"evenodd\" fill-opacity=\"1\" /><polyline clip-path=\"url(#clip592)\" style=\"stroke:#000000; stroke-linecap:butt; stroke-linejoin:round; stroke-width:2; stroke-opacity:0.1; fill:none\" points=\"\n",
       "  156.274,1182.38 2352.76,1182.38 \n",
       "  \"/>\n",
       "<polyline clip-path=\"url(#clip592)\" style=\"stroke:#000000; stroke-linecap:butt; stroke-linejoin:round; stroke-width:2; stroke-opacity:0.1; fill:none\" points=\"\n",
       "  156.274,854.058 2352.76,854.058 \n",
       "  \"/>\n",
       "<polyline clip-path=\"url(#clip592)\" style=\"stroke:#000000; stroke-linecap:butt; stroke-linejoin:round; stroke-width:2; stroke-opacity:0.1; fill:none\" points=\"\n",
       "  156.274,525.737 2352.76,525.737 \n",
       "  \"/>\n",
       "<polyline clip-path=\"url(#clip592)\" style=\"stroke:#000000; stroke-linecap:butt; stroke-linejoin:round; stroke-width:2; stroke-opacity:0.1; fill:none\" points=\"\n",
       "  156.274,197.417 2352.76,197.417 \n",
       "  \"/>\n",
       "<polyline clip-path=\"url(#clip590)\" style=\"stroke:#000000; stroke-linecap:butt; stroke-linejoin:round; stroke-width:4; stroke-opacity:1; fill:none\" points=\"\n",
       "  156.274,1486.45 156.274,47.2441 \n",
       "  \"/>\n",
       "<polyline clip-path=\"url(#clip590)\" style=\"stroke:#000000; stroke-linecap:butt; stroke-linejoin:round; stroke-width:4; stroke-opacity:1; fill:none\" points=\"\n",
       "  156.274,1182.38 175.172,1182.38 \n",
       "  \"/>\n",
       "<polyline clip-path=\"url(#clip590)\" style=\"stroke:#000000; stroke-linecap:butt; stroke-linejoin:round; stroke-width:4; stroke-opacity:1; fill:none\" points=\"\n",
       "  156.274,854.058 175.172,854.058 \n",
       "  \"/>\n",
       "<polyline clip-path=\"url(#clip590)\" style=\"stroke:#000000; stroke-linecap:butt; stroke-linejoin:round; stroke-width:4; stroke-opacity:1; fill:none\" points=\"\n",
       "  156.274,525.737 175.172,525.737 \n",
       "  \"/>\n",
       "<polyline clip-path=\"url(#clip590)\" style=\"stroke:#000000; stroke-linecap:butt; stroke-linejoin:round; stroke-width:4; stroke-opacity:1; fill:none\" points=\"\n",
       "  156.274,197.417 175.172,197.417 \n",
       "  \"/>\n",
       "<path clip-path=\"url(#clip590)\" d=\"M63.0985 1168.18 Q59.4875 1168.18 57.6588 1171.74 Q55.8532 1175.28 55.8532 1182.41 Q55.8532 1189.52 57.6588 1193.09 Q59.4875 1196.63 63.0985 1196.63 Q66.7328 1196.63 68.5383 1193.09 Q70.367 1189.52 70.367 1182.41 Q70.367 1175.28 68.5383 1171.74 Q66.7328 1168.18 63.0985 1168.18 M63.0985 1164.47 Q68.9087 1164.47 71.9642 1169.08 Q75.0429 1173.66 75.0429 1182.41 Q75.0429 1191.14 71.9642 1195.75 Q68.9087 1200.33 63.0985 1200.33 Q57.2884 1200.33 54.2097 1195.75 Q51.1542 1191.14 51.1542 1182.41 Q51.1542 1173.66 54.2097 1169.08 Q57.2884 1164.47 63.0985 1164.47 Z\" fill=\"#000000\" fill-rule=\"evenodd\" fill-opacity=\"1\" /><path clip-path=\"url(#clip590)\" d=\"M83.2605 1193.78 L88.1447 1193.78 L88.1447 1199.66 L83.2605 1199.66 L83.2605 1193.78 Z\" fill=\"#000000\" fill-rule=\"evenodd\" fill-opacity=\"1\" /><path clip-path=\"url(#clip590)\" d=\"M108.33 1168.18 Q104.719 1168.18 102.89 1171.74 Q101.084 1175.28 101.084 1182.41 Q101.084 1189.52 102.89 1193.09 Q104.719 1196.63 108.33 1196.63 Q111.964 1196.63 113.77 1193.09 Q115.598 1189.52 115.598 1182.41 Q115.598 1175.28 113.77 1171.74 Q111.964 1168.18 108.33 1168.18 M108.33 1164.47 Q114.14 1164.47 117.195 1169.08 Q120.274 1173.66 120.274 1182.41 Q120.274 1191.14 117.195 1195.75 Q114.14 1200.33 108.33 1200.33 Q102.52 1200.33 99.4409 1195.75 Q96.3854 1191.14 96.3854 1182.41 Q96.3854 1173.66 99.4409 1169.08 Q102.52 1164.47 108.33 1164.47 Z\" fill=\"#000000\" fill-rule=\"evenodd\" fill-opacity=\"1\" /><path clip-path=\"url(#clip590)\" d=\"M63.7467 839.857 Q60.1356 839.857 58.3069 843.422 Q56.5014 846.963 56.5014 854.093 Q56.5014 861.199 58.3069 864.764 Q60.1356 868.306 63.7467 868.306 Q67.3809 868.306 69.1865 864.764 Q71.0152 861.199 71.0152 854.093 Q71.0152 846.963 69.1865 843.422 Q67.3809 839.857 63.7467 839.857 M63.7467 836.153 Q69.5568 836.153 72.6124 840.76 Q75.6911 845.343 75.6911 854.093 Q75.6911 862.82 72.6124 867.426 Q69.5568 872.01 63.7467 872.01 Q57.9365 872.01 54.8578 867.426 Q51.8023 862.82 51.8023 854.093 Q51.8023 845.343 54.8578 840.76 Q57.9365 836.153 63.7467 836.153 Z\" fill=\"#000000\" fill-rule=\"evenodd\" fill-opacity=\"1\" /><path clip-path=\"url(#clip590)\" d=\"M83.9086 865.459 L88.7928 865.459 L88.7928 871.338 L83.9086 871.338 L83.9086 865.459 Z\" fill=\"#000000\" fill-rule=\"evenodd\" fill-opacity=\"1\" /><path clip-path=\"url(#clip590)\" d=\"M113.145 852.704 Q116.501 853.422 118.376 855.69 Q120.274 857.959 120.274 861.292 Q120.274 866.408 116.756 869.209 Q113.237 872.01 106.756 872.01 Q104.58 872.01 102.265 871.57 Q99.9733 871.153 97.5197 870.297 L97.5197 865.783 Q99.4641 866.917 101.779 867.496 Q104.094 868.074 106.617 868.074 Q111.015 868.074 113.307 866.338 Q115.621 864.602 115.621 861.292 Q115.621 858.237 113.469 856.524 Q111.339 854.787 107.52 854.787 L103.492 854.787 L103.492 850.945 L107.705 850.945 Q111.154 850.945 112.983 849.579 Q114.811 848.19 114.811 845.598 Q114.811 842.936 112.913 841.524 Q111.038 840.088 107.52 840.088 Q105.598 840.088 103.399 840.505 Q101.2 840.922 98.5613 841.801 L98.5613 837.635 Q101.223 836.894 103.538 836.524 Q105.876 836.153 107.936 836.153 Q113.26 836.153 116.362 838.584 Q119.464 840.991 119.464 845.112 Q119.464 847.982 117.82 849.973 Q116.177 851.94 113.145 852.704 Z\" fill=\"#000000\" fill-rule=\"evenodd\" fill-opacity=\"1\" /><path clip-path=\"url(#clip590)\" d=\"M62.9365 511.536 Q59.3254 511.536 57.4967 515.101 Q55.6912 518.643 55.6912 525.772 Q55.6912 532.879 57.4967 536.443 Q59.3254 539.985 62.9365 539.985 Q66.5707 539.985 68.3763 536.443 Q70.205 532.879 70.205 525.772 Q70.205 518.643 68.3763 515.101 Q66.5707 511.536 62.9365 511.536 M62.9365 507.832 Q68.7467 507.832 71.8022 512.439 Q74.8809 517.022 74.8809 525.772 Q74.8809 534.499 71.8022 539.105 Q68.7467 543.689 62.9365 543.689 Q57.1264 543.689 54.0477 539.105 Q50.9921 534.499 50.9921 525.772 Q50.9921 517.022 54.0477 512.439 Q57.1264 507.832 62.9365 507.832 Z\" fill=\"#000000\" fill-rule=\"evenodd\" fill-opacity=\"1\" /><path clip-path=\"url(#clip590)\" d=\"M83.0984 537.138 L87.9827 537.138 L87.9827 543.017 L83.0984 543.017 L83.0984 537.138 Z\" fill=\"#000000\" fill-rule=\"evenodd\" fill-opacity=\"1\" /><path clip-path=\"url(#clip590)\" d=\"M108.746 523.874 Q105.598 523.874 103.746 526.027 Q101.918 528.18 101.918 531.93 Q101.918 535.656 103.746 537.832 Q105.598 539.985 108.746 539.985 Q111.895 539.985 113.723 537.832 Q115.575 535.656 115.575 531.93 Q115.575 528.18 113.723 526.027 Q111.895 523.874 108.746 523.874 M118.029 509.221 L118.029 513.481 Q116.27 512.647 114.464 512.207 Q112.682 511.768 110.922 511.768 Q106.293 511.768 103.839 514.893 Q101.409 518.018 101.061 524.337 Q102.427 522.323 104.487 521.258 Q106.547 520.17 109.024 520.17 Q114.233 520.17 117.242 523.342 Q120.274 526.49 120.274 531.93 Q120.274 537.254 117.126 540.471 Q113.978 543.689 108.746 543.689 Q102.751 543.689 99.5798 539.105 Q96.4085 534.499 96.4085 525.772 Q96.4085 517.578 100.297 512.717 Q104.186 507.832 110.737 507.832 Q112.496 507.832 114.279 508.18 Q116.084 508.527 118.029 509.221 Z\" fill=\"#000000\" fill-rule=\"evenodd\" fill-opacity=\"1\" /><path clip-path=\"url(#clip590)\" d=\"M63.2837 183.215 Q59.6726 183.215 57.8439 186.78 Q56.0384 190.322 56.0384 197.451 Q56.0384 204.558 57.8439 208.123 Q59.6726 211.664 63.2837 211.664 Q66.918 211.664 68.7235 208.123 Q70.5522 204.558 70.5522 197.451 Q70.5522 190.322 68.7235 186.78 Q66.918 183.215 63.2837 183.215 M63.2837 179.512 Q69.0939 179.512 72.1494 184.118 Q75.2281 188.701 75.2281 197.451 Q75.2281 206.178 72.1494 210.785 Q69.0939 215.368 63.2837 215.368 Q57.4736 215.368 54.3949 210.785 Q51.3393 206.178 51.3393 197.451 Q51.3393 188.701 54.3949 184.118 Q57.4736 179.512 63.2837 179.512 Z\" fill=\"#000000\" fill-rule=\"evenodd\" fill-opacity=\"1\" /><path clip-path=\"url(#clip590)\" d=\"M83.4457 208.817 L88.3299 208.817 L88.3299 214.697 L83.4457 214.697 L83.4457 208.817 Z\" fill=\"#000000\" fill-rule=\"evenodd\" fill-opacity=\"1\" /><path clip-path=\"url(#clip590)\" d=\"M98.6539 213.979 L98.6539 209.72 Q100.413 210.553 102.219 210.993 Q104.024 211.433 105.76 211.433 Q110.39 211.433 112.82 208.331 Q115.274 205.206 115.621 198.863 Q114.279 200.854 112.219 201.919 Q110.158 202.984 107.658 202.984 Q102.473 202.984 99.4409 199.859 Q96.4317 196.711 96.4317 191.271 Q96.4317 185.947 99.5798 182.729 Q102.728 179.512 107.959 179.512 Q113.955 179.512 117.103 184.118 Q120.274 188.701 120.274 197.451 Q120.274 205.623 116.385 210.507 Q112.52 215.368 105.969 215.368 Q104.209 215.368 102.404 215.021 Q100.598 214.673 98.6539 213.979 M107.959 199.326 Q111.108 199.326 112.936 197.174 Q114.788 195.021 114.788 191.271 Q114.788 187.544 112.936 185.391 Q111.108 183.215 107.959 183.215 Q104.811 183.215 102.959 185.391 Q101.131 187.544 101.131 191.271 Q101.131 195.021 102.959 197.174 Q104.811 199.326 107.959 199.326 Z\" fill=\"#000000\" fill-rule=\"evenodd\" fill-opacity=\"1\" /><polyline clip-path=\"url(#clip592)\" style=\"stroke:#009af9; stroke-linecap:butt; stroke-linejoin:round; stroke-width:4; stroke-opacity:1; fill:none\" points=\"\n",
       "  218.439,1190.92 260.728,1211.94 303.016,1237.59 345.305,1262.44 387.594,1283.03 429.883,1297.43 472.172,1304.92 514.461,1305.69 556.749,1300.53 599.038,1290.61 \n",
       "  641.327,1277.24 683.616,1261.79 725.905,1245.49 768.194,1229.41 810.482,1214.41 852.771,1201.11 895.06,1189.9 937.349,1180.97 979.638,1174.33 1021.93,1169.85 \n",
       "  1064.22,1167.3 1106.5,1166.39 1148.79,1166.77 1191.08,1168.12 1233.37,1170.11 1275.66,1172.47 1317.95,1174.95 1360.24,1177.36 1402.53,1179.55 1444.81,1181.43 \n",
       "  1487.1,1182.95 1529.39,1184.08 1571.68,1184.85 1613.97,1185.29 1656.26,1185.44 1698.55,1185.35 1740.84,1185.1 1783.13,1184.72 1825.41,1184.29 1867.7,1183.82 \n",
       "  1909.99,1183.37 1952.28,1182.96 1994.57,1182.61 2036.86,1182.32 2079.15,1182.1 2121.44,1181.95 2163.72,1181.87 2206.01,1181.83 2248.3,1181.84 2290.59,1181.88 \n",
       "  \n",
       "  \"/>\n",
       "<polyline clip-path=\"url(#clip592)\" style=\"stroke:#e26f46; stroke-linecap:butt; stroke-linejoin:round; stroke-width:4; stroke-opacity:1; fill:none\" points=\"\n",
       "  218.439,1182.43 260.728,1182.47 303.016,1182.37 345.305,1182.2 387.594,1181.99 429.883,1181.81 472.172,1181.68 514.461,1181.64 556.749,1181.68 599.038,1181.81 \n",
       "  641.327,1181.99 683.616,1182.22 725.905,1182.46 768.194,1182.69 810.482,1182.89 852.771,1183.05 895.06,1183.15 937.349,1183.2 979.638,1183.19 1021.93,1183.13 \n",
       "  1064.22,1183.02 1106.5,1182.89 1148.79,1182.75 1191.08,1182.6 1233.37,1182.45 1275.66,1182.32 1317.95,1182.21 1360.24,1182.13 1402.53,1182.07 1444.81,1182.04 \n",
       "  1487.1,1182.04 1529.39,1182.05 1571.68,1182.08 1613.97,1182.13 1656.26,1182.18 1698.55,1182.23 1740.84,1182.29 1783.13,1182.34 1825.41,1182.38 1867.7,1182.42 \n",
       "  1909.99,1182.44 1952.28,1182.46 1994.57,1182.47 2036.86,1182.47 2079.15,1182.47 2121.44,1182.46 2163.72,1182.45 2206.01,1182.43 2248.3,1182.42 2290.59,1182.4 \n",
       "  \n",
       "  \"/>\n",
       "<polyline clip-path=\"url(#clip592)\" style=\"stroke:#3da44d; stroke-linecap:butt; stroke-linejoin:round; stroke-width:4; stroke-opacity:1; fill:none\" points=\"\n",
       "  218.439,1182.42 260.728,1182.47 303.016,1182.49 345.305,1182.49 387.594,1182.47 429.883,1182.44 472.172,1182.41 514.461,1182.38 556.749,1182.36 599.038,1182.34 \n",
       "  641.327,1182.32 683.616,1182.31 725.905,1182.3 768.194,1182.3 810.482,1182.31 852.771,1182.32 895.06,1182.32 937.349,1182.34 979.638,1182.35 1021.93,1182.36 \n",
       "  1064.22,1182.37 1106.5,1182.38 1148.79,1182.39 1191.08,1182.39 1233.37,1182.4 1275.66,1182.4 1317.95,1182.4 1360.24,1182.4 1402.53,1182.4 1444.81,1182.4 \n",
       "  1487.1,1182.39 1529.39,1182.39 1571.68,1182.39 1613.97,1182.38 1656.26,1182.38 1698.55,1182.38 1740.84,1182.37 1783.13,1182.37 1825.41,1182.37 1867.7,1182.37 \n",
       "  1909.99,1182.37 1952.28,1182.37 1994.57,1182.37 2036.86,1182.37 2079.15,1182.38 2121.44,1182.38 2163.72,1182.38 2206.01,1182.38 2248.3,1182.38 2290.59,1182.38 \n",
       "  \n",
       "  \"/>\n",
       "<polyline clip-path=\"url(#clip592)\" style=\"stroke:#c271d2; stroke-linecap:butt; stroke-linejoin:round; stroke-width:4; stroke-opacity:1; fill:none\" points=\"\n",
       "  218.439,1182.38 260.728,1182.38 303.016,1182.38 345.305,1182.38 387.594,1182.38 429.883,1182.38 472.172,1182.38 514.461,1182.38 556.749,1182.38 599.038,1182.38 \n",
       "  641.327,1182.38 683.616,1182.38 725.905,1182.38 768.194,1182.38 810.482,1182.38 852.771,1182.38 895.06,1182.38 937.349,1182.38 979.638,1182.38 1021.93,1182.38 \n",
       "  1064.22,1182.38 1106.5,1182.38 1148.79,1182.38 1191.08,1182.38 1233.37,1182.38 1275.66,1182.38 1317.95,1182.38 1360.24,1182.38 1402.53,1182.38 1444.81,1182.38 \n",
       "  1487.1,1182.38 1529.39,1182.38 1571.68,1182.38 1613.97,1182.38 1656.26,1182.38 1698.55,1182.38 1740.84,1182.38 1783.13,1182.38 1825.41,1182.38 1867.7,1182.38 \n",
       "  1909.99,1182.38 1952.28,1182.38 1994.57,1182.38 2036.86,1182.38 2079.15,1182.38 2121.44,1182.38 2163.72,1182.38 2206.01,1182.38 2248.3,1182.38 2290.59,1182.38 \n",
       "  \n",
       "  \"/>\n",
       "<polyline clip-path=\"url(#clip592)\" style=\"stroke:#ac8d18; stroke-linecap:butt; stroke-linejoin:round; stroke-width:4; stroke-opacity:1; fill:none\" points=\"\n",
       "  218.439,1353.26 260.728,1431.8 303.016,1445.72 345.305,1416.11 387.594,1360.36 429.883,1292.27 472.172,1222.31 514.461,1157.87 556.749,1103.75 599.038,1062.53 \n",
       "  641.327,1035.01 683.616,1020.68 725.905,1018.07 768.194,1025.16 810.482,1039.64 852.771,1059.15 895.06,1081.49 937.349,1104.73 979.638,1127.28 1021.93,1147.93 \n",
       "  1064.22,1165.85 1106.5,1180.55 1148.79,1191.86 1191.08,1199.86 1233.37,1204.81 1275.66,1207.1 1317.95,1207.22 1360.24,1205.66 1402.53,1202.92 1444.81,1199.45 \n",
       "  1487.1,1195.65 1529.39,1191.85 1571.68,1188.29 1613.97,1185.16 1656.26,1182.56 1698.55,1180.54 1740.84,1179.1 1783.13,1178.2 1825.41,1177.78 1867.7,1177.75 \n",
       "  1909.99,1178.03 1952.28,1178.52 1994.57,1179.15 2036.86,1179.85 2079.15,1180.55 2121.44,1181.21 2163.72,1181.79 2206.01,1182.28 2248.3,1182.66 2290.59,1182.94 \n",
       "  \n",
       "  \"/>\n",
       "<polyline clip-path=\"url(#clip592)\" style=\"stroke:#00a9ad; stroke-linecap:butt; stroke-linejoin:round; stroke-width:4; stroke-opacity:1; fill:none\" points=\"\n",
       "  218.439,1183.47 260.728,1182.03 303.016,1180.94 345.305,1180.38 387.594,1180.36 429.883,1180.79 472.172,1181.51 514.461,1182.38 556.749,1183.23 599.038,1183.95 \n",
       "  641.327,1184.47 683.616,1184.75 725.905,1184.77 768.194,1184.57 810.482,1184.18 852.771,1183.68 895.06,1183.1 937.349,1182.53 979.638,1181.99 1021.93,1181.54 \n",
       "  1064.22,1181.19 1106.5,1180.97 1148.79,1180.87 1191.08,1180.88 1233.37,1180.99 1275.66,1181.17 1317.95,1181.41 1360.24,1181.68 1402.53,1181.95 1444.81,1182.21 \n",
       "  1487.1,1182.44 1529.39,1182.63 1571.68,1182.77 1613.97,1182.87 1656.26,1182.92 1698.55,1182.93 1740.84,1182.9 1783.13,1182.85 1825.41,1182.77 1867.7,1182.69 \n",
       "  1909.99,1182.6 1952.28,1182.51 1994.57,1182.44 2036.86,1182.37 2079.15,1182.31 2121.44,1182.27 2163.72,1182.25 2206.01,1182.23 2248.3,1182.23 2290.59,1182.24 \n",
       "  \n",
       "  \"/>\n",
       "<polyline clip-path=\"url(#clip592)\" style=\"stroke:#ed5d92; stroke-linecap:butt; stroke-linejoin:round; stroke-width:4; stroke-opacity:1; fill:none\" points=\"\n",
       "  218.439,1183.1 260.728,1182.72 303.016,1182.44 345.305,1182.26 387.594,1182.15 429.883,1182.09 472.172,1182.08 514.461,1182.1 556.749,1182.14 599.038,1182.19 \n",
       "  641.327,1182.24 683.616,1182.3 725.905,1182.35 768.194,1182.4 810.482,1182.44 852.771,1182.47 895.06,1182.49 937.349,1182.5 979.638,1182.5 1021.93,1182.49 \n",
       "  1064.22,1182.48 1106.5,1182.47 1148.79,1182.45 1191.08,1182.43 1233.37,1182.41 1275.66,1182.39 1317.95,1182.38 1360.24,1182.36 1402.53,1182.35 1444.81,1182.35 \n",
       "  1487.1,1182.34 1529.39,1182.34 1571.68,1182.34 1613.97,1182.34 1656.26,1182.35 1698.55,1182.36 1740.84,1182.36 1783.13,1182.37 1825.41,1182.38 1867.7,1182.38 \n",
       "  1909.99,1182.39 1952.28,1182.39 1994.57,1182.39 2036.86,1182.39 2079.15,1182.39 2121.44,1182.39 2163.72,1182.39 2206.01,1182.39 2248.3,1182.39 2290.59,1182.38 \n",
       "  \n",
       "  \"/>\n",
       "<polyline clip-path=\"url(#clip592)\" style=\"stroke:#c68125; stroke-linecap:butt; stroke-linejoin:round; stroke-width:4; stroke-opacity:1; fill:none\" points=\"\n",
       "  218.439,1182.36 260.728,1182.37 303.016,1182.38 345.305,1182.38 387.594,1182.38 429.883,1182.39 472.172,1182.39 514.461,1182.39 556.749,1182.39 599.038,1182.39 \n",
       "  641.327,1182.38 683.616,1182.38 725.905,1182.38 768.194,1182.38 810.482,1182.38 852.771,1182.38 895.06,1182.37 937.349,1182.37 979.638,1182.37 1021.93,1182.38 \n",
       "  1064.22,1182.38 1106.5,1182.38 1148.79,1182.38 1191.08,1182.38 1233.37,1182.38 1275.66,1182.38 1317.95,1182.38 1360.24,1182.38 1402.53,1182.38 1444.81,1182.38 \n",
       "  1487.1,1182.38 1529.39,1182.38 1571.68,1182.38 1613.97,1182.38 1656.26,1182.38 1698.55,1182.38 1740.84,1182.38 1783.13,1182.38 1825.41,1182.38 1867.7,1182.38 \n",
       "  1909.99,1182.38 1952.28,1182.38 1994.57,1182.38 2036.86,1182.38 2079.15,1182.38 2121.44,1182.38 2163.72,1182.38 2206.01,1182.38 2248.3,1182.38 2290.59,1182.38 \n",
       "  \n",
       "  \"/>\n",
       "<polyline clip-path=\"url(#clip592)\" style=\"stroke:#00a98d; stroke-linecap:butt; stroke-linejoin:round; stroke-width:4; stroke-opacity:1; fill:none\" points=\"\n",
       "  218.439,87.9763 260.728,117.54 303.016,172.746 345.305,252.809 387.594,353.461 429.883,468.509 472.172,591.05 514.461,714.362 556.749,832.516 599.038,940.744 \n",
       "  641.327,1035.61 683.616,1115.02 725.905,1178.13 768.194,1225.15 810.482,1257.18 852.771,1275.91 895.06,1283.42 937.349,1282.01 979.638,1273.96 1021.93,1261.44 \n",
       "  1064.22,1246.36 1106.5,1230.37 1148.79,1214.76 1191.08,1200.49 1233.37,1188.23 1275.66,1178.32 1317.95,1170.89 1360.24,1165.86 1402.53,1163.03 1444.81,1162.08 \n",
       "  1487.1,1162.65 1529.39,1164.35 1571.68,1166.82 1613.97,1169.73 1656.26,1172.79 1698.55,1175.76 1740.84,1178.48 1783.13,1180.83 1825.41,1182.73 1867.7,1184.18 \n",
       "  1909.99,1185.17 1952.28,1185.76 1994.57,1185.99 2036.86,1185.93 2079.15,1185.65 2121.44,1185.23 2163.72,1184.71 2206.01,1184.17 2248.3,1183.63 2290.59,1183.13 \n",
       "  \n",
       "  \"/>\n",
       "<polyline clip-path=\"url(#clip592)\" style=\"stroke:#8e971d; stroke-linecap:butt; stroke-linejoin:round; stroke-width:4; stroke-opacity:1; fill:none\" points=\"\n",
       "  218.439,1182.38 260.728,1182.47 303.016,1182.46 345.305,1182.27 387.594,1181.89 429.883,1181.31 472.172,1180.62 514.461,1179.88 556.749,1179.18 599.038,1178.61 \n",
       "  641.327,1178.22 683.616,1178.06 725.905,1178.14 768.194,1178.45 810.482,1178.96 852.771,1179.63 895.06,1180.4 937.349,1181.22 979.638,1182.03 1021.93,1182.77 \n",
       "  1064.22,1183.42 1106.5,1183.93 1148.79,1184.3 1191.08,1184.52 1233.37,1184.59 1275.66,1184.54 1317.95,1184.37 1360.24,1184.13 1402.53,1183.82 1444.81,1183.48 \n",
       "  1487.1,1183.14 1529.39,1182.81 1571.68,1182.52 1613.97,1182.27 1656.26,1182.07 1698.55,1181.92 1740.84,1181.83 1783.13,1181.79 1825.41,1181.79 1867.7,1181.83 \n",
       "  1909.99,1181.89 1952.28,1181.97 1994.57,1182.06 2036.86,1182.15 2079.15,1182.24 2121.44,1182.32 2163.72,1182.39 2206.01,1182.45 2248.3,1182.49 2290.59,1182.51 \n",
       "  \n",
       "  \"/>\n",
       "<polyline clip-path=\"url(#clip592)\" style=\"stroke:#00a8cb; stroke-linecap:butt; stroke-linejoin:round; stroke-width:4; stroke-opacity:1; fill:none\" points=\"\n",
       "  218.439,1182.38 260.728,1182.47 303.016,1182.58 345.305,1182.69 387.594,1182.77 429.883,1182.84 472.172,1182.87 514.461,1182.88 556.749,1182.86 599.038,1182.81 \n",
       "  641.327,1182.76 683.616,1182.69 725.905,1182.61 768.194,1182.54 810.482,1182.46 852.771,1182.4 895.06,1182.35 937.349,1182.3 979.638,1182.27 1021.93,1182.25 \n",
       "  1064.22,1182.24 1106.5,1182.24 1148.79,1182.25 1191.08,1182.27 1233.37,1182.29 1275.66,1182.31 1317.95,1182.34 1360.24,1182.36 1402.53,1182.38 1444.81,1182.4 \n",
       "  1487.1,1182.41 1529.39,1182.42 1571.68,1182.42 1613.97,1182.43 1656.26,1182.43 1698.55,1182.42 1740.84,1182.42 1783.13,1182.41 1825.41,1182.4 1867.7,1182.39 \n",
       "  1909.99,1182.39 1952.28,1182.38 1994.57,1182.37 2036.86,1182.37 2079.15,1182.37 2121.44,1182.36 2163.72,1182.36 2206.01,1182.36 2248.3,1182.37 2290.59,1182.37 \n",
       "  \n",
       "  \"/>\n",
       "<polyline clip-path=\"url(#clip592)\" style=\"stroke:#9b7fe8; stroke-linecap:butt; stroke-linejoin:round; stroke-width:4; stroke-opacity:1; fill:none\" points=\"\n",
       "  218.439,1182.38 260.728,1182.38 303.016,1182.37 345.305,1182.37 387.594,1182.37 429.883,1182.37 472.172,1182.37 514.461,1182.37 556.749,1182.37 599.038,1182.37 \n",
       "  641.327,1182.37 683.616,1182.37 725.905,1182.37 768.194,1182.38 810.482,1182.38 852.771,1182.38 895.06,1182.38 937.349,1182.38 979.638,1182.38 1021.93,1182.38 \n",
       "  1064.22,1182.38 1106.5,1182.38 1148.79,1182.38 1191.08,1182.38 1233.37,1182.38 1275.66,1182.38 1317.95,1182.38 1360.24,1182.38 1402.53,1182.38 1444.81,1182.38 \n",
       "  1487.1,1182.38 1529.39,1182.38 1571.68,1182.38 1613.97,1182.38 1656.26,1182.38 1698.55,1182.38 1740.84,1182.38 1783.13,1182.38 1825.41,1182.38 1867.7,1182.38 \n",
       "  1909.99,1182.38 1952.28,1182.38 1994.57,1182.38 2036.86,1182.38 2079.15,1182.38 2121.44,1182.38 2163.72,1182.38 2206.01,1182.38 2248.3,1182.38 2290.59,1182.38 \n",
       "  \n",
       "  \"/>\n",
       "<path clip-path=\"url(#clip590)\" d=\"\n",
       "M1951.67 769.138 L2279.54 769.138 L2279.54 95.2176 L1951.67 95.2176  Z\n",
       "  \" fill=\"#ffffff\" fill-rule=\"evenodd\" fill-opacity=\"1\"/>\n",
       "<polyline clip-path=\"url(#clip590)\" style=\"stroke:#000000; stroke-linecap:butt; stroke-linejoin:round; stroke-width:4; stroke-opacity:1; fill:none\" points=\"\n",
       "  1951.67,769.138 2279.54,769.138 2279.54,95.2176 1951.67,95.2176 1951.67,769.138 \n",
       "  \"/>\n",
       "<polyline clip-path=\"url(#clip590)\" style=\"stroke:#009af9; stroke-linecap:butt; stroke-linejoin:round; stroke-width:4; stroke-opacity:1; fill:none\" points=\"\n",
       "  1976.07,147.058 2122.5,147.058 \n",
       "  \"/>\n",
       "<path clip-path=\"url(#clip590)\" d=\"M2160.75 166.745 Q2158.95 171.375 2157.23 172.787 Q2155.52 174.199 2152.65 174.199 L2149.25 174.199 L2149.25 170.634 L2151.75 170.634 Q2153.51 170.634 2154.48 169.8 Q2155.45 168.967 2156.63 165.865 L2157.4 163.921 L2146.91 138.412 L2151.42 138.412 L2159.53 158.689 L2167.63 138.412 L2172.14 138.412 L2160.75 166.745 Z\" fill=\"#000000\" fill-rule=\"evenodd\" fill-opacity=\"1\" /><path clip-path=\"url(#clip590)\" d=\"M2179.43 160.402 L2187.07 160.402 L2187.07 134.037 L2178.76 135.703 L2178.76 131.444 L2187.03 129.778 L2191.7 129.778 L2191.7 160.402 L2199.34 160.402 L2199.34 164.338 L2179.43 164.338 L2179.43 160.402 Z\" fill=\"#000000\" fill-rule=\"evenodd\" fill-opacity=\"1\" /><polyline clip-path=\"url(#clip590)\" style=\"stroke:#e26f46; stroke-linecap:butt; stroke-linejoin:round; stroke-width:4; stroke-opacity:1; fill:none\" points=\"\n",
       "  1976.07,198.898 2122.5,198.898 \n",
       "  \"/>\n",
       "<path clip-path=\"url(#clip590)\" d=\"M2160.75 218.585 Q2158.95 223.215 2157.23 224.627 Q2155.52 226.039 2152.65 226.039 L2149.25 226.039 L2149.25 222.474 L2151.75 222.474 Q2153.51 222.474 2154.48 221.64 Q2155.45 220.807 2156.63 217.705 L2157.4 215.761 L2146.91 190.252 L2151.42 190.252 L2159.53 210.529 L2167.63 190.252 L2172.14 190.252 L2160.75 218.585 Z\" fill=\"#000000\" fill-rule=\"evenodd\" fill-opacity=\"1\" /><path clip-path=\"url(#clip590)\" d=\"M2182.65 212.242 L2198.97 212.242 L2198.97 216.178 L2177.03 216.178 L2177.03 212.242 Q2179.69 209.488 2184.27 204.858 Q2188.88 200.205 2190.06 198.863 Q2192.3 196.34 2193.18 194.604 Q2194.09 192.844 2194.09 191.155 Q2194.09 188.4 2192.14 186.664 Q2190.22 184.928 2187.12 184.928 Q2184.92 184.928 2182.47 185.692 Q2180.03 186.455 2177.26 188.006 L2177.26 183.284 Q2180.08 182.15 2182.53 181.571 Q2184.99 180.993 2187.03 180.993 Q2192.4 180.993 2195.59 183.678 Q2198.78 186.363 2198.78 190.854 Q2198.78 192.983 2197.97 194.905 Q2197.19 196.803 2195.08 199.395 Q2194.5 200.067 2191.4 203.284 Q2188.3 206.479 2182.65 212.242 Z\" fill=\"#000000\" fill-rule=\"evenodd\" fill-opacity=\"1\" /><polyline clip-path=\"url(#clip590)\" style=\"stroke:#3da44d; stroke-linecap:butt; stroke-linejoin:round; stroke-width:4; stroke-opacity:1; fill:none\" points=\"\n",
       "  1976.07,250.738 2122.5,250.738 \n",
       "  \"/>\n",
       "<path clip-path=\"url(#clip590)\" d=\"M2160.75 270.425 Q2158.95 275.055 2157.23 276.467 Q2155.52 277.879 2152.65 277.879 L2149.25 277.879 L2149.25 274.314 L2151.75 274.314 Q2153.51 274.314 2154.48 273.48 Q2155.45 272.647 2156.63 269.545 L2157.4 267.601 L2146.91 242.092 L2151.42 242.092 L2159.53 262.369 L2167.63 242.092 L2172.14 242.092 L2160.75 270.425 Z\" fill=\"#000000\" fill-rule=\"evenodd\" fill-opacity=\"1\" /><path clip-path=\"url(#clip590)\" d=\"M2192.79 249.383 Q2196.15 250.101 2198.02 252.369 Q2199.92 254.638 2199.92 257.971 Q2199.92 263.087 2196.4 265.888 Q2192.88 268.689 2186.4 268.689 Q2184.22 268.689 2181.91 268.249 Q2179.62 267.832 2177.16 266.976 L2177.16 262.462 Q2179.11 263.596 2181.42 264.175 Q2183.74 264.754 2186.26 264.754 Q2190.66 264.754 2192.95 263.018 Q2195.27 261.281 2195.27 257.971 Q2195.27 254.916 2193.11 253.203 Q2190.98 251.467 2187.16 251.467 L2183.14 251.467 L2183.14 247.624 L2187.35 247.624 Q2190.8 247.624 2192.63 246.258 Q2194.46 244.87 2194.46 242.277 Q2194.46 239.615 2192.56 238.203 Q2190.68 236.768 2187.16 236.768 Q2185.24 236.768 2183.04 237.184 Q2180.85 237.601 2178.21 238.481 L2178.21 234.314 Q2180.87 233.573 2183.18 233.203 Q2185.52 232.833 2187.58 232.833 Q2192.91 232.833 2196.01 235.263 Q2199.11 237.67 2199.11 241.791 Q2199.11 244.661 2197.47 246.652 Q2195.82 248.62 2192.79 249.383 Z\" fill=\"#000000\" fill-rule=\"evenodd\" fill-opacity=\"1\" /><polyline clip-path=\"url(#clip590)\" style=\"stroke:#c271d2; stroke-linecap:butt; stroke-linejoin:round; stroke-width:4; stroke-opacity:1; fill:none\" points=\"\n",
       "  1976.07,302.578 2122.5,302.578 \n",
       "  \"/>\n",
       "<path clip-path=\"url(#clip590)\" d=\"M2160.75 322.265 Q2158.95 326.895 2157.23 328.307 Q2155.52 329.719 2152.65 329.719 L2149.25 329.719 L2149.25 326.154 L2151.75 326.154 Q2153.51 326.154 2154.48 325.32 Q2155.45 324.487 2156.63 321.385 L2157.4 319.441 L2146.91 293.932 L2151.42 293.932 L2159.53 314.209 L2167.63 293.932 L2172.14 293.932 L2160.75 322.265 Z\" fill=\"#000000\" fill-rule=\"evenodd\" fill-opacity=\"1\" /><path clip-path=\"url(#clip590)\" d=\"M2191.47 289.372 L2179.66 307.821 L2191.47 307.821 L2191.47 289.372 M2190.24 285.298 L2196.12 285.298 L2196.12 307.821 L2201.05 307.821 L2201.05 311.709 L2196.12 311.709 L2196.12 319.858 L2191.47 319.858 L2191.47 311.709 L2175.87 311.709 L2175.87 307.196 L2190.24 285.298 Z\" fill=\"#000000\" fill-rule=\"evenodd\" fill-opacity=\"1\" /><polyline clip-path=\"url(#clip590)\" style=\"stroke:#ac8d18; stroke-linecap:butt; stroke-linejoin:round; stroke-width:4; stroke-opacity:1; fill:none\" points=\"\n",
       "  1976.07,354.418 2122.5,354.418 \n",
       "  \"/>\n",
       "<path clip-path=\"url(#clip590)\" d=\"M2160.75 374.105 Q2158.95 378.735 2157.23 380.147 Q2155.52 381.559 2152.65 381.559 L2149.25 381.559 L2149.25 377.994 L2151.75 377.994 Q2153.51 377.994 2154.48 377.16 Q2155.45 376.327 2156.63 373.225 L2157.4 371.281 L2146.91 345.772 L2151.42 345.772 L2159.53 366.049 L2167.63 345.772 L2172.14 345.772 L2160.75 374.105 Z\" fill=\"#000000\" fill-rule=\"evenodd\" fill-opacity=\"1\" /><path clip-path=\"url(#clip590)\" d=\"M2178.67 337.138 L2197.03 337.138 L2197.03 341.073 L2182.95 341.073 L2182.95 349.545 Q2183.97 349.198 2184.99 349.036 Q2186.01 348.85 2187.03 348.85 Q2192.81 348.85 2196.19 352.022 Q2199.57 355.193 2199.57 360.61 Q2199.57 366.188 2196.1 369.29 Q2192.63 372.369 2186.31 372.369 Q2184.13 372.369 2181.86 371.998 Q2179.62 371.628 2177.21 370.887 L2177.21 366.188 Q2179.29 367.323 2181.52 367.878 Q2183.74 368.434 2186.22 368.434 Q2190.22 368.434 2192.56 366.327 Q2194.9 364.221 2194.9 360.61 Q2194.9 356.999 2192.56 354.892 Q2190.22 352.786 2186.22 352.786 Q2184.34 352.786 2182.47 353.202 Q2180.61 353.619 2178.67 354.499 L2178.67 337.138 Z\" fill=\"#000000\" fill-rule=\"evenodd\" fill-opacity=\"1\" /><polyline clip-path=\"url(#clip590)\" style=\"stroke:#00a9ad; stroke-linecap:butt; stroke-linejoin:round; stroke-width:4; stroke-opacity:1; fill:none\" points=\"\n",
       "  1976.07,406.258 2122.5,406.258 \n",
       "  \"/>\n",
       "<path clip-path=\"url(#clip590)\" d=\"M2160.75 425.945 Q2158.95 430.575 2157.23 431.987 Q2155.52 433.399 2152.65 433.399 L2149.25 433.399 L2149.25 429.834 L2151.75 429.834 Q2153.51 429.834 2154.48 429 Q2155.45 428.167 2156.63 425.065 L2157.4 423.121 L2146.91 397.612 L2151.42 397.612 L2159.53 417.889 L2167.63 397.612 L2172.14 397.612 L2160.75 425.945 Z\" fill=\"#000000\" fill-rule=\"evenodd\" fill-opacity=\"1\" /><path clip-path=\"url(#clip590)\" d=\"M2189.2 404.394 Q2186.05 404.394 2184.2 406.547 Q2182.37 408.7 2182.37 412.45 Q2182.37 416.176 2184.2 418.352 Q2186.05 420.505 2189.2 420.505 Q2192.35 420.505 2194.18 418.352 Q2196.03 416.176 2196.03 412.45 Q2196.03 408.7 2194.18 406.547 Q2192.35 404.394 2189.2 404.394 M2198.48 389.741 L2198.48 394.001 Q2196.72 393.167 2194.92 392.728 Q2193.14 392.288 2191.38 392.288 Q2186.75 392.288 2184.29 395.413 Q2181.86 398.538 2181.52 404.857 Q2182.88 402.843 2184.94 401.778 Q2187 400.69 2189.48 400.69 Q2194.69 400.69 2197.7 403.862 Q2200.73 407.01 2200.73 412.45 Q2200.73 417.774 2197.58 420.991 Q2194.43 424.209 2189.2 424.209 Q2183.21 424.209 2180.03 419.626 Q2176.86 415.019 2176.86 406.292 Q2176.86 398.098 2180.75 393.237 Q2184.64 388.353 2191.19 388.353 Q2192.95 388.353 2194.73 388.7 Q2196.54 389.047 2198.48 389.741 Z\" fill=\"#000000\" fill-rule=\"evenodd\" fill-opacity=\"1\" /><polyline clip-path=\"url(#clip590)\" style=\"stroke:#ed5d92; stroke-linecap:butt; stroke-linejoin:round; stroke-width:4; stroke-opacity:1; fill:none\" points=\"\n",
       "  1976.07,458.098 2122.5,458.098 \n",
       "  \"/>\n",
       "<path clip-path=\"url(#clip590)\" d=\"M2160.75 477.785 Q2158.95 482.415 2157.23 483.827 Q2155.52 485.239 2152.65 485.239 L2149.25 485.239 L2149.25 481.674 L2151.75 481.674 Q2153.51 481.674 2154.48 480.84 Q2155.45 480.007 2156.63 476.905 L2157.4 474.961 L2146.91 449.452 L2151.42 449.452 L2159.53 469.729 L2167.63 449.452 L2172.14 449.452 L2160.75 477.785 Z\" fill=\"#000000\" fill-rule=\"evenodd\" fill-opacity=\"1\" /><path clip-path=\"url(#clip590)\" d=\"M2177.44 440.818 L2199.66 440.818 L2199.66 442.808 L2187.12 475.378 L2182.23 475.378 L2194.04 444.753 L2177.44 444.753 L2177.44 440.818 Z\" fill=\"#000000\" fill-rule=\"evenodd\" fill-opacity=\"1\" /><polyline clip-path=\"url(#clip590)\" style=\"stroke:#c68125; stroke-linecap:butt; stroke-linejoin:round; stroke-width:4; stroke-opacity:1; fill:none\" points=\"\n",
       "  1976.07,509.938 2122.5,509.938 \n",
       "  \"/>\n",
       "<path clip-path=\"url(#clip590)\" d=\"M2160.75 529.625 Q2158.95 534.255 2157.23 535.667 Q2155.52 537.079 2152.65 537.079 L2149.25 537.079 L2149.25 533.514 L2151.75 533.514 Q2153.51 533.514 2154.48 532.68 Q2155.45 531.847 2156.63 528.745 L2157.4 526.801 L2146.91 501.292 L2151.42 501.292 L2159.53 521.569 L2167.63 501.292 L2172.14 501.292 L2160.75 529.625 Z\" fill=\"#000000\" fill-rule=\"evenodd\" fill-opacity=\"1\" /><path clip-path=\"url(#clip590)\" d=\"M2188.62 510.806 Q2185.29 510.806 2183.37 512.588 Q2181.47 514.37 2181.47 517.495 Q2181.47 520.62 2183.37 522.403 Q2185.29 524.185 2188.62 524.185 Q2191.96 524.185 2193.88 522.403 Q2195.8 520.597 2195.8 517.495 Q2195.8 514.37 2193.88 512.588 Q2191.98 510.806 2188.62 510.806 M2183.95 508.815 Q2180.94 508.074 2179.25 506.014 Q2177.58 503.954 2177.58 500.991 Q2177.58 496.847 2180.52 494.44 Q2183.48 492.033 2188.62 492.033 Q2193.78 492.033 2196.72 494.44 Q2199.66 496.847 2199.66 500.991 Q2199.66 503.954 2197.97 506.014 Q2196.31 508.074 2193.32 508.815 Q2196.7 509.602 2198.58 511.894 Q2200.47 514.185 2200.47 517.495 Q2200.47 522.519 2197.4 525.204 Q2194.34 527.889 2188.62 527.889 Q2182.91 527.889 2179.83 525.204 Q2176.77 522.519 2176.77 517.495 Q2176.77 514.185 2178.67 511.894 Q2180.57 509.602 2183.95 508.815 M2182.23 501.431 Q2182.23 504.116 2183.9 505.62 Q2185.59 507.125 2188.62 507.125 Q2191.63 507.125 2193.32 505.62 Q2195.03 504.116 2195.03 501.431 Q2195.03 498.745 2193.32 497.241 Q2191.63 495.736 2188.62 495.736 Q2185.59 495.736 2183.9 497.241 Q2182.23 498.745 2182.23 501.431 Z\" fill=\"#000000\" fill-rule=\"evenodd\" fill-opacity=\"1\" /><polyline clip-path=\"url(#clip590)\" style=\"stroke:#00a98d; stroke-linecap:butt; stroke-linejoin:round; stroke-width:4; stroke-opacity:1; fill:none\" points=\"\n",
       "  1976.07,561.778 2122.5,561.778 \n",
       "  \"/>\n",
       "<path clip-path=\"url(#clip590)\" d=\"M2160.75 581.465 Q2158.95 586.095 2157.23 587.507 Q2155.52 588.919 2152.65 588.919 L2149.25 588.919 L2149.25 585.354 L2151.75 585.354 Q2153.51 585.354 2154.48 584.52 Q2155.45 583.687 2156.63 580.585 L2157.4 578.641 L2146.91 553.132 L2151.42 553.132 L2159.53 573.409 L2167.63 553.132 L2172.14 553.132 L2160.75 581.465 Z\" fill=\"#000000\" fill-rule=\"evenodd\" fill-opacity=\"1\" /><path clip-path=\"url(#clip590)\" d=\"M2178.76 578.34 L2178.76 574.081 Q2180.52 574.914 2182.33 575.354 Q2184.13 575.794 2185.87 575.794 Q2190.5 575.794 2192.93 572.692 Q2195.38 569.567 2195.73 563.224 Q2194.39 565.215 2192.33 566.28 Q2190.27 567.345 2187.77 567.345 Q2182.58 567.345 2179.55 564.22 Q2176.54 561.072 2176.54 555.632 Q2176.54 550.308 2179.69 547.09 Q2182.84 543.873 2188.07 543.873 Q2194.06 543.873 2197.21 548.479 Q2200.38 553.062 2200.38 561.812 Q2200.38 569.984 2196.49 574.868 Q2192.63 579.729 2186.08 579.729 Q2184.32 579.729 2182.51 579.382 Q2180.71 579.034 2178.76 578.34 M2188.07 563.687 Q2191.22 563.687 2193.04 561.534 Q2194.9 559.382 2194.9 555.632 Q2194.9 551.905 2193.04 549.752 Q2191.22 547.576 2188.07 547.576 Q2184.92 547.576 2183.07 549.752 Q2181.24 551.905 2181.24 555.632 Q2181.24 559.382 2183.07 561.534 Q2184.92 563.687 2188.07 563.687 Z\" fill=\"#000000\" fill-rule=\"evenodd\" fill-opacity=\"1\" /><polyline clip-path=\"url(#clip590)\" style=\"stroke:#8e971d; stroke-linecap:butt; stroke-linejoin:round; stroke-width:4; stroke-opacity:1; fill:none\" points=\"\n",
       "  1976.07,613.618 2122.5,613.618 \n",
       "  \"/>\n",
       "<path clip-path=\"url(#clip590)\" d=\"M2160.75 633.305 Q2158.95 637.935 2157.23 639.347 Q2155.52 640.759 2152.65 640.759 L2149.25 640.759 L2149.25 637.194 L2151.75 637.194 Q2153.51 637.194 2154.48 636.36 Q2155.45 635.527 2156.63 632.425 L2157.4 630.481 L2146.91 604.972 L2151.42 604.972 L2159.53 625.249 L2167.63 604.972 L2172.14 604.972 L2160.75 633.305 Z\" fill=\"#000000\" fill-rule=\"evenodd\" fill-opacity=\"1\" /><path clip-path=\"url(#clip590)\" d=\"M2179.43 626.962 L2187.07 626.962 L2187.07 600.597 L2178.76 602.263 L2178.76 598.004 L2187.03 596.338 L2191.7 596.338 L2191.7 626.962 L2199.34 626.962 L2199.34 630.898 L2179.43 630.898 L2179.43 626.962 Z\" fill=\"#000000\" fill-rule=\"evenodd\" fill-opacity=\"1\" /><path clip-path=\"url(#clip590)\" d=\"M2218.78 599.416 Q2215.17 599.416 2213.34 602.981 Q2211.54 606.523 2211.54 613.652 Q2211.54 620.759 2213.34 624.324 Q2215.17 627.865 2218.78 627.865 Q2222.42 627.865 2224.22 624.324 Q2226.05 620.759 2226.05 613.652 Q2226.05 606.523 2224.22 602.981 Q2222.42 599.416 2218.78 599.416 M2218.78 595.713 Q2224.59 595.713 2227.65 600.319 Q2230.73 604.902 2230.73 613.652 Q2230.73 622.379 2227.65 626.986 Q2224.59 631.569 2218.78 631.569 Q2212.97 631.569 2209.9 626.986 Q2206.84 622.379 2206.84 613.652 Q2206.84 604.902 2209.9 600.319 Q2212.97 595.713 2218.78 595.713 Z\" fill=\"#000000\" fill-rule=\"evenodd\" fill-opacity=\"1\" /><polyline clip-path=\"url(#clip590)\" style=\"stroke:#00a8cb; stroke-linecap:butt; stroke-linejoin:round; stroke-width:4; stroke-opacity:1; fill:none\" points=\"\n",
       "  1976.07,665.458 2122.5,665.458 \n",
       "  \"/>\n",
       "<path clip-path=\"url(#clip590)\" d=\"M2160.75 685.145 Q2158.95 689.775 2157.23 691.187 Q2155.52 692.599 2152.65 692.599 L2149.25 692.599 L2149.25 689.034 L2151.75 689.034 Q2153.51 689.034 2154.48 688.2 Q2155.45 687.367 2156.63 684.265 L2157.4 682.321 L2146.91 656.812 L2151.42 656.812 L2159.53 677.089 L2167.63 656.812 L2172.14 656.812 L2160.75 685.145 Z\" fill=\"#000000\" fill-rule=\"evenodd\" fill-opacity=\"1\" /><path clip-path=\"url(#clip590)\" d=\"M2179.43 678.802 L2187.07 678.802 L2187.07 652.437 L2178.76 654.103 L2178.76 649.844 L2187.03 648.178 L2191.7 648.178 L2191.7 678.802 L2199.34 678.802 L2199.34 682.738 L2179.43 682.738 L2179.43 678.802 Z\" fill=\"#000000\" fill-rule=\"evenodd\" fill-opacity=\"1\" /><path clip-path=\"url(#clip590)\" d=\"M2209.59 678.802 L2217.23 678.802 L2217.23 652.437 L2208.92 654.103 L2208.92 649.844 L2217.19 648.178 L2221.86 648.178 L2221.86 678.802 L2229.5 678.802 L2229.5 682.738 L2209.59 682.738 L2209.59 678.802 Z\" fill=\"#000000\" fill-rule=\"evenodd\" fill-opacity=\"1\" /><polyline clip-path=\"url(#clip590)\" style=\"stroke:#9b7fe8; stroke-linecap:butt; stroke-linejoin:round; stroke-width:4; stroke-opacity:1; fill:none\" points=\"\n",
       "  1976.07,717.298 2122.5,717.298 \n",
       "  \"/>\n",
       "<path clip-path=\"url(#clip590)\" d=\"M2160.75 736.985 Q2158.95 741.615 2157.23 743.027 Q2155.52 744.439 2152.65 744.439 L2149.25 744.439 L2149.25 740.874 L2151.75 740.874 Q2153.51 740.874 2154.48 740.04 Q2155.45 739.207 2156.63 736.105 L2157.4 734.161 L2146.91 708.652 L2151.42 708.652 L2159.53 728.929 L2167.63 708.652 L2172.14 708.652 L2160.75 736.985 Z\" fill=\"#000000\" fill-rule=\"evenodd\" fill-opacity=\"1\" /><path clip-path=\"url(#clip590)\" d=\"M2179.43 730.642 L2187.07 730.642 L2187.07 704.277 L2178.76 705.943 L2178.76 701.684 L2187.03 700.018 L2191.7 700.018 L2191.7 730.642 L2199.34 730.642 L2199.34 734.578 L2179.43 734.578 L2179.43 730.642 Z\" fill=\"#000000\" fill-rule=\"evenodd\" fill-opacity=\"1\" /><path clip-path=\"url(#clip590)\" d=\"M2212.81 730.642 L2229.13 730.642 L2229.13 734.578 L2207.19 734.578 L2207.19 730.642 Q2209.85 727.888 2214.43 723.258 Q2219.04 718.605 2220.22 717.263 Q2222.47 714.74 2223.34 713.004 Q2224.25 711.244 2224.25 709.555 Q2224.25 706.8 2222.3 705.064 Q2220.38 703.328 2217.28 703.328 Q2215.08 703.328 2212.63 704.092 Q2210.2 704.855 2207.42 706.406 L2207.42 701.684 Q2210.24 700.55 2212.7 699.971 Q2215.15 699.393 2217.19 699.393 Q2222.56 699.393 2225.75 702.078 Q2228.95 704.763 2228.95 709.254 Q2228.95 711.383 2228.14 713.305 Q2227.35 715.203 2225.24 717.795 Q2224.66 718.467 2221.56 721.684 Q2218.46 724.879 2212.81 730.642 Z\" fill=\"#000000\" fill-rule=\"evenodd\" fill-opacity=\"1\" /></svg>\n"
      ]
     },
     "execution_count": 54,
     "metadata": {},
     "output_type": "execute_result"
    }
   ],
   "source": [
    "plot(z_hist')"
   ]
  },
  {
   "cell_type": "code",
   "execution_count": 55,
   "id": "50deca3d",
   "metadata": {},
   "outputs": [
    {
     "data": {
      "image/svg+xml": [
       "<?xml version=\"1.0\" encoding=\"utf-8\"?>\n",
       "<svg xmlns=\"http://www.w3.org/2000/svg\" xmlns:xlink=\"http://www.w3.org/1999/xlink\" width=\"600\" height=\"400\" viewBox=\"0 0 2400 1600\">\n",
       "<defs>\n",
       "  <clipPath id=\"clip630\">\n",
       "    <rect x=\"0\" y=\"0\" width=\"2400\" height=\"1600\"/>\n",
       "  </clipPath>\n",
       "</defs>\n",
       "<path clip-path=\"url(#clip630)\" d=\"\n",
       "M0 1600 L2400 1600 L2400 0 L0 0  Z\n",
       "  \" fill=\"#ffffff\" fill-rule=\"evenodd\" fill-opacity=\"1\"/>\n",
       "<defs>\n",
       "  <clipPath id=\"clip631\">\n",
       "    <rect x=\"480\" y=\"0\" width=\"1681\" height=\"1600\"/>\n",
       "  </clipPath>\n",
       "</defs>\n",
       "<path clip-path=\"url(#clip630)\" d=\"\n",
       "M148.057 1486.45 L2352.76 1486.45 L2352.76 47.2441 L148.057 47.2441  Z\n",
       "  \" fill=\"#ffffff\" fill-rule=\"evenodd\" fill-opacity=\"1\"/>\n",
       "<defs>\n",
       "  <clipPath id=\"clip632\">\n",
       "    <rect x=\"148\" y=\"47\" width=\"2206\" height=\"1440\"/>\n",
       "  </clipPath>\n",
       "</defs>\n",
       "<polyline clip-path=\"url(#clip632)\" style=\"stroke:#000000; stroke-linecap:butt; stroke-linejoin:round; stroke-width:2; stroke-opacity:0.1; fill:none\" points=\"\n",
       "  168.007,1486.45 168.007,47.2441 \n",
       "  \"/>\n",
       "<polyline clip-path=\"url(#clip632)\" style=\"stroke:#000000; stroke-linecap:butt; stroke-linejoin:round; stroke-width:2; stroke-opacity:0.1; fill:none\" points=\"\n",
       "  592.477,1486.45 592.477,47.2441 \n",
       "  \"/>\n",
       "<polyline clip-path=\"url(#clip632)\" style=\"stroke:#000000; stroke-linecap:butt; stroke-linejoin:round; stroke-width:2; stroke-opacity:0.1; fill:none\" points=\"\n",
       "  1016.95,1486.45 1016.95,47.2441 \n",
       "  \"/>\n",
       "<polyline clip-path=\"url(#clip632)\" style=\"stroke:#000000; stroke-linecap:butt; stroke-linejoin:round; stroke-width:2; stroke-opacity:0.1; fill:none\" points=\"\n",
       "  1441.42,1486.45 1441.42,47.2441 \n",
       "  \"/>\n",
       "<polyline clip-path=\"url(#clip632)\" style=\"stroke:#000000; stroke-linecap:butt; stroke-linejoin:round; stroke-width:2; stroke-opacity:0.1; fill:none\" points=\"\n",
       "  1865.89,1486.45 1865.89,47.2441 \n",
       "  \"/>\n",
       "<polyline clip-path=\"url(#clip632)\" style=\"stroke:#000000; stroke-linecap:butt; stroke-linejoin:round; stroke-width:2; stroke-opacity:0.1; fill:none\" points=\"\n",
       "  2290.36,1486.45 2290.36,47.2441 \n",
       "  \"/>\n",
       "<polyline clip-path=\"url(#clip630)\" style=\"stroke:#000000; stroke-linecap:butt; stroke-linejoin:round; stroke-width:4; stroke-opacity:1; fill:none\" points=\"\n",
       "  148.057,1486.45 2352.76,1486.45 \n",
       "  \"/>\n",
       "<polyline clip-path=\"url(#clip630)\" style=\"stroke:#000000; stroke-linecap:butt; stroke-linejoin:round; stroke-width:4; stroke-opacity:1; fill:none\" points=\"\n",
       "  168.007,1486.45 168.007,1467.55 \n",
       "  \"/>\n",
       "<polyline clip-path=\"url(#clip630)\" style=\"stroke:#000000; stroke-linecap:butt; stroke-linejoin:round; stroke-width:4; stroke-opacity:1; fill:none\" points=\"\n",
       "  592.477,1486.45 592.477,1467.55 \n",
       "  \"/>\n",
       "<polyline clip-path=\"url(#clip630)\" style=\"stroke:#000000; stroke-linecap:butt; stroke-linejoin:round; stroke-width:4; stroke-opacity:1; fill:none\" points=\"\n",
       "  1016.95,1486.45 1016.95,1467.55 \n",
       "  \"/>\n",
       "<polyline clip-path=\"url(#clip630)\" style=\"stroke:#000000; stroke-linecap:butt; stroke-linejoin:round; stroke-width:4; stroke-opacity:1; fill:none\" points=\"\n",
       "  1441.42,1486.45 1441.42,1467.55 \n",
       "  \"/>\n",
       "<polyline clip-path=\"url(#clip630)\" style=\"stroke:#000000; stroke-linecap:butt; stroke-linejoin:round; stroke-width:4; stroke-opacity:1; fill:none\" points=\"\n",
       "  1865.89,1486.45 1865.89,1467.55 \n",
       "  \"/>\n",
       "<polyline clip-path=\"url(#clip630)\" style=\"stroke:#000000; stroke-linecap:butt; stroke-linejoin:round; stroke-width:4; stroke-opacity:1; fill:none\" points=\"\n",
       "  2290.36,1486.45 2290.36,1467.55 \n",
       "  \"/>\n",
       "<path clip-path=\"url(#clip630)\" d=\"M168.007 1517.37 Q164.396 1517.37 162.567 1520.93 Q160.761 1524.47 160.761 1531.6 Q160.761 1538.71 162.567 1542.27 Q164.396 1545.82 168.007 1545.82 Q171.641 1545.82 173.447 1542.27 Q175.275 1538.71 175.275 1531.6 Q175.275 1524.47 173.447 1520.93 Q171.641 1517.37 168.007 1517.37 M168.007 1513.66 Q173.817 1513.66 176.872 1518.27 Q179.951 1522.85 179.951 1531.6 Q179.951 1540.33 176.872 1544.94 Q173.817 1549.52 168.007 1549.52 Q162.197 1549.52 159.118 1544.94 Q156.062 1540.33 156.062 1531.6 Q156.062 1522.85 159.118 1518.27 Q162.197 1513.66 168.007 1513.66 Z\" fill=\"#000000\" fill-rule=\"evenodd\" fill-opacity=\"1\" /><path clip-path=\"url(#clip630)\" d=\"M567.165 1544.91 L574.804 1544.91 L574.804 1518.55 L566.493 1520.21 L566.493 1515.95 L574.757 1514.29 L579.433 1514.29 L579.433 1544.91 L587.072 1544.91 L587.072 1548.85 L567.165 1548.85 L567.165 1544.91 Z\" fill=\"#000000\" fill-rule=\"evenodd\" fill-opacity=\"1\" /><path clip-path=\"url(#clip630)\" d=\"M606.516 1517.37 Q602.905 1517.37 601.077 1520.93 Q599.271 1524.47 599.271 1531.6 Q599.271 1538.71 601.077 1542.27 Q602.905 1545.82 606.516 1545.82 Q610.151 1545.82 611.956 1542.27 Q613.785 1538.71 613.785 1531.6 Q613.785 1524.47 611.956 1520.93 Q610.151 1517.37 606.516 1517.37 M606.516 1513.66 Q612.327 1513.66 615.382 1518.27 Q618.461 1522.85 618.461 1531.6 Q618.461 1540.33 615.382 1544.94 Q612.327 1549.52 606.516 1549.52 Q600.706 1549.52 597.628 1544.94 Q594.572 1540.33 594.572 1531.6 Q594.572 1522.85 597.628 1518.27 Q600.706 1513.66 606.516 1513.66 Z\" fill=\"#000000\" fill-rule=\"evenodd\" fill-opacity=\"1\" /><path clip-path=\"url(#clip630)\" d=\"M995.721 1544.91 L1012.04 1544.91 L1012.04 1548.85 L990.096 1548.85 L990.096 1544.91 Q992.758 1542.16 997.341 1537.53 Q1001.95 1532.88 1003.13 1531.53 Q1005.37 1529.01 1006.25 1527.27 Q1007.16 1525.51 1007.16 1523.82 Q1007.16 1521.07 1005.21 1519.33 Q1003.29 1517.6 1000.19 1517.6 Q997.989 1517.6 995.536 1518.36 Q993.105 1519.13 990.327 1520.68 L990.327 1515.95 Q993.151 1514.82 995.605 1514.24 Q998.059 1513.66 1000.1 1513.66 Q1005.47 1513.66 1008.66 1516.35 Q1011.85 1519.03 1011.85 1523.52 Q1011.85 1525.65 1011.04 1527.57 Q1010.26 1529.47 1008.15 1532.07 Q1007.57 1532.74 1004.47 1535.95 Q1001.37 1539.15 995.721 1544.91 Z\" fill=\"#000000\" fill-rule=\"evenodd\" fill-opacity=\"1\" /><path clip-path=\"url(#clip630)\" d=\"M1031.85 1517.37 Q1028.24 1517.37 1026.42 1520.93 Q1024.61 1524.47 1024.61 1531.6 Q1024.61 1538.71 1026.42 1542.27 Q1028.24 1545.82 1031.85 1545.82 Q1035.49 1545.82 1037.29 1542.27 Q1039.12 1538.71 1039.12 1531.6 Q1039.12 1524.47 1037.29 1520.93 Q1035.49 1517.37 1031.85 1517.37 M1031.85 1513.66 Q1037.67 1513.66 1040.72 1518.27 Q1043.8 1522.85 1043.8 1531.6 Q1043.8 1540.33 1040.72 1544.94 Q1037.67 1549.52 1031.85 1549.52 Q1026.04 1549.52 1022.97 1544.94 Q1019.91 1540.33 1019.91 1531.6 Q1019.91 1522.85 1022.97 1518.27 Q1026.04 1513.66 1031.85 1513.66 Z\" fill=\"#000000\" fill-rule=\"evenodd\" fill-opacity=\"1\" /><path clip-path=\"url(#clip630)\" d=\"M1430.26 1530.21 Q1433.62 1530.93 1435.49 1533.2 Q1437.39 1535.47 1437.39 1538.8 Q1437.39 1543.92 1433.87 1546.72 Q1430.35 1549.52 1423.87 1549.52 Q1421.7 1549.52 1419.38 1549.08 Q1417.09 1548.66 1414.64 1547.81 L1414.64 1543.29 Q1416.58 1544.43 1418.89 1545.01 Q1421.21 1545.58 1423.73 1545.58 Q1428.13 1545.58 1430.42 1543.85 Q1432.74 1542.11 1432.74 1538.8 Q1432.74 1535.75 1430.58 1534.03 Q1428.46 1532.3 1424.64 1532.3 L1420.61 1532.3 L1420.61 1528.45 L1424.82 1528.45 Q1428.27 1528.45 1430.1 1527.09 Q1431.93 1525.7 1431.93 1523.11 Q1431.93 1520.45 1430.03 1519.03 Q1428.15 1517.6 1424.64 1517.6 Q1422.71 1517.6 1420.52 1518.01 Q1418.32 1518.43 1415.68 1519.31 L1415.68 1515.14 Q1418.34 1514.4 1420.65 1514.03 Q1422.99 1513.66 1425.05 1513.66 Q1430.38 1513.66 1433.48 1516.09 Q1436.58 1518.5 1436.58 1522.62 Q1436.58 1525.49 1434.94 1527.48 Q1433.29 1529.45 1430.26 1530.21 Z\" fill=\"#000000\" fill-rule=\"evenodd\" fill-opacity=\"1\" /><path clip-path=\"url(#clip630)\" d=\"M1456.26 1517.37 Q1452.64 1517.37 1450.82 1520.93 Q1449.01 1524.47 1449.01 1531.6 Q1449.01 1538.71 1450.82 1542.27 Q1452.64 1545.82 1456.26 1545.82 Q1459.89 1545.82 1461.7 1542.27 Q1463.52 1538.71 1463.52 1531.6 Q1463.52 1524.47 1461.7 1520.93 Q1459.89 1517.37 1456.26 1517.37 M1456.26 1513.66 Q1462.07 1513.66 1465.12 1518.27 Q1468.2 1522.85 1468.2 1531.6 Q1468.2 1540.33 1465.12 1544.94 Q1462.07 1549.52 1456.26 1549.52 Q1450.45 1549.52 1447.37 1544.94 Q1444.31 1540.33 1444.31 1531.6 Q1444.31 1522.85 1447.37 1518.27 Q1450.45 1513.66 1456.26 1513.66 Z\" fill=\"#000000\" fill-rule=\"evenodd\" fill-opacity=\"1\" /><path clip-path=\"url(#clip630)\" d=\"M1854.06 1518.36 L1842.25 1536.81 L1854.06 1536.81 L1854.06 1518.36 M1852.83 1514.29 L1858.71 1514.29 L1858.71 1536.81 L1863.64 1536.81 L1863.64 1540.7 L1858.71 1540.7 L1858.71 1548.85 L1854.06 1548.85 L1854.06 1540.7 L1838.46 1540.7 L1838.46 1536.19 L1852.83 1514.29 Z\" fill=\"#000000\" fill-rule=\"evenodd\" fill-opacity=\"1\" /><path clip-path=\"url(#clip630)\" d=\"M1881.37 1517.37 Q1877.76 1517.37 1875.93 1520.93 Q1874.13 1524.47 1874.13 1531.6 Q1874.13 1538.71 1875.93 1542.27 Q1877.76 1545.82 1881.37 1545.82 Q1885.01 1545.82 1886.81 1542.27 Q1888.64 1538.71 1888.64 1531.6 Q1888.64 1524.47 1886.81 1520.93 Q1885.01 1517.37 1881.37 1517.37 M1881.37 1513.66 Q1887.18 1513.66 1890.24 1518.27 Q1893.32 1522.85 1893.32 1531.6 Q1893.32 1540.33 1890.24 1544.94 Q1887.18 1549.52 1881.37 1549.52 Q1875.56 1549.52 1872.49 1544.94 Q1869.43 1540.33 1869.43 1531.6 Q1869.43 1522.85 1872.49 1518.27 Q1875.56 1513.66 1881.37 1513.66 Z\" fill=\"#000000\" fill-rule=\"evenodd\" fill-opacity=\"1\" /><path clip-path=\"url(#clip630)\" d=\"M2265.06 1514.29 L2283.41 1514.29 L2283.41 1518.22 L2269.34 1518.22 L2269.34 1526.7 Q2270.36 1526.35 2271.38 1526.19 Q2272.4 1526 2273.41 1526 Q2279.2 1526 2282.58 1529.17 Q2285.96 1532.34 2285.96 1537.76 Q2285.96 1543.34 2282.49 1546.44 Q2279.02 1549.52 2272.7 1549.52 Q2270.52 1549.52 2268.25 1549.15 Q2266.01 1548.78 2263.6 1548.04 L2263.6 1543.34 Q2265.68 1544.47 2267.91 1545.03 Q2270.13 1545.58 2272.6 1545.58 Q2276.61 1545.58 2278.95 1543.48 Q2281.28 1541.37 2281.28 1537.76 Q2281.28 1534.15 2278.95 1532.04 Q2276.61 1529.94 2272.6 1529.94 Q2270.73 1529.94 2268.85 1530.35 Q2267 1530.77 2265.06 1531.65 L2265.06 1514.29 Z\" fill=\"#000000\" fill-rule=\"evenodd\" fill-opacity=\"1\" /><path clip-path=\"url(#clip630)\" d=\"M2305.17 1517.37 Q2301.56 1517.37 2299.73 1520.93 Q2297.93 1524.47 2297.93 1531.6 Q2297.93 1538.71 2299.73 1542.27 Q2301.56 1545.82 2305.17 1545.82 Q2308.81 1545.82 2310.61 1542.27 Q2312.44 1538.71 2312.44 1531.6 Q2312.44 1524.47 2310.61 1520.93 Q2308.81 1517.37 2305.17 1517.37 M2305.17 1513.66 Q2310.98 1513.66 2314.04 1518.27 Q2317.12 1522.85 2317.12 1531.6 Q2317.12 1540.33 2314.04 1544.94 Q2310.98 1549.52 2305.17 1549.52 Q2299.36 1549.52 2296.28 1544.94 Q2293.23 1540.33 2293.23 1531.6 Q2293.23 1522.85 2296.28 1518.27 Q2299.36 1513.66 2305.17 1513.66 Z\" fill=\"#000000\" fill-rule=\"evenodd\" fill-opacity=\"1\" /><polyline clip-path=\"url(#clip632)\" style=\"stroke:#000000; stroke-linecap:butt; stroke-linejoin:round; stroke-width:2; stroke-opacity:0.1; fill:none\" points=\"\n",
       "  148.057,1322.96 2352.76,1322.96 \n",
       "  \"/>\n",
       "<polyline clip-path=\"url(#clip632)\" style=\"stroke:#000000; stroke-linecap:butt; stroke-linejoin:round; stroke-width:2; stroke-opacity:0.1; fill:none\" points=\"\n",
       "  148.057,1120.07 2352.76,1120.07 \n",
       "  \"/>\n",
       "<polyline clip-path=\"url(#clip632)\" style=\"stroke:#000000; stroke-linecap:butt; stroke-linejoin:round; stroke-width:2; stroke-opacity:0.1; fill:none\" points=\"\n",
       "  148.057,917.183 2352.76,917.183 \n",
       "  \"/>\n",
       "<polyline clip-path=\"url(#clip632)\" style=\"stroke:#000000; stroke-linecap:butt; stroke-linejoin:round; stroke-width:2; stroke-opacity:0.1; fill:none\" points=\"\n",
       "  148.057,714.295 2352.76,714.295 \n",
       "  \"/>\n",
       "<polyline clip-path=\"url(#clip632)\" style=\"stroke:#000000; stroke-linecap:butt; stroke-linejoin:round; stroke-width:2; stroke-opacity:0.1; fill:none\" points=\"\n",
       "  148.057,511.406 2352.76,511.406 \n",
       "  \"/>\n",
       "<polyline clip-path=\"url(#clip632)\" style=\"stroke:#000000; stroke-linecap:butt; stroke-linejoin:round; stroke-width:2; stroke-opacity:0.1; fill:none\" points=\"\n",
       "  148.057,308.518 2352.76,308.518 \n",
       "  \"/>\n",
       "<polyline clip-path=\"url(#clip632)\" style=\"stroke:#000000; stroke-linecap:butt; stroke-linejoin:round; stroke-width:2; stroke-opacity:0.1; fill:none\" points=\"\n",
       "  148.057,105.63 2352.76,105.63 \n",
       "  \"/>\n",
       "<polyline clip-path=\"url(#clip630)\" style=\"stroke:#000000; stroke-linecap:butt; stroke-linejoin:round; stroke-width:4; stroke-opacity:1; fill:none\" points=\"\n",
       "  148.057,1486.45 148.057,47.2441 \n",
       "  \"/>\n",
       "<polyline clip-path=\"url(#clip630)\" style=\"stroke:#000000; stroke-linecap:butt; stroke-linejoin:round; stroke-width:4; stroke-opacity:1; fill:none\" points=\"\n",
       "  148.057,1322.96 166.954,1322.96 \n",
       "  \"/>\n",
       "<polyline clip-path=\"url(#clip630)\" style=\"stroke:#000000; stroke-linecap:butt; stroke-linejoin:round; stroke-width:4; stroke-opacity:1; fill:none\" points=\"\n",
       "  148.057,1120.07 166.954,1120.07 \n",
       "  \"/>\n",
       "<polyline clip-path=\"url(#clip630)\" style=\"stroke:#000000; stroke-linecap:butt; stroke-linejoin:round; stroke-width:4; stroke-opacity:1; fill:none\" points=\"\n",
       "  148.057,917.183 166.954,917.183 \n",
       "  \"/>\n",
       "<polyline clip-path=\"url(#clip630)\" style=\"stroke:#000000; stroke-linecap:butt; stroke-linejoin:round; stroke-width:4; stroke-opacity:1; fill:none\" points=\"\n",
       "  148.057,714.295 166.954,714.295 \n",
       "  \"/>\n",
       "<polyline clip-path=\"url(#clip630)\" style=\"stroke:#000000; stroke-linecap:butt; stroke-linejoin:round; stroke-width:4; stroke-opacity:1; fill:none\" points=\"\n",
       "  148.057,511.406 166.954,511.406 \n",
       "  \"/>\n",
       "<polyline clip-path=\"url(#clip630)\" style=\"stroke:#000000; stroke-linecap:butt; stroke-linejoin:round; stroke-width:4; stroke-opacity:1; fill:none\" points=\"\n",
       "  148.057,308.518 166.954,308.518 \n",
       "  \"/>\n",
       "<polyline clip-path=\"url(#clip630)\" style=\"stroke:#000000; stroke-linecap:butt; stroke-linejoin:round; stroke-width:4; stroke-opacity:1; fill:none\" points=\"\n",
       "  148.057,105.63 166.954,105.63 \n",
       "  \"/>\n",
       "<path clip-path=\"url(#clip630)\" d=\"M50.9921 1323.41 L80.6679 1323.41 L80.6679 1327.35 L50.9921 1327.35 L50.9921 1323.41 Z\" fill=\"#000000\" fill-rule=\"evenodd\" fill-opacity=\"1\" /><path clip-path=\"url(#clip630)\" d=\"M104.927 1321.6 Q108.283 1322.32 110.158 1324.59 Q112.057 1326.86 112.057 1330.19 Q112.057 1335.31 108.538 1338.11 Q105.02 1340.91 98.5382 1340.91 Q96.3623 1340.91 94.0475 1340.47 Q91.7558 1340.05 89.3021 1339.2 L89.3021 1334.68 Q91.2465 1335.82 93.5613 1336.4 Q95.8761 1336.97 98.3993 1336.97 Q102.797 1336.97 105.089 1335.24 Q107.404 1333.5 107.404 1330.19 Q107.404 1327.14 105.251 1325.42 Q103.121 1323.69 99.3021 1323.69 L95.2743 1323.69 L95.2743 1319.85 L99.4872 1319.85 Q102.936 1319.85 104.765 1318.48 Q106.594 1317.09 106.594 1314.5 Q106.594 1311.84 104.696 1310.42 Q102.821 1308.99 99.3021 1308.99 Q97.3808 1308.99 95.1817 1309.41 Q92.9826 1309.82 90.3438 1310.7 L90.3438 1306.54 Q93.0058 1305.79 95.3206 1305.42 Q97.6585 1305.05 99.7187 1305.05 Q105.043 1305.05 108.145 1307.48 Q111.246 1309.89 111.246 1314.01 Q111.246 1316.88 109.603 1318.87 Q107.959 1320.84 104.927 1321.6 Z\" fill=\"#000000\" fill-rule=\"evenodd\" fill-opacity=\"1\" /><path clip-path=\"url(#clip630)\" d=\"M51.9412 1120.52 L81.617 1120.52 L81.617 1124.46 L51.9412 1124.46 L51.9412 1120.52 Z\" fill=\"#000000\" fill-rule=\"evenodd\" fill-opacity=\"1\" /><path clip-path=\"url(#clip630)\" d=\"M95.7373 1133.42 L112.057 1133.42 L112.057 1137.35 L90.1123 1137.35 L90.1123 1133.42 Q92.7743 1130.66 97.3576 1126.03 Q101.964 1121.38 103.145 1120.04 Q105.39 1117.51 106.27 1115.78 Q107.172 1114.02 107.172 1112.33 Q107.172 1109.57 105.228 1107.84 Q103.307 1106.1 100.205 1106.1 Q98.0058 1106.1 95.5521 1106.86 Q93.1215 1107.63 90.3438 1109.18 L90.3438 1104.46 Q93.1678 1103.32 95.6215 1102.74 Q98.0752 1102.17 100.112 1102.17 Q105.483 1102.17 108.677 1104.85 Q111.871 1107.54 111.871 1112.03 Q111.871 1114.16 111.061 1116.08 Q110.274 1117.98 108.168 1120.57 Q107.589 1121.24 104.487 1124.46 Q101.385 1127.65 95.7373 1133.42 Z\" fill=\"#000000\" fill-rule=\"evenodd\" fill-opacity=\"1\" /><path clip-path=\"url(#clip630)\" d=\"M51.5708 917.634 L81.2466 917.634 L81.2466 921.569 L51.5708 921.569 L51.5708 917.634 Z\" fill=\"#000000\" fill-rule=\"evenodd\" fill-opacity=\"1\" /><path clip-path=\"url(#clip630)\" d=\"M92.1493 930.527 L99.7882 930.527 L99.7882 904.162 L91.478 905.829 L91.478 901.569 L99.7419 899.903 L104.418 899.903 L104.418 930.527 L112.057 930.527 L112.057 934.463 L92.1493 934.463 L92.1493 930.527 Z\" fill=\"#000000\" fill-rule=\"evenodd\" fill-opacity=\"1\" /><path clip-path=\"url(#clip630)\" d=\"M100.112 700.093 Q96.5011 700.093 94.6724 703.658 Q92.8669 707.2 92.8669 714.329 Q92.8669 721.436 94.6724 725 Q96.5011 728.542 100.112 728.542 Q103.746 728.542 105.552 725 Q107.381 721.436 107.381 714.329 Q107.381 707.2 105.552 703.658 Q103.746 700.093 100.112 700.093 M100.112 696.39 Q105.922 696.39 108.978 700.996 Q112.057 705.579 112.057 714.329 Q112.057 723.056 108.978 727.663 Q105.922 732.246 100.112 732.246 Q94.3021 732.246 91.2234 727.663 Q88.1679 723.056 88.1679 714.329 Q88.1679 705.579 91.2234 700.996 Q94.3021 696.39 100.112 696.39 Z\" fill=\"#000000\" fill-rule=\"evenodd\" fill-opacity=\"1\" /><path clip-path=\"url(#clip630)\" d=\"M92.1493 524.751 L99.7882 524.751 L99.7882 498.386 L91.478 500.052 L91.478 495.793 L99.7419 494.126 L104.418 494.126 L104.418 524.751 L112.057 524.751 L112.057 528.686 L92.1493 528.686 L92.1493 524.751 Z\" fill=\"#000000\" fill-rule=\"evenodd\" fill-opacity=\"1\" /><path clip-path=\"url(#clip630)\" d=\"M95.7373 321.863 L112.057 321.863 L112.057 325.798 L90.1123 325.798 L90.1123 321.863 Q92.7743 319.109 97.3576 314.479 Q101.964 309.826 103.145 308.484 Q105.39 305.96 106.27 304.224 Q107.172 302.465 107.172 300.775 Q107.172 298.021 105.228 296.285 Q103.307 294.549 100.205 294.549 Q98.0058 294.549 95.5521 295.312 Q93.1215 296.076 90.3438 297.627 L90.3438 292.905 Q93.1678 291.771 95.6215 291.192 Q98.0752 290.613 100.112 290.613 Q105.483 290.613 108.677 293.299 Q111.871 295.984 111.871 300.474 Q111.871 302.604 111.061 304.525 Q110.274 306.423 108.168 309.016 Q107.589 309.687 104.487 312.905 Q101.385 316.099 95.7373 321.863 Z\" fill=\"#000000\" fill-rule=\"evenodd\" fill-opacity=\"1\" /><path clip-path=\"url(#clip630)\" d=\"M104.927 104.276 Q108.283 104.994 110.158 107.262 Q112.057 109.531 112.057 112.864 Q112.057 117.98 108.538 120.781 Q105.02 123.582 98.5382 123.582 Q96.3623 123.582 94.0475 123.142 Q91.7558 122.725 89.3021 121.869 L89.3021 117.355 Q91.2465 118.489 93.5613 119.068 Q95.8761 119.646 98.3993 119.646 Q102.797 119.646 105.089 117.91 Q107.404 116.174 107.404 112.864 Q107.404 109.808 105.251 108.096 Q103.121 106.359 99.3021 106.359 L95.2743 106.359 L95.2743 102.517 L99.4872 102.517 Q102.936 102.517 104.765 101.151 Q106.594 99.7622 106.594 97.1697 Q106.594 94.5076 104.696 93.0956 Q102.821 91.6604 99.3021 91.6604 Q97.3808 91.6604 95.1817 92.0771 Q92.9826 92.4938 90.3438 93.3734 L90.3438 89.2067 Q93.0058 88.466 95.3206 88.0956 Q97.6585 87.7253 99.7187 87.7253 Q105.043 87.7253 108.145 90.1558 Q111.246 92.5632 111.246 96.6836 Q111.246 99.5539 109.603 101.545 Q107.959 103.512 104.927 104.276 Z\" fill=\"#000000\" fill-rule=\"evenodd\" fill-opacity=\"1\" /><polyline clip-path=\"url(#clip632)\" style=\"stroke:#009af9; stroke-linecap:butt; stroke-linejoin:round; stroke-width:4; stroke-opacity:1; fill:none\" points=\"\n",
       "  210.454,1445.72 252.901,851.117 295.348,452.43 337.795,214.439 380.242,103.398 422.689,87.9763 465.136,140.05 507.583,235.264 550.03,353.344 592.477,478.173 \n",
       "  634.924,597.647 677.371,703.364 719.818,790.182 762.265,855.703 804.712,899.721 847.159,923.667 889.606,930.101 932.053,922.248 974.5,903.607 1016.95,877.645 \n",
       "  1059.39,847.562 1101.84,816.128 1144.29,785.599 1186.74,757.675 1229.18,733.518 1271.63,713.79 1314.08,698.724 1356.52,688.205 1398.97,681.855 1441.42,679.115 \n",
       "  1483.86,679.326 1526.31,681.788 1568.76,685.818 1611.21,690.791 1653.65,696.163 1696.1,701.491 1738.55,706.436 1780.99,710.763 1823.44,714.332 1865.89,717.083 \n",
       "  1908.34,719.024 1950.78,720.214 1993.23,720.748 2035.68,720.742 2078.12,720.318 2120.57,719.601 2163.02,718.703 2205.46,717.726 2247.91,716.749 2290.36,715.838 \n",
       "  \n",
       "  \"/>\n",
       "<polyline clip-path=\"url(#clip632)\" style=\"stroke:#e26f46; stroke-linecap:butt; stroke-linejoin:round; stroke-width:4; stroke-opacity:1; fill:none\" points=\"\n",
       "  210.454,697.557 252.901,696.34 295.348,696.462 337.795,697.16 380.242,697.968 422.689,698.65 465.136,699.137 507.583,699.469 550.03,699.74 592.477,700.068 \n",
       "  634.924,700.559 677.371,701.291 719.818,702.305 762.265,703.602 804.712,705.148 847.159,706.879 889.606,708.714 932.053,710.562 974.5,712.333 1016.95,713.947 \n",
       "  1059.39,715.339 1101.84,716.463 1144.29,717.292 1186.74,717.822 1229.18,718.067 1271.63,718.054 1314.08,717.824 1356.52,717.426 1398.97,716.909 1441.42,716.323 \n",
       "  1483.86,715.716 1526.31,715.127 1568.76,714.589 1611.21,714.126 1653.65,713.754 1696.1,713.478 1738.55,713.3 1780.99,713.213 1823.44,713.205 1865.89,713.264 \n",
       "  1908.34,713.374 1950.78,713.519 1993.23,713.683 2035.68,713.853 2078.12,714.018 2120.57,714.168 2163.02,714.297 2205.46,714.401 2247.91,714.479 2290.36,714.53 \n",
       "  \n",
       "  \"/>\n",
       "<polyline clip-path=\"url(#clip632)\" style=\"stroke:#3da44d; stroke-linecap:butt; stroke-linejoin:round; stroke-width:4; stroke-opacity:1; fill:none\" points=\"\n",
       "  210.454,710.746 252.901,711.775 295.348,712.642 337.795,713.349 380.242,713.904 422.689,714.317 465.136,714.605 507.583,714.783 550.03,714.87 592.477,714.884 \n",
       "  634.924,714.843 677.371,714.763 719.818,714.66 762.265,714.545 804.712,714.429 847.159,714.322 889.606,714.228 932.053,714.152 974.5,714.097 1016.95,714.061 \n",
       "  1059.39,714.046 1101.84,714.048 1144.29,714.065 1186.74,714.093 1229.18,714.13 1271.63,714.171 1314.08,714.214 1356.52,714.255 1398.97,714.292 1441.42,714.324 \n",
       "  1483.86,714.35 1526.31,714.368 1568.76,714.379 1611.21,714.384 1653.65,714.382 1696.1,714.376 1738.55,714.366 1780.99,714.353 1823.44,714.338 1865.89,714.324 \n",
       "  1908.34,714.31 1950.78,714.297 1993.23,714.287 2035.68,714.278 2078.12,714.272 2120.57,714.268 2163.02,714.267 2205.46,714.267 2247.91,714.269 2290.36,714.272 \n",
       "  \n",
       "  \"/>\n",
       "<polyline clip-path=\"url(#clip632)\" style=\"stroke:#c271d2; stroke-linecap:butt; stroke-linejoin:round; stroke-width:4; stroke-opacity:1; fill:none\" points=\"\n",
       "  210.454,714.341 252.901,714.333 295.348,714.323 337.795,714.313 380.242,714.303 422.689,714.296 465.136,714.29 507.583,714.286 550.03,714.285 592.477,714.285 \n",
       "  634.924,714.287 677.371,714.289 719.818,714.292 762.265,714.295 804.712,714.298 847.159,714.301 889.606,714.303 932.053,714.304 974.5,714.304 1016.95,714.304 \n",
       "  1059.39,714.303 1101.84,714.302 1144.29,714.3 1186.74,714.298 1229.18,714.296 1271.63,714.295 1314.08,714.293 1356.52,714.292 1398.97,714.291 1441.42,714.29 \n",
       "  1483.86,714.29 1526.31,714.29 1568.76,714.291 1611.21,714.291 1653.65,714.292 1696.1,714.293 1738.55,714.293 1780.99,714.294 1823.44,714.295 1865.89,714.295 \n",
       "  1908.34,714.296 1950.78,714.296 1993.23,714.296 2035.68,714.296 2078.12,714.296 2120.57,714.296 2163.02,714.296 2205.46,714.295 2247.91,714.295 2290.36,714.295 \n",
       "  \n",
       "  \"/>\n",
       "<path clip-path=\"url(#clip630)\" d=\"\n",
       "M1980.16 354.418 L2279.27 354.418 L2279.27 95.2176 L1980.16 95.2176  Z\n",
       "  \" fill=\"#ffffff\" fill-rule=\"evenodd\" fill-opacity=\"1\"/>\n",
       "<polyline clip-path=\"url(#clip630)\" style=\"stroke:#000000; stroke-linecap:butt; stroke-linejoin:round; stroke-width:4; stroke-opacity:1; fill:none\" points=\"\n",
       "  1980.16,354.418 2279.27,354.418 2279.27,95.2176 1980.16,95.2176 1980.16,354.418 \n",
       "  \"/>\n",
       "<polyline clip-path=\"url(#clip630)\" style=\"stroke:#009af9; stroke-linecap:butt; stroke-linejoin:round; stroke-width:4; stroke-opacity:1; fill:none\" points=\"\n",
       "  2004.65,147.058 2151.63,147.058 \n",
       "  \"/>\n",
       "<path clip-path=\"url(#clip630)\" d=\"M2189.97 166.745 Q2188.17 171.375 2186.45 172.787 Q2184.74 174.199 2181.87 174.199 L2178.47 174.199 L2178.47 170.634 L2180.97 170.634 Q2182.73 170.634 2183.7 169.8 Q2184.67 168.967 2185.85 165.865 L2186.62 163.921 L2176.13 138.412 L2180.64 138.412 L2188.75 158.689 L2196.85 138.412 L2201.36 138.412 L2189.97 166.745 Z\" fill=\"#000000\" fill-rule=\"evenodd\" fill-opacity=\"1\" /><path clip-path=\"url(#clip630)\" d=\"M2208.65 160.402 L2216.29 160.402 L2216.29 134.037 L2207.98 135.703 L2207.98 131.444 L2216.24 129.778 L2220.92 129.778 L2220.92 160.402 L2228.56 160.402 L2228.56 164.338 L2208.65 164.338 L2208.65 160.402 Z\" fill=\"#000000\" fill-rule=\"evenodd\" fill-opacity=\"1\" /><polyline clip-path=\"url(#clip630)\" style=\"stroke:#e26f46; stroke-linecap:butt; stroke-linejoin:round; stroke-width:4; stroke-opacity:1; fill:none\" points=\"\n",
       "  2004.65,198.898 2151.63,198.898 \n",
       "  \"/>\n",
       "<path clip-path=\"url(#clip630)\" d=\"M2189.97 218.585 Q2188.17 223.215 2186.45 224.627 Q2184.74 226.039 2181.87 226.039 L2178.47 226.039 L2178.47 222.474 L2180.97 222.474 Q2182.73 222.474 2183.7 221.64 Q2184.67 220.807 2185.85 217.705 L2186.62 215.761 L2176.13 190.252 L2180.64 190.252 L2188.75 210.529 L2196.85 190.252 L2201.36 190.252 L2189.97 218.585 Z\" fill=\"#000000\" fill-rule=\"evenodd\" fill-opacity=\"1\" /><path clip-path=\"url(#clip630)\" d=\"M2211.87 212.242 L2228.19 212.242 L2228.19 216.178 L2206.24 216.178 L2206.24 212.242 Q2208.91 209.488 2213.49 204.858 Q2218.1 200.205 2219.28 198.863 Q2221.52 196.34 2222.4 194.604 Q2223.31 192.844 2223.31 191.155 Q2223.31 188.4 2221.36 186.664 Q2219.44 184.928 2216.34 184.928 Q2214.14 184.928 2211.68 185.692 Q2209.25 186.455 2206.48 188.006 L2206.48 183.284 Q2209.3 182.15 2211.75 181.571 Q2214.21 180.993 2216.24 180.993 Q2221.62 180.993 2224.81 183.678 Q2228 186.363 2228 190.854 Q2228 192.983 2227.19 194.905 Q2226.41 196.803 2224.3 199.395 Q2223.72 200.067 2220.62 203.284 Q2217.52 206.479 2211.87 212.242 Z\" fill=\"#000000\" fill-rule=\"evenodd\" fill-opacity=\"1\" /><polyline clip-path=\"url(#clip630)\" style=\"stroke:#3da44d; stroke-linecap:butt; stroke-linejoin:round; stroke-width:4; stroke-opacity:1; fill:none\" points=\"\n",
       "  2004.65,250.738 2151.63,250.738 \n",
       "  \"/>\n",
       "<path clip-path=\"url(#clip630)\" d=\"M2189.97 270.425 Q2188.17 275.055 2186.45 276.467 Q2184.74 277.879 2181.87 277.879 L2178.47 277.879 L2178.47 274.314 L2180.97 274.314 Q2182.73 274.314 2183.7 273.48 Q2184.67 272.647 2185.85 269.545 L2186.62 267.601 L2176.13 242.092 L2180.64 242.092 L2188.75 262.369 L2196.85 242.092 L2201.36 242.092 L2189.97 270.425 Z\" fill=\"#000000\" fill-rule=\"evenodd\" fill-opacity=\"1\" /><path clip-path=\"url(#clip630)\" d=\"M2222.01 249.383 Q2225.37 250.101 2227.24 252.369 Q2229.14 254.638 2229.14 257.971 Q2229.14 263.087 2225.62 265.888 Q2222.1 268.689 2215.62 268.689 Q2213.44 268.689 2211.13 268.249 Q2208.84 267.832 2206.38 266.976 L2206.38 262.462 Q2208.33 263.596 2210.64 264.175 Q2212.96 264.754 2215.48 264.754 Q2219.88 264.754 2222.17 263.018 Q2224.49 261.281 2224.49 257.971 Q2224.49 254.916 2222.33 253.203 Q2220.2 251.467 2216.38 251.467 L2212.36 251.467 L2212.36 247.624 L2216.57 247.624 Q2220.02 247.624 2221.85 246.258 Q2223.68 244.87 2223.68 242.277 Q2223.68 239.615 2221.78 238.203 Q2219.9 236.768 2216.38 236.768 Q2214.46 236.768 2212.26 237.184 Q2210.06 237.601 2207.43 238.481 L2207.43 234.314 Q2210.09 233.573 2212.4 233.203 Q2214.74 232.833 2216.8 232.833 Q2222.12 232.833 2225.23 235.263 Q2228.33 237.67 2228.33 241.791 Q2228.33 244.661 2226.68 246.652 Q2225.04 248.62 2222.01 249.383 Z\" fill=\"#000000\" fill-rule=\"evenodd\" fill-opacity=\"1\" /><polyline clip-path=\"url(#clip630)\" style=\"stroke:#c271d2; stroke-linecap:butt; stroke-linejoin:round; stroke-width:4; stroke-opacity:1; fill:none\" points=\"\n",
       "  2004.65,302.578 2151.63,302.578 \n",
       "  \"/>\n",
       "<path clip-path=\"url(#clip630)\" d=\"M2189.97 322.265 Q2188.17 326.895 2186.45 328.307 Q2184.74 329.719 2181.87 329.719 L2178.47 329.719 L2178.47 326.154 L2180.97 326.154 Q2182.73 326.154 2183.7 325.32 Q2184.67 324.487 2185.85 321.385 L2186.62 319.441 L2176.13 293.932 L2180.64 293.932 L2188.75 314.209 L2196.85 293.932 L2201.36 293.932 L2189.97 322.265 Z\" fill=\"#000000\" fill-rule=\"evenodd\" fill-opacity=\"1\" /><path clip-path=\"url(#clip630)\" d=\"M2220.69 289.372 L2208.88 307.821 L2220.69 307.821 L2220.69 289.372 M2219.46 285.298 L2225.34 285.298 L2225.34 307.821 L2230.27 307.821 L2230.27 311.709 L2225.34 311.709 L2225.34 319.858 L2220.69 319.858 L2220.69 311.709 L2205.09 311.709 L2205.09 307.196 L2219.46 285.298 Z\" fill=\"#000000\" fill-rule=\"evenodd\" fill-opacity=\"1\" /></svg>\n"
      ]
     },
     "execution_count": 55,
     "metadata": {},
     "output_type": "execute_result"
    }
   ],
   "source": [
    "plot(u_hist')"
   ]
  },
  {
   "cell_type": "code",
   "execution_count": 30,
   "id": "e944dd50",
   "metadata": {},
   "outputs": [
    {
     "ename": "LoadError",
     "evalue": "UndefVarError: savefig not defined",
     "output_type": "error",
     "traceback": [
      "UndefVarError: savefig not defined",
      "",
      "Stacktrace:",
      " [1] top-level scope",
      "   @ In[30]:1",
      " [2] eval",
      "   @ .\\boot.jl:360 [inlined]",
      " [3] include_string(mapexpr::typeof(REPL.softscope), mod::Module, code::String, filename::String)",
      "   @ Base .\\loading.jl:1116"
     ]
    }
   ],
   "source": [
    "savefig(\"reshapeU\")"
   ]
  },
  {
   "cell_type": "code",
   "execution_count": 31,
   "id": "f7b9cee3",
   "metadata": {},
   "outputs": [
    {
     "ename": "LoadError",
     "evalue": "UndefVarError: plot not defined",
     "output_type": "error",
     "traceback": [
      "UndefVarError: plot not defined",
      "",
      "Stacktrace:",
      " [1] top-level scope",
      "   @ In[31]:1",
      " [2] eval",
      "   @ .\\boot.jl:360 [inlined]",
      " [3] include_string(mapexpr::typeof(REPL.softscope), mod::Module, code::String, filename::String)",
      "   @ Base .\\loading.jl:1116"
     ]
    }
   ],
   "source": [
    "plot(zpos_plan_last')"
   ]
  },
  {
   "cell_type": "code",
   "execution_count": 32,
   "id": "97d3ca33",
   "metadata": {},
   "outputs": [
    {
     "ename": "LoadError",
     "evalue": "UndefVarError: plot not defined",
     "output_type": "error",
     "traceback": [
      "UndefVarError: plot not defined",
      "",
      "Stacktrace:",
      " [1] top-level scope",
      "   @ In[32]:1",
      " [2] eval",
      "   @ .\\boot.jl:360 [inlined]",
      " [3] include_string(mapexpr::typeof(REPL.softscope), mod::Module, code::String, filename::String)",
      "   @ Base .\\loading.jl:1116"
     ]
    }
   ],
   "source": [
    "plot(u_plan_last')"
   ]
  },
  {
   "cell_type": "code",
   "execution_count": 33,
   "id": "73de4d47",
   "metadata": {},
   "outputs": [
    {
     "data": {
      "text/plain": [
       "([-0.007808246744595793 -0.02701365870312771 … 0.04634616456106385 0.06434271200344197; -4.845713168491082e-5 -7.898293048634436e-5 … -0.002155062741028731 -0.002302433771529471; … ; 0.0 -8.168636921786013e-5 … 0.0001740437790697176 0.0001859104687947624; 0.0 1.955482288393876e-6 … -3.4501688454324726e-6 -1.5370547566535254e-6], [-3.605047389070576 -0.7245502288421248 … -0.01414712749282668 -0.004117926280773509; 0.08249482008269217 0.09154442583415569 … 0.0025373320222750097 0.0005553830844224487; 0.017488793069547898 0.01237173759197311 … -9.013003195229971e-5 -1.849218631881316e-5; -0.00022667898381020562 -0.00018979521290903 … 9.073334818260254e-7 1.5058815122864507e-7], [-1.0 -0.9729863412968722 … 0.02315565869299915 -0.04118705331044281; 0.0 7.898293048634436e-5 … 0.0032601450077560474 0.005562578779285518; 0.0 8.168636921786013e-5 … -0.0001740437790697176 -0.0001859104687947624; 0.0 -1.955482288393876e-6 … 3.4501688454324726e-6 1.5370547566535254e-6])"
      ]
     },
     "execution_count": 33,
     "metadata": {},
     "output_type": "execute_result"
    }
   ],
   "source": [
    "z_plan, Δu_plan, e_plan = mpc_emo(zpos[:,1])"
   ]
  },
  {
   "cell_type": "code",
   "execution_count": 34,
   "id": "0f0783da",
   "metadata": {},
   "outputs": [
    {
     "ename": "LoadError",
     "evalue": "UndefVarError: plot not defined",
     "output_type": "error",
     "traceback": [
      "UndefVarError: plot not defined",
      "",
      "Stacktrace:",
      " [1] top-level scope",
      "   @ In[34]:1",
      " [2] eval",
      "   @ .\\boot.jl:360 [inlined]",
      " [3] include_string(mapexpr::typeof(REPL.softscope), mod::Module, code::String, filename::String)",
      "   @ Base .\\loading.jl:1116"
     ]
    }
   ],
   "source": [
    "plot(z_plan')"
   ]
  },
  {
   "cell_type": "code",
   "execution_count": 35,
   "id": "ce63c9a8",
   "metadata": {},
   "outputs": [
    {
     "ename": "LoadError",
     "evalue": "UndefVarError: plot not defined",
     "output_type": "error",
     "traceback": [
      "UndefVarError: plot not defined",
      "",
      "Stacktrace:",
      " [1] top-level scope",
      "   @ In[35]:1",
      " [2] eval",
      "   @ .\\boot.jl:360 [inlined]",
      " [3] include_string(mapexpr::typeof(REPL.softscope), mod::Module, code::String, filename::String)",
      "   @ Base .\\loading.jl:1116"
     ]
    }
   ],
   "source": [
    "plot(Δu_plan')"
   ]
  },
  {
   "cell_type": "code",
   "execution_count": 36,
   "id": "9b16920f",
   "metadata": {},
   "outputs": [
    {
     "data": {
      "text/plain": [
       "4×19 Matrix{Float64}:\n",
       " -3.60505      -0.72455       1.19444      …  -0.0141471   -0.00411793\n",
       "  0.0824948     0.0915444     0.0927889        0.00253733   0.000555383\n",
       "  0.0174888     0.0123717     0.00807268      -9.013e-5    -1.84922e-5\n",
       " -0.000226679  -0.000189795  -0.000142612      9.07333e-7   1.50588e-7"
      ]
     },
     "execution_count": 36,
     "metadata": {},
     "output_type": "execute_result"
    }
   ],
   "source": [
    "Δu_plan"
   ]
  },
  {
   "cell_type": "code",
   "execution_count": 37,
   "id": "5f81dd1f",
   "metadata": {},
   "outputs": [
    {
     "data": {
      "text/plain": [
       "12-element Vector{Float64}:\n",
       " -0.02701365870312771\n",
       " -7.898293048634437e-5\n",
       " -8.168636921786012e-5\n",
       "  1.955482288393876e-6\n",
       " -0.227905251416188\n",
       "  0.00032046094115015765\n",
       " -0.00031066425055287564\n",
       "  9.09852327133495e-6\n",
       "  0.9729863412968722\n",
       " -7.898293048634437e-5\n",
       " -8.168636921786012e-5\n",
       "  1.955482288393876e-6"
      ]
     },
     "execution_count": 37,
     "metadata": {},
     "output_type": "execute_result"
    }
   ],
   "source": [
    "zpos = mech_osc_mmpc(z_plan[:,1], Δu_plan[:,1])"
   ]
  },
  {
   "cell_type": "code",
   "execution_count": 38,
   "id": "4b03cd29",
   "metadata": {},
   "outputs": [
    {
     "data": {
      "text/plain": [
       "([-0.02701365870312771 -0.05044389789535034 … 0.05350531865509406 0.06955914555239856; -7.898293048634437e-5 6.866090209064039e-6 … -0.0017203884383921633 -0.0016897217700879979; … ; -8.168636921786012e-5 -0.00018189531456670708 … 0.00014596828340697606 0.00012503763624686792; 1.955482288393876e-6 4.5404486062974976e-6 … -2.300674244226832e-6 2.5875524450182904e-7], [-0.6743728760148606 1.22638032967654 … -0.02935147774339823 -0.007264345519477822; 0.0884928930031862 0.09035623537307612 … 0.0023138851550464435 0.0004996372149114496; 0.012420541549657643 0.008137286419868755 … -6.315563488675356e-5 -1.241620099998256e-5; -0.0001882019347346213 -0.00014242125348521367 … 9.120590240113958e-8 -2.7949193315969434e-8], [-0.9729863412968722 -0.9225424434015218 … -0.003097252287499156 -0.07265639783989772; 7.898293048634437e-5 7.211684027728033e-5 … 0.0033204479136874224 0.005010169683775421; 8.168636921786012e-5 0.00018189531456670708 … -0.00014596828340697606 -0.00012503763624686792; -1.955482288393876e-6 -4.5404486062974976e-6 … 2.300674244226832e-6 -2.5875524450182904e-7])"
      ]
     },
     "execution_count": 38,
     "metadata": {},
     "output_type": "execute_result"
    }
   ],
   "source": [
    "z_plan, Δu_plan, e_plan = mpc_emo(zpos)"
   ]
  },
  {
   "cell_type": "code",
   "execution_count": 39,
   "id": "0950de20",
   "metadata": {},
   "outputs": [
    {
     "ename": "LoadError",
     "evalue": "UndefVarError: plot not defined",
     "output_type": "error",
     "traceback": [
      "UndefVarError: plot not defined",
      "",
      "Stacktrace:",
      " [1] top-level scope",
      "   @ In[39]:1",
      " [2] eval",
      "   @ .\\boot.jl:360 [inlined]",
      " [3] include_string(mapexpr::typeof(REPL.softscope), mod::Module, code::String, filename::String)",
      "   @ Base .\\loading.jl:1116"
     ]
    }
   ],
   "source": [
    "plot(z_plan')"
   ]
  },
  {
   "cell_type": "code",
   "execution_count": 40,
   "id": "df813f76",
   "metadata": {},
   "outputs": [
    {
     "data": {
      "text/plain": [
       "4×19 Matrix{Float64}:\n",
       " -0.674373      1.22638       2.35129     …  -0.0293515   -0.00726435\n",
       "  0.0884929     0.0903562     0.0884908       0.00231389   0.000499637\n",
       "  0.0124205     0.00813729    0.00465052     -6.31556e-5  -1.24162e-5\n",
       " -0.000188202  -0.000142421  -9.40284e-5      9.12059e-8  -2.79492e-8"
      ]
     },
     "execution_count": 40,
     "metadata": {},
     "output_type": "execute_result"
    }
   ],
   "source": [
    "Δu_plan"
   ]
  },
  {
   "cell_type": "code",
   "execution_count": 41,
   "id": "44c97ec9",
   "metadata": {},
   "outputs": [
    {
     "data": {
      "text/plain": [
       "([-0.05044389789535034 -0.07315703004649919 … 0.05566833005229828 0.06925686630294428; 6.866090209064026e-6 0.00016808240428060499 … -0.001254248718072248 -0.0010767261622289216; … ; -0.00018189531456670708 -0.00027963499288180196 … 0.00011273887078744512 6.521266896376531e-5; 4.5404486062974976e-6 7.224610913470192e-6 … -1.0643843120040852e-6 1.895961874765027e-6], [1.290685366231178 2.3922053492594113 … -0.039596431814127316 -0.009308082896155546; 0.08789215463161848 0.08630699169922953 … 0.0020196189499348265 0.0004292876924656399; 0.00814609722424302 0.004685152748404027 … -3.6125639136040436e-5 -6.447417123638826e-6; -0.00014008511589073199 -9.296661538897837e-5 … -6.704045762113708e-7 -1.906464686294333e-7], [-0.9225424434015218 -0.8493854133550226 … -0.023840194928695515 -0.09309706123163979; 7.211684027728034e-5 -9.596556400332464e-5 … 0.0032331110274054125 0.004309837189634334; 0.00018189531456670708 0.00027963499288180196 … -0.00011273887078744512 -6.521266896376531e-5; -4.5404486062974976e-6 -7.224610913470192e-6 … 1.0643843120040852e-6 -1.895961874765027e-6])"
      ]
     },
     "execution_count": 41,
     "metadata": {},
     "output_type": "execute_result"
    }
   ],
   "source": [
    "zpos = mech_osc_mmpc(z_plan[:,1], Δu_plan[:,1])\n",
    "z_plan, Δu_plan, e_plan = mpc_emo(zpos)"
   ]
  },
  {
   "cell_type": "code",
   "execution_count": 42,
   "id": "5401bf61",
   "metadata": {},
   "outputs": [
    {
     "ename": "LoadError",
     "evalue": "UndefVarError: plot not defined",
     "output_type": "error",
     "traceback": [
      "UndefVarError: plot not defined",
      "",
      "Stacktrace:",
      " [1] top-level scope",
      "   @ In[42]:1",
      " [2] eval",
      "   @ .\\boot.jl:360 [inlined]",
      " [3] include_string(mapexpr::typeof(REPL.softscope), mod::Module, code::String, filename::String)",
      "   @ Base .\\loading.jl:1116"
     ]
    }
   ],
   "source": [
    "plot(z_plan')"
   ]
  },
  {
   "cell_type": "code",
   "execution_count": 43,
   "id": "0b15eaae",
   "metadata": {},
   "outputs": [
    {
     "ename": "LoadError",
     "evalue": "UndefVarError: plot not defined",
     "output_type": "error",
     "traceback": [
      "UndefVarError: plot not defined",
      "",
      "Stacktrace:",
      " [1] top-level scope",
      "   @ In[43]:1",
      " [2] eval",
      "   @ .\\boot.jl:360 [inlined]",
      " [3] include_string(mapexpr::typeof(REPL.softscope), mod::Module, code::String, filename::String)",
      "   @ Base .\\loading.jl:1116"
     ]
    }
   ],
   "source": [
    "plot(Δu_plan')"
   ]
  },
  {
   "cell_type": "code",
   "execution_count": 44,
   "id": "574090cd",
   "metadata": {},
   "outputs": [
    {
     "data": {
      "text/plain": [
       "([-0.07315703004649919 -0.09196977229286185 … 0.05381165915211226 0.06467461927911922; 0.00016808240428060499 0.0003551067548083973 … -0.0007827906354081947 -0.000492279493297981; … ; -0.00027963499288180196 -0.00036136787562236343 … 7.744196958157505e-5 1.0281333788395709e-5; 7.224610913470192e-6 9.579280883986967e-6 … 1.3755764397348294e-7 3.2495859579770554e-6], [2.463700206271992 2.938245866104135 … -0.04525142002053763 -0.010347836071140808; 0.08445383893691044 0.08171544230677406 … 0.0016696627007001508 0.0003479752275836047; 0.004659286775047585 0.0019792448101648447 … -1.0875001915303992e-5 -9.696726436274725e-7; -9.008349778765018e-5 -4.719329340137964e-5 … -1.3165008312506647e-6 -3.2507188249766974e-7], [-0.8493854133550226 -0.7574156410621607 … -0.03882157140863322 -0.10349619068775243; -9.596556400332464e-5 -0.00045107231881172193 … 0.003005886233342526 0.003498165726640507; 0.00027963499288180196 0.00036136787562236343 … -7.744196958157505e-5 -1.0281333788395709e-5; -7.224610913470192e-6 -9.579280883986967e-6 … -1.3755764397348294e-7 -3.2495859579770554e-6])"
      ]
     },
     "execution_count": 44,
     "metadata": {},
     "output_type": "execute_result"
    }
   ],
   "source": [
    "zpos = mech_osc_mmpc(z_plan[:,1], Δu_plan[:,1])\n",
    "z_plan, Δu_plan, e_plan = mpc_emo(zpos)"
   ]
  },
  {
   "cell_type": "code",
   "execution_count": 45,
   "id": "332f434e",
   "metadata": {},
   "outputs": [
    {
     "ename": "LoadError",
     "evalue": "UndefVarError: plot not defined",
     "output_type": "error",
     "traceback": [
      "UndefVarError: plot not defined",
      "",
      "Stacktrace:",
      " [1] top-level scope",
      "   @ In[45]:1",
      " [2] eval",
      "   @ .\\boot.jl:360 [inlined]",
      " [3] include_string(mapexpr::typeof(REPL.softscope), mod::Module, code::String, filename::String)",
      "   @ Base .\\loading.jl:1116"
     ]
    }
   ],
   "source": [
    "plot(z_plan')"
   ]
  },
  {
   "cell_type": "code",
   "execution_count": 46,
   "id": "73d35441",
   "metadata": {},
   "outputs": [
    {
     "ename": "LoadError",
     "evalue": "UndefVarError: plot not defined",
     "output_type": "error",
     "traceback": [
      "UndefVarError: plot not defined",
      "",
      "Stacktrace:",
      " [1] top-level scope",
      "   @ In[46]:1",
      " [2] eval",
      "   @ .\\boot.jl:360 [inlined]",
      " [3] include_string(mapexpr::typeof(REPL.softscope), mod::Module, code::String, filename::String)",
      "   @ Base .\\loading.jl:1116"
     ]
    }
   ],
   "source": [
    "plot(Δu_plan')"
   ]
  },
  {
   "cell_type": "code",
   "execution_count": 47,
   "id": "eeece26a",
   "metadata": {},
   "outputs": [
    {
     "data": {
      "text/plain": [
       "([-0.09196977229286185 -0.10512410754863662 … 0.048955664923483036 0.05705599424287074; 0.0003551067548083973 0.0005224856584724447 … -0.00033122745602878176 3.7801777964237484e-5; … ; -0.00036136787562236343 -0.00041947329209206843 … 4.2700241771688554e-5 -3.695768308517413e-5; 9.579280883986967e-6 1.130352900331774e-5 … 1.20825679190506e-6 4.239552390709971e-6], [3.011003558054045 3.017729293879041 … -0.04692333865097725 -0.01052991219269356; 0.08047297967796957 0.07776671809081598 … 0.0012839414796986062 0.00026025909751119345; 0.0019254905919958494 -3.833974651942445e-5 … 1.1228581768489001e-5 3.738020802432571e-6; -4.3991904221228023e-5 -8.978883825376158e-6 … -1.8061724509777146e-6 -4.232658435470538e-7], [-0.7574156410621607 -0.6522915335135241 … -0.04826111494311279 -0.10531710918598353; -0.00045107231881172193 -0.0009735579772841667 … 0.002658809430992809 0.002621007653028571; 0.00036136787562236343 0.00041947329209206843 … -4.2700241771688554e-5 3.695768308517413e-5; -9.579280883986967e-6 -1.130352900331774e-5 … -1.20825679190506e-6 -4.239552390709971e-6])"
      ]
     },
     "execution_count": 47,
     "metadata": {},
     "output_type": "execute_result"
    }
   ],
   "source": [
    "zpos = mech_osc_mmpc(z_plan[:,1], Δu_plan[:,1])\n",
    "z_plan, Δu_plan, e_plan = mpc_emo(zpos)"
   ]
  },
  {
   "cell_type": "code",
   "execution_count": 48,
   "id": "169b2637",
   "metadata": {},
   "outputs": [
    {
     "ename": "LoadError",
     "evalue": "UndefVarError: plot not defined",
     "output_type": "error",
     "traceback": [
      "UndefVarError: plot not defined",
      "",
      "Stacktrace:",
      " [1] top-level scope",
      "   @ In[48]:1",
      " [2] eval",
      "   @ .\\boot.jl:360 [inlined]",
      " [3] include_string(mapexpr::typeof(REPL.softscope), mod::Module, code::String, filename::String)",
      "   @ Base .\\loading.jl:1116"
     ]
    }
   ],
   "source": [
    "plot(z_plan')"
   ]
  },
  {
   "cell_type": "code",
   "execution_count": 49,
   "id": "30d9cb03",
   "metadata": {},
   "outputs": [],
   "source": [
    "#for i in 1:49\n",
    "    \n",
    "    # Run the MPC control optimization\n",
    "    #x_plan, u_plan, e_plan = mpc_emo(xpos)\n",
    "    \n",
    "    #z_plan, Δu_plan, e_plan = mpc_emo(zpos[:,i])\n",
    "    \n",
    "    # Save states\n",
    "    #z_hist = hcat(z_hist, z_plan[:,1])\n",
    "    #u_hist = hcat(u_hist, Δu_plan)\n",
    "    # Apply the planned input signals and simulate one step in time\n",
    "    \n",
    "     #zpos = mech_osc_mmpc(z_plan[:,1], Δu_plan[:,1])\n",
    "#end"
   ]
  },
  {
   "cell_type": "code",
   "execution_count": 50,
   "id": "ca3edf4b",
   "metadata": {},
   "outputs": [
    {
     "data": {
      "text/plain": [
       "4×50 Matrix{Float64}:\n",
       " -3.60505      -0.674373      1.29069      …  -0.0120992    -0.00760562\n",
       "  0.0824948     0.0884929     0.0878922       -0.000908061  -0.00116\n",
       "  0.0174888     0.0124205     0.0081461        0.000126024   0.000110449\n",
       " -0.000226679  -0.000188202  -0.000140085     -3.0871e-6    -1.67418e-6"
      ]
     },
     "execution_count": 50,
     "metadata": {},
     "output_type": "execute_result"
    }
   ],
   "source": [
    "u_hist"
   ]
  },
  {
   "cell_type": "code",
   "execution_count": 51,
   "id": "d35fb2bd",
   "metadata": {},
   "outputs": [
    {
     "data": {
      "image/svg+xml": [
       "<?xml version=\"1.0\" encoding=\"utf-8\"?>\n",
       "<svg xmlns=\"http://www.w3.org/2000/svg\" xmlns:xlink=\"http://www.w3.org/1999/xlink\" width=\"600\" height=\"400\" viewBox=\"0 0 2400 1600\">\n",
       "<defs>\n",
       "  <clipPath id=\"clip500\">\n",
       "    <rect x=\"0\" y=\"0\" width=\"2400\" height=\"1600\"/>\n",
       "  </clipPath>\n",
       "</defs>\n",
       "<path clip-path=\"url(#clip500)\" d=\"\n",
       "M0 1600 L2400 1600 L2400 0 L0 0  Z\n",
       "  \" fill=\"#ffffff\" fill-rule=\"evenodd\" fill-opacity=\"1\"/>\n",
       "<defs>\n",
       "  <clipPath id=\"clip501\">\n",
       "    <rect x=\"480\" y=\"0\" width=\"1681\" height=\"1600\"/>\n",
       "  </clipPath>\n",
       "</defs>\n",
       "<path clip-path=\"url(#clip500)\" d=\"\n",
       "M112.177 1486.45 L2112.76 1486.45 L2112.76 47.2441 L112.177 47.2441  Z\n",
       "  \" fill=\"#ffffff\" fill-rule=\"evenodd\" fill-opacity=\"1\"/>\n",
       "<defs>\n",
       "  <clipPath id=\"clip502\">\n",
       "    <rect x=\"112\" y=\"47\" width=\"2002\" height=\"1440\"/>\n",
       "  </clipPath>\n",
       "</defs>\n",
       "<polyline clip-path=\"url(#clip502)\" style=\"stroke:#000000; stroke-linecap:butt; stroke-linejoin:round; stroke-width:2; stroke-opacity:0.1; fill:none\" points=\"\n",
       "  492.287,1486.45 492.287,47.2441 \n",
       "  \"/>\n",
       "<polyline clip-path=\"url(#clip502)\" style=\"stroke:#000000; stroke-linecap:butt; stroke-linejoin:round; stroke-width:2; stroke-opacity:0.1; fill:none\" points=\"\n",
       "  892.403,1486.45 892.403,47.2441 \n",
       "  \"/>\n",
       "<polyline clip-path=\"url(#clip502)\" style=\"stroke:#000000; stroke-linecap:butt; stroke-linejoin:round; stroke-width:2; stroke-opacity:0.1; fill:none\" points=\"\n",
       "  1292.52,1486.45 1292.52,47.2441 \n",
       "  \"/>\n",
       "<polyline clip-path=\"url(#clip502)\" style=\"stroke:#000000; stroke-linecap:butt; stroke-linejoin:round; stroke-width:2; stroke-opacity:0.1; fill:none\" points=\"\n",
       "  1692.63,1486.45 1692.63,47.2441 \n",
       "  \"/>\n",
       "<polyline clip-path=\"url(#clip502)\" style=\"stroke:#000000; stroke-linecap:butt; stroke-linejoin:round; stroke-width:2; stroke-opacity:0.1; fill:none\" points=\"\n",
       "  2092.75,1486.45 2092.75,47.2441 \n",
       "  \"/>\n",
       "<polyline clip-path=\"url(#clip500)\" style=\"stroke:#000000; stroke-linecap:butt; stroke-linejoin:round; stroke-width:4; stroke-opacity:1; fill:none\" points=\"\n",
       "  112.177,1486.45 2112.76,1486.45 \n",
       "  \"/>\n",
       "<polyline clip-path=\"url(#clip500)\" style=\"stroke:#000000; stroke-linecap:butt; stroke-linejoin:round; stroke-width:4; stroke-opacity:1; fill:none\" points=\"\n",
       "  492.287,1486.45 492.287,1467.55 \n",
       "  \"/>\n",
       "<polyline clip-path=\"url(#clip500)\" style=\"stroke:#000000; stroke-linecap:butt; stroke-linejoin:round; stroke-width:4; stroke-opacity:1; fill:none\" points=\"\n",
       "  892.403,1486.45 892.403,1467.55 \n",
       "  \"/>\n",
       "<polyline clip-path=\"url(#clip500)\" style=\"stroke:#000000; stroke-linecap:butt; stroke-linejoin:round; stroke-width:4; stroke-opacity:1; fill:none\" points=\"\n",
       "  1292.52,1486.45 1292.52,1467.55 \n",
       "  \"/>\n",
       "<polyline clip-path=\"url(#clip500)\" style=\"stroke:#000000; stroke-linecap:butt; stroke-linejoin:round; stroke-width:4; stroke-opacity:1; fill:none\" points=\"\n",
       "  1692.63,1486.45 1692.63,1467.55 \n",
       "  \"/>\n",
       "<polyline clip-path=\"url(#clip500)\" style=\"stroke:#000000; stroke-linecap:butt; stroke-linejoin:round; stroke-width:4; stroke-opacity:1; fill:none\" points=\"\n",
       "  2092.75,1486.45 2092.75,1467.55 \n",
       "  \"/>\n",
       "<path clip-path=\"url(#clip500)\" d=\"M466.975 1544.91 L474.614 1544.91 L474.614 1518.55 L466.303 1520.21 L466.303 1515.95 L474.567 1514.29 L479.243 1514.29 L479.243 1544.91 L486.882 1544.91 L486.882 1548.85 L466.975 1548.85 L466.975 1544.91 Z\" fill=\"#000000\" fill-rule=\"evenodd\" fill-opacity=\"1\" /><path clip-path=\"url(#clip500)\" d=\"M506.326 1517.37 Q502.715 1517.37 500.887 1520.93 Q499.081 1524.47 499.081 1531.6 Q499.081 1538.71 500.887 1542.27 Q502.715 1545.82 506.326 1545.82 Q509.961 1545.82 511.766 1542.27 Q513.595 1538.71 513.595 1531.6 Q513.595 1524.47 511.766 1520.93 Q509.961 1517.37 506.326 1517.37 M506.326 1513.66 Q512.137 1513.66 515.192 1518.27 Q518.271 1522.85 518.271 1531.6 Q518.271 1540.33 515.192 1544.94 Q512.137 1549.52 506.326 1549.52 Q500.516 1549.52 497.438 1544.94 Q494.382 1540.33 494.382 1531.6 Q494.382 1522.85 497.438 1518.27 Q500.516 1513.66 506.326 1513.66 Z\" fill=\"#000000\" fill-rule=\"evenodd\" fill-opacity=\"1\" /><path clip-path=\"url(#clip500)\" d=\"M871.176 1544.91 L887.495 1544.91 L887.495 1548.85 L865.551 1548.85 L865.551 1544.91 Q868.213 1542.16 872.797 1537.53 Q877.403 1532.88 878.584 1531.53 Q880.829 1529.01 881.708 1527.27 Q882.611 1525.51 882.611 1523.82 Q882.611 1521.07 880.667 1519.33 Q878.746 1517.6 875.644 1517.6 Q873.445 1517.6 870.991 1518.36 Q868.56 1519.13 865.783 1520.68 L865.783 1515.95 Q868.607 1514.82 871.06 1514.24 Q873.514 1513.66 875.551 1513.66 Q880.921 1513.66 884.116 1516.35 Q887.31 1519.03 887.31 1523.52 Q887.31 1525.65 886.5 1527.57 Q885.713 1529.47 883.607 1532.07 Q883.028 1532.74 879.926 1535.95 Q876.824 1539.15 871.176 1544.91 Z\" fill=\"#000000\" fill-rule=\"evenodd\" fill-opacity=\"1\" /><path clip-path=\"url(#clip500)\" d=\"M907.31 1517.37 Q903.699 1517.37 901.87 1520.93 Q900.065 1524.47 900.065 1531.6 Q900.065 1538.71 901.87 1542.27 Q903.699 1545.82 907.31 1545.82 Q910.944 1545.82 912.75 1542.27 Q914.579 1538.71 914.579 1531.6 Q914.579 1524.47 912.75 1520.93 Q910.944 1517.37 907.31 1517.37 M907.31 1513.66 Q913.12 1513.66 916.176 1518.27 Q919.255 1522.85 919.255 1531.6 Q919.255 1540.33 916.176 1544.94 Q913.12 1549.52 907.31 1549.52 Q901.5 1549.52 898.421 1544.94 Q895.366 1540.33 895.366 1531.6 Q895.366 1522.85 898.421 1518.27 Q901.5 1513.66 907.31 1513.66 Z\" fill=\"#000000\" fill-rule=\"evenodd\" fill-opacity=\"1\" /><path clip-path=\"url(#clip500)\" d=\"M1281.36 1530.21 Q1284.72 1530.93 1286.59 1533.2 Q1288.49 1535.47 1288.49 1538.8 Q1288.49 1543.92 1284.97 1546.72 Q1281.45 1549.52 1274.97 1549.52 Q1272.8 1549.52 1270.48 1549.08 Q1268.19 1548.66 1265.74 1547.81 L1265.74 1543.29 Q1267.68 1544.43 1270 1545.01 Q1272.31 1545.58 1274.83 1545.58 Q1279.23 1545.58 1281.52 1543.85 Q1283.84 1542.11 1283.84 1538.8 Q1283.84 1535.75 1281.69 1534.03 Q1279.56 1532.3 1275.74 1532.3 L1271.71 1532.3 L1271.71 1528.45 L1275.92 1528.45 Q1279.37 1528.45 1281.2 1527.09 Q1283.03 1525.7 1283.03 1523.11 Q1283.03 1520.45 1281.13 1519.03 Q1279.25 1517.6 1275.74 1517.6 Q1273.82 1517.6 1271.62 1518.01 Q1269.42 1518.43 1266.78 1519.31 L1266.78 1515.14 Q1269.44 1514.4 1271.75 1514.03 Q1274.09 1513.66 1276.15 1513.66 Q1281.48 1513.66 1284.58 1516.09 Q1287.68 1518.5 1287.68 1522.62 Q1287.68 1525.49 1286.04 1527.48 Q1284.39 1529.45 1281.36 1530.21 Z\" fill=\"#000000\" fill-rule=\"evenodd\" fill-opacity=\"1\" /><path clip-path=\"url(#clip500)\" d=\"M1307.36 1517.37 Q1303.75 1517.37 1301.92 1520.93 Q1300.11 1524.47 1300.11 1531.6 Q1300.11 1538.71 1301.92 1542.27 Q1303.75 1545.82 1307.36 1545.82 Q1310.99 1545.82 1312.8 1542.27 Q1314.62 1538.71 1314.62 1531.6 Q1314.62 1524.47 1312.8 1520.93 Q1310.99 1517.37 1307.36 1517.37 M1307.36 1513.66 Q1313.17 1513.66 1316.22 1518.27 Q1319.3 1522.85 1319.3 1531.6 Q1319.3 1540.33 1316.22 1544.94 Q1313.17 1549.52 1307.36 1549.52 Q1301.55 1549.52 1298.47 1544.94 Q1295.41 1540.33 1295.41 1531.6 Q1295.41 1522.85 1298.47 1518.27 Q1301.55 1513.66 1307.36 1513.66 Z\" fill=\"#000000\" fill-rule=\"evenodd\" fill-opacity=\"1\" /><path clip-path=\"url(#clip500)\" d=\"M1680.81 1518.36 L1669 1536.81 L1680.81 1536.81 L1680.81 1518.36 M1679.58 1514.29 L1685.46 1514.29 L1685.46 1536.81 L1690.39 1536.81 L1690.39 1540.7 L1685.46 1540.7 L1685.46 1548.85 L1680.81 1548.85 L1680.81 1540.7 L1665.2 1540.7 L1665.2 1536.19 L1679.58 1514.29 Z\" fill=\"#000000\" fill-rule=\"evenodd\" fill-opacity=\"1\" /><path clip-path=\"url(#clip500)\" d=\"M1708.12 1517.37 Q1704.51 1517.37 1702.68 1520.93 Q1700.88 1524.47 1700.88 1531.6 Q1700.88 1538.71 1702.68 1542.27 Q1704.51 1545.82 1708.12 1545.82 Q1711.75 1545.82 1713.56 1542.27 Q1715.39 1538.71 1715.39 1531.6 Q1715.39 1524.47 1713.56 1520.93 Q1711.75 1517.37 1708.12 1517.37 M1708.12 1513.66 Q1713.93 1513.66 1716.99 1518.27 Q1720.06 1522.85 1720.06 1531.6 Q1720.06 1540.33 1716.99 1544.94 Q1713.93 1549.52 1708.12 1549.52 Q1702.31 1549.52 1699.23 1544.94 Q1696.18 1540.33 1696.18 1531.6 Q1696.18 1522.85 1699.23 1518.27 Q1702.31 1513.66 1708.12 1513.66 Z\" fill=\"#000000\" fill-rule=\"evenodd\" fill-opacity=\"1\" /><path clip-path=\"url(#clip500)\" d=\"M2067.45 1514.29 L2085.81 1514.29 L2085.81 1518.22 L2071.73 1518.22 L2071.73 1526.7 Q2072.75 1526.35 2073.77 1526.19 Q2074.79 1526 2075.81 1526 Q2081.59 1526 2084.97 1529.17 Q2088.35 1532.34 2088.35 1537.76 Q2088.35 1543.34 2084.88 1546.44 Q2081.41 1549.52 2075.09 1549.52 Q2072.91 1549.52 2070.64 1549.15 Q2068.4 1548.78 2065.99 1548.04 L2065.99 1543.34 Q2068.07 1544.47 2070.3 1545.03 Q2072.52 1545.58 2075 1545.58 Q2079 1545.58 2081.34 1543.48 Q2083.68 1541.37 2083.68 1537.76 Q2083.68 1534.15 2081.34 1532.04 Q2079 1529.94 2075 1529.94 Q2073.12 1529.94 2071.25 1530.35 Q2069.39 1530.77 2067.45 1531.65 L2067.45 1514.29 Z\" fill=\"#000000\" fill-rule=\"evenodd\" fill-opacity=\"1\" /><path clip-path=\"url(#clip500)\" d=\"M2107.56 1517.37 Q2103.95 1517.37 2102.13 1520.93 Q2100.32 1524.47 2100.32 1531.6 Q2100.32 1538.71 2102.13 1542.27 Q2103.95 1545.82 2107.56 1545.82 Q2111.2 1545.82 2113 1542.27 Q2114.83 1538.71 2114.83 1531.6 Q2114.83 1524.47 2113 1520.93 Q2111.2 1517.37 2107.56 1517.37 M2107.56 1513.66 Q2113.38 1513.66 2116.43 1518.27 Q2119.51 1522.85 2119.51 1531.6 Q2119.51 1540.33 2116.43 1544.94 Q2113.38 1549.52 2107.56 1549.52 Q2101.75 1549.52 2098.68 1544.94 Q2095.62 1540.33 2095.62 1531.6 Q2095.62 1522.85 2098.68 1518.27 Q2101.75 1513.66 2107.56 1513.66 Z\" fill=\"#000000\" fill-rule=\"evenodd\" fill-opacity=\"1\" /><polyline clip-path=\"url(#clip502)\" style=\"stroke:#000000; stroke-linecap:butt; stroke-linejoin:round; stroke-width:2; stroke-opacity:0.1; fill:none\" points=\"\n",
       "  112.177,1306.55 2112.76,1306.55 \n",
       "  \"/>\n",
       "<polyline clip-path=\"url(#clip502)\" style=\"stroke:#000000; stroke-linecap:butt; stroke-linejoin:round; stroke-width:2; stroke-opacity:0.1; fill:none\" points=\"\n",
       "  112.177,946.746 2112.76,946.746 \n",
       "  \"/>\n",
       "<polyline clip-path=\"url(#clip502)\" style=\"stroke:#000000; stroke-linecap:butt; stroke-linejoin:round; stroke-width:2; stroke-opacity:0.1; fill:none\" points=\"\n",
       "  112.177,586.946 2112.76,586.946 \n",
       "  \"/>\n",
       "<polyline clip-path=\"url(#clip502)\" style=\"stroke:#000000; stroke-linecap:butt; stroke-linejoin:round; stroke-width:2; stroke-opacity:0.1; fill:none\" points=\"\n",
       "  112.177,227.145 2112.76,227.145 \n",
       "  \"/>\n",
       "<polyline clip-path=\"url(#clip500)\" style=\"stroke:#000000; stroke-linecap:butt; stroke-linejoin:round; stroke-width:4; stroke-opacity:1; fill:none\" points=\"\n",
       "  112.177,1486.45 112.177,47.2441 \n",
       "  \"/>\n",
       "<polyline clip-path=\"url(#clip500)\" style=\"stroke:#000000; stroke-linecap:butt; stroke-linejoin:round; stroke-width:4; stroke-opacity:1; fill:none\" points=\"\n",
       "  112.177,1306.55 129.051,1306.55 \n",
       "  \"/>\n",
       "<polyline clip-path=\"url(#clip500)\" style=\"stroke:#000000; stroke-linecap:butt; stroke-linejoin:round; stroke-width:4; stroke-opacity:1; fill:none\" points=\"\n",
       "  112.177,946.746 129.051,946.746 \n",
       "  \"/>\n",
       "<polyline clip-path=\"url(#clip500)\" style=\"stroke:#000000; stroke-linecap:butt; stroke-linejoin:round; stroke-width:4; stroke-opacity:1; fill:none\" points=\"\n",
       "  112.177,586.946 129.051,586.946 \n",
       "  \"/>\n",
       "<polyline clip-path=\"url(#clip500)\" style=\"stroke:#000000; stroke-linecap:butt; stroke-linejoin:round; stroke-width:4; stroke-opacity:1; fill:none\" points=\"\n",
       "  112.177,227.145 129.051,227.145 \n",
       "  \"/>\n",
       "<path clip-path=\"url(#clip500)\" d=\"M56.2699 1319.89 L63.9087 1319.89 L63.9087 1293.53 L55.5986 1295.19 L55.5986 1290.93 L63.8624 1289.27 L68.5383 1289.27 L68.5383 1319.89 L76.1772 1319.89 L76.1772 1323.83 L56.2699 1323.83 L56.2699 1319.89 Z\" fill=\"#000000\" fill-rule=\"evenodd\" fill-opacity=\"1\" /><path clip-path=\"url(#clip500)\" d=\"M59.8578 960.091 L76.1772 960.091 L76.1772 964.026 L54.2328 964.026 L54.2328 960.091 Q56.8949 957.337 61.4782 952.707 Q66.0846 948.054 67.2652 946.712 Q69.5105 944.189 70.3902 942.452 Q71.2929 940.693 71.2929 939.003 Q71.2929 936.249 69.3485 934.513 Q67.4272 932.777 64.3254 932.777 Q62.1263 932.777 59.6726 933.541 Q57.2421 934.304 54.4643 935.855 L54.4643 931.133 Q57.2884 929.999 59.7421 929.42 Q62.1958 928.841 64.2328 928.841 Q69.6031 928.841 72.7976 931.527 Q75.992 934.212 75.992 938.703 Q75.992 940.832 75.1818 942.753 Q74.3948 944.652 72.2883 947.244 Q71.7096 947.915 68.6078 951.133 Q65.5059 954.327 59.8578 960.091 Z\" fill=\"#000000\" fill-rule=\"evenodd\" fill-opacity=\"1\" /><path clip-path=\"url(#clip500)\" d=\"M69.0476 585.591 Q72.404 586.309 74.279 588.577 Q76.1772 590.846 76.1772 594.179 Q76.1772 599.295 72.6587 602.096 Q69.1402 604.897 62.6587 604.897 Q60.4828 604.897 58.168 604.457 Q55.8764 604.04 53.4227 603.184 L53.4227 598.67 Q55.3671 599.804 57.6819 600.383 Q59.9967 600.962 62.5198 600.962 Q66.918 600.962 69.2096 599.226 Q71.5244 597.489 71.5244 594.179 Q71.5244 591.124 69.3717 589.411 Q67.242 587.675 63.4226 587.675 L59.3949 587.675 L59.3949 583.832 L63.6078 583.832 Q67.0569 583.832 68.8855 582.466 Q70.7142 581.077 70.7142 578.485 Q70.7142 575.823 68.8161 574.411 Q66.9411 572.976 63.4226 572.976 Q61.5013 572.976 59.3023 573.392 Q57.1032 573.809 54.4643 574.689 L54.4643 570.522 Q57.1264 569.781 59.4412 569.411 Q61.7791 569.041 63.8393 569.041 Q69.1633 569.041 72.2652 571.471 Q75.367 573.878 75.367 577.999 Q75.367 580.869 73.7235 582.86 Q72.08 584.827 69.0476 585.591 Z\" fill=\"#000000\" fill-rule=\"evenodd\" fill-opacity=\"1\" /><path clip-path=\"url(#clip500)\" d=\"M66.5939 213.939 L54.7884 232.388 L66.5939 232.388 L66.5939 213.939 M65.367 209.865 L71.2466 209.865 L71.2466 232.388 L76.1772 232.388 L76.1772 236.276 L71.2466 236.276 L71.2466 244.425 L66.5939 244.425 L66.5939 236.276 L50.9921 236.276 L50.9921 231.763 L65.367 209.865 Z\" fill=\"#000000\" fill-rule=\"evenodd\" fill-opacity=\"1\" /><g clip-path=\"url(#clip502)\">\n",
       "<image width=\"2001\" height=\"1439\" xlink:href=\"data:image/png;base64,\n",
       "iVBORw0KGgoAAAANSUhEUgAAB9EAAAWfCAYAAAAcawbXAAAgAElEQVR4nOzbsQ2AMBAEQRvRFwVQ\n",
       "OVWZZHswSDMVXPDZ6udz3WsAAAAAAAAAAOPYPQAAAAAAAAAAvkJEBwAAAAAAAICI6AAAAAAAAAAQ\n",
       "ER0AAAAAAAAAIqIDAAAAAAAAQER0AAAAAAAAAIiIDgAAAAAAAAAR0QEAAAAAAAAgIjoAAAAAAAAA\n",
       "REQHAAAAAAAAgIjoAAAAAAAAABARHQAAAAAAAAAiogMAAAAAAABARHQAAAAAAAAAiIgOAAAAAAAA\n",
       "ABHRAQAAAAAAACAiOgAAAAAAAABERAcAAAAAAACAiOgAAAAAAAAAEBEdAAAAAAAAACKiAwAAAAAA\n",
       "AEBEdAAAAAAAAACIiA4AAAAAAAAAEdEBAAAAAAAAICI6AAAAAAAAAEREBwAAAAAAAICI6AAAAAAA\n",
       "AAAQER0AAAAAAAAAIqIDAAAAAAAAQER0AAAAAAAAAIiIDgAAAAAAAAAR0QEAAAAAAAAgIjoAAAAA\n",
       "AAAAREQHAAAAAAAAgIjoAAAAAAAAABARHQAAAAAAAAAiogMAAAAAAABARHQAAAAAAAAAiIgOAAAA\n",
       "AAAAABHRAQAAAAAAACAiOgAAAAAAAABERAcAAAAAAACAiOgAAAAAAAAAEBEdAAAAAAAAACKiAwAA\n",
       "AAAAAEBEdAAAAAAAAACIiA4AAAAAAAAAEdEBAAAAAAAAICI6AAAAAAAAAEREBwAAAAAAAICI6AAA\n",
       "AAAAAAAQER0AAAAAAAAAIqIDAAAAAAAAQER0AAAAAAAAAIiIDgAAAAAAAAAR0QEAAAAAAAAgIjoA\n",
       "AAAAAAAAREQHAAAAAAAAgIjoAAAAAAAAABARHQAAAAAAAAAiogMAAAAAAABARHQAAAAAAAAAiIgO\n",
       "AAAAAAAAABHRAQAAAAAAACAiOgAAAAAAAABERAcAAAAAAACAiOgAAAAAAAAAEBEdAAAAAAAAACKi\n",
       "AwAAAAAAAEBEdAAAAAAAAACIiA4AAAAAAAAAEdEBAAAAAAAAICI6AAAAAAAAAEREBwAAAAAAAICI\n",
       "6AAAAAAAAAAQER0AAAAAAAAAIqIDAAAAAAAAQER0AAAAAAAAAIiIDgAAAAAAAAAR0QEAAAAAAAAg\n",
       "IjoAAAAAAAAAREQHAAAAAAAAgIjoAAAAAAAAABARHQAAAAAAAAAiogMAAAAAAABARHQAAAAAAAAA\n",
       "iIgOAAAAAAAAABHRAQAAAAAAACAiOgAAAAAAAABERAcAAAAAAACAiOgAAAAAAAAAEBEdAAAAAAAA\n",
       "ACKiAwAAAAAAAEBEdAAAAAAAAACIiA4AAAAAAAAAEdEBAAAAAAAAICI6AAAAAAAAAEREBwAAAAAA\n",
       "AICI6AAAAAAAAAAQER0AAAAAAAAAIqIDAAAAAAAAQER0AAAAAAAAAIiIDgAAAAAAAAAR0QEAAAAA\n",
       "AAAgIjoAAAAAAAAAREQHAAAAAAAAgIjoAAAAAAAAABARHQAAAAAAAAAiogMAAAAAAABARHQAAAAA\n",
       "AAAAiIgOAAAAAAAAABHRAQAAAAAAACAiOgAAAAAAAABERAcAAAAAAACAiOgAAAAAAAAAEBEdAAAA\n",
       "AAAAACKiAwAAAAAAAEBEdAAAAAAAAACIiA4AAAAAAAAAEdEBAAAAAAAAICI6AAAAAAAAAEREBwAA\n",
       "AAAAAICI6AAAAAAAAAAQER0AAAAAAAAAIqIDAAAAAAAAQER0AAAAAAAAAIiIDgAAAAAAAAAR0QEA\n",
       "AAAAAAAgIjoAAAAAAAAAREQHAAAAAAAAgIjoAAAAAAAAABARHQAAAAAAAAAiogMAAAAAAABARHQA\n",
       "AAAAAAAAiIgOAAAAAAAAABHRAQAAAAAAACAiOgAAAAAAAABERAcAAAAAAACAiOgAAAAAAAAAEBEd\n",
       "AAAAAAAAACKiAwAAAAAAAEBEdAAAAAAAAACIiA4AAAAAAAAAEdEBAAAAAAAAICI6AAAAAAAAAERE\n",
       "BwAAAAAAAICI6AAAAAAAAAAQER0AAAAAAAAAIqIDAAAAAAAAQER0AAAAAAAAAIiIDgAAAAAAAAAR\n",
       "0QEAAAAAAAAgIjoAAAAAAAAAREQHAAAAAAAAgIjoAAAAAAAAABARHQAAAAAAAAAiogMAAAAAAABA\n",
       "RHQAAAAAAAAAiIgOAAAAAAAAABHRAQAAAAAAACAiOgAAAAAAAABERAcAAAAAAACAiOgAAAAAAAAA\n",
       "EBEdAAAAAAAAACKiAwAAAAAAAEBEdAAAAAAAAACIiA4AAAAAAAAAEdEBAAAAAAAAICI6AAAAAAAA\n",
       "AEREBwAAAAAAAICI6AAAAAAAAAAQER0AAAAAAAAAIqIDAAAAAAAAQER0AAAAAAAAAIiIDgAAAAAA\n",
       "AAAR0QEAAAAAAAAgIjoAAAAAAAAAREQHAAAAAAAAgIjoAAAAAAAAABARHQAAAAAAAAAiogMAAAAA\n",
       "AABARHQAAAAAAAAAiIgOAAAAAAAAABHRAQAAAAAAACAiOgAAAAAAAABERAcAAAAAAACAiOgAAAAA\n",
       "AAAAEBEdAAAAAAAAACKiAwAAAAAAAEBEdAAAAAAAAACIiA4AAAAAAAAAEdEBAAAAAAAAICI6AAAA\n",
       "AAAAAEREBwAAAAAAAICI6AAAAAAAAAAQER0AAAAAAAAAIqIDAAAAAAAAQER0AAAAAAAAAIiIDgAA\n",
       "AAAAAAAR0QEAAAAAAAAgIjoAAAAAAAAAREQHAAAAAAAAgIjoAAAAAAAAABARHQAAAAAAAAAiogMA\n",
       "AAAAAABARHQAAAAAAAAAiIgOAAAAAAAAABHRAQAAAAAAACAiOgAAAAAAAABERAcAAAAAAACAiOgA\n",
       "AAAAAAAAEBEdAAAAAAAAACKiAwAAAAAAAEBEdAAAAAAAAACIiA4AAAAAAAAAEdEBAAAAAAAAICI6\n",
       "AAAAAAAAAEREBwAAAAAAAICI6AAAAAAAAAAQER0AAAAAAAAAIqIDAAAAAAAAQER0AAAAAAAAAIiI\n",
       "DgAAAAAAAAAR0QEAAAAAAAAgIjoAAAAAAAAAREQHAAAAAAAAgIjoAAAAAAAAABARHQAAAAAAAAAi\n",
       "ogMAAAAAAABARHQAAAAAAAAAiIgOAAAAAAAAABHRAQAAAAAAACAiOgAAAAAAAABERAcAAAAAAACA\n",
       "iOgAAAAAAAAAEBEdAAAAAAAAACKiAwAAAAAAAEBEdAAAAAAAAACIiA4AAAAAAAAAEdEBAAAAAAAA\n",
       "ICI6AAAAAAAAAEREBwAAAAAAAICI6AAAAAAAAAAQER0AAAAAAAAAIqIDAAAAAAAAQER0AAAAAAAA\n",
       "AIiIDgAAAAAAAAAR0QEAAAAAAAAgIjoAAAAAAAAAREQHAAAAAAAAgIjoAAAAAAAAABARHQAAAAAA\n",
       "AAAiogMAAAAAAABARHQAAAAAAAAAiIgOAAAAAAAAABHRAQAAAAAAACAiOgAAAAAAAABERAcAAAAA\n",
       "AACAiOgAAAAAAAAAEBEdAAAAAAAAACKiAwAAAAAAAEBEdAAAAAAAAACIiA4AAAAAAAAAEdEBAAAA\n",
       "AAAAICI6AAAAAAAAAEREBwAAAAAAAICI6AAAAAAAAAAQER0AAAAAAAAAIqIDAAAAAAAAQER0AAAA\n",
       "AAAAAIiIDgAAAAAAAAAR0QEAAAAAAAAgIjoAAAAAAAAAREQHAAAAAAAAgIjoAAAAAAAAABARHQAA\n",
       "AAAAAAAiogMAAAAAAABARHQAAAAAAAAAiIgOAAAAAAAAABHRAQAAAAAAACAiOgAAAAAAAABERAcA\n",
       "AAAAAACAiOgAAAAAAAAAEBEdAAAAAAAAACKiAwAAAAAAAEBEdAAAAAAAAACIiA4AAAAAAAAAEdEB\n",
       "AAAAAAAAICI6AAAAAAAAAEREBwAAAAAAAICI6AAAAAAAAAAQER0AAAAAAAAAIqIDAAAAAAAAQER0\n",
       "AAAAAAAAAIiIDgAAAAAAAAAR0QEAAAAAAAAgIjoAAAAAAAAAREQHAAAAAAAAgIjoAAAAAAAAABAR\n",
       "HQAAAAAAAAAiogMAAAAAAABARHQAAAAAAAAAiIgOAAAAAAAAABHRAQAAAAAAACAiOgAAAAAAAABE\n",
       "RAcAAAAAAACAiOgAAAAAAAAAEBEdAAAAAAAAACKiAwAAAAAAAEBEdAAAAAAAAACIiA4AAAAAAAAA\n",
       "EdEBAAAAAAAAICI6AAAAAAAAAEREBwAAAAAAAICI6AAAAAAAAAAQER0AAAAAAAAAIqIDAAAAAAAA\n",
       "QER0AAAAAAAAAIiIDgAAAAAAAAAR0QEAAAAAAAAgIjoAAAAAAAAAREQHAAAAAAAAgIjoAAAAAAAA\n",
       "ABARHQAAAAAAAAAiogMAAAAAAABARHQAAAAAAAAAiIgOAAAAAAAAABHRAQAAAAAAACAiOgAAAAAA\n",
       "AABERAcAAAAAAACAiOgAAAAAAAAAEBEdAAAAAAAAACKiAwAAAAAAAEBEdAAAAAAAAACIiA4AAAAA\n",
       "AAAAEdEBAAAAAAAAICI6AAAAAAAAAEREBwAAAAAAAICI6AAAAAAAAAAQER0AAAAAAAAAIqIDAAAA\n",
       "AAAAQER0AAAAAAAAAIiIDgAAAAAAAAAR0QEAAAAAAAAgIjoAAAAAAAAAREQHAAAAAAAAgIjoAAAA\n",
       "AAAAABARHQAAAAAAAAAiogMAAAAAAABARHQAAAAAAAAAiIgOAAAAAAAAABHRAQAAAAAAACAiOgAA\n",
       "AAAAAABERAcAAAAAAACAiOgAAAAAAAAAEBEdAAAAAAAAACKiAwAAAAAAAEBEdAAAAAAAAACIiA4A\n",
       "AAAAAAAAOedcuzf83hpz94R/c4IAAAAAAADAR/hEBwAAAAAAAICI6AAAAAAAAAAQER0AAAAAAAAA\n",
       "IqIDAAAAAAAAQER0AAAAAAAAAIiIDgAAAAAAAAAR0QEAAAAAAAAgIjoAAAAAAAAAREQHAAAAAAAA\n",
       "gIjoAAAAAAAAABARHQAAAAAAAAAiogMAAAAAAABARHQAAAAAAAAAiIgOAAAAAAAAABHRAQAAAAAA\n",
       "ACAiOgAAAAAAAABERAcAAAAAAACAiOgAAAAAAAAAEBEdAAAAAAAAACKiAwAAAAAAAEBEdAAAAAAA\n",
       "AACIiA4AAAAAAAAAEdEBAAAAAAAAICI6AAAAAAAAAEREBwAAAAAAAICI6AAAAAAAAAAQER0AAAAA\n",
       "AAAAIqIDAAAAAAAAQER0AAAAAAAAAIiIDgAAAAAAAAAR0QEAAAAAAAAgIjoAAAAAAAAAREQHAAAA\n",
       "AAAAgIjoAAAAAAAAABARHQAAAAAAAAAiogMAAAAAAABARHQAAAAAAAAAiIgOAAAAAAAAABHRAQAA\n",
       "AAAAACAiOgAAAAAAAABERAcAAAAAAACAiOgAAAAAAAAAEBEdAAAAAAAAACKiAwAAAAAAAEBEdAAA\n",
       "AAAAAACIiA4AAAAAAAAAEdEBAAAAAAAAICI6AAAAAAAAAEREBwAAAAAAAICI6AAAAAAAAAAQER0A\n",
       "AAAAAAAAIqIDAAAAAAAAQER0AAAAAAAAAIiIDgAAAAAAAAAR0QEAAAAAAAAgIjoAAAAAAAAAREQH\n",
       "AAAAAAAAgIjoAAAAAAAAABARHQAAAAAAAAAiogMAAAAAAABARHQAAAAAAAAAiIgOAAAAAAAAABHR\n",
       "AQAAAAAAACAiOgAAAAAAAABERAcAAAAAAACAiOgAAAAAAAAAEBEdAAAAAAAAACKiAwAAAAAAAEBE\n",
       "dAAAAAAAAACIiA4AAAAAAAAAEdEBAAAAAAAAICI6AAAAAAAAAEREBwAAAAAAAICI6AAAAAAAAAAQ\n",
       "ER0AAAAAAAAAIqIDAAAAAAAAQER0AAAAAAAAAIiIDgAAAAAAAAAR0QEAAAAAAAAgIjoAAAAAAAAA\n",
       "REQHAAAAAAAAgIjoAAAAAAAAABARHQAAAAAAAAAiogMAAAAAAABARHQAAAAAAAAAiIgOAAAAAAAA\n",
       "ABHRAQAAAAAAACAiOgAAAAAAAABERAcAAAAAAACAiOgAAAAAAAAAEBEdAAAAAAAAACKiAwAAAAAA\n",
       "AEBEdAAAAAAAAACIiA4AAAAAAAAAEdEBAAAAAAAAICI6AAAAAAAAAEREBwAAAAAAAICI6AAAAAAA\n",
       "AAAQER0AAAAAAAAAIqIDAAAAAAAAQER0AAAAAAAAAIiIDgAAAAAAAAAR0QEAAAAAAAAgIjoAAAAA\n",
       "AAAAREQHAAAAAAAAgIjoAAAAAAAAABARHQAAAAAAAAAiogMAAAAAAABARHQAAAAAAAAAiIgOAAAA\n",
       "AAAAABHRAQAAAAAAACAiOgAAAAAAAABERAcAAAAAAACAiOgAAAAAAAAAEBEdAAAAAAAAACKiAwAA\n",
       "AAAAAEBEdAAAAAAAAACIiA4AAAAAAAAAEdEBAAAAAAAAICI6AAAAAAAAAEREBwAAAAAAAICI6AAA\n",
       "AAAAAAAQER0AAAAAAAAAIqIDAAAAAAAAQER0AAAAAAAAAIiIDgAAAAAAAAAR0QEAAAAAAAAgIjoA\n",
       "AAAAAAAAREQHAAAAAAAAgIjoAAAAAAAAABARHQAAAAAAAAAiogMAAAAAAABARHQAAAAAAAAAiIgO\n",
       "AAAAAAAAABHRAQAAAAAAACAiOgAAAAAAAABERAcAAAAAAACAiOgAAAAAAAAAEBEdAAAAAAAAACKi\n",
       "AwAAAAAAAEBEdAAAAAAAAACIiA4AAAAAAAAAEdEBAAAAAAAAICI6AAAAAAAAAEREBwAAAAAAAICI\n",
       "6AAAAAAAAAAQER0AAAAAAAAAIqIDAAAAAAAAQER0AAAAAAAAAIiIDgAAAAAAAAAR0QEAAICXfTtG\n",
       "YRgGAiAYJ/n/k2M3WyuFC59g5gWHZAnBYgAAACAiOgAAAAAAAABERAcAAAAAAACAiOgAAAAAAAAA\n",
       "EBEdAAAAAAAAACKiAwAAAAAAAEBEdAAAAAAAAACIiA4AAAAAAAAAEdEBAAAAAAAAICI6AAAAAAAA\n",
       "AEREBwAAAAAAAICI6AAAAAAAAAAQER0AAAAAAAAAIqIDAAAAAAAAQER0AAAAAAAAAIiIDgAAAAAA\n",
       "AAAR0QEAAAAAAAAgIjoAAAAAAAAAREQHAAAAAAAAgIjoAAAAAAAAABARHQAAAAAAAAAiogMAAAAA\n",
       "AABARHQAAAAAAAAAiIgOAAAAAAAAABHRAQAAAAAAACAiOgAAAAAAAABERAcAAAAAAACAiOgAAAAA\n",
       "AAAAEBEdAAAAAAAAACKiAwAAAAAAAEBEdAAAAAAAAACIiA4AAAAAAAAAEdEBAAAAAAAAICI6AAAA\n",
       "AAAAAEREBwAAAAAAAICI6AAAAAAAAAAQER0AAAAAAAAAIqIDAAAAAAAAQER0AAAAAAAAAIiIDgAA\n",
       "AAAAAAAR0QEAAAAAAAAgIjoAAAAAAAAAREQHAAAAAAAAgIjoAAAAAAAAABARHQAAAAAAAAAiogMA\n",
       "AAAAAABARHQAAAAAAAAAiIgOAAAAAAAAABHRAQAAAAAAACAiOgAAAAAAAABERAcAAAAAAACAiOgA\n",
       "AAAAAAAAEBEdAAAAAAAAACKiAwAAAAAAAEBEdAAAAAAAAACIiA4AAAAAAAAAEdEBAAAAAAAAICI6\n",
       "AAAAAAAAAEREBwAAAAAAAICI6AAAAAAAAAAQER0AAAAAAAAAIqIDAAAAAAAAQER0AAAAAAAAAIiI\n",
       "DgAAAAAAAAAR0QEAAAAAAAAgIjoAAAAAAAAAREQHAAAAAAAAgIjoAAAAAAAAABARHQAAAAAAAAAi\n",
       "ogMAAAAAAABARHQAAAAAAAAAiIgOAAAAAAAAABHRAQAAAAAAACAiOgAAAAAAAABERAcAAAAAAACA\n",
       "iOgAAAAAAAAAEBEdAAAAAAAAACKiAwAAAAAAAEBEdAAAAAAAAACIiA4AAAAAAAAAEdEBAAAAAAAA\n",
       "ICI6AAAAAAAAAEREBwAAAAAAAICI6AAAAAAAAAAQER0AAAAAAAAAIqIDAAAAAAAAQER0AAAAAAAA\n",
       "AIiIDgAAAAAAAAAR0QEAAAAAAAAgIjoAAAAAAAAAREQHAAAAAAAAgIjoAAAAAAAAABARHQAAAAAA\n",
       "AAAiogMAAAAAAABARHQAAAAAAAAAiIgOAAAAAAAAABHRAQAAAAAAACAiOgAAAAAAAABERAcAAAAA\n",
       "AACAiOgAAAAAAAAAEBEdAAAAAAAAACKiAwAAAAAAAEBEdAAAAAAAAACIiA4AAAAAAAAAEdEBAAAA\n",
       "AAAAICI6AAAAAAAAAEREBwAAAAAAAICI6AAAAAAAAAAQER0AAAAAAAAAIqIDAAAAAAAAQER0AAAA\n",
       "AAAAAIiIDgAAAAAAAAAR0QEAAAAAAAAgIjoAAAAAAAAAREQHAAAAAAAAgIjoAAAAAAAAABARHQAA\n",
       "AAAAAAAiogMAAAAAAABARHQAAAAAAAAAiIgOAAAAAAAAABHRAQAAAAAAACAiOgAAAAAAAABERAcA\n",
       "AAAAAACAiOgAAAAAAAAAEBEdAAAAAAAAACKiAwAAAAAAAEBEdAAAAAAAAACIiA4AAAAAAAAAEdEB\n",
       "AAAAAAAAICI6AAAAAAAAAEREBwAAAAAAAICI6AAAAAAAAAAQER0AAAAAAAAAIqIDAAAAAAAAQER0\n",
       "AAAAAAAAAIiIDgAAAAAAAAAR0QEAAAAAAAAgIjoAAAAAAAAAREQHAAAAAAAAgIjoAAAAAAAAABAR\n",
       "HQAAAAAAAAAiogMAAAAAAABARHQAAAAAAAAAiIgOAAAAAAAAABHRAQAAAAAAACAiOgAAAAAAAABE\n",
       "RAcAAAAAAACAiOgAAAAAAAAAEBEdAAAAAAAAACKiAwAAAAAAAEBEdAAAAAAAAACIiA4AAAAAAAAA\n",
       "EdEBAAAAAAAAICI6AAAAAAAAAEREBwAAAAAAAICI6AAAAAAAAAAQER0AAAAAAAAAIqIDAAAAAAAA\n",
       "QER0AAAAAAAAAIiIDgAAAAAAAAAR0QEAAAAAAAAgIjoAAAAAAAAAREQHAAAAAAAAgIjoAAAAAAAA\n",
       "ABARHQAAAAAAAAAiogMAAAAAAABARHQAAAAAAAAAiIgOAAAAAAAAABHRAQAAAAAAACAiOgAAAAAA\n",
       "AABERAcAAAAAAACAiOgAAAAAAAAAEBEdAAAAAAAAACKiAwAAAAAAAEBEdAAAAAAAAACIiA4AAAAA\n",
       "AAAAEdEBAAAAAAAAICI6AAAAAAAAAEREBwAAAAAAAICI6AAAAAAAAAAQER0AAAAAAAAAIqIDAAAA\n",
       "AAAAQER0AAAAAAAAAIiIDgAAAAAAAAAR0QEAAAAAAAAgIjoAAAAAAAAAREQHAAAAAAAAgIjoAAAA\n",
       "AAAAABARHQAAAAAAAAAiogMAAAAAAABARHQAAAAAAAAAiIgOAAAAAAAAABHRAQAAAAAAACAiOgAA\n",
       "AAAAAABERAcAAAAAAACAiOgAAAAAAAAAEBEdAAAAAAAAACKiAwAAAAAAAEBEdAAAAAAAAACIiA4A\n",
       "AAAAAAAAEdEBAAAAAAAAICI6AAAAAAAAAEREBwAAAAAAAICI6AAAAAAAAAAQER0AAAAAAAAAIqID\n",
       "AAAAAAAAQER0AAAAAAAAAIiIDgAAAAAAAAAR0QEAAAAAAAAg38/79/QM/x3n0xNs7nh6gDXbC9ty\n",
       "fO9yP98xfLzX9P095y/gaOfw/d3ggIw2f/mGf3/AwvwbZjK3Hyw4ILAvzwOAkfyJDgAAAAAAAAAR\n",
       "0QEAAAAAAAAgIjoAAAAAAAAAREQHAAAAAAAAgIjoAAAAAAAAABARHQAAAAAAAAAiogMAAAAAAABA\n",
       "RHQAAAAAAAAAiIgOAAAAAAAAABHRAQAAAAAAACAiOgAAAAAAAABERAcAAAAAAACAiOgAAAAAAAAA\n",
       "EBEdAAAAAAAAACKiAwAAAAAAAEBEdAAAAAAAAACIiA4AAAAAAAAAEdEBAAAAAAAAICI6AAAAAAAA\n",
       "AEREBwAAAAAAAICI6AAAAAAAAAAQER0AAAAAAAAAIqIDAAAAAAAAQER0AAAAAAAAAIiIDgAAAAAA\n",
       "AAAR0QEAAAAAAAAgIjoAAAAAAAAAREQHAAAAAAAAgIjoAAAAAAAAABARHQAAAAAAAAAiogMAAAAA\n",
       "AABARHQAAAAAAAAAiIgOAAAAAAAAABHRAQAAAAAAACAiOgAAAAAAAABERAcAAAAAAACAiOgAAAAA\n",
       "AAAAEBEdAAAAAAAAACKiAwAAAAAAAEBEdAAAAAAAAACIiA4AAAAAAAAAEdEBAAAAAAAAICI6AAAA\n",
       "AAAAAEREBwAAAAAAAICI6AAAAAAAAAAQER0AAAAAAAAAIqIDAAAAAAAAQER0AAAAAAAAAIiIDgAA\n",
       "AAAAAAAR0QEAAAAAAAAgIjoAAAAAAAAAREQHAAAAAAAAgIjoAAAAAAAAABARHQAAAAAAAAAiogMA\n",
       "AAAAAABARHQAAAAAAAAAiIgOAAAAAAAAABHRAQAAAAAAACAiOgAAAAAAAABERAcAAAAAAACAiOgA\n",
       "AAAAAAAAEBEdAAAAAAAAACKiAwAAAAAAAEBEdAAAAAAAAACIiA4AAAAAAAAAEdEBAAAAAAAAICI6\n",
       "AAAAAAAAAEREBwAAAAAAAICI6AAAAAAAAAAQER0AAAAAAAAAIqIDAAAAAAAAQER0AAAAAAAAAIiI\n",
       "DgAAAAAAAAAR0QEAAAAAAAAgIjoAAAAAAAAAREQHAAAAAAAAgIjoAAAAAAAAABARHQAAAAAAAAAi\n",
       "ogMAAAAAAABARHQAAAAAAAAAiIgOAAAAAAAAABHRAQAAAAAAACAiOgAAAAAAAABERAcAAAAAAACA\n",
       "iOgAAAAAAAAAEBEdAAAAAAAAACKiAwAAAAAAAEBEdAAAAAAAAACIiA4AAAAAAAAAEdEBAAAAAAAA\n",
       "ICI6AAAAAAAAAEREBwAAAAAAAICI6AAAAAAAAAAQER0AAAAAAAAAIqIDAAAAAAAAQER0AAAAAAAA\n",
       "AIiIDgAAAAAAAAAR0QEAAAAAAAAgIjoAAAAAAAAAREQHAAAAAAAAgIjoAAAAAAAAABARHQAAAAAA\n",
       "AAAiogMAAAAAAABARHQAAAAAAAAAiIgOAAAAAAAAABHRAQAAAAAAACAiOgAAAAAAAABERAcAAAAA\n",
       "AACAiOgAAAAAAAAAEBEdAAAAAAAAACKiAwAAAAAAAEBEdAAAAAAAAACIiA4AAAAAAAAAEdEBAAAA\n",
       "AAAAICI6AAAAAAAAAEREBwAAAAAAAICI6MeLgtcAABepSURBVAAAAAAAAAAQER0AAAAAAAAAIqID\n",
       "AAAAAAAAQER0AAAAAAAAAIiIDgAAAAAAAAAR0QEAAAAAAAAgIjoAAAAAAAAAREQHAAAAAAAAgIjo\n",
       "AAAAAAAAABARHQAAAAAAAAAiogMAAAAAAABARHQAAAAAAAAAiIgOAAAAAAAAABHRAQAAAAAAACAi\n",
       "OgAAAAAAAABERAcAAAAAAACAiOgAAAAAAAAAEBEdAAAAAAAAACKiAwAAAAAAAEBEdAAAAAAAAACI\n",
       "iA4AAAAAAAAAEdEBAAAAAAAAICI6AAAAAAAAAEREBwAAAAAAAICI6AAAAAAAAAAQER0AAAAAAAAA\n",
       "IqIDAAAAAAAAQER0AAAAAAAAAIiIDgAAAAAAAAAR0QEAAAAAAAAgIjoAAAAAAAAAREQHAAAAAAAA\n",
       "gIjoAAAAAAAAABARHQAAAAAAAAAiogMAAAAAAABARHQAAAAAAAAAiIgOAAAAAAAAABHRAQAAAAAA\n",
       "ACAiOgAAAAAAAABERAcAAAAAAACAiOgAAAAAAAAAEBEdAAAAAAAAACKiAwAAAAAAAEBEdAAAAAAA\n",
       "AACIiA4AAAAAAAAAEdEBAAAAAAAAICI6AAAAAAAAAEREBwAAAAAAAICI6AAAAAAAAAAQER0AAAAA\n",
       "AAAAIqIDAAAAAAAAQER0AAAAAAAAAIiIDgAAAAAAAAAR0QEAAAAAAAAgIjoAAAAAAAAAREQHAAAA\n",
       "AAAAgIjoAAAAAAAAABARHQAAAAAAAAAiogMAAAAAAABARHQAAAAAAAAAiIgOAAAAAAAAABHRAQAA\n",
       "AAAAACAiOgAAAAAAAABERAcAAAAAAACAiOgAAAAAAAAAEBEdAAAAAAAAACKiAwAAAAAAAEBEdAAA\n",
       "AAAAAACIiA4AAAAAAAAAEdEBAAAAAAAAICI6AAAAAAAAAEREBwAAAAAAAICI6AAAAAAAAAAQER0A\n",
       "AAAAAAAAIqIDAAAAAAAAQER0AAAAAAAAAIiIDgAAAAAAAAAR0QEAAAAAAAAgIjoAAAAAAAAAREQH\n",
       "AAAAAAAAgIjoAAAAAAAAABARHQAAAAAAAAAiogMAAAAAAABARHQAAAAAAAAAiIgOAAAAAAAAABHR\n",
       "AQAAAAAAACAiOgAAAAAAAABERAcAAAAAAACAiOgAAAAAAAAAEBEdAAAAAAAAACKiAwAAAAAAAEBE\n",
       "dAAAAAAAAACIiA4AAAAAAAAAEdEBAAAAAAAAICI6AAAAAAAAAEREBwAAAAAAAICI6AAAAAAAAAAQ\n",
       "ER0AAAAAAAAAIqIDAAAAAAAAQER0AAAAAAAAAIiIDgAAAAAAAAAR0QEAAAAAAAAgIjoAAAAAAAAA\n",
       "REQHAAAAAAAAgIjoAAAAAAAAABARHQAAAAAAAAAiogMAAAAAAABARHQAAAAAAAAAiIgOAAAAAAAA\n",
       "ABHRAQAAAAAAACAiOgAAAAAAAABERAcAAAAAAACAiOgAAAAAAAAAEBEdAAAAAAAAACKiAwAAAAAA\n",
       "AEBEdAAAAAAAAACIiA4AAAAAAAAAEdEBAAAAAAAAICI6AAAAAAAAAEREBwAAAAAAAICI6AAAAAAA\n",
       "AAAQER0AAAAAAAAAIqIDAAAAAAAAQER0AAAAAAAAAIiIDgAAAAAAAAAR0QEAAAAAAAAgIjoAAAAA\n",
       "AAAAREQHAAAAAAAAgIjoAAAAAAAAABARHQAAAAAAAAAiogMAAAAAAABARHQAAAAAAAAAiIgOAAAA\n",
       "AAAAABHRAQAAAAAAACAiOgAAAAAAAABERAcAAAAAAACAiOgAAAAAAAAAEBEdAAAAAAAAACKiAwAA\n",
       "AAAAAEBEdAAAAAAAAACIiA4AAAAAAAAAEdEBAAAAAAAAICI6AAAAAAAAAEREBwAAAAAAAICI6AAA\n",
       "AAAAAAAQER0AAAAAAAAAIqIDAAAAAAAAQER0AAAAAAAAAIiIDgAAAAAAAAAR0QEAAAAAAAAgIjoA\n",
       "AAAAAAAAREQHAAAAAAAAgIjoAAAAAAAAABARHQAAAAAAAAAiogMAAAAAAABARHQAAAAAAAAAiIgO\n",
       "AAAAAAAAABHRAQAAAAAAACAiOgAAAAAAAABERAcAAAAAAACAiOgAAAAAAAAAEBEdAAAAAAAAACKi\n",
       "AwAAAAAAAEBEdAAAAAAAAACIiA4AAAAAAAAAEdEBAAAAAAAAICI6AAAAAAAAAEREBwAAAAAAAICI\n",
       "6AAAAAAAAAAQER0AAAAAAAAAIqIDAAAAAAAAQER0AAAAAAAAAIiIDgAAAAAAAAAR0QEAAAAAAAAg\n",
       "IjoAAAAAAAAAREQHAAAAAAAAgIjoAAAAAAAAABARHQAAAAAAAAAiogMAAAAAAABARHQAAAAAAAAA\n",
       "iIgOAAAAAAAAABHRAQAAAAAAACAiOgAAAAAAAABERAcAAAAAAACAiOgAAAAAAAAAEBEdAAAAAACA\n",
       "q107xHEqCsAw2k7bwKBwGAyeHbAJBAgEq8OzBlaAG0NCghzEIJiEMBloMZ++iCbcG3LOCv70te/d\n",
       "vK8AREQHAAAAAAAAgIjoAAAAAAAAABARHQAAAAAAAAAiogMAAAAAAABARHQAAAAAAAAAiIgOAAAA\n",
       "AAAAABHRAQAAAAAAACAiOgAAAAAAAABERAcAAAAAAACAiOgAAAAAAAAAEBEdAAAAAAAAACKiAwAA\n",
       "AAAAAEBEdAAAAAAAAACIiA4AAAAAAAAAEdEBAAAAAAAAICI6AAAAAAAAAEREBwAAAAAAAICI6AAA\n",
       "AAAAAAAQER0AAAAAAAAAIqIDAAAAAAAAQER0AAAAAAAAAIiIDgAAAAAAAAAR0QEAAAAAAAAgIjoA\n",
       "AAAAAAAAREQHAAAAAAAAgIjoAAAAAAAAABARHQAAAAAAAAAiogMAAAAAAABARHQAAAAAAAAAiIgO\n",
       "AAAAAAAAABHRAQAAAAAAACAiOgAAAAAAAABERAcAAAAAAACAiOgAAAAAAAAAEBEdAAAAAAAAACKi\n",
       "AwAAAAAAAEBEdAAAAAAAAACIiA4AAAAAAAAAEdEBAAAAAAAAICI6AAAAAAAAAEREBwAAAAAAAICI\n",
       "6AAAAAAAAAAQER0AAAAAAAAAIqIDAAAAAAAAQER0AAAAAAAAAIiIDgAAAAAAAAAR0QEAAAAAAAAg\n",
       "IjoAAAAAAAAAREQHAAAAAAAAgIjoAAAAAAAAABARHQAAAAAAAAAiogMAAAAAAABARHQAAAAAAAAA\n",
       "iIgOAAAAAAAAABHRAQAAAAAAACAiOgAAAAAAAABERAcAAAAAAACAbDeb/Wn2iL959/zt7AlDr968\n",
       "nz1h6Pj6xewJQ7tnL2dPGNrvH82eMPTj9tPsCUOHLx9mTxg6XH2cPWHo7mrt79+3z09nTxj6ev1k\n",
       "9oSh6++PZ08Yuvl5OXvC0O39YfaEobvj2v9VPJ62sycM7bZrH1EPF8fZE4YeLr7vcv9r9oSh9ffd\n",
       "z54w9GD5fWtf38Nu7X373e/ZE4YuFr//rb5v7dPB+tY+vWw2p8XPf/adZ/Xz/eqfn33nOXmCnOW0\n",
       "+gOE/9ryv97lB65u7RvM6pd37be7AAAAAAAAAPAPiegAAAAAAAAAEBEdAAAAAAAAACKiAwAAAAAA\n",
       "AEBEdAAAAAAAAACIiA4AAAAAAAAAEdEBAAAAAAAAICI6AAAAAAAAAEREBwAAAAAAAICI6AAAAAAA\n",
       "AAAQER0AAAAAAAAAIqIDAAAAAAAAQER0AAAAAAAAAIiIDgAAAAAAAAAR0QEAAAAAAAAgIjoAAAAA\n",
       "AAAAREQHAAAAAAAAgIjoAAAAAAAAABARHQAAAAAAAAAiogMAAAAAAABARHQAAAAAAAAAiIgOAAAA\n",
       "AAAAABHRAQAAAAAAACAiOgAAAAAAAABERAcAAAAAAACAiOgAAAAAAAAAEBEdAAAAAAAAACKiAwAA\n",
       "AAAAAEBEdAAAAAAAAACIiA4AAAAAAAAAEdEBAAAAAAAAICI6AAAAAAAAAEREBwAAAAAAAICI6AAA\n",
       "AAAAAAAQER0AAAAAAAAAIqIDAAAAAAAAQER0AAAAAAAAAIiIDgAAAAAAAAAR0QEAAAAAAAAgIjoA\n",
       "AAAAAAAAREQHAAAAAAAAgIjoAAAAAAAAABARHQAAAAAAAAAiogMAAAAAAABARHQAAAAAAAAAiIgO\n",
       "AAAAAAAAABHRAQAAAAAAACAiOgAAAAAAAABERAcAAAAAAACAiOgAAAAAAAAAEBEdAAAAAAAAACKi\n",
       "AwAAAAAAAEBEdAAAAAAAAACIiA4AAAAAAAAAEdEBAAAAAAAAICI6AAAAAAAAAEREBwAAAAAAAICI\n",
       "6AAAAAAAAAAQER0AAAAAAAAAIqIDAAAAAAAAQER0AAAAAAAAAIiIDgAAAAAAAAAR0QEAAAAAAAAg\n",
       "IjoAAAAAAAAAREQHAAAAAAAAgIjoAAAAAAAAABARHQAAAAAAAAAiogMAAAAAAABARHQAAAAAAAAA\n",
       "iIgOAAAAAAAAABHRAQAAAAAAACAiOgAAAAAAAABERAcAAAAAAACAiOgAAAAAAAAAEBEdAAAAAAAA\n",
       "ACKiAwAAAAAAAEBEdAAAAAAAAACIiA4AAAAAAAAAEdEBAAAAAAAAICI6AAAAAAAAAEREBwAAAAAA\n",
       "AICI6AAAAAAAAAAQER0AAAAAAAAAIqIDAAAAAAAAQER0AAAAAAAAAIiIDgAAAAAAAAAR0QEAAAAA\n",
       "AAAgIjoAAAAAAAAAREQHAAAAAAAAgIjoAAAAAAAAABARHQAAAAAAAAAiogMAAAAAAABARHQAAAAA\n",
       "AAAAiIgOAAAAAAAAABHRAQAAAAAAACAiOgAAAAAAAABERAcAAAAAAACAiOgAAAAAAAAAEBEdAAAA\n",
       "AAAAACKiAwAAAAAAAEBEdAAAAAAAAACIiA4AAAAAAAAAEdEBAAAAAAAAICI6AAAAAAAAAEREBwAA\n",
       "AAAAAICI6AAAAAAAAAAQER0AAAAAAAAAIqIDAAAAAAAAQER0AAAAAAAAAIiIDgAAAAAAAAAR0QEA\n",
       "AAAAAAAgIjoAAAAAAAAAREQHAAAAAAAAgIjoAAAAAAAAABARHQAAAAAAAAAiogMAAAAAAABARHQA\n",
       "AAAAAAAAiIgOAAAAAAAAABHRAQAAAAAAACAiOgAAAAAAAABERAcAAAAAAACAiOgAAAAAAAAAEBEd\n",
       "AAAAAAAAACKiAwAAAAAAAEBEdAAAAAAAAACIiA4AAAAAAAAAEdEBAAAAAAAAICI6AAAAAAAAAERE\n",
       "BwAAAAAAAICI6AAAAAAAAAAQER0AAAAAAAAAIqIDAAAAAAAAQER0AAAAAAAAAIiIDgAAAAAAAAAR\n",
       "0QEAAAAAAAAgIjoAAAAAAAAAREQHAAAAAAAAgIjoAAAAAAAAABARHQAAAAAAAAAiogMAAAAAAABA\n",
       "RHQAAAAAAAAAiIgOAAAAAAAAABHRAQAAAAAAACAiOgAAAAAAAABERAcAAAAAAACAiOgAAAAAAAAA\n",
       "EBEdAAAAAAAAACKiAwAAAAAAAEBEdAAAAAAAAACIiA4AAAAAAAAAEdEBAAAAAAAAICI6AAAAAAAA\n",
       "AEREBwAAAAAAAICI6AAAAAAAAAAQER0AAAAAAAAAIqIDAAAAAAAAQER0AAAAAAAAAIiIDgAAAAAA\n",
       "AAAR0QEAAAAAAAAgIjoAAAAAAAAAREQHAAAAAAAAgIjoAAAAAAAAABARHQAAAAAAAAAiogMAAAAA\n",
       "AABARHQAAAAAAAAAiIgOAAAAAAAAABHRAQAAAAAAACAiOgAAAAAAAABERAcAAAAAAACAiOgAAAAA\n",
       "AAAAEBEdAAAAAAAAACKiAwAAAAAAAEBEdAAAAAAAAACIiA4AAAAAAAAAEdEBAAAAAAAAICI6AAAA\n",
       "AAAAAEREBwAAAAAAAICI6AAAAAAAAAAQER0AAAAAAAAAIqIDAAAAAAAAQER0AAAAAAAAAIiIDgAA\n",
       "AAAAAAAR0QEAAAAAAAAgIjoAAAAAAAAAREQHAAAAAAAAgIjoAAAAAAAAABARHQAAAAAAAAAiogMA\n",
       "AAAAAABARHQAAAAAAAAAiIgOAAAAAAAAABHRAQAAAAAAACAiOgAAAAAAAABERAcAAAAAAACAiOgA\n",
       "AAAAAAAAEBEdAAAAAAAAACKiAwAAAAAAAEBEdAAAAAAAAACIiA4AAAAAAAAAEdEBAAAAAAAAICI6\n",
       "AAAAAAAAAEREBwAAAAAAAICI6AAAAAAAAAAQER0AAAAAAAAAIqIDAAAAAAAAQER0AAAAAAAAAIiI\n",
       "DgAAAAAAAAAR0QEAAAAAAAAgIjoAAAAAAAAAREQHAAAAAAAAgIjoAAAAAAAAABARHQAAAAAAAAAi\n",
       "ogMAAAAAAABARHQAAAAAAAAAiIgOAAAAAAAAABHRAQAAAAAAACAiOgAAAAAAAABERAcAAAAAAACA\n",
       "iOgAAAAAAAAAEBEdAAAAAAAAACKiAwAAAAAAAEBEdAAAAAAAAACIiA4AAAAAAAAAEdEBAAAAAAAA\n",
       "ICI6AAAAAAAAAEREBwAAAAAAAICI6AAAAAAAAAAQER0AAAAAAAAAIqIDAAAAAAAAQER0AAAAAAAA\n",
       "AIiIDgAAAAAAAAAR0QEAAAAAAAAgIjoAAAAAAAAAREQHAAAAAAAAgIjoAAAAAAAAABARHQAAAAAA\n",
       "AAAiogMAAAAAAABARHQAAAAAAAAAiIgOAAAAAAAAABHRAQAAAAAAACAiOgAAAAAAAABERAcAAAAA\n",
       "AACAiOgAAAAAAAAAEBEdAAAAAAAAACKiAwAAAAAAAEBEdAAAAAAAAACIiA4AAAAAAAAAEdEBAAAA\n",
       "AAAAICI6AAAAAAAAAEREBwAAAAAAAICI6AAAAAAAAAAQER0AAAAAAAAAIqIDAAAAAAAAQER0AAAA\n",
       "AAAAAIiIDgAAAAAAAAAR0QEAAAAAAAAgIjoAAAAAAAAAREQHAAAAAAAAgIjoAAAAAAAAABARHQAA\n",
       "AAAAAAAiogMAAAAAAABARHQAAAAAAAAAiIgOAAAAAAAAABHRAQAAAAAAACAiOgAAAAAAAABERAcA\n",
       "AAAAAACAiOgAAAAAAAAAEBEdAAAAAAAAACKiAwAAAAAAAEBEdAAAAAAAAACIiA4AAAAAAAAAEdEB\n",
       "AAAAAAAAICI6AAAAAAAAAEREBwAAAAAAAICI6AAAAAAAAAAQER0AAAAAAAAAIqIDAAAAAAAAQER0\n",
       "AAAAAAAAAIiIDgAAAAAAAAAR0QEAAAAAAAAgIjoAAAAAAAAAREQHAAAAAAAAgIjoAAAAAAAAABAR\n",
       "HQAAAAAAAAAiogMAAAAAAABARHQAAAAAAAAAiIgOAAAAAAAAABHRAQAAAAAAACAiOgAAAAAAAABE\n",
       "RAcAAAAAAACAiOgAAAAAAAAAEBEdAAAAAAAAACKiAwAAAAAAAEBEdAAAAAAAAACIiA4AAAAAAAAA\n",
       "EdEBAAAAAAAAICI6AAAAAAAAAEREBwAAAAAAAICI6AAAAAAAAAAQER0AAAAAAAAAIqIDAAAAAAAA\n",
       "QER0AAAAAAAAAIiIDgAAAAAAAAAR0QEAAAAAAAAgIjoAAAAAAAAAREQHAAAAAAAAgIjoAAAAAAAA\n",
       "ABARHQAAAAAAAAAiogMAAAAAAABARHQAAAAAAAAAiIgOAAAAAAAAABHRAQAAAAAAACAiOgAAAAAA\n",
       "AABERAcAAAAAAACAiOgAAAAAAAAAEBEdAAAAAAAAACKiAwAAAAAAAEBEdAAAAAAAAACIiA4AAAAA\n",
       "AAAAEdEBAAAAAAAAICI6AAAAAAAAAEREBwAAAAAAAICI6AAAAAAAAAAQER0AAAAAAAAAIqIDAAAA\n",
       "AAAAQER0AAAAAAAAAIiIDgAAAAAAAAAR0QEAAAAAAAAgIjoAAAAAAAAAREQHAAAAAAAAgIjoAAAA\n",
       "AAAAABARHQAAAAAAAAAiogMAAAAAAABARHQAAAAAAAAAiIgOAAAAAAAAABHRAQAAAAAAACAiOgAA\n",
       "AAAAAABERAcAAAAAAACAiOgAAAAAAAAAEBEdAAAAAAAAACKiAwAAAAAAAEBEdAAAAAAAAACIiA4A\n",
       "AAAAAAAAEdEBAAAAAAAAICI6AAAAAAAAAEREBwAAAAAAAICI6AAAAAAAAAAQER0AAAAAAAAAIqID\n",
       "AAAAAAAAQER0AAAAAAAAAIiIDgAAAAAAAAAR0QEAAAAAAAAgIjoAAAAAAAAAREQHAAAAAAAAgIjo\n",
       "AAAAAAAAABARHQAAAAAAAAAiogMAAAAAAABARHQAAAAAAAAAiIgOAAAAAAAAAPkD1KlX5LIAf3gA\n",
       "AAAASUVORK5CYII=\n",
       "\" transform=\"translate(112, 47)\"/>\n",
       "</g>\n",
       "<defs>\n",
       "  <clipPath id=\"clip503\">\n",
       "    <rect x=\"2160\" y=\"47\" width=\"73\" height=\"1440\"/>\n",
       "  </clipPath>\n",
       "</defs>\n",
       "<g clip-path=\"url(#clip503)\">\n",
       "<image width=\"72\" height=\"1439\" xlink:href=\"data:image/png;base64,\n",
       "iVBORw0KGgoAAAANSUhEUgAAAEgAAAWfCAYAAAAI7rB3AAAMWUlEQVR4nO3dwY0rRxAFwaZQ/lsh\n",
       "L6XfLQtUeSQPERYsEg8c9MyQ+/n3/v0O/+uvb/8Bv06gIFAQKAgU5r5/v/03/DQLCgIFgYJAQaAw\n",
       "7/359t/w0ywoCBQECgIFR41gQUGgIFAQKAgU5rmKrSwoCBQECgIFgcK86yq2saAgUBAoCBQcNYIF\n",
       "BYGCQEGgIFBwFQsWFAQKAgWBgvtBwYKCQEGgIFAQKMxx1FhZUBAoCBQECgIFN8yCBQWBgkBBoDDH\n",
       "DbOVBQWBgkBBoCBQmHP/+fbf8NMsKAgUBAoCBYGCxz7BgoJAQaAgUHDDLFhQECgIFAQKAgVXsWBB\n",
       "QaAgUBAouB8ULCgIFAQKAgWBwnwcNVYWFAQKAgWBgkBhzvWfWTYWFAQKAgWBgqNGsKAgUBAoCBQE\n",
       "Co4awYKCQEGgIFAQKHjDLFhQECgIFAQK83HUWFlQECgIFAQKAgXvSQcLCgIFgYJAwVEjWFAQKAgU\n",
       "BAoCBc/mgwUFgYJAQaAgUHAWCxYUBAoCBYGCo0awoCBQECgIFAQKjhrBgoJAQaAgUBAozLn323/D\n",
       "T7OgIFAQKAgUHDWCBQWBgkBBoCBQ8NgnWFAQKAgUBAo+pIMFBYGCQEGgIFCYj6caKwsKAgWBgkBB\n",
       "oOAsFiwoCBQECgIFL1AFCwoCBYGCQEGg4IZZsKAgUBAoCBTcDwoWFAQKAgWBgkDBDbNgQUGgIFAQ\n",
       "KAgUXMWCBQWBgkBBoOB788GCgkBBoCBQECg4agQLCgIFgYJAQaDgKhYsKAgUBAoCBR/SwYKCQEGg\n",
       "IFAQKLiKBQsKAgWBgkBhzvMhvbGgIFAQKAgUBAqOGsGCgkBBoCBQECi4igULCgIFgYJAwYd0sKAg\n",
       "UBAoCBQECnPu+/bf8NMsKAgUBAoCBYGCs1iwoCBQECgIFBw1ggUFgYJAQaAgUHDUCBYUBAoCBYGC\n",
       "o0awoCBQECgIFAQKc5w0VhYUBAoCBYGCQGHOcxbbWFAQKAgUBAqOGsGCgkBBoCBQECi4igULCgIF\n",
       "gYJAQaAwfohzZ0FBoCBQECg4agQLCgIFgYJAQaDgKhYsKAgUBAoChTn38+2/4adZUBAoCBQECgKF\n",
       "ec9VbGNBQaAgUBAoCBTcMAsWFAQKAgWBghtmwYKCQEGgIFAQKMy7Gm3UCQIFgYJAwVEjWFAQKAgU\n",
       "BAoChTmeza8sKAgUBAoCBYHCPGexlQUFgYJAQaAwx1ONlTpBoCBQECgIFBw1ggUFgYJAQaAgUPDY\n",
       "J1hQECgIFAQKXgMO6gSBgkBBoCBQ8J50sKAgUBAoCBQ81QgWFAQKAgWBgkBh3tNoo04QKAgUBAoC\n",
       "BTfMggUFgYJAQaDghlmwoCBQECgIFAQKc9wwW6kTBAoCBYGCQMFZLFhQECgIFAQKPqSDBQWBgkBB\n",
       "oCBQ8L35YEFBoCBQECj43nxQJwgUBAoCBYHCPEeNlQUFgYJAQaAgUPDYJ1hQECgIFAQK/jNLUCcI\n",
       "FAQKAgWBghtmwYKCQEGgIFAQKLhhFiwoCBQECgIFR41gQUGgIFAQKAgUvCcd1AkCBYGCQMFRI1hQ\n",
       "ECgIFAQKAgVPNYIFBYGCQEGgIFBwFgsWFAQKAgWBgn+fFSwoCBQECgIFgYJ/ZRzUCQIFgYJAQaDg\n",
       "hlmwoCBQECgIFDybDxYUBAoCBYGCQMFRI1hQECgIFAQKc31IrywoCBQECgIFgYLvzQd1gkBBoCBQ\n",
       "ECi4YRYsKAgUBAoCBR/SwYKCQEGgIFAQKHjDLFhQECgIFAQKjhrBgoJAQaAgUBAouIoFCwoCBYGC\n",
       "QEGg4NdfgjpBoCBQECjM9VRjZUFBoCBQECgIFNwwCxYUBAoCBYGCQMFVLFhQECgIFAQKPqSDBQWB\n",
       "gkBBoCBQ8BtmwYKCQEGgIFBw1AgWFAQKAgWBgkDBVSxYUBAoCBQECgIFX2YJ6gSBgkBBoODLLMGC\n",
       "gkBBoCBQECi4YRYsKAgUBAoCBYGCq1iwoCBQECgIFLwGHCwoCBQECgIFgYKjRrCgIFAQKAgU5h0f\n",
       "0hsLCgIFgYJAQaDghlmwoCBQECgIFAQKbpgFCwoCBYGCQMFRI1hQECgIFAQKAgVHjWBBQaAgUBAo\n",
       "CBScxYIFBYGCQEGg4KgRLCgIFAQKAgWBgqtYsKAgUBAoCBTm+jLLyoKCQEGgIFAQKDhqBAsKAgWB\n",
       "gkBBoODZfLCgIFAQKAgU5r1v/wm/zYKCQEGgIFAQKDhqBAsKAgWBgkDBD00GCwoCBYGCQEGg4KgR\n",
       "LCgIFAQKAgWBgjfMggUFgYJAQaDgyyzBgoJAQaAgUBAoeMMsWFAQKAgUBAoCBY99ggUFgYJAQaDg\n",
       "qUawoCBQECgIFAQKHvsECwoCBYGCQMH9oGBBQaAgUBAoCBQ8mw8WFAQKAgWBgkDBDbNgQUGgIFAQ\n",
       "KHg2HywoCBQECgIFgcLcb/8FP86CgkBBoCBQECg4iwULCgIFgYJAwRtmwYKCQEGgIFAQKLhhFiwo\n",
       "CBQECgIF94OCBQWBgkBBoCBQcNQIFhQECgIFgYJAwVksWFAQKAgUBAqezQcLCgIFgYJAQaAwfvxl\n",
       "Z0FBoCBQECgIFJzFggUFgYJAQaDg2XywoCBQECgIFAQKns0HCwoCBYGCQMFRI1hQECgIFAQKAgVH\n",
       "jWBBQaAgUBAoCBTmesVsZUFBoCBQECi4YRYsKAgUBAoCBYGCG2bBgoJAQaAgUHDUCBYUBAoCBYGC\n",
       "QGGepxorCwoCBYGCQEGgMPe4YbaxoCBQECgIFLxAFSwoCBQECgIFgYIfmgwWFAQKAgWBgkDBD00G\n",
       "CwoCBYGCQMGz+WBBQaAgUBAoCBS8Jx0sKAgUBAoCBd84DBYUBAoCBYGCQMFRI1hQECgIFAQKAgXv\n",
       "SQcLCgIFgYJAwWvAwYKCQEGgIFAQKDhqBAsKAgWBgkBBoOA96WBBQaAgUBAo+ImuYEFBoCBQECgI\n",
       "FNwwCxYUBAoCBYGCZ/PBgoJAQaAgUBAoOGoECwoCBYGCQEGg4CwWLCgIFAQKAgVHjWBBQaAgUBAo\n",
       "CBRcxYIFBYGCQEGgIFBwwyxYUBAoCBQECo4awYKCQEGgIFAQKDhqBAsKAgWBgkDBUSNYUBAoCBQE\n",
       "CgIFP9EVLCgIFAQKAgWBgv8vFiwoCBQECgIFN8yCBQWBgkBBoCBQmHdcxjYWFAQKAgWBgkDBWSxY\n",
       "UBAoCBQECp7NBwsKAgWBgkBBoODZfLCgIFAQKAgU3A8KFhQECgIFgYJAwbP5YEFBoCBQECgIFJzF\n",
       "ggUFgYJAQaDgJ7qCBQWBgkBBoCBQmOsVs5UFBYGCQEGg4AWqYEFBoCBQECgIFOY5aqwsKAgUBAoC\n",
       "BYGCs1iwoCBQECgIFDzVCBYUBAoCBYGCQMEbZsGCgkBBoCBQECjM9ZXMlQUFgYJAQaDghlmwoCBQ\n",
       "ECgIFAQKfv0lWFAQKAgUBApeoAoWFAQKAgWBgkDBU41gQUGgIFAQKAgU3DALFhQECgIFgcLc45bZ\n",
       "xoKCQEGgIFAQKLhhFiwoCBQECgIFgYKrWLCgIFAQKAgUPNUIFhQECgIFgYJAwWOfYEFBoCBQECjM\n",
       "/ThqbCwoCBQECgIFgYKjRrCgIFAQKAgUBArzXMVWFhQECgIFgYKjRrCgIFAQKAgUBApzP65iGwsK\n",
       "AgWBgkBBoOAsFiwoCBQECgIFTzWCBQWBgkBBoCBQcNQIFhQECgIFgYIP6WBBQaAgUBAoCBQ8mw8W\n",
       "FAQKAgWBgkBh3vnz7b/hp1lQECgIFAQKbpgFCwoCBYGCQEGg4A2zYEFBoCBQECjMfe4HbSwoCBQE\n",
       "CgIFgYKjRrCgIFAQKAgUBApzPZtfWVAQKAgUBAqOGsGCgkBBoCBQECg4agQLCgIFgYJAQaAw7zmL\n",
       "bSwoCBQECgIFN8yCBQWBgkBBoCBQ8J50sKAgUBAoCBQcNYIFBYGCQEGgIFCY56ixsqAgUBAoCBQE\n",
       "Cs5iwYKCQEGgIFCY6wWqlQUFgYJAQaAgUPCb9sGCgkBBoCBQECj4MkuwoCBQECgIFDzVCBYUBAoC\n",
       "BYGCQMFRI1hQECgIFAQKPqSDBQWBgkBBoCBQ8Gw+WFAQKAgUBAoCBWexYEFBoCBQECjM8Wx+ZUFB\n",
       "oCBQECgIFBw1ggUFgYJAQaAgUPCedLCgIFAQKAgU5jhqrCwoCBQECgIFgYI3zIIFBYGCQEGg4Nl8\n",
       "sKAgUBAoCBQECm6YBQsKAgWBgkBBoDDvvG//DT/NgoJAQaAgUHDDLFhQECgIFAQKAoU5jhorCwoC\n",
       "BYGCQOE/LrLuTX/wFc8AAAAASUVORK5CYII=\n",
       "\" transform=\"translate(2161, 47)\"/>\n",
       "</g>\n",
       "<path clip-path=\"url(#clip500)\" d=\"M2268.76 1353.15 L2298.43 1353.15 L2298.43 1357.08 L2268.76 1357.08 L2268.76 1353.15 Z\" fill=\"#000000\" fill-rule=\"evenodd\" fill-opacity=\"1\" /><path clip-path=\"url(#clip500)\" d=\"M2322.69 1351.34 Q2326.05 1352.06 2327.92 1354.33 Q2329.82 1356.6 2329.82 1359.93 Q2329.82 1365.05 2326.3 1367.85 Q2322.78 1370.65 2316.3 1370.65 Q2314.13 1370.65 2311.81 1370.21 Q2309.52 1369.79 2307.07 1368.94 L2307.07 1364.42 Q2309.01 1365.56 2311.33 1366.13 Q2313.64 1366.71 2316.16 1366.71 Q2320.56 1366.71 2322.85 1364.98 Q2325.17 1363.24 2325.17 1359.93 Q2325.17 1356.87 2323.01 1355.16 Q2320.89 1353.43 2317.07 1353.43 L2313.04 1353.43 L2313.04 1349.58 L2317.25 1349.58 Q2320.7 1349.58 2322.53 1348.22 Q2324.36 1346.83 2324.36 1344.24 Q2324.36 1341.57 2322.46 1340.16 Q2320.58 1338.73 2317.07 1338.73 Q2315.14 1338.73 2312.95 1339.14 Q2310.75 1339.56 2308.11 1340.44 L2308.11 1336.27 Q2310.77 1335.53 2313.08 1335.16 Q2315.42 1334.79 2317.48 1334.79 Q2322.81 1334.79 2325.91 1337.22 Q2329.01 1339.63 2329.01 1343.75 Q2329.01 1346.62 2327.37 1348.61 Q2325.72 1350.58 2322.69 1351.34 Z\" fill=\"#000000\" fill-rule=\"evenodd\" fill-opacity=\"1\" /><path clip-path=\"url(#clip500)\" d=\"M2268.76 1138.09 L2298.43 1138.09 L2298.43 1142.02 L2268.76 1142.02 L2268.76 1138.09 Z\" fill=\"#000000\" fill-rule=\"evenodd\" fill-opacity=\"1\" /><path clip-path=\"url(#clip500)\" d=\"M2312.55 1150.98 L2328.87 1150.98 L2328.87 1154.92 L2306.93 1154.92 L2306.93 1150.98 Q2309.59 1148.23 2314.17 1143.6 Q2318.78 1138.94 2319.96 1137.6 Q2322.2 1135.08 2323.08 1133.34 Q2323.99 1131.58 2323.99 1129.89 Q2323.99 1127.14 2322.04 1125.4 Q2320.12 1123.67 2317.02 1123.67 Q2314.82 1123.67 2312.37 1124.43 Q2309.94 1125.19 2307.16 1126.74 L2307.16 1122.02 Q2309.98 1120.89 2312.44 1120.31 Q2314.89 1119.73 2316.93 1119.73 Q2322.3 1119.73 2325.49 1122.42 Q2328.69 1125.1 2328.69 1129.59 Q2328.69 1131.72 2327.88 1133.64 Q2327.09 1135.54 2324.98 1138.13 Q2324.4 1138.8 2321.3 1142.02 Q2318.2 1145.22 2312.55 1150.98 Z\" fill=\"#000000\" fill-rule=\"evenodd\" fill-opacity=\"1\" /><path clip-path=\"url(#clip500)\" d=\"M2268.76 923.025 L2298.43 923.025 L2298.43 926.961 L2268.76 926.961 L2268.76 923.025 Z\" fill=\"#000000\" fill-rule=\"evenodd\" fill-opacity=\"1\" /><path clip-path=\"url(#clip500)\" d=\"M2309.33 935.919 L2316.97 935.919 L2316.97 909.553 L2308.66 911.22 L2308.66 906.961 L2316.93 905.294 L2321.6 905.294 L2321.6 935.919 L2329.24 935.919 L2329.24 939.854 L2309.33 939.854 L2309.33 935.919 Z\" fill=\"#000000\" fill-rule=\"evenodd\" fill-opacity=\"1\" /><path clip-path=\"url(#clip500)\" d=\"M2280.7 693.311 Q2277.09 693.311 2275.26 696.876 Q2273.45 700.418 2273.45 707.547 Q2273.45 714.654 2275.26 718.219 Q2277.09 721.76 2280.7 721.76 Q2284.33 721.76 2286.14 718.219 Q2287.97 714.654 2287.97 707.547 Q2287.97 700.418 2286.14 696.876 Q2284.33 693.311 2280.7 693.311 M2280.7 689.608 Q2286.51 689.608 2289.57 694.214 Q2292.64 698.797 2292.64 707.547 Q2292.64 716.274 2289.57 720.881 Q2286.51 725.464 2280.7 725.464 Q2274.89 725.464 2271.81 720.881 Q2268.76 716.274 2268.76 707.547 Q2268.76 698.797 2271.81 694.214 Q2274.89 689.608 2280.7 689.608 Z\" fill=\"#000000\" fill-rule=\"evenodd\" fill-opacity=\"1\" /><path clip-path=\"url(#clip500)\" d=\"M2269.43 505.796 L2277.07 505.796 L2277.07 479.431 L2268.76 481.097 L2268.76 476.838 L2277.02 475.171 L2281.7 475.171 L2281.7 505.796 L2289.33 505.796 L2289.33 509.731 L2269.43 509.731 L2269.43 505.796 Z\" fill=\"#000000\" fill-rule=\"evenodd\" fill-opacity=\"1\" /><path clip-path=\"url(#clip500)\" d=\"M2274.38 290.735 L2290.7 290.735 L2290.7 294.67 L2268.76 294.67 L2268.76 290.735 Q2271.42 287.98 2276 283.351 Q2280.61 278.698 2281.79 277.355 Q2284.03 274.832 2284.91 273.096 Q2285.82 271.337 2285.82 269.647 Q2285.82 266.892 2283.87 265.156 Q2281.95 263.42 2278.85 263.42 Q2276.65 263.42 2274.2 264.184 Q2271.77 264.948 2268.99 266.499 L2268.99 261.777 Q2271.81 260.642 2274.27 260.064 Q2276.72 259.485 2278.76 259.485 Q2284.13 259.485 2287.32 262.17 Q2290.52 264.855 2290.52 269.346 Q2290.52 271.476 2289.7 273.397 Q2288.92 275.295 2286.81 277.888 Q2286.23 278.559 2283.13 281.776 Q2280.03 284.971 2274.38 290.735 Z\" fill=\"#000000\" fill-rule=\"evenodd\" fill-opacity=\"1\" /><path clip-path=\"url(#clip500)\" d=\"M2284.38 60.9744 Q2287.74 61.692 2289.61 63.9605 Q2291.51 66.229 2291.51 69.5623 Q2291.51 74.678 2287.99 77.4789 Q2284.47 80.2798 2277.99 80.2798 Q2275.82 80.2798 2273.5 79.84 Q2271.21 79.4233 2268.76 78.5669 L2268.76 74.053 Q2270.7 75.1873 2273.02 75.766 Q2275.33 76.3447 2277.85 76.3447 Q2282.25 76.3447 2284.54 74.6086 Q2286.86 72.8725 2286.86 69.5623 Q2286.86 66.5067 2284.7 64.7938 Q2282.58 63.0577 2278.76 63.0577 L2274.73 63.0577 L2274.73 59.2151 L2278.94 59.2151 Q2282.39 59.2151 2284.22 57.8494 Q2286.05 56.4605 2286.05 53.8679 Q2286.05 51.2059 2284.15 49.7939 Q2282.27 48.3587 2278.76 48.3587 Q2276.83 48.3587 2274.64 48.7754 Q2272.44 49.192 2269.8 50.0716 L2269.8 45.905 Q2272.46 45.1643 2274.77 44.7939 Q2277.11 44.4235 2279.17 44.4235 Q2284.5 44.4235 2287.6 46.8541 Q2290.7 49.2615 2290.7 53.3818 Q2290.7 56.2522 2289.06 58.2429 Q2287.41 60.2105 2284.38 60.9744 Z\" fill=\"#000000\" fill-rule=\"evenodd\" fill-opacity=\"1\" /><polyline clip-path=\"url(#clip500)\" style=\"stroke:#000000; stroke-linecap:butt; stroke-linejoin:round; stroke-width:4; stroke-opacity:1; fill:none\" points=\"\n",
       "  2232.76,1486.45 2232.76,1356.33 2256.76,1356.33 2232.76,1356.33 2232.76,1141.26 2256.76,1141.26 2232.76,1141.26 2232.76,926.203 2256.76,926.203 2232.76,926.203 \n",
       "  2232.76,711.141 2256.76,711.141 2232.76,711.141 2232.76,496.08 2256.76,496.08 2232.76,496.08 2232.76,281.019 2256.76,281.019 2232.76,281.019 2232.76,65.9573 \n",
       "  2256.76,65.9573 2232.76,65.9573 2232.76,47.2441 \n",
       "  \"/>\n",
       "</svg>\n"
      ]
     },
     "execution_count": 51,
     "metadata": {},
     "output_type": "execute_result"
    }
   ],
   "source": [
    "using Plots\n",
    "heatmap(u_hist)"
   ]
  },
  {
   "cell_type": "code",
   "execution_count": 52,
   "id": "2767a9b3",
   "metadata": {},
   "outputs": [
    {
     "data": {
      "image/svg+xml": [
       "<?xml version=\"1.0\" encoding=\"utf-8\"?>\n",
       "<svg xmlns=\"http://www.w3.org/2000/svg\" xmlns:xlink=\"http://www.w3.org/1999/xlink\" width=\"600\" height=\"400\" viewBox=\"0 0 2400 1600\">\n",
       "<defs>\n",
       "  <clipPath id=\"clip540\">\n",
       "    <rect x=\"0\" y=\"0\" width=\"2400\" height=\"1600\"/>\n",
       "  </clipPath>\n",
       "</defs>\n",
       "<path clip-path=\"url(#clip540)\" d=\"\n",
       "M0 1600 L2400 1600 L2400 0 L0 0  Z\n",
       "  \" fill=\"#ffffff\" fill-rule=\"evenodd\" fill-opacity=\"1\"/>\n",
       "<defs>\n",
       "  <clipPath id=\"clip541\">\n",
       "    <rect x=\"480\" y=\"0\" width=\"1681\" height=\"1600\"/>\n",
       "  </clipPath>\n",
       "</defs>\n",
       "<path clip-path=\"url(#clip540)\" d=\"\n",
       "M156.274 1486.45 L2352.76 1486.45 L2352.76 47.2441 L156.274 47.2441  Z\n",
       "  \" fill=\"#ffffff\" fill-rule=\"evenodd\" fill-opacity=\"1\"/>\n",
       "<defs>\n",
       "  <clipPath id=\"clip542\">\n",
       "    <rect x=\"156\" y=\"47\" width=\"2197\" height=\"1440\"/>\n",
       "  </clipPath>\n",
       "</defs>\n",
       "<polyline clip-path=\"url(#clip542)\" style=\"stroke:#000000; stroke-linecap:butt; stroke-linejoin:round; stroke-width:2; stroke-opacity:0.1; fill:none\" points=\"\n",
       "  176.15,1486.45 176.15,47.2441 \n",
       "  \"/>\n",
       "<polyline clip-path=\"url(#clip542)\" style=\"stroke:#000000; stroke-linecap:butt; stroke-linejoin:round; stroke-width:2; stroke-opacity:0.1; fill:none\" points=\"\n",
       "  599.038,1486.45 599.038,47.2441 \n",
       "  \"/>\n",
       "<polyline clip-path=\"url(#clip542)\" style=\"stroke:#000000; stroke-linecap:butt; stroke-linejoin:round; stroke-width:2; stroke-opacity:0.1; fill:none\" points=\"\n",
       "  1021.93,1486.45 1021.93,47.2441 \n",
       "  \"/>\n",
       "<polyline clip-path=\"url(#clip542)\" style=\"stroke:#000000; stroke-linecap:butt; stroke-linejoin:round; stroke-width:2; stroke-opacity:0.1; fill:none\" points=\"\n",
       "  1444.81,1486.45 1444.81,47.2441 \n",
       "  \"/>\n",
       "<polyline clip-path=\"url(#clip542)\" style=\"stroke:#000000; stroke-linecap:butt; stroke-linejoin:round; stroke-width:2; stroke-opacity:0.1; fill:none\" points=\"\n",
       "  1867.7,1486.45 1867.7,47.2441 \n",
       "  \"/>\n",
       "<polyline clip-path=\"url(#clip542)\" style=\"stroke:#000000; stroke-linecap:butt; stroke-linejoin:round; stroke-width:2; stroke-opacity:0.1; fill:none\" points=\"\n",
       "  2290.59,1486.45 2290.59,47.2441 \n",
       "  \"/>\n",
       "<polyline clip-path=\"url(#clip540)\" style=\"stroke:#000000; stroke-linecap:butt; stroke-linejoin:round; stroke-width:4; stroke-opacity:1; fill:none\" points=\"\n",
       "  156.274,1486.45 2352.76,1486.45 \n",
       "  \"/>\n",
       "<polyline clip-path=\"url(#clip540)\" style=\"stroke:#000000; stroke-linecap:butt; stroke-linejoin:round; stroke-width:4; stroke-opacity:1; fill:none\" points=\"\n",
       "  176.15,1486.45 176.15,1467.55 \n",
       "  \"/>\n",
       "<polyline clip-path=\"url(#clip540)\" style=\"stroke:#000000; stroke-linecap:butt; stroke-linejoin:round; stroke-width:4; stroke-opacity:1; fill:none\" points=\"\n",
       "  599.038,1486.45 599.038,1467.55 \n",
       "  \"/>\n",
       "<polyline clip-path=\"url(#clip540)\" style=\"stroke:#000000; stroke-linecap:butt; stroke-linejoin:round; stroke-width:4; stroke-opacity:1; fill:none\" points=\"\n",
       "  1021.93,1486.45 1021.93,1467.55 \n",
       "  \"/>\n",
       "<polyline clip-path=\"url(#clip540)\" style=\"stroke:#000000; stroke-linecap:butt; stroke-linejoin:round; stroke-width:4; stroke-opacity:1; fill:none\" points=\"\n",
       "  1444.81,1486.45 1444.81,1467.55 \n",
       "  \"/>\n",
       "<polyline clip-path=\"url(#clip540)\" style=\"stroke:#000000; stroke-linecap:butt; stroke-linejoin:round; stroke-width:4; stroke-opacity:1; fill:none\" points=\"\n",
       "  1867.7,1486.45 1867.7,1467.55 \n",
       "  \"/>\n",
       "<polyline clip-path=\"url(#clip540)\" style=\"stroke:#000000; stroke-linecap:butt; stroke-linejoin:round; stroke-width:4; stroke-opacity:1; fill:none\" points=\"\n",
       "  2290.59,1486.45 2290.59,1467.55 \n",
       "  \"/>\n",
       "<path clip-path=\"url(#clip540)\" d=\"M176.15 1517.37 Q172.539 1517.37 170.71 1520.93 Q168.905 1524.47 168.905 1531.6 Q168.905 1538.71 170.71 1542.27 Q172.539 1545.82 176.15 1545.82 Q179.784 1545.82 181.59 1542.27 Q183.418 1538.71 183.418 1531.6 Q183.418 1524.47 181.59 1520.93 Q179.784 1517.37 176.15 1517.37 M176.15 1513.66 Q181.96 1513.66 185.016 1518.27 Q188.094 1522.85 188.094 1531.6 Q188.094 1540.33 185.016 1544.94 Q181.96 1549.52 176.15 1549.52 Q170.34 1549.52 167.261 1544.94 Q164.206 1540.33 164.206 1531.6 Q164.206 1522.85 167.261 1518.27 Q170.34 1513.66 176.15 1513.66 Z\" fill=\"#000000\" fill-rule=\"evenodd\" fill-opacity=\"1\" /><path clip-path=\"url(#clip540)\" d=\"M573.726 1544.91 L581.365 1544.91 L581.365 1518.55 L573.055 1520.21 L573.055 1515.95 L581.318 1514.29 L585.994 1514.29 L585.994 1544.91 L593.633 1544.91 L593.633 1548.85 L573.726 1548.85 L573.726 1544.91 Z\" fill=\"#000000\" fill-rule=\"evenodd\" fill-opacity=\"1\" /><path clip-path=\"url(#clip540)\" d=\"M613.077 1517.37 Q609.466 1517.37 607.638 1520.93 Q605.832 1524.47 605.832 1531.6 Q605.832 1538.71 607.638 1542.27 Q609.466 1545.82 613.077 1545.82 Q616.712 1545.82 618.517 1542.27 Q620.346 1538.71 620.346 1531.6 Q620.346 1524.47 618.517 1520.93 Q616.712 1517.37 613.077 1517.37 M613.077 1513.66 Q618.888 1513.66 621.943 1518.27 Q625.022 1522.85 625.022 1531.6 Q625.022 1540.33 621.943 1544.94 Q618.888 1549.52 613.077 1549.52 Q607.267 1549.52 604.189 1544.94 Q601.133 1540.33 601.133 1531.6 Q601.133 1522.85 604.189 1518.27 Q607.267 1513.66 613.077 1513.66 Z\" fill=\"#000000\" fill-rule=\"evenodd\" fill-opacity=\"1\" /><path clip-path=\"url(#clip540)\" d=\"M1000.7 1544.91 L1017.02 1544.91 L1017.02 1548.85 L995.075 1548.85 L995.075 1544.91 Q997.737 1542.16 1002.32 1537.53 Q1006.93 1532.88 1008.11 1531.53 Q1010.35 1529.01 1011.23 1527.27 Q1012.13 1525.51 1012.13 1523.82 Q1012.13 1521.07 1010.19 1519.33 Q1008.27 1517.6 1005.17 1517.6 Q1002.97 1517.6 1000.51 1518.36 Q998.084 1519.13 995.306 1520.68 L995.306 1515.95 Q998.13 1514.82 1000.58 1514.24 Q1003.04 1513.66 1005.07 1513.66 Q1010.45 1513.66 1013.64 1516.35 Q1016.83 1519.03 1016.83 1523.52 Q1016.83 1525.65 1016.02 1527.57 Q1015.24 1529.47 1013.13 1532.07 Q1012.55 1532.74 1009.45 1535.95 Q1006.35 1539.15 1000.7 1544.91 Z\" fill=\"#000000\" fill-rule=\"evenodd\" fill-opacity=\"1\" /><path clip-path=\"url(#clip540)\" d=\"M1036.83 1517.37 Q1033.22 1517.37 1031.39 1520.93 Q1029.59 1524.47 1029.59 1531.6 Q1029.59 1538.71 1031.39 1542.27 Q1033.22 1545.82 1036.83 1545.82 Q1040.47 1545.82 1042.27 1542.27 Q1044.1 1538.71 1044.1 1531.6 Q1044.1 1524.47 1042.27 1520.93 Q1040.47 1517.37 1036.83 1517.37 M1036.83 1513.66 Q1042.64 1513.66 1045.7 1518.27 Q1048.78 1522.85 1048.78 1531.6 Q1048.78 1540.33 1045.7 1544.94 Q1042.64 1549.52 1036.83 1549.52 Q1031.02 1549.52 1027.94 1544.94 Q1024.89 1540.33 1024.89 1531.6 Q1024.89 1522.85 1027.94 1518.27 Q1031.02 1513.66 1036.83 1513.66 Z\" fill=\"#000000\" fill-rule=\"evenodd\" fill-opacity=\"1\" /><path clip-path=\"url(#clip540)\" d=\"M1433.66 1530.21 Q1437.01 1530.93 1438.89 1533.2 Q1440.79 1535.47 1440.79 1538.8 Q1440.79 1543.92 1437.27 1546.72 Q1433.75 1549.52 1427.27 1549.52 Q1425.09 1549.52 1422.78 1549.08 Q1420.49 1548.66 1418.03 1547.81 L1418.03 1543.29 Q1419.98 1544.43 1422.29 1545.01 Q1424.61 1545.58 1427.13 1545.58 Q1431.53 1545.58 1433.82 1543.85 Q1436.13 1542.11 1436.13 1538.8 Q1436.13 1535.75 1433.98 1534.03 Q1431.85 1532.3 1428.03 1532.3 L1424 1532.3 L1424 1528.45 L1428.22 1528.45 Q1431.67 1528.45 1433.5 1527.09 Q1435.32 1525.7 1435.32 1523.11 Q1435.32 1520.45 1433.43 1519.03 Q1431.55 1517.6 1428.03 1517.6 Q1426.11 1517.6 1423.91 1518.01 Q1421.71 1518.43 1419.07 1519.31 L1419.07 1515.14 Q1421.74 1514.4 1424.05 1514.03 Q1426.39 1513.66 1428.45 1513.66 Q1433.77 1513.66 1436.87 1516.09 Q1439.98 1518.5 1439.98 1522.62 Q1439.98 1525.49 1438.33 1527.48 Q1436.69 1529.45 1433.66 1530.21 Z\" fill=\"#000000\" fill-rule=\"evenodd\" fill-opacity=\"1\" /><path clip-path=\"url(#clip540)\" d=\"M1459.65 1517.37 Q1456.04 1517.37 1454.21 1520.93 Q1452.41 1524.47 1452.41 1531.6 Q1452.41 1538.71 1454.21 1542.27 Q1456.04 1545.82 1459.65 1545.82 Q1463.29 1545.82 1465.09 1542.27 Q1466.92 1538.71 1466.92 1531.6 Q1466.92 1524.47 1465.09 1520.93 Q1463.29 1517.37 1459.65 1517.37 M1459.65 1513.66 Q1465.46 1513.66 1468.52 1518.27 Q1471.6 1522.85 1471.6 1531.6 Q1471.6 1540.33 1468.52 1544.94 Q1465.46 1549.52 1459.65 1549.52 Q1453.84 1549.52 1450.76 1544.94 Q1447.71 1540.33 1447.71 1531.6 Q1447.71 1522.85 1450.76 1518.27 Q1453.84 1513.66 1459.65 1513.66 Z\" fill=\"#000000\" fill-rule=\"evenodd\" fill-opacity=\"1\" /><path clip-path=\"url(#clip540)\" d=\"M1855.87 1518.36 L1844.07 1536.81 L1855.87 1536.81 L1855.87 1518.36 M1854.65 1514.29 L1860.53 1514.29 L1860.53 1536.81 L1865.46 1536.81 L1865.46 1540.7 L1860.53 1540.7 L1860.53 1548.85 L1855.87 1548.85 L1855.87 1540.7 L1840.27 1540.7 L1840.27 1536.19 L1854.65 1514.29 Z\" fill=\"#000000\" fill-rule=\"evenodd\" fill-opacity=\"1\" /><path clip-path=\"url(#clip540)\" d=\"M1883.19 1517.37 Q1879.58 1517.37 1877.75 1520.93 Q1875.94 1524.47 1875.94 1531.6 Q1875.94 1538.71 1877.75 1542.27 Q1879.58 1545.82 1883.19 1545.82 Q1886.82 1545.82 1888.63 1542.27 Q1890.46 1538.71 1890.46 1531.6 Q1890.46 1524.47 1888.63 1520.93 Q1886.82 1517.37 1883.19 1517.37 M1883.19 1513.66 Q1889 1513.66 1892.05 1518.27 Q1895.13 1522.85 1895.13 1531.6 Q1895.13 1540.33 1892.05 1544.94 Q1889 1549.52 1883.19 1549.52 Q1877.38 1549.52 1874.3 1544.94 Q1871.24 1540.33 1871.24 1531.6 Q1871.24 1522.85 1874.3 1518.27 Q1877.38 1513.66 1883.19 1513.66 Z\" fill=\"#000000\" fill-rule=\"evenodd\" fill-opacity=\"1\" /><path clip-path=\"url(#clip540)\" d=\"M2265.29 1514.29 L2283.65 1514.29 L2283.65 1518.22 L2269.57 1518.22 L2269.57 1526.7 Q2270.59 1526.35 2271.61 1526.19 Q2272.63 1526 2273.65 1526 Q2279.43 1526 2282.81 1529.17 Q2286.19 1532.34 2286.19 1537.76 Q2286.19 1543.34 2282.72 1546.44 Q2279.25 1549.52 2272.93 1549.52 Q2270.75 1549.52 2268.48 1549.15 Q2266.24 1548.78 2263.83 1548.04 L2263.83 1543.34 Q2265.92 1544.47 2268.14 1545.03 Q2270.36 1545.58 2272.84 1545.58 Q2276.84 1545.58 2279.18 1543.48 Q2281.52 1541.37 2281.52 1537.76 Q2281.52 1534.15 2279.18 1532.04 Q2276.84 1529.94 2272.84 1529.94 Q2270.96 1529.94 2269.09 1530.35 Q2267.23 1530.77 2265.29 1531.65 L2265.29 1514.29 Z\" fill=\"#000000\" fill-rule=\"evenodd\" fill-opacity=\"1\" /><path clip-path=\"url(#clip540)\" d=\"M2305.41 1517.37 Q2301.79 1517.37 2299.97 1520.93 Q2298.16 1524.47 2298.16 1531.6 Q2298.16 1538.71 2299.97 1542.27 Q2301.79 1545.82 2305.41 1545.82 Q2309.04 1545.82 2310.85 1542.27 Q2312.67 1538.71 2312.67 1531.6 Q2312.67 1524.47 2310.85 1520.93 Q2309.04 1517.37 2305.41 1517.37 M2305.41 1513.66 Q2311.22 1513.66 2314.27 1518.27 Q2317.35 1522.85 2317.35 1531.6 Q2317.35 1540.33 2314.27 1544.94 Q2311.22 1549.52 2305.41 1549.52 Q2299.6 1549.52 2296.52 1544.94 Q2293.46 1540.33 2293.46 1531.6 Q2293.46 1522.85 2296.52 1518.27 Q2299.6 1513.66 2305.41 1513.66 Z\" fill=\"#000000\" fill-rule=\"evenodd\" fill-opacity=\"1\" /><polyline clip-path=\"url(#clip542)\" style=\"stroke:#000000; stroke-linecap:butt; stroke-linejoin:round; stroke-width:2; stroke-opacity:0.1; fill:none\" points=\"\n",
       "  156.274,1182.38 2352.76,1182.38 \n",
       "  \"/>\n",
       "<polyline clip-path=\"url(#clip542)\" style=\"stroke:#000000; stroke-linecap:butt; stroke-linejoin:round; stroke-width:2; stroke-opacity:0.1; fill:none\" points=\"\n",
       "  156.274,854.058 2352.76,854.058 \n",
       "  \"/>\n",
       "<polyline clip-path=\"url(#clip542)\" style=\"stroke:#000000; stroke-linecap:butt; stroke-linejoin:round; stroke-width:2; stroke-opacity:0.1; fill:none\" points=\"\n",
       "  156.274,525.737 2352.76,525.737 \n",
       "  \"/>\n",
       "<polyline clip-path=\"url(#clip542)\" style=\"stroke:#000000; stroke-linecap:butt; stroke-linejoin:round; stroke-width:2; stroke-opacity:0.1; fill:none\" points=\"\n",
       "  156.274,197.417 2352.76,197.417 \n",
       "  \"/>\n",
       "<polyline clip-path=\"url(#clip540)\" style=\"stroke:#000000; stroke-linecap:butt; stroke-linejoin:round; stroke-width:4; stroke-opacity:1; fill:none\" points=\"\n",
       "  156.274,1486.45 156.274,47.2441 \n",
       "  \"/>\n",
       "<polyline clip-path=\"url(#clip540)\" style=\"stroke:#000000; stroke-linecap:butt; stroke-linejoin:round; stroke-width:4; stroke-opacity:1; fill:none\" points=\"\n",
       "  156.274,1182.38 175.172,1182.38 \n",
       "  \"/>\n",
       "<polyline clip-path=\"url(#clip540)\" style=\"stroke:#000000; stroke-linecap:butt; stroke-linejoin:round; stroke-width:4; stroke-opacity:1; fill:none\" points=\"\n",
       "  156.274,854.058 175.172,854.058 \n",
       "  \"/>\n",
       "<polyline clip-path=\"url(#clip540)\" style=\"stroke:#000000; stroke-linecap:butt; stroke-linejoin:round; stroke-width:4; stroke-opacity:1; fill:none\" points=\"\n",
       "  156.274,525.737 175.172,525.737 \n",
       "  \"/>\n",
       "<polyline clip-path=\"url(#clip540)\" style=\"stroke:#000000; stroke-linecap:butt; stroke-linejoin:round; stroke-width:4; stroke-opacity:1; fill:none\" points=\"\n",
       "  156.274,197.417 175.172,197.417 \n",
       "  \"/>\n",
       "<path clip-path=\"url(#clip540)\" d=\"M63.0985 1168.18 Q59.4875 1168.18 57.6588 1171.74 Q55.8532 1175.28 55.8532 1182.41 Q55.8532 1189.52 57.6588 1193.09 Q59.4875 1196.63 63.0985 1196.63 Q66.7328 1196.63 68.5383 1193.09 Q70.367 1189.52 70.367 1182.41 Q70.367 1175.28 68.5383 1171.74 Q66.7328 1168.18 63.0985 1168.18 M63.0985 1164.47 Q68.9087 1164.47 71.9642 1169.08 Q75.0429 1173.66 75.0429 1182.41 Q75.0429 1191.14 71.9642 1195.75 Q68.9087 1200.33 63.0985 1200.33 Q57.2884 1200.33 54.2097 1195.75 Q51.1542 1191.14 51.1542 1182.41 Q51.1542 1173.66 54.2097 1169.08 Q57.2884 1164.47 63.0985 1164.47 Z\" fill=\"#000000\" fill-rule=\"evenodd\" fill-opacity=\"1\" /><path clip-path=\"url(#clip540)\" d=\"M83.2605 1193.78 L88.1447 1193.78 L88.1447 1199.66 L83.2605 1199.66 L83.2605 1193.78 Z\" fill=\"#000000\" fill-rule=\"evenodd\" fill-opacity=\"1\" /><path clip-path=\"url(#clip540)\" d=\"M108.33 1168.18 Q104.719 1168.18 102.89 1171.74 Q101.084 1175.28 101.084 1182.41 Q101.084 1189.52 102.89 1193.09 Q104.719 1196.63 108.33 1196.63 Q111.964 1196.63 113.77 1193.09 Q115.598 1189.52 115.598 1182.41 Q115.598 1175.28 113.77 1171.74 Q111.964 1168.18 108.33 1168.18 M108.33 1164.47 Q114.14 1164.47 117.195 1169.08 Q120.274 1173.66 120.274 1182.41 Q120.274 1191.14 117.195 1195.75 Q114.14 1200.33 108.33 1200.33 Q102.52 1200.33 99.4409 1195.75 Q96.3854 1191.14 96.3854 1182.41 Q96.3854 1173.66 99.4409 1169.08 Q102.52 1164.47 108.33 1164.47 Z\" fill=\"#000000\" fill-rule=\"evenodd\" fill-opacity=\"1\" /><path clip-path=\"url(#clip540)\" d=\"M63.7467 839.857 Q60.1356 839.857 58.3069 843.422 Q56.5014 846.963 56.5014 854.093 Q56.5014 861.199 58.3069 864.764 Q60.1356 868.306 63.7467 868.306 Q67.3809 868.306 69.1865 864.764 Q71.0152 861.199 71.0152 854.093 Q71.0152 846.963 69.1865 843.422 Q67.3809 839.857 63.7467 839.857 M63.7467 836.153 Q69.5568 836.153 72.6124 840.76 Q75.6911 845.343 75.6911 854.093 Q75.6911 862.82 72.6124 867.426 Q69.5568 872.01 63.7467 872.01 Q57.9365 872.01 54.8578 867.426 Q51.8023 862.82 51.8023 854.093 Q51.8023 845.343 54.8578 840.76 Q57.9365 836.153 63.7467 836.153 Z\" fill=\"#000000\" fill-rule=\"evenodd\" fill-opacity=\"1\" /><path clip-path=\"url(#clip540)\" d=\"M83.9086 865.459 L88.7928 865.459 L88.7928 871.338 L83.9086 871.338 L83.9086 865.459 Z\" fill=\"#000000\" fill-rule=\"evenodd\" fill-opacity=\"1\" /><path clip-path=\"url(#clip540)\" d=\"M113.145 852.704 Q116.501 853.422 118.376 855.69 Q120.274 857.959 120.274 861.292 Q120.274 866.408 116.756 869.209 Q113.237 872.01 106.756 872.01 Q104.58 872.01 102.265 871.57 Q99.9733 871.153 97.5197 870.297 L97.5197 865.783 Q99.4641 866.917 101.779 867.496 Q104.094 868.074 106.617 868.074 Q111.015 868.074 113.307 866.338 Q115.621 864.602 115.621 861.292 Q115.621 858.237 113.469 856.524 Q111.339 854.787 107.52 854.787 L103.492 854.787 L103.492 850.945 L107.705 850.945 Q111.154 850.945 112.983 849.579 Q114.811 848.19 114.811 845.598 Q114.811 842.936 112.913 841.524 Q111.038 840.088 107.52 840.088 Q105.598 840.088 103.399 840.505 Q101.2 840.922 98.5613 841.801 L98.5613 837.635 Q101.223 836.894 103.538 836.524 Q105.876 836.153 107.936 836.153 Q113.26 836.153 116.362 838.584 Q119.464 840.991 119.464 845.112 Q119.464 847.982 117.82 849.973 Q116.177 851.94 113.145 852.704 Z\" fill=\"#000000\" fill-rule=\"evenodd\" fill-opacity=\"1\" /><path clip-path=\"url(#clip540)\" d=\"M62.9365 511.536 Q59.3254 511.536 57.4967 515.101 Q55.6912 518.643 55.6912 525.772 Q55.6912 532.879 57.4967 536.443 Q59.3254 539.985 62.9365 539.985 Q66.5707 539.985 68.3763 536.443 Q70.205 532.879 70.205 525.772 Q70.205 518.643 68.3763 515.101 Q66.5707 511.536 62.9365 511.536 M62.9365 507.832 Q68.7467 507.832 71.8022 512.439 Q74.8809 517.022 74.8809 525.772 Q74.8809 534.499 71.8022 539.105 Q68.7467 543.689 62.9365 543.689 Q57.1264 543.689 54.0477 539.105 Q50.9921 534.499 50.9921 525.772 Q50.9921 517.022 54.0477 512.439 Q57.1264 507.832 62.9365 507.832 Z\" fill=\"#000000\" fill-rule=\"evenodd\" fill-opacity=\"1\" /><path clip-path=\"url(#clip540)\" d=\"M83.0984 537.138 L87.9827 537.138 L87.9827 543.017 L83.0984 543.017 L83.0984 537.138 Z\" fill=\"#000000\" fill-rule=\"evenodd\" fill-opacity=\"1\" /><path clip-path=\"url(#clip540)\" d=\"M108.746 523.874 Q105.598 523.874 103.746 526.027 Q101.918 528.18 101.918 531.93 Q101.918 535.656 103.746 537.832 Q105.598 539.985 108.746 539.985 Q111.895 539.985 113.723 537.832 Q115.575 535.656 115.575 531.93 Q115.575 528.18 113.723 526.027 Q111.895 523.874 108.746 523.874 M118.029 509.221 L118.029 513.481 Q116.27 512.647 114.464 512.207 Q112.682 511.768 110.922 511.768 Q106.293 511.768 103.839 514.893 Q101.409 518.018 101.061 524.337 Q102.427 522.323 104.487 521.258 Q106.547 520.17 109.024 520.17 Q114.233 520.17 117.242 523.342 Q120.274 526.49 120.274 531.93 Q120.274 537.254 117.126 540.471 Q113.978 543.689 108.746 543.689 Q102.751 543.689 99.5798 539.105 Q96.4085 534.499 96.4085 525.772 Q96.4085 517.578 100.297 512.717 Q104.186 507.832 110.737 507.832 Q112.496 507.832 114.279 508.18 Q116.084 508.527 118.029 509.221 Z\" fill=\"#000000\" fill-rule=\"evenodd\" fill-opacity=\"1\" /><path clip-path=\"url(#clip540)\" d=\"M63.2837 183.215 Q59.6726 183.215 57.8439 186.78 Q56.0384 190.322 56.0384 197.451 Q56.0384 204.558 57.8439 208.123 Q59.6726 211.664 63.2837 211.664 Q66.918 211.664 68.7235 208.123 Q70.5522 204.558 70.5522 197.451 Q70.5522 190.322 68.7235 186.78 Q66.918 183.215 63.2837 183.215 M63.2837 179.512 Q69.0939 179.512 72.1494 184.118 Q75.2281 188.701 75.2281 197.451 Q75.2281 206.178 72.1494 210.785 Q69.0939 215.368 63.2837 215.368 Q57.4736 215.368 54.3949 210.785 Q51.3393 206.178 51.3393 197.451 Q51.3393 188.701 54.3949 184.118 Q57.4736 179.512 63.2837 179.512 Z\" fill=\"#000000\" fill-rule=\"evenodd\" fill-opacity=\"1\" /><path clip-path=\"url(#clip540)\" d=\"M83.4457 208.817 L88.3299 208.817 L88.3299 214.697 L83.4457 214.697 L83.4457 208.817 Z\" fill=\"#000000\" fill-rule=\"evenodd\" fill-opacity=\"1\" /><path clip-path=\"url(#clip540)\" d=\"M98.6539 213.979 L98.6539 209.72 Q100.413 210.553 102.219 210.993 Q104.024 211.433 105.76 211.433 Q110.39 211.433 112.82 208.331 Q115.274 205.206 115.621 198.863 Q114.279 200.854 112.219 201.919 Q110.158 202.984 107.658 202.984 Q102.473 202.984 99.4409 199.859 Q96.4317 196.711 96.4317 191.271 Q96.4317 185.947 99.5798 182.729 Q102.728 179.512 107.959 179.512 Q113.955 179.512 117.103 184.118 Q120.274 188.701 120.274 197.451 Q120.274 205.623 116.385 210.507 Q112.52 215.368 105.969 215.368 Q104.209 215.368 102.404 215.021 Q100.598 214.673 98.6539 213.979 M107.959 199.326 Q111.108 199.326 112.936 197.174 Q114.788 195.021 114.788 191.271 Q114.788 187.544 112.936 185.391 Q111.108 183.215 107.959 183.215 Q104.811 183.215 102.959 185.391 Q101.131 187.544 101.131 191.271 Q101.131 195.021 102.959 197.174 Q104.811 199.326 107.959 199.326 Z\" fill=\"#000000\" fill-rule=\"evenodd\" fill-opacity=\"1\" /><polyline clip-path=\"url(#clip542)\" style=\"stroke:#009af9; stroke-linecap:butt; stroke-linejoin:round; stroke-width:4; stroke-opacity:1; fill:none\" points=\"\n",
       "  218.439,1190.92 260.728,1211.94 303.016,1237.59 345.305,1262.44 387.594,1283.03 429.883,1297.43 472.172,1304.92 514.461,1305.69 556.749,1300.53 599.038,1290.61 \n",
       "  641.327,1277.24 683.616,1261.79 725.905,1245.49 768.194,1229.41 810.482,1214.41 852.771,1201.11 895.06,1189.9 937.349,1180.97 979.638,1174.33 1021.93,1169.85 \n",
       "  1064.22,1167.3 1106.5,1166.39 1148.79,1166.77 1191.08,1168.12 1233.37,1170.11 1275.66,1172.47 1317.95,1174.95 1360.24,1177.36 1402.53,1179.55 1444.81,1181.43 \n",
       "  1487.1,1182.95 1529.39,1184.08 1571.68,1184.85 1613.97,1185.29 1656.26,1185.44 1698.55,1185.35 1740.84,1185.1 1783.13,1184.72 1825.41,1184.29 1867.7,1183.82 \n",
       "  1909.99,1183.37 1952.28,1182.96 1994.57,1182.61 2036.86,1182.32 2079.15,1182.1 2121.44,1181.95 2163.72,1181.87 2206.01,1181.83 2248.3,1181.84 2290.59,1181.88 \n",
       "  \n",
       "  \"/>\n",
       "<polyline clip-path=\"url(#clip542)\" style=\"stroke:#e26f46; stroke-linecap:butt; stroke-linejoin:round; stroke-width:4; stroke-opacity:1; fill:none\" points=\"\n",
       "  218.439,1182.43 260.728,1182.47 303.016,1182.37 345.305,1182.2 387.594,1181.99 429.883,1181.81 472.172,1181.68 514.461,1181.64 556.749,1181.68 599.038,1181.81 \n",
       "  641.327,1181.99 683.616,1182.22 725.905,1182.46 768.194,1182.69 810.482,1182.89 852.771,1183.05 895.06,1183.15 937.349,1183.2 979.638,1183.19 1021.93,1183.13 \n",
       "  1064.22,1183.02 1106.5,1182.89 1148.79,1182.75 1191.08,1182.6 1233.37,1182.45 1275.66,1182.32 1317.95,1182.21 1360.24,1182.13 1402.53,1182.07 1444.81,1182.04 \n",
       "  1487.1,1182.04 1529.39,1182.05 1571.68,1182.08 1613.97,1182.13 1656.26,1182.18 1698.55,1182.23 1740.84,1182.29 1783.13,1182.34 1825.41,1182.38 1867.7,1182.42 \n",
       "  1909.99,1182.44 1952.28,1182.46 1994.57,1182.47 2036.86,1182.47 2079.15,1182.47 2121.44,1182.46 2163.72,1182.45 2206.01,1182.43 2248.3,1182.42 2290.59,1182.4 \n",
       "  \n",
       "  \"/>\n",
       "<polyline clip-path=\"url(#clip542)\" style=\"stroke:#3da44d; stroke-linecap:butt; stroke-linejoin:round; stroke-width:4; stroke-opacity:1; fill:none\" points=\"\n",
       "  218.439,1182.42 260.728,1182.47 303.016,1182.49 345.305,1182.49 387.594,1182.47 429.883,1182.44 472.172,1182.41 514.461,1182.38 556.749,1182.36 599.038,1182.34 \n",
       "  641.327,1182.32 683.616,1182.31 725.905,1182.3 768.194,1182.3 810.482,1182.31 852.771,1182.32 895.06,1182.32 937.349,1182.34 979.638,1182.35 1021.93,1182.36 \n",
       "  1064.22,1182.37 1106.5,1182.38 1148.79,1182.39 1191.08,1182.39 1233.37,1182.4 1275.66,1182.4 1317.95,1182.4 1360.24,1182.4 1402.53,1182.4 1444.81,1182.4 \n",
       "  1487.1,1182.39 1529.39,1182.39 1571.68,1182.39 1613.97,1182.38 1656.26,1182.38 1698.55,1182.38 1740.84,1182.37 1783.13,1182.37 1825.41,1182.37 1867.7,1182.37 \n",
       "  1909.99,1182.37 1952.28,1182.37 1994.57,1182.37 2036.86,1182.37 2079.15,1182.38 2121.44,1182.38 2163.72,1182.38 2206.01,1182.38 2248.3,1182.38 2290.59,1182.38 \n",
       "  \n",
       "  \"/>\n",
       "<polyline clip-path=\"url(#clip542)\" style=\"stroke:#c271d2; stroke-linecap:butt; stroke-linejoin:round; stroke-width:4; stroke-opacity:1; fill:none\" points=\"\n",
       "  218.439,1182.38 260.728,1182.38 303.016,1182.38 345.305,1182.38 387.594,1182.38 429.883,1182.38 472.172,1182.38 514.461,1182.38 556.749,1182.38 599.038,1182.38 \n",
       "  641.327,1182.38 683.616,1182.38 725.905,1182.38 768.194,1182.38 810.482,1182.38 852.771,1182.38 895.06,1182.38 937.349,1182.38 979.638,1182.38 1021.93,1182.38 \n",
       "  1064.22,1182.38 1106.5,1182.38 1148.79,1182.38 1191.08,1182.38 1233.37,1182.38 1275.66,1182.38 1317.95,1182.38 1360.24,1182.38 1402.53,1182.38 1444.81,1182.38 \n",
       "  1487.1,1182.38 1529.39,1182.38 1571.68,1182.38 1613.97,1182.38 1656.26,1182.38 1698.55,1182.38 1740.84,1182.38 1783.13,1182.38 1825.41,1182.38 1867.7,1182.38 \n",
       "  1909.99,1182.38 1952.28,1182.38 1994.57,1182.38 2036.86,1182.38 2079.15,1182.38 2121.44,1182.38 2163.72,1182.38 2206.01,1182.38 2248.3,1182.38 2290.59,1182.38 \n",
       "  \n",
       "  \"/>\n",
       "<polyline clip-path=\"url(#clip542)\" style=\"stroke:#ac8d18; stroke-linecap:butt; stroke-linejoin:round; stroke-width:4; stroke-opacity:1; fill:none\" points=\"\n",
       "  218.439,1353.26 260.728,1431.8 303.016,1445.72 345.305,1416.11 387.594,1360.36 429.883,1292.27 472.172,1222.31 514.461,1157.87 556.749,1103.75 599.038,1062.53 \n",
       "  641.327,1035.01 683.616,1020.68 725.905,1018.07 768.194,1025.16 810.482,1039.64 852.771,1059.15 895.06,1081.49 937.349,1104.73 979.638,1127.28 1021.93,1147.93 \n",
       "  1064.22,1165.85 1106.5,1180.55 1148.79,1191.86 1191.08,1199.86 1233.37,1204.81 1275.66,1207.1 1317.95,1207.22 1360.24,1205.66 1402.53,1202.92 1444.81,1199.45 \n",
       "  1487.1,1195.65 1529.39,1191.85 1571.68,1188.29 1613.97,1185.16 1656.26,1182.56 1698.55,1180.54 1740.84,1179.1 1783.13,1178.2 1825.41,1177.78 1867.7,1177.75 \n",
       "  1909.99,1178.03 1952.28,1178.52 1994.57,1179.15 2036.86,1179.85 2079.15,1180.55 2121.44,1181.21 2163.72,1181.79 2206.01,1182.28 2248.3,1182.66 2290.59,1182.94 \n",
       "  \n",
       "  \"/>\n",
       "<polyline clip-path=\"url(#clip542)\" style=\"stroke:#00a9ad; stroke-linecap:butt; stroke-linejoin:round; stroke-width:4; stroke-opacity:1; fill:none\" points=\"\n",
       "  218.439,1183.47 260.728,1182.03 303.016,1180.94 345.305,1180.38 387.594,1180.36 429.883,1180.79 472.172,1181.51 514.461,1182.38 556.749,1183.23 599.038,1183.95 \n",
       "  641.327,1184.47 683.616,1184.75 725.905,1184.77 768.194,1184.57 810.482,1184.18 852.771,1183.68 895.06,1183.1 937.349,1182.53 979.638,1181.99 1021.93,1181.54 \n",
       "  1064.22,1181.19 1106.5,1180.97 1148.79,1180.87 1191.08,1180.88 1233.37,1180.99 1275.66,1181.17 1317.95,1181.41 1360.24,1181.68 1402.53,1181.95 1444.81,1182.21 \n",
       "  1487.1,1182.44 1529.39,1182.63 1571.68,1182.77 1613.97,1182.87 1656.26,1182.92 1698.55,1182.93 1740.84,1182.9 1783.13,1182.85 1825.41,1182.77 1867.7,1182.69 \n",
       "  1909.99,1182.6 1952.28,1182.51 1994.57,1182.44 2036.86,1182.37 2079.15,1182.31 2121.44,1182.27 2163.72,1182.25 2206.01,1182.23 2248.3,1182.23 2290.59,1182.24 \n",
       "  \n",
       "  \"/>\n",
       "<polyline clip-path=\"url(#clip542)\" style=\"stroke:#ed5d92; stroke-linecap:butt; stroke-linejoin:round; stroke-width:4; stroke-opacity:1; fill:none\" points=\"\n",
       "  218.439,1183.1 260.728,1182.72 303.016,1182.44 345.305,1182.26 387.594,1182.15 429.883,1182.09 472.172,1182.08 514.461,1182.1 556.749,1182.14 599.038,1182.19 \n",
       "  641.327,1182.24 683.616,1182.3 725.905,1182.35 768.194,1182.4 810.482,1182.44 852.771,1182.47 895.06,1182.49 937.349,1182.5 979.638,1182.5 1021.93,1182.49 \n",
       "  1064.22,1182.48 1106.5,1182.47 1148.79,1182.45 1191.08,1182.43 1233.37,1182.41 1275.66,1182.39 1317.95,1182.38 1360.24,1182.36 1402.53,1182.35 1444.81,1182.35 \n",
       "  1487.1,1182.34 1529.39,1182.34 1571.68,1182.34 1613.97,1182.34 1656.26,1182.35 1698.55,1182.36 1740.84,1182.36 1783.13,1182.37 1825.41,1182.38 1867.7,1182.38 \n",
       "  1909.99,1182.39 1952.28,1182.39 1994.57,1182.39 2036.86,1182.39 2079.15,1182.39 2121.44,1182.39 2163.72,1182.39 2206.01,1182.39 2248.3,1182.39 2290.59,1182.38 \n",
       "  \n",
       "  \"/>\n",
       "<polyline clip-path=\"url(#clip542)\" style=\"stroke:#c68125; stroke-linecap:butt; stroke-linejoin:round; stroke-width:4; stroke-opacity:1; fill:none\" points=\"\n",
       "  218.439,1182.36 260.728,1182.37 303.016,1182.38 345.305,1182.38 387.594,1182.38 429.883,1182.39 472.172,1182.39 514.461,1182.39 556.749,1182.39 599.038,1182.39 \n",
       "  641.327,1182.38 683.616,1182.38 725.905,1182.38 768.194,1182.38 810.482,1182.38 852.771,1182.38 895.06,1182.37 937.349,1182.37 979.638,1182.37 1021.93,1182.38 \n",
       "  1064.22,1182.38 1106.5,1182.38 1148.79,1182.38 1191.08,1182.38 1233.37,1182.38 1275.66,1182.38 1317.95,1182.38 1360.24,1182.38 1402.53,1182.38 1444.81,1182.38 \n",
       "  1487.1,1182.38 1529.39,1182.38 1571.68,1182.38 1613.97,1182.38 1656.26,1182.38 1698.55,1182.38 1740.84,1182.38 1783.13,1182.38 1825.41,1182.38 1867.7,1182.38 \n",
       "  1909.99,1182.38 1952.28,1182.38 1994.57,1182.38 2036.86,1182.38 2079.15,1182.38 2121.44,1182.38 2163.72,1182.38 2206.01,1182.38 2248.3,1182.38 2290.59,1182.38 \n",
       "  \n",
       "  \"/>\n",
       "<polyline clip-path=\"url(#clip542)\" style=\"stroke:#00a98d; stroke-linecap:butt; stroke-linejoin:round; stroke-width:4; stroke-opacity:1; fill:none\" points=\"\n",
       "  218.439,87.9763 260.728,117.54 303.016,172.746 345.305,252.809 387.594,353.461 429.883,468.509 472.172,591.05 514.461,714.362 556.749,832.516 599.038,940.744 \n",
       "  641.327,1035.61 683.616,1115.02 725.905,1178.13 768.194,1225.15 810.482,1257.18 852.771,1275.91 895.06,1283.42 937.349,1282.01 979.638,1273.96 1021.93,1261.44 \n",
       "  1064.22,1246.36 1106.5,1230.37 1148.79,1214.76 1191.08,1200.49 1233.37,1188.23 1275.66,1178.32 1317.95,1170.89 1360.24,1165.86 1402.53,1163.03 1444.81,1162.08 \n",
       "  1487.1,1162.65 1529.39,1164.35 1571.68,1166.82 1613.97,1169.73 1656.26,1172.79 1698.55,1175.76 1740.84,1178.48 1783.13,1180.83 1825.41,1182.73 1867.7,1184.18 \n",
       "  1909.99,1185.17 1952.28,1185.76 1994.57,1185.99 2036.86,1185.93 2079.15,1185.65 2121.44,1185.23 2163.72,1184.71 2206.01,1184.17 2248.3,1183.63 2290.59,1183.13 \n",
       "  \n",
       "  \"/>\n",
       "<polyline clip-path=\"url(#clip542)\" style=\"stroke:#8e971d; stroke-linecap:butt; stroke-linejoin:round; stroke-width:4; stroke-opacity:1; fill:none\" points=\"\n",
       "  218.439,1182.38 260.728,1182.47 303.016,1182.46 345.305,1182.27 387.594,1181.89 429.883,1181.31 472.172,1180.62 514.461,1179.88 556.749,1179.18 599.038,1178.61 \n",
       "  641.327,1178.22 683.616,1178.06 725.905,1178.14 768.194,1178.45 810.482,1178.96 852.771,1179.63 895.06,1180.4 937.349,1181.22 979.638,1182.03 1021.93,1182.77 \n",
       "  1064.22,1183.42 1106.5,1183.93 1148.79,1184.3 1191.08,1184.52 1233.37,1184.59 1275.66,1184.54 1317.95,1184.37 1360.24,1184.13 1402.53,1183.82 1444.81,1183.48 \n",
       "  1487.1,1183.14 1529.39,1182.81 1571.68,1182.52 1613.97,1182.27 1656.26,1182.07 1698.55,1181.92 1740.84,1181.83 1783.13,1181.79 1825.41,1181.79 1867.7,1181.83 \n",
       "  1909.99,1181.89 1952.28,1181.97 1994.57,1182.06 2036.86,1182.15 2079.15,1182.24 2121.44,1182.32 2163.72,1182.39 2206.01,1182.45 2248.3,1182.49 2290.59,1182.51 \n",
       "  \n",
       "  \"/>\n",
       "<polyline clip-path=\"url(#clip542)\" style=\"stroke:#00a8cb; stroke-linecap:butt; stroke-linejoin:round; stroke-width:4; stroke-opacity:1; fill:none\" points=\"\n",
       "  218.439,1182.38 260.728,1182.47 303.016,1182.58 345.305,1182.69 387.594,1182.77 429.883,1182.84 472.172,1182.87 514.461,1182.88 556.749,1182.86 599.038,1182.81 \n",
       "  641.327,1182.76 683.616,1182.69 725.905,1182.61 768.194,1182.54 810.482,1182.46 852.771,1182.4 895.06,1182.35 937.349,1182.3 979.638,1182.27 1021.93,1182.25 \n",
       "  1064.22,1182.24 1106.5,1182.24 1148.79,1182.25 1191.08,1182.27 1233.37,1182.29 1275.66,1182.31 1317.95,1182.34 1360.24,1182.36 1402.53,1182.38 1444.81,1182.4 \n",
       "  1487.1,1182.41 1529.39,1182.42 1571.68,1182.42 1613.97,1182.43 1656.26,1182.43 1698.55,1182.42 1740.84,1182.42 1783.13,1182.41 1825.41,1182.4 1867.7,1182.39 \n",
       "  1909.99,1182.39 1952.28,1182.38 1994.57,1182.37 2036.86,1182.37 2079.15,1182.37 2121.44,1182.36 2163.72,1182.36 2206.01,1182.36 2248.3,1182.37 2290.59,1182.37 \n",
       "  \n",
       "  \"/>\n",
       "<polyline clip-path=\"url(#clip542)\" style=\"stroke:#9b7fe8; stroke-linecap:butt; stroke-linejoin:round; stroke-width:4; stroke-opacity:1; fill:none\" points=\"\n",
       "  218.439,1182.38 260.728,1182.38 303.016,1182.37 345.305,1182.37 387.594,1182.37 429.883,1182.37 472.172,1182.37 514.461,1182.37 556.749,1182.37 599.038,1182.37 \n",
       "  641.327,1182.37 683.616,1182.37 725.905,1182.37 768.194,1182.38 810.482,1182.38 852.771,1182.38 895.06,1182.38 937.349,1182.38 979.638,1182.38 1021.93,1182.38 \n",
       "  1064.22,1182.38 1106.5,1182.38 1148.79,1182.38 1191.08,1182.38 1233.37,1182.38 1275.66,1182.38 1317.95,1182.38 1360.24,1182.38 1402.53,1182.38 1444.81,1182.38 \n",
       "  1487.1,1182.38 1529.39,1182.38 1571.68,1182.38 1613.97,1182.38 1656.26,1182.38 1698.55,1182.38 1740.84,1182.38 1783.13,1182.38 1825.41,1182.38 1867.7,1182.38 \n",
       "  1909.99,1182.38 1952.28,1182.38 1994.57,1182.38 2036.86,1182.38 2079.15,1182.38 2121.44,1182.38 2163.72,1182.38 2206.01,1182.38 2248.3,1182.38 2290.59,1182.38 \n",
       "  \n",
       "  \"/>\n",
       "<path clip-path=\"url(#clip540)\" d=\"\n",
       "M1955.46 769.138 L2279.54 769.138 L2279.54 95.2176 L1955.46 95.2176  Z\n",
       "  \" fill=\"#ffffff\" fill-rule=\"evenodd\" fill-opacity=\"1\"/>\n",
       "<polyline clip-path=\"url(#clip540)\" style=\"stroke:#000000; stroke-linecap:butt; stroke-linejoin:round; stroke-width:4; stroke-opacity:1; fill:none\" points=\"\n",
       "  1955.46,769.138 2279.54,769.138 2279.54,95.2176 1955.46,95.2176 1955.46,769.138 \n",
       "  \"/>\n",
       "<polyline clip-path=\"url(#clip540)\" style=\"stroke:#009af9; stroke-linecap:butt; stroke-linejoin:round; stroke-width:4; stroke-opacity:1; fill:none\" points=\"\n",
       "  1979.87,147.058 2126.3,147.058 \n",
       "  \"/>\n",
       "<path clip-path=\"url(#clip540)\" d=\"M2151.29 138.412 L2171.52 138.412 L2171.52 142.301 L2155.5 160.935 L2171.52 160.935 L2171.52 164.338 L2150.71 164.338 L2150.71 160.449 L2166.72 141.815 L2151.29 141.815 L2151.29 138.412 Z\" fill=\"#000000\" fill-rule=\"evenodd\" fill-opacity=\"1\" /><path clip-path=\"url(#clip540)\" d=\"M2179.43 160.402 L2187.07 160.402 L2187.07 134.037 L2178.76 135.703 L2178.76 131.444 L2187.03 129.778 L2191.7 129.778 L2191.7 160.402 L2199.34 160.402 L2199.34 164.338 L2179.43 164.338 L2179.43 160.402 Z\" fill=\"#000000\" fill-rule=\"evenodd\" fill-opacity=\"1\" /><polyline clip-path=\"url(#clip540)\" style=\"stroke:#e26f46; stroke-linecap:butt; stroke-linejoin:round; stroke-width:4; stroke-opacity:1; fill:none\" points=\"\n",
       "  1979.87,198.898 2126.3,198.898 \n",
       "  \"/>\n",
       "<path clip-path=\"url(#clip540)\" d=\"M2151.29 190.252 L2171.52 190.252 L2171.52 194.141 L2155.5 212.775 L2171.52 212.775 L2171.52 216.178 L2150.71 216.178 L2150.71 212.289 L2166.72 193.655 L2151.29 193.655 L2151.29 190.252 Z\" fill=\"#000000\" fill-rule=\"evenodd\" fill-opacity=\"1\" /><path clip-path=\"url(#clip540)\" d=\"M2182.65 212.242 L2198.97 212.242 L2198.97 216.178 L2177.03 216.178 L2177.03 212.242 Q2179.69 209.488 2184.27 204.858 Q2188.88 200.205 2190.06 198.863 Q2192.3 196.34 2193.18 194.604 Q2194.09 192.844 2194.09 191.155 Q2194.09 188.4 2192.14 186.664 Q2190.22 184.928 2187.12 184.928 Q2184.92 184.928 2182.47 185.692 Q2180.03 186.455 2177.26 188.006 L2177.26 183.284 Q2180.08 182.15 2182.53 181.571 Q2184.99 180.993 2187.03 180.993 Q2192.4 180.993 2195.59 183.678 Q2198.78 186.363 2198.78 190.854 Q2198.78 192.983 2197.97 194.905 Q2197.19 196.803 2195.08 199.395 Q2194.5 200.067 2191.4 203.284 Q2188.3 206.479 2182.65 212.242 Z\" fill=\"#000000\" fill-rule=\"evenodd\" fill-opacity=\"1\" /><polyline clip-path=\"url(#clip540)\" style=\"stroke:#3da44d; stroke-linecap:butt; stroke-linejoin:round; stroke-width:4; stroke-opacity:1; fill:none\" points=\"\n",
       "  1979.87,250.738 2126.3,250.738 \n",
       "  \"/>\n",
       "<path clip-path=\"url(#clip540)\" d=\"M2151.29 242.092 L2171.52 242.092 L2171.52 245.981 L2155.5 264.615 L2171.52 264.615 L2171.52 268.018 L2150.71 268.018 L2150.71 264.129 L2166.72 245.495 L2151.29 245.495 L2151.29 242.092 Z\" fill=\"#000000\" fill-rule=\"evenodd\" fill-opacity=\"1\" /><path clip-path=\"url(#clip540)\" d=\"M2192.79 249.383 Q2196.15 250.101 2198.02 252.369 Q2199.92 254.638 2199.92 257.971 Q2199.92 263.087 2196.4 265.888 Q2192.88 268.689 2186.4 268.689 Q2184.22 268.689 2181.91 268.249 Q2179.62 267.832 2177.16 266.976 L2177.16 262.462 Q2179.11 263.596 2181.42 264.175 Q2183.74 264.754 2186.26 264.754 Q2190.66 264.754 2192.95 263.018 Q2195.27 261.281 2195.27 257.971 Q2195.27 254.916 2193.11 253.203 Q2190.98 251.467 2187.16 251.467 L2183.14 251.467 L2183.14 247.624 L2187.35 247.624 Q2190.8 247.624 2192.63 246.258 Q2194.46 244.87 2194.46 242.277 Q2194.46 239.615 2192.56 238.203 Q2190.68 236.768 2187.16 236.768 Q2185.24 236.768 2183.04 237.184 Q2180.85 237.601 2178.21 238.481 L2178.21 234.314 Q2180.87 233.573 2183.18 233.203 Q2185.52 232.833 2187.58 232.833 Q2192.91 232.833 2196.01 235.263 Q2199.11 237.67 2199.11 241.791 Q2199.11 244.661 2197.47 246.652 Q2195.82 248.62 2192.79 249.383 Z\" fill=\"#000000\" fill-rule=\"evenodd\" fill-opacity=\"1\" /><polyline clip-path=\"url(#clip540)\" style=\"stroke:#c271d2; stroke-linecap:butt; stroke-linejoin:round; stroke-width:4; stroke-opacity:1; fill:none\" points=\"\n",
       "  1979.87,302.578 2126.3,302.578 \n",
       "  \"/>\n",
       "<path clip-path=\"url(#clip540)\" d=\"M2151.29 293.932 L2171.52 293.932 L2171.52 297.821 L2155.5 316.455 L2171.52 316.455 L2171.52 319.858 L2150.71 319.858 L2150.71 315.969 L2166.72 297.335 L2151.29 297.335 L2151.29 293.932 Z\" fill=\"#000000\" fill-rule=\"evenodd\" fill-opacity=\"1\" /><path clip-path=\"url(#clip540)\" d=\"M2191.47 289.372 L2179.66 307.821 L2191.47 307.821 L2191.47 289.372 M2190.24 285.298 L2196.12 285.298 L2196.12 307.821 L2201.05 307.821 L2201.05 311.709 L2196.12 311.709 L2196.12 319.858 L2191.47 319.858 L2191.47 311.709 L2175.87 311.709 L2175.87 307.196 L2190.24 285.298 Z\" fill=\"#000000\" fill-rule=\"evenodd\" fill-opacity=\"1\" /><polyline clip-path=\"url(#clip540)\" style=\"stroke:#ac8d18; stroke-linecap:butt; stroke-linejoin:round; stroke-width:4; stroke-opacity:1; fill:none\" points=\"\n",
       "  1979.87,354.418 2126.3,354.418 \n",
       "  \"/>\n",
       "<path clip-path=\"url(#clip540)\" d=\"M2151.29 345.772 L2171.52 345.772 L2171.52 349.661 L2155.5 368.295 L2171.52 368.295 L2171.52 371.698 L2150.71 371.698 L2150.71 367.809 L2166.72 349.175 L2151.29 349.175 L2151.29 345.772 Z\" fill=\"#000000\" fill-rule=\"evenodd\" fill-opacity=\"1\" /><path clip-path=\"url(#clip540)\" d=\"M2178.67 337.138 L2197.03 337.138 L2197.03 341.073 L2182.95 341.073 L2182.95 349.545 Q2183.97 349.198 2184.99 349.036 Q2186.01 348.85 2187.03 348.85 Q2192.81 348.85 2196.19 352.022 Q2199.57 355.193 2199.57 360.61 Q2199.57 366.188 2196.1 369.29 Q2192.63 372.369 2186.31 372.369 Q2184.13 372.369 2181.86 371.998 Q2179.62 371.628 2177.21 370.887 L2177.21 366.188 Q2179.29 367.323 2181.52 367.878 Q2183.74 368.434 2186.22 368.434 Q2190.22 368.434 2192.56 366.327 Q2194.9 364.221 2194.9 360.61 Q2194.9 356.999 2192.56 354.892 Q2190.22 352.786 2186.22 352.786 Q2184.34 352.786 2182.47 353.202 Q2180.61 353.619 2178.67 354.499 L2178.67 337.138 Z\" fill=\"#000000\" fill-rule=\"evenodd\" fill-opacity=\"1\" /><polyline clip-path=\"url(#clip540)\" style=\"stroke:#00a9ad; stroke-linecap:butt; stroke-linejoin:round; stroke-width:4; stroke-opacity:1; fill:none\" points=\"\n",
       "  1979.87,406.258 2126.3,406.258 \n",
       "  \"/>\n",
       "<path clip-path=\"url(#clip540)\" d=\"M2151.29 397.612 L2171.52 397.612 L2171.52 401.501 L2155.5 420.135 L2171.52 420.135 L2171.52 423.538 L2150.71 423.538 L2150.71 419.649 L2166.72 401.015 L2151.29 401.015 L2151.29 397.612 Z\" fill=\"#000000\" fill-rule=\"evenodd\" fill-opacity=\"1\" /><path clip-path=\"url(#clip540)\" d=\"M2189.2 404.394 Q2186.05 404.394 2184.2 406.547 Q2182.37 408.7 2182.37 412.45 Q2182.37 416.176 2184.2 418.352 Q2186.05 420.505 2189.2 420.505 Q2192.35 420.505 2194.18 418.352 Q2196.03 416.176 2196.03 412.45 Q2196.03 408.7 2194.18 406.547 Q2192.35 404.394 2189.2 404.394 M2198.48 389.741 L2198.48 394.001 Q2196.72 393.167 2194.92 392.728 Q2193.14 392.288 2191.38 392.288 Q2186.75 392.288 2184.29 395.413 Q2181.86 398.538 2181.52 404.857 Q2182.88 402.843 2184.94 401.778 Q2187 400.69 2189.48 400.69 Q2194.69 400.69 2197.7 403.862 Q2200.73 407.01 2200.73 412.45 Q2200.73 417.774 2197.58 420.991 Q2194.43 424.209 2189.2 424.209 Q2183.21 424.209 2180.03 419.626 Q2176.86 415.019 2176.86 406.292 Q2176.86 398.098 2180.75 393.237 Q2184.64 388.353 2191.19 388.353 Q2192.95 388.353 2194.73 388.7 Q2196.54 389.047 2198.48 389.741 Z\" fill=\"#000000\" fill-rule=\"evenodd\" fill-opacity=\"1\" /><polyline clip-path=\"url(#clip540)\" style=\"stroke:#ed5d92; stroke-linecap:butt; stroke-linejoin:round; stroke-width:4; stroke-opacity:1; fill:none\" points=\"\n",
       "  1979.87,458.098 2126.3,458.098 \n",
       "  \"/>\n",
       "<path clip-path=\"url(#clip540)\" d=\"M2151.29 449.452 L2171.52 449.452 L2171.52 453.341 L2155.5 471.975 L2171.52 471.975 L2171.52 475.378 L2150.71 475.378 L2150.71 471.489 L2166.72 452.855 L2151.29 452.855 L2151.29 449.452 Z\" fill=\"#000000\" fill-rule=\"evenodd\" fill-opacity=\"1\" /><path clip-path=\"url(#clip540)\" d=\"M2177.44 440.818 L2199.66 440.818 L2199.66 442.808 L2187.12 475.378 L2182.23 475.378 L2194.04 444.753 L2177.44 444.753 L2177.44 440.818 Z\" fill=\"#000000\" fill-rule=\"evenodd\" fill-opacity=\"1\" /><polyline clip-path=\"url(#clip540)\" style=\"stroke:#c68125; stroke-linecap:butt; stroke-linejoin:round; stroke-width:4; stroke-opacity:1; fill:none\" points=\"\n",
       "  1979.87,509.938 2126.3,509.938 \n",
       "  \"/>\n",
       "<path clip-path=\"url(#clip540)\" d=\"M2151.29 501.292 L2171.52 501.292 L2171.52 505.181 L2155.5 523.815 L2171.52 523.815 L2171.52 527.218 L2150.71 527.218 L2150.71 523.329 L2166.72 504.695 L2151.29 504.695 L2151.29 501.292 Z\" fill=\"#000000\" fill-rule=\"evenodd\" fill-opacity=\"1\" /><path clip-path=\"url(#clip540)\" d=\"M2188.62 510.806 Q2185.29 510.806 2183.37 512.588 Q2181.47 514.37 2181.47 517.495 Q2181.47 520.62 2183.37 522.403 Q2185.29 524.185 2188.62 524.185 Q2191.96 524.185 2193.88 522.403 Q2195.8 520.597 2195.8 517.495 Q2195.8 514.37 2193.88 512.588 Q2191.98 510.806 2188.62 510.806 M2183.95 508.815 Q2180.94 508.074 2179.25 506.014 Q2177.58 503.954 2177.58 500.991 Q2177.58 496.847 2180.52 494.44 Q2183.48 492.033 2188.62 492.033 Q2193.78 492.033 2196.72 494.44 Q2199.66 496.847 2199.66 500.991 Q2199.66 503.954 2197.97 506.014 Q2196.31 508.074 2193.32 508.815 Q2196.7 509.602 2198.58 511.894 Q2200.47 514.185 2200.47 517.495 Q2200.47 522.519 2197.4 525.204 Q2194.34 527.889 2188.62 527.889 Q2182.91 527.889 2179.83 525.204 Q2176.77 522.519 2176.77 517.495 Q2176.77 514.185 2178.67 511.894 Q2180.57 509.602 2183.95 508.815 M2182.23 501.431 Q2182.23 504.116 2183.9 505.62 Q2185.59 507.125 2188.62 507.125 Q2191.63 507.125 2193.32 505.62 Q2195.03 504.116 2195.03 501.431 Q2195.03 498.745 2193.32 497.241 Q2191.63 495.736 2188.62 495.736 Q2185.59 495.736 2183.9 497.241 Q2182.23 498.745 2182.23 501.431 Z\" fill=\"#000000\" fill-rule=\"evenodd\" fill-opacity=\"1\" /><polyline clip-path=\"url(#clip540)\" style=\"stroke:#00a98d; stroke-linecap:butt; stroke-linejoin:round; stroke-width:4; stroke-opacity:1; fill:none\" points=\"\n",
       "  1979.87,561.778 2126.3,561.778 \n",
       "  \"/>\n",
       "<path clip-path=\"url(#clip540)\" d=\"M2151.29 553.132 L2171.52 553.132 L2171.52 557.021 L2155.5 575.655 L2171.52 575.655 L2171.52 579.058 L2150.71 579.058 L2150.71 575.169 L2166.72 556.535 L2151.29 556.535 L2151.29 553.132 Z\" fill=\"#000000\" fill-rule=\"evenodd\" fill-opacity=\"1\" /><path clip-path=\"url(#clip540)\" d=\"M2178.76 578.34 L2178.76 574.081 Q2180.52 574.914 2182.33 575.354 Q2184.13 575.794 2185.87 575.794 Q2190.5 575.794 2192.93 572.692 Q2195.38 569.567 2195.73 563.224 Q2194.39 565.215 2192.33 566.28 Q2190.27 567.345 2187.77 567.345 Q2182.58 567.345 2179.55 564.22 Q2176.54 561.072 2176.54 555.632 Q2176.54 550.308 2179.69 547.09 Q2182.84 543.873 2188.07 543.873 Q2194.06 543.873 2197.21 548.479 Q2200.38 553.062 2200.38 561.812 Q2200.38 569.984 2196.49 574.868 Q2192.63 579.729 2186.08 579.729 Q2184.32 579.729 2182.51 579.382 Q2180.71 579.034 2178.76 578.34 M2188.07 563.687 Q2191.22 563.687 2193.04 561.534 Q2194.9 559.382 2194.9 555.632 Q2194.9 551.905 2193.04 549.752 Q2191.22 547.576 2188.07 547.576 Q2184.92 547.576 2183.07 549.752 Q2181.24 551.905 2181.24 555.632 Q2181.24 559.382 2183.07 561.534 Q2184.92 563.687 2188.07 563.687 Z\" fill=\"#000000\" fill-rule=\"evenodd\" fill-opacity=\"1\" /><polyline clip-path=\"url(#clip540)\" style=\"stroke:#8e971d; stroke-linecap:butt; stroke-linejoin:round; stroke-width:4; stroke-opacity:1; fill:none\" points=\"\n",
       "  1979.87,613.618 2126.3,613.618 \n",
       "  \"/>\n",
       "<path clip-path=\"url(#clip540)\" d=\"M2151.29 604.972 L2171.52 604.972 L2171.52 608.861 L2155.5 627.495 L2171.52 627.495 L2171.52 630.898 L2150.71 630.898 L2150.71 627.009 L2166.72 608.375 L2151.29 608.375 L2151.29 604.972 Z\" fill=\"#000000\" fill-rule=\"evenodd\" fill-opacity=\"1\" /><path clip-path=\"url(#clip540)\" d=\"M2179.43 626.962 L2187.07 626.962 L2187.07 600.597 L2178.76 602.263 L2178.76 598.004 L2187.03 596.338 L2191.7 596.338 L2191.7 626.962 L2199.34 626.962 L2199.34 630.898 L2179.43 630.898 L2179.43 626.962 Z\" fill=\"#000000\" fill-rule=\"evenodd\" fill-opacity=\"1\" /><path clip-path=\"url(#clip540)\" d=\"M2218.78 599.416 Q2215.17 599.416 2213.34 602.981 Q2211.54 606.523 2211.54 613.652 Q2211.54 620.759 2213.34 624.324 Q2215.17 627.865 2218.78 627.865 Q2222.42 627.865 2224.22 624.324 Q2226.05 620.759 2226.05 613.652 Q2226.05 606.523 2224.22 602.981 Q2222.42 599.416 2218.78 599.416 M2218.78 595.713 Q2224.59 595.713 2227.65 600.319 Q2230.73 604.902 2230.73 613.652 Q2230.73 622.379 2227.65 626.986 Q2224.59 631.569 2218.78 631.569 Q2212.97 631.569 2209.9 626.986 Q2206.84 622.379 2206.84 613.652 Q2206.84 604.902 2209.9 600.319 Q2212.97 595.713 2218.78 595.713 Z\" fill=\"#000000\" fill-rule=\"evenodd\" fill-opacity=\"1\" /><polyline clip-path=\"url(#clip540)\" style=\"stroke:#00a8cb; stroke-linecap:butt; stroke-linejoin:round; stroke-width:4; stroke-opacity:1; fill:none\" points=\"\n",
       "  1979.87,665.458 2126.3,665.458 \n",
       "  \"/>\n",
       "<path clip-path=\"url(#clip540)\" d=\"M2151.29 656.812 L2171.52 656.812 L2171.52 660.701 L2155.5 679.335 L2171.52 679.335 L2171.52 682.738 L2150.71 682.738 L2150.71 678.849 L2166.72 660.215 L2151.29 660.215 L2151.29 656.812 Z\" fill=\"#000000\" fill-rule=\"evenodd\" fill-opacity=\"1\" /><path clip-path=\"url(#clip540)\" d=\"M2179.43 678.802 L2187.07 678.802 L2187.07 652.437 L2178.76 654.103 L2178.76 649.844 L2187.03 648.178 L2191.7 648.178 L2191.7 678.802 L2199.34 678.802 L2199.34 682.738 L2179.43 682.738 L2179.43 678.802 Z\" fill=\"#000000\" fill-rule=\"evenodd\" fill-opacity=\"1\" /><path clip-path=\"url(#clip540)\" d=\"M2209.59 678.802 L2217.23 678.802 L2217.23 652.437 L2208.92 654.103 L2208.92 649.844 L2217.19 648.178 L2221.86 648.178 L2221.86 678.802 L2229.5 678.802 L2229.5 682.738 L2209.59 682.738 L2209.59 678.802 Z\" fill=\"#000000\" fill-rule=\"evenodd\" fill-opacity=\"1\" /><polyline clip-path=\"url(#clip540)\" style=\"stroke:#9b7fe8; stroke-linecap:butt; stroke-linejoin:round; stroke-width:4; stroke-opacity:1; fill:none\" points=\"\n",
       "  1979.87,717.298 2126.3,717.298 \n",
       "  \"/>\n",
       "<path clip-path=\"url(#clip540)\" d=\"M2151.29 708.652 L2171.52 708.652 L2171.52 712.541 L2155.5 731.175 L2171.52 731.175 L2171.52 734.578 L2150.71 734.578 L2150.71 730.689 L2166.72 712.055 L2151.29 712.055 L2151.29 708.652 Z\" fill=\"#000000\" fill-rule=\"evenodd\" fill-opacity=\"1\" /><path clip-path=\"url(#clip540)\" d=\"M2179.43 730.642 L2187.07 730.642 L2187.07 704.277 L2178.76 705.943 L2178.76 701.684 L2187.03 700.018 L2191.7 700.018 L2191.7 730.642 L2199.34 730.642 L2199.34 734.578 L2179.43 734.578 L2179.43 730.642 Z\" fill=\"#000000\" fill-rule=\"evenodd\" fill-opacity=\"1\" /><path clip-path=\"url(#clip540)\" d=\"M2212.81 730.642 L2229.13 730.642 L2229.13 734.578 L2207.19 734.578 L2207.19 730.642 Q2209.85 727.888 2214.43 723.258 Q2219.04 718.605 2220.22 717.263 Q2222.47 714.74 2223.34 713.004 Q2224.25 711.244 2224.25 709.555 Q2224.25 706.8 2222.3 705.064 Q2220.38 703.328 2217.28 703.328 Q2215.08 703.328 2212.63 704.092 Q2210.2 704.855 2207.42 706.406 L2207.42 701.684 Q2210.24 700.55 2212.7 699.971 Q2215.15 699.393 2217.19 699.393 Q2222.56 699.393 2225.75 702.078 Q2228.95 704.763 2228.95 709.254 Q2228.95 711.383 2228.14 713.305 Q2227.35 715.203 2225.24 717.795 Q2224.66 718.467 2221.56 721.684 Q2218.46 724.879 2212.81 730.642 Z\" fill=\"#000000\" fill-rule=\"evenodd\" fill-opacity=\"1\" /></svg>\n"
      ]
     },
     "execution_count": 52,
     "metadata": {},
     "output_type": "execute_result"
    }
   ],
   "source": [
    "\n",
    "plot(z_hist', labels=[\"z1\" \"z2\" \"z3\" \"z4\" \"z5\" \"z6\" \"z7\" \"z8\" \"z9\" \"z10\" \"z11\" \"z12\"])"
   ]
  },
  {
   "cell_type": "code",
   "execution_count": 53,
   "id": "0beaffcd",
   "metadata": {},
   "outputs": [],
   "source": [
    "savefig(\"zhistRmpc\")"
   ]
  },
  {
   "cell_type": "code",
   "execution_count": null,
   "id": "f5e7493c",
   "metadata": {},
   "outputs": [],
   "source": []
  }
 ],
 "metadata": {
  "kernelspec": {
   "display_name": "Julia 1.6.3",
   "language": "julia",
   "name": "julia-1.6"
  },
  "language_info": {
   "file_extension": ".jl",
   "mimetype": "application/julia",
   "name": "julia",
   "version": "1.6.3"
  }
 },
 "nbformat": 4,
 "nbformat_minor": 5
}
