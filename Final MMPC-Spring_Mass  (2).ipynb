{
 "cells": [
  {
   "cell_type": "code",
   "execution_count": 1,
   "id": "2795300d",
   "metadata": {},
   "outputs": [],
   "source": [
    "using JuMP,Ipopt, LinearAlgebra, ControlSystems"
   ]
  },
  {
   "cell_type": "code",
   "execution_count": 2,
   "id": "63059090",
   "metadata": {},
   "outputs": [
    {
     "data": {
      "text/plain": [
       "MathOptInterface.OptimizerWithAttributes(Ipopt.Optimizer, Pair{MathOptInterface.AbstractOptimizerAttribute, Any}[MathOptInterface.RawParameter(\"print_level\") => 0])"
      ]
     },
     "execution_count": 2,
     "metadata": {},
     "output_type": "execute_result"
    }
   ],
   "source": [
    "my_optimizer = with_optimizer(Ipopt.Optimizer, print_level = 0)"
   ]
  },
  {
   "cell_type": "code",
   "execution_count": 3,
   "id": "5c375f4a",
   "metadata": {},
   "outputs": [
    {
     "data": {
      "text/plain": [
       "5.0"
      ]
     },
     "execution_count": 3,
     "metadata": {},
     "output_type": "execute_result"
    }
   ],
   "source": [
    "begin\n",
    "    const c1 = 1; # Spring constant\n",
    "    const c2 = 1;\n",
    "    const c3 = 1;\n",
    "    const m1 = 5.0; # Mass\n",
    "    const m2 = 5.0;\n",
    "    const m3 = 5.0;\n",
    "    const m4 = 5.0;\n",
    " \n",
    "end"
   ]
  },
  {
   "cell_type": "code",
   "execution_count": 4,
   "id": "fc8fced6",
   "metadata": {},
   "outputs": [
    {
     "data": {
      "text/plain": [
       "8×8 Matrix{Float64}:\n",
       "  0.0   0.0   0.0   0.0  1.0  0.0  0.0  0.0\n",
       "  0.0   0.0   0.0   0.0  0.0  1.0  0.0  0.0\n",
       "  0.0   0.0   0.0   0.0  0.0  0.0  1.0  0.0\n",
       "  0.0   0.0   0.0   0.0  0.0  0.0  0.0  1.0\n",
       " -0.2   0.2   0.0   0.0  0.0  0.0  0.0  0.0\n",
       "  0.2  -0.4   0.2   0.0  0.0  0.0  0.0  0.0\n",
       "  0.0   0.2  -0.4   0.2  0.0  0.0  0.0  0.0\n",
       "  0.0   0.0   0.2  -0.2  0.0  0.0  0.0  0.0"
      ]
     },
     "execution_count": 4,
     "metadata": {},
     "output_type": "execute_result"
    }
   ],
   "source": [
    "A = [0 0 0 0 1 0 0 0; 0 0 0 0 0 1 0 0 ; 0 0 0 0 0 0 1 0 ; 0 0 0 0 0 0 0 1 ; -c1/m1 c1/m1 0 0 0 0 0 0 ; c1/m2 -(c2+c1)/m2 c2/m2 0 0 0 0 0 ; 0 c2/m3 -(c2+c3)/m3 c3/m3 0 0 0 0 ; 0 0 c3/m4 -c3/m4 0 0 0 0]"
   ]
  },
  {
   "cell_type": "code",
   "execution_count": 5,
   "id": "c8864f4e",
   "metadata": {},
   "outputs": [
    {
     "data": {
      "text/plain": [
       "8×4 Matrix{Float64}:\n",
       " 0.0  0.0  0.0  0.0\n",
       " 0.0  0.0  0.0  0.0\n",
       " 0.0  0.0  0.0  0.0\n",
       " 0.0  0.0  0.0  0.0\n",
       " 0.2  0.0  0.0  0.0\n",
       " 0.0  0.2  0.0  0.0\n",
       " 0.0  0.0  0.2  0.0\n",
       " 0.0  0.0  0.0  0.2"
      ]
     },
     "execution_count": 5,
     "metadata": {},
     "output_type": "execute_result"
    }
   ],
   "source": [
    "B = [0 0 0 0 ; 0 0 0 0 ; 0 0 0 0; 0 0 0 0; 1/m1 0 0 0 ; 0 1/m2 0 0; 0 0 1/m3 0 ; 0 0 0 1/m4] # Input matrix\n"
   ]
  },
  {
   "cell_type": "code",
   "execution_count": 6,
   "id": "b62f9706",
   "metadata": {},
   "outputs": [
    {
     "data": {
      "text/plain": [
       "4×8 Matrix{Int64}:\n",
       " 1  0  0  0  0  0  0  0\n",
       " 0  1  0  0  0  0  0  0\n",
       " 0  0  1  0  0  0  0  0\n",
       " 0  0  0  1  0  0  0  0"
      ]
     },
     "execution_count": 6,
     "metadata": {},
     "output_type": "execute_result"
    }
   ],
   "source": [
    "C = [1 0 0 0 0 0 0 0 ; 0 1 0 0 0 0 0 0 ; 0 0 1 0 0 0 0 0; 0 0 0 1 0 0 0 0 ; ] # Output matrix\n"
   ]
  },
  {
   "cell_type": "code",
   "execution_count": 7,
   "id": "37e859a9",
   "metadata": {},
   "outputs": [
    {
     "data": {
      "text/plain": [
       "StateSpace{Continuous, Float64}\n",
       "A = \n",
       "  0.0   0.0   0.0   0.0  1.0  0.0  0.0  0.0\n",
       "  0.0   0.0   0.0   0.0  0.0  1.0  0.0  0.0\n",
       "  0.0   0.0   0.0   0.0  0.0  0.0  1.0  0.0\n",
       "  0.0   0.0   0.0   0.0  0.0  0.0  0.0  1.0\n",
       " -0.2   0.2   0.0   0.0  0.0  0.0  0.0  0.0\n",
       "  0.2  -0.4   0.2   0.0  0.0  0.0  0.0  0.0\n",
       "  0.0   0.2  -0.4   0.2  0.0  0.0  0.0  0.0\n",
       "  0.0   0.0   0.2  -0.2  0.0  0.0  0.0  0.0\n",
       "B = \n",
       " 0.0  0.0  0.0  0.0\n",
       " 0.0  0.0  0.0  0.0\n",
       " 0.0  0.0  0.0  0.0\n",
       " 0.0  0.0  0.0  0.0\n",
       " 0.2  0.0  0.0  0.0\n",
       " 0.0  0.2  0.0  0.0\n",
       " 0.0  0.0  0.2  0.0\n",
       " 0.0  0.0  0.0  0.2\n",
       "C = \n",
       " 1.0  0.0  0.0  0.0  0.0  0.0  0.0  0.0\n",
       " 0.0  1.0  0.0  0.0  0.0  0.0  0.0  0.0\n",
       " 0.0  0.0  1.0  0.0  0.0  0.0  0.0  0.0\n",
       " 0.0  0.0  0.0  1.0  0.0  0.0  0.0  0.0\n",
       "D = \n",
       " 0.0  0.0  0.0  0.0\n",
       " 0.0  0.0  0.0  0.0\n",
       " 0.0  0.0  0.0  0.0\n",
       " 0.0  0.0  0.0  0.0\n",
       "\n",
       "Continuous-time state-space model"
      ]
     },
     "execution_count": 7,
     "metadata": {},
     "output_type": "execute_result"
    }
   ],
   "source": [
    "sys_c = ss( A, B, C, zeros(4,4) )\n"
   ]
  },
  {
   "cell_type": "code",
   "execution_count": 8,
   "id": "ed9a6ea1",
   "metadata": {},
   "outputs": [
    {
     "data": {
      "text/plain": [
       "StateSpace{Discrete{Float64}, Float64}\n",
       "A = \n",
       "  0.9990003332777834       0.0009995000999888902   1.6661111904696678e-7   1.1108730387993082e-11  0.09996667333253974     3.332333476178134e-5   3.3325397707171583e-9  1.587037057961754e-13\n",
       "  0.00099950009998889      0.9980009997889134      0.0009993334999785736   1.666111190469667e-7    3.332333476178133e-5    0.09993335333031773    3.332000238071431e-5   3.3325397707171546e-9\n",
       "  1.6661111904696675e-7    0.000999333499978573    0.9980009997889134      0.0009995000999888897   3.3325397707171575e-9   3.3320002380714325e-5  0.09993335333031773    3.332333476178132e-5\n",
       "  1.1108730387993066e-11   1.6661111904696656e-7   0.00099950009998889     0.9990003332777833      1.5870370579617432e-13  3.332539770717151e-9   3.332333476178132e-5   0.09996667333253974\n",
       " -0.019986669999555597     0.0199800059991112      6.663333968188722e-6    6.664762134022716e-10   0.9990003332777835      0.0009995000999888902  1.6661111904696675e-7  1.1108730387993102e-11\n",
       "  0.019980005999111195    -0.0399600126646986      0.019973343331619223    6.66333396818872e-6     0.00099950009998889     0.9980009997889135     0.0009993334999785736  1.6661111904696667e-7\n",
       "  6.663333968188723e-6     0.019973343331619216   -0.0399600126646986      0.01998000599911119     1.6661111904696672e-7   0.0009993334999785736  0.9980009997889134     0.0009995000999888897\n",
       "  6.664762134022713e-10    6.663333968188718e-6    0.019980005999111195   -0.019986669999555593    1.110873038799308e-11   1.6661111904696664e-7  0.0009995000999888897  0.9990003332777834\n",
       "B = \n",
       " 0.000999833355553572    1.666333369045151e-7    1.1109127160483473e-11  3.9677249041141993e-16\n",
       " 1.666333369045151e-7    0.0009996667333257944   1.6662222817412726e-7   1.1109127160483488e-11\n",
       " 1.1109127160483525e-11  1.6662222817412726e-7   0.0009996667333257942   1.666333369045151e-7\n",
       " 3.967724904114183e-16   1.1109127160483473e-11  1.66633336904515e-7     0.0009998333555535715\n",
       " 0.019993334666507954    6.664666952356266e-6    6.665079541434308e-10   3.174074115923501e-14\n",
       " 6.664666952356266e-6    0.01998667066606355     6.664000476142863e-6    6.665079541434304e-10\n",
       " 6.66507954143431e-10    6.664000476142867e-6    0.019986670666063543    6.664666952356264e-6\n",
       " 3.174074115923504e-14   6.665079541434308e-10   6.6646669523562615e-6   0.01999333466650795\n",
       "C = \n",
       " 1.0  0.0  0.0  0.0  0.0  0.0  0.0  0.0\n",
       " 0.0  1.0  0.0  0.0  0.0  0.0  0.0  0.0\n",
       " 0.0  0.0  1.0  0.0  0.0  0.0  0.0  0.0\n",
       " 0.0  0.0  0.0  1.0  0.0  0.0  0.0  0.0\n",
       "D = \n",
       " 0.0  0.0  0.0  0.0\n",
       " 0.0  0.0  0.0  0.0\n",
       " 0.0  0.0  0.0  0.0\n",
       " 0.0  0.0  0.0  0.0\n",
       "\n",
       "Sample Time: 0.1 (seconds)\n",
       "Discrete-time state-space model"
      ]
     },
     "execution_count": 8,
     "metadata": {},
     "output_type": "execute_result"
    }
   ],
   "source": [
    "Ts = 0.1\n",
    "sys_d = c2d(sys_c, Ts)"
   ]
  },
  {
   "cell_type": "code",
   "execution_count": 9,
   "id": "b5adf7d2",
   "metadata": {},
   "outputs": [
    {
     "data": {
      "text/plain": [
       "4×8 Matrix{Float64}:\n",
       " 1.0  0.0  0.0  0.0  0.0  0.0  0.0  0.0\n",
       " 0.0  1.0  0.0  0.0  0.0  0.0  0.0  0.0\n",
       " 0.0  0.0  1.0  0.0  0.0  0.0  0.0  0.0\n",
       " 0.0  0.0  0.0  1.0  0.0  0.0  0.0  0.0"
      ]
     },
     "execution_count": 9,
     "metadata": {},
     "output_type": "execute_result"
    }
   ],
   "source": [
    "Ad = sys_d.A \n",
    "Bd = sys_d.B\n",
    "Cd = sys_d.C"
   ]
  },
  {
   "cell_type": "code",
   "execution_count": 10,
   "id": "6414f671",
   "metadata": {},
   "outputs": [
    {
     "data": {
      "text/plain": [
       "(8, 4)"
      ]
     },
     "execution_count": 10,
     "metadata": {},
     "output_type": "execute_result"
    }
   ],
   "source": [
    "Nx = size(Ad) # size(A) == size(Ad) -> 8x8 -> Nx=8 \n",
    "Ny = size(Cd) # Number of outputs\n",
    "Nu = size(Bd)"
   ]
  },
  {
   "cell_type": "code",
   "execution_count": 11,
   "id": "5b5bd808",
   "metadata": {},
   "outputs": [
    {
     "data": {
      "text/plain": [
       "12×12 Matrix{Float64}:\n",
       "  0.999         0.0009995     1.66611e-7   …  1.58704e-13  0.0  0.0  0.0  0.0\n",
       "  0.0009995     0.998001      0.000999333     3.33254e-9   0.0  0.0  0.0  0.0\n",
       "  1.66611e-7    0.000999333   0.998001        3.33233e-5   0.0  0.0  0.0  0.0\n",
       "  1.11087e-11   1.66611e-7    0.0009995       0.0999667    0.0  0.0  0.0  0.0\n",
       " -0.0199867     0.01998       6.66333e-6      1.11087e-11  0.0  0.0  0.0  0.0\n",
       "  0.01998      -0.03996       0.0199733    …  1.66611e-7   0.0  0.0  0.0  0.0\n",
       "  6.66333e-6    0.0199733    -0.03996         0.0009995    0.0  0.0  0.0  0.0\n",
       "  6.66476e-10   6.66333e-6    0.01998         0.999        0.0  0.0  0.0  0.0\n",
       "  0.999         0.0009995     1.66611e-7      1.58704e-13  1.0  0.0  0.0  0.0\n",
       "  0.0009995     0.998001      0.000999333     3.33254e-9   0.0  1.0  0.0  0.0\n",
       "  1.66611e-7    0.000999333   0.998001     …  3.33233e-5   0.0  0.0  1.0  0.0\n",
       "  1.11087e-11   1.66611e-7    0.0009995       0.0999667    0.0  0.0  0.0  1.0"
      ]
     },
     "execution_count": 11,
     "metadata": {},
     "output_type": "execute_result"
    }
   ],
   "source": [
    "Id8 =1* Matrix(I, 4, 4)\n",
    "p = zeros(Int8, 8, 4)\n",
    "R = C*Ad\n",
    "Ã = [Ad p ; R Id8]"
   ]
  },
  {
   "cell_type": "code",
   "execution_count": 12,
   "id": "811857d5",
   "metadata": {},
   "outputs": [
    {
     "data": {
      "text/plain": [
       "12×4 Matrix{Float64}:\n",
       " 0.000999833  1.66633e-7   1.11091e-11  3.96772e-16\n",
       " 1.66633e-7   0.000999667  1.66622e-7   1.11091e-11\n",
       " 1.11091e-11  1.66622e-7   0.000999667  1.66633e-7\n",
       " 3.96772e-16  1.11091e-11  1.66633e-7   0.000999833\n",
       " 0.0199933    6.66467e-6   6.66508e-10  3.17407e-14\n",
       " 6.66467e-6   0.0199867    6.664e-6     6.66508e-10\n",
       " 6.66508e-10  6.664e-6     0.0199867    6.66467e-6\n",
       " 3.17407e-14  6.66508e-10  6.66467e-6   0.0199933\n",
       " 0.000999833  1.66633e-7   1.11091e-11  3.96772e-16\n",
       " 1.66633e-7   0.000999667  1.66622e-7   1.11091e-11\n",
       " 1.11091e-11  1.66622e-7   0.000999667  1.66633e-7\n",
       " 3.96772e-16  1.11091e-11  1.66633e-7   0.000999833"
      ]
     },
     "execution_count": 12,
     "metadata": {},
     "output_type": "execute_result"
    }
   ],
   "source": [
    "B̃ = [Bd ; C*Bd]"
   ]
  },
  {
   "cell_type": "code",
   "execution_count": 13,
   "id": "69a06cae",
   "metadata": {},
   "outputs": [
    {
     "data": {
      "text/plain": [
       "4×12 Matrix{Float64}:\n",
       " 0.0  0.0  0.0  0.0  0.0  0.0  0.0  0.0  1.0  0.0  0.0  0.0\n",
       " 0.0  0.0  0.0  0.0  0.0  0.0  0.0  0.0  0.0  1.0  0.0  0.0\n",
       " 0.0  0.0  0.0  0.0  0.0  0.0  0.0  0.0  0.0  0.0  1.0  0.0\n",
       " 0.0  0.0  0.0  0.0  0.0  0.0  0.0  0.0  0.0  0.0  0.0  1.0"
      ]
     },
     "execution_count": 13,
     "metadata": {},
     "output_type": "execute_result"
    }
   ],
   "source": [
    " C̃ = hcat(zeros(Ny), diagm(ones(4)))\n"
   ]
  },
  {
   "cell_type": "code",
   "execution_count": 14,
   "id": "5cd7bdb3",
   "metadata": {},
   "outputs": [
    {
     "data": {
      "text/plain": [
       "mech_osc_mmpc (generic function with 1 method)"
      ]
     },
     "execution_count": 14,
     "metadata": {},
     "output_type": "execute_result"
    }
   ],
   "source": [
    "mech_osc_mmpc(x,u) = Ã * x + B̃ * u # System dynamics in MMPC formulation"
   ]
  },
  {
   "cell_type": "code",
   "execution_count": 15,
   "id": "a1dbdf70",
   "metadata": {},
   "outputs": [
    {
     "data": {
      "text/plain": [
       "multiplexed_mpc_emo (generic function with 1 method)"
      ]
     },
     "execution_count": 15,
     "metadata": {},
     "output_type": "execute_result"
    }
   ],
   "source": [
    "function multiplexed_mpc_emo(z_init, u_last, σ)\n",
    "    \n",
    "    model = Model(my_optimizer)\n",
    "    \n",
    "    ΔT = 0.1            #  Sampling time\n",
    "    n_horizon = 20;     # MPC horizon\n",
    "    \n",
    "   \n",
    "    Nz = size(Ã)[1] # Number of states z\n",
    "    Nu = size(B̃)[2]\n",
    "    Ny = size(C̃)[1] # Number of outputs\n",
    "    \n",
    "    \n",
    "    # Input constraints\n",
    "    Δumin = -100.0\n",
    "    Δumax = 100.0 \n",
    "    \n",
    "    ref = [0.0, 0.0, 0.0, 0.0] # Reference \n",
    "    \n",
    "    @variables model begin\n",
    "        # x[1: Nx, 1:n_horizon]    # States\n",
    "        y[1: Ny, 1:n_horizon] # Output\n",
    "        z[1:Nz, 1:n_horizon] # New state\n",
    "        \n",
    "        e[1:Ny, 1:n_horizon]    # Errors = Reference - Outputs\n",
    "        \n",
    "        Δu[1:Nu, 1:(n_horizon-1)]\n",
    "        \n",
    "        \n",
    "        #Δx[1:Nu, 1:(n_horizon-1)]\n",
    "    end\n",
    "    \n",
    "    for i = 1 : Nu\n",
    "        if i == σ\n",
    "            @constraint(model, Δumin .<= Δu[i, 1:(n_horizon-1)] .<= Δumax)\n",
    "        else\n",
    "            @constraint(model, Δu[i, 1:(n_horizon-1)] .== u_last[i])\n",
    "        end\n",
    "    end\n",
    "\n",
    "    #@constraint(model, x[1:Nx, 1] .== x_init )    # Initial values\n",
    "\n",
    "    # Δumin <= Δu[1:Nu, 1:(n_horizon-1)] <= Δumax  # Input constraints\n",
    "\n",
    "    @constraint(model, z[1:Nz, 1] .== z_init)\n",
    "    # @constraint(model, Δu[1:Nu,1] .== 0) # We have to think about this constraint\n",
    "\n",
    "    for i = 1 : n_horizon\n",
    "        @constraint(model, y[1:Ny, i] .== C̃ * z[1:Nz, i] )  # Output y(n) = C̃ z(n)  \n",
    "    end\n",
    "    \n",
    "    \n",
    "    \n",
    "    @constraint(model, [k=1:n_horizon], e[:, k] .== ref[:] - y[:, k])   # Error = Reference - States\n",
    "    @constraint(model, [k=1:n_horizon-1], z[:, k+1] .==  mech_osc_mmpc(z[:,k], Δu[:,k])) # System dynamics with new state\n",
    "    # Old: J = @NLexpression(model, 100*sum(e[i,end]^2 for i in 1:Nx) + sum(u[j,end]^2 for j in 1:Nu) )\n",
    "    # New\n",
    "\n",
    "    J_err = @NLexpression(model, 100*sum(e[n,k]^2 for n=1:Ny, k=1:n_horizon))\n",
    "    J_in = @NLexpression(model, sum(Δu[j,k]^2 for j = 1:Nu, k = 1:n_horizon-1))\n",
    "\n",
    "    #J = @NLexpression(model, 100*sum(sum(e[n,k]^2 for n in 1:Nx) for k in 1:n_horizon) + sum(sum(Δu[j,k]^2 for j in 1:Nu) for k in 1:n_horizon-1) )\n",
    "\n",
    "    J = @NLexpression(model, J_err + J_in )\n",
    "\n",
    "    @NLobjective( model, Min, J)\n",
    "    \n",
    "    optimize!(model)\n",
    "    #Old: return JuMP.value.(x), JuMP.value.(u), JuMP.value.(e)\n",
    "    return JuMP.value.(z), JuMP.value.(Δu), JuMP.value.(e)\n",
    "end\n",
    "\n"
   ]
  },
  {
   "cell_type": "code",
   "execution_count": null,
   "id": "148caa4e",
   "metadata": {},
   "outputs": [],
   "source": [
    "\n"
   ]
  },
  {
   "cell_type": "code",
   "execution_count": 16,
   "id": "1e04a33e",
   "metadata": {},
   "outputs": [
    {
     "data": {
      "text/plain": [
       "8×50 Matrix{Float64}:\n",
       "  1.0           0.992192      0.970344     …  -0.0109645    -0.00993288\n",
       "  0.0          -4.84571e-5   -0.000121897      0.00196081    0.00155029\n",
       "  0.0          -3.30724e-5   -0.000124651      0.000348126   0.000373793\n",
       "  0.0           7.48945e-7    3.05422e-6      -9.12503e-5   -8.818e-5\n",
       " -4.343e-26    -0.156139     -0.280742         0.0104591     0.0101683\n",
       " -7.18283e-28  -0.00099496   -0.000546496  …  -0.00431516   -0.00388887\n",
       "  3.22452e-27  -0.000661386  -0.00116982       0.000290419   0.000221398\n",
       "  1.76206e-28   1.48661e-5    3.09263e-5       2.82171e-5    3.32648e-5"
      ]
     },
     "execution_count": 16,
     "metadata": {},
     "output_type": "execute_result"
    }
   ],
   "source": [
    "Δx_val = zeros(8,49)\n",
    "using JLD\n",
    "x_val = load(\"data.jld\")[\"data\"]"
   ]
  },
  {
   "cell_type": "code",
   "execution_count": 17,
   "id": "41436b77",
   "metadata": {},
   "outputs": [],
   "source": [
    "for i in 1:49\n",
    "    Δx_val[:, i] = x_val[:, i+1] - x_val[:, i]\n",
    "end\n",
    "    "
   ]
  },
  {
   "cell_type": "code",
   "execution_count": 18,
   "id": "3a90d852",
   "metadata": {},
   "outputs": [
    {
     "data": {
      "text/plain": [
       "4×49 Matrix{Float64}:\n",
       " 1.0   0.992192     0.970344      0.937415     …  -0.0120183    -0.0109645\n",
       " 0.0  -4.84571e-5  -0.000121897  -0.000101621      0.00241447    0.00196081\n",
       " 0.0  -3.30724e-5  -0.000124651  -0.000260644      0.000315315   0.000348126\n",
       " 0.0   7.48945e-7   3.05422e-6    6.94724e-6      -9.37808e-5   -9.12503e-5"
      ]
     },
     "execution_count": 18,
     "metadata": {},
     "output_type": "execute_result"
    }
   ],
   "source": [
    "ypos = Cd * x_val\n",
    "ypos = ypos[:,1:end-1]"
   ]
  },
  {
   "cell_type": "code",
   "execution_count": 19,
   "id": "d693db69",
   "metadata": {},
   "outputs": [
    {
     "data": {
      "text/plain": [
       "12×49 Matrix{Float64}:\n",
       " -0.00780825   -0.0218477    -0.0329288    …   0.0010538     0.00103161\n",
       " -4.84571e-5   -7.34403e-5    2.02765e-5      -0.000453666  -0.000410515\n",
       " -3.30724e-5   -9.15789e-5   -0.000135993      3.28111e-5    2.56674e-5\n",
       "  7.48945e-7    2.30527e-6    3.89302e-6       2.53042e-6    3.07033e-6\n",
       " -0.156139     -0.124603     -0.0969826       -0.000152841  -0.000290766\n",
       " -0.00099496    0.000448464   0.00138816   …   0.000436351   0.000426292\n",
       " -0.000661386  -0.000508429  -0.000379239     -7.36612e-5   -6.9021e-5\n",
       "  1.48661e-5    1.60602e-5    1.55415e-5       5.72474e-6    5.04776e-6\n",
       "  1.0           0.992192      0.970344        -0.0120183    -0.0109645\n",
       "  0.0          -4.84571e-5   -0.000121897      0.00241447    0.00196081\n",
       "  0.0          -3.30724e-5   -0.000124651  …   0.000315315   0.000348126\n",
       "  0.0           7.48945e-7    3.05422e-6      -9.37808e-5   -9.12503e-5"
      ]
     },
     "execution_count": 19,
     "metadata": {},
     "output_type": "execute_result"
    }
   ],
   "source": [
    "zpos = vcat(Δx_val,ypos)"
   ]
  },
  {
   "cell_type": "code",
   "execution_count": 20,
   "id": "9532ec3f",
   "metadata": {},
   "outputs": [
    {
     "data": {
      "text/plain": [
       "12×0 Matrix{Float64}"
      ]
     },
     "execution_count": 20,
     "metadata": {},
     "output_type": "execute_result"
    }
   ],
   "source": [
    "u_hist = zeros(4,0)\n",
    "z_hist = zeros(12,0)"
   ]
  },
  {
   "cell_type": "code",
   "execution_count": 21,
   "id": "d6b30b95",
   "metadata": {},
   "outputs": [
    {
     "data": {
      "text/plain": [
       "12-element Vector{Float64}:\n",
       " -0.007808246744595793\n",
       " -4.845713168491082e-5\n",
       " -3.307242355244581e-5\n",
       "  7.489446194138775e-7\n",
       " -0.15613906720364776\n",
       " -0.000994959902310029\n",
       " -0.0006613861469649292\n",
       "  1.4866148646285156e-5\n",
       "  1.0\n",
       "  0.0\n",
       "  0.0\n",
       "  0.0"
      ]
     },
     "execution_count": 21,
     "metadata": {},
     "output_type": "execute_result"
    }
   ],
   "source": [
    "zpos_new = zpos[:,1]"
   ]
  },
  {
   "cell_type": "code",
   "execution_count": 22,
   "id": "8fe4950a",
   "metadata": {},
   "outputs": [],
   "source": [
    "# zpos_new = 2*rand(12) # Only for testing\n",
    "# zpos_new = zeros(12) # Only for testing\n",
    "# zpos_new[9] = 1"
   ]
  },
  {
   "cell_type": "code",
   "execution_count": 23,
   "id": "dbe6c9d2",
   "metadata": {},
   "outputs": [
    {
     "data": {
      "text/plain": [
       "12-element Vector{Float64}:\n",
       " -0.007808246744595793\n",
       " -4.845713168491082e-5\n",
       " -3.307242355244581e-5\n",
       "  7.489446194138775e-7\n",
       " -0.15613906720364776\n",
       " -0.000994959902310029\n",
       " -0.0006613861469649292\n",
       "  1.4866148646285156e-5\n",
       "  1.0\n",
       "  0.0\n",
       "  0.0\n",
       "  0.0"
      ]
     },
     "execution_count": 23,
     "metadata": {},
     "output_type": "execute_result"
    }
   ],
   "source": [
    "zpos_new"
   ]
  },
  {
   "cell_type": "code",
   "execution_count": 24,
   "id": "7605bc6c",
   "metadata": {},
   "outputs": [
    {
     "data": {
      "text/plain": [
       "4×19 Matrix{Float64}:\n",
       " 0.0  0.0  0.0  0.0  0.0  0.0  0.0  0.0  …  0.0  0.0  0.0  0.0  0.0  0.0  0.0\n",
       " 0.0  0.0  0.0  0.0  0.0  0.0  0.0  0.0     0.0  0.0  0.0  0.0  0.0  0.0  0.0\n",
       " 0.0  0.0  0.0  0.0  0.0  0.0  0.0  0.0     0.0  0.0  0.0  0.0  0.0  0.0  0.0\n",
       " 0.0  0.0  0.0  0.0  0.0  0.0  0.0  0.0     0.0  0.0  0.0  0.0  0.0  0.0  0.0"
      ]
     },
     "execution_count": 24,
     "metadata": {},
     "output_type": "execute_result"
    }
   ],
   "source": [
    "zpos_plan_last = zeros(length(zpos_new),20)\n",
    "u_plan_last = zeros(4,19)"
   ]
  },
  {
   "cell_type": "code",
   "execution_count": 25,
   "id": "59034f95",
   "metadata": {},
   "outputs": [
    {
     "data": {
      "text/plain": [
       "0"
      ]
     },
     "execution_count": 25,
     "metadata": {},
     "output_type": "execute_result"
    }
   ],
   "source": [
    "8 % 4"
   ]
  },
  {
   "cell_type": "code",
   "execution_count": 26,
   "id": "dc6e7315",
   "metadata": {},
   "outputs": [
    {
     "data": {
      "text/plain": [
       "4"
      ]
     },
     "execution_count": 26,
     "metadata": {},
     "output_type": "execute_result"
    }
   ],
   "source": [
    "Nu[2]"
   ]
  },
  {
   "cell_type": "code",
   "execution_count": 27,
   "id": "01a16a66",
   "metadata": {},
   "outputs": [
    {
     "name": "stdout",
     "output_type": "stream",
     "text": [
      "\n",
      "******************************************************************************\n",
      "This program contains Ipopt, a library for large-scale nonlinear optimization.\n",
      " Ipopt is released as open source code under the Eclipse Public License (EPL).\n",
      "         For more information visit https://github.com/coin-or/Ipopt\n",
      "******************************************************************************\n",
      "\n"
     ]
    }
   ],
   "source": [
    "for i = 1 : 50\n",
    "    n_in = (i % Nu[2]) + 1\n",
    "\n",
    "    z_plan, Δu_plan, e_plan = multiplexed_mpc_emo(zpos_new, u_plan_last[:,1], n_in)\n",
    "    z_hist = hcat(z_hist, z_plan[:,1])\n",
    "    u_hist = hcat(u_hist, Δu_plan[:,1])\n",
    "    zpos_new = mech_osc_mmpc(z_plan[:,1], Δu_plan[:,1])\n",
    "    zpos_plan_last = z_plan\n",
    "    u_plan_last = Δu_plan \n",
    "end"
   ]
  },
  {
   "cell_type": "code",
   "execution_count": 61,
   "id": "008607f4",
   "metadata": {},
   "outputs": [
    {
     "data": {
      "image/svg+xml": [
       "<?xml version=\"1.0\" encoding=\"utf-8\"?>\n",
       "<svg xmlns=\"http://www.w3.org/2000/svg\" xmlns:xlink=\"http://www.w3.org/1999/xlink\" width=\"600\" height=\"400\" viewBox=\"0 0 2400 1600\">\n",
       "<defs>\n",
       "  <clipPath id=\"clip000\">\n",
       "    <rect x=\"0\" y=\"0\" width=\"2400\" height=\"1600\"/>\n",
       "  </clipPath>\n",
       "</defs>\n",
       "<path clip-path=\"url(#clip000)\" d=\"\n",
       "M0 1600 L2400 1600 L2400 0 L0 0  Z\n",
       "  \" fill=\"#ffffff\" fill-rule=\"evenodd\" fill-opacity=\"1\"/>\n",
       "<defs>\n",
       "  <clipPath id=\"clip001\">\n",
       "    <rect x=\"480\" y=\"0\" width=\"1681\" height=\"1600\"/>\n",
       "  </clipPath>\n",
       "</defs>\n",
       "<path clip-path=\"url(#clip000)\" d=\"\n",
       "M209.029 1486.45 L2352.76 1486.45 L2352.76 47.2441 L209.029 47.2441  Z\n",
       "  \" fill=\"#ffffff\" fill-rule=\"evenodd\" fill-opacity=\"1\"/>\n",
       "<defs>\n",
       "  <clipPath id=\"clip002\">\n",
       "    <rect x=\"209\" y=\"47\" width=\"2145\" height=\"1440\"/>\n",
       "  </clipPath>\n",
       "</defs>\n",
       "<polyline clip-path=\"url(#clip002)\" style=\"stroke:#000000; stroke-linecap:butt; stroke-linejoin:round; stroke-width:2; stroke-opacity:0.1; fill:none\" points=\"\n",
       "  228.427,1486.45 228.427,47.2441 \n",
       "  \"/>\n",
       "<polyline clip-path=\"url(#clip002)\" style=\"stroke:#000000; stroke-linecap:butt; stroke-linejoin:round; stroke-width:2; stroke-opacity:0.1; fill:none\" points=\"\n",
       "  641.158,1486.45 641.158,47.2441 \n",
       "  \"/>\n",
       "<polyline clip-path=\"url(#clip002)\" style=\"stroke:#000000; stroke-linecap:butt; stroke-linejoin:round; stroke-width:2; stroke-opacity:0.1; fill:none\" points=\"\n",
       "  1053.89,1486.45 1053.89,47.2441 \n",
       "  \"/>\n",
       "<polyline clip-path=\"url(#clip002)\" style=\"stroke:#000000; stroke-linecap:butt; stroke-linejoin:round; stroke-width:2; stroke-opacity:0.1; fill:none\" points=\"\n",
       "  1466.62,1486.45 1466.62,47.2441 \n",
       "  \"/>\n",
       "<polyline clip-path=\"url(#clip002)\" style=\"stroke:#000000; stroke-linecap:butt; stroke-linejoin:round; stroke-width:2; stroke-opacity:0.1; fill:none\" points=\"\n",
       "  1879.35,1486.45 1879.35,47.2441 \n",
       "  \"/>\n",
       "<polyline clip-path=\"url(#clip002)\" style=\"stroke:#000000; stroke-linecap:butt; stroke-linejoin:round; stroke-width:2; stroke-opacity:0.1; fill:none\" points=\"\n",
       "  2292.08,1486.45 2292.08,47.2441 \n",
       "  \"/>\n",
       "<polyline clip-path=\"url(#clip000)\" style=\"stroke:#000000; stroke-linecap:butt; stroke-linejoin:round; stroke-width:4; stroke-opacity:1; fill:none\" points=\"\n",
       "  209.029,1486.45 2352.76,1486.45 \n",
       "  \"/>\n",
       "<polyline clip-path=\"url(#clip000)\" style=\"stroke:#000000; stroke-linecap:butt; stroke-linejoin:round; stroke-width:4; stroke-opacity:1; fill:none\" points=\"\n",
       "  228.427,1486.45 228.427,1467.55 \n",
       "  \"/>\n",
       "<polyline clip-path=\"url(#clip000)\" style=\"stroke:#000000; stroke-linecap:butt; stroke-linejoin:round; stroke-width:4; stroke-opacity:1; fill:none\" points=\"\n",
       "  641.158,1486.45 641.158,1467.55 \n",
       "  \"/>\n",
       "<polyline clip-path=\"url(#clip000)\" style=\"stroke:#000000; stroke-linecap:butt; stroke-linejoin:round; stroke-width:4; stroke-opacity:1; fill:none\" points=\"\n",
       "  1053.89,1486.45 1053.89,1467.55 \n",
       "  \"/>\n",
       "<polyline clip-path=\"url(#clip000)\" style=\"stroke:#000000; stroke-linecap:butt; stroke-linejoin:round; stroke-width:4; stroke-opacity:1; fill:none\" points=\"\n",
       "  1466.62,1486.45 1466.62,1467.55 \n",
       "  \"/>\n",
       "<polyline clip-path=\"url(#clip000)\" style=\"stroke:#000000; stroke-linecap:butt; stroke-linejoin:round; stroke-width:4; stroke-opacity:1; fill:none\" points=\"\n",
       "  1879.35,1486.45 1879.35,1467.55 \n",
       "  \"/>\n",
       "<polyline clip-path=\"url(#clip000)\" style=\"stroke:#000000; stroke-linecap:butt; stroke-linejoin:round; stroke-width:4; stroke-opacity:1; fill:none\" points=\"\n",
       "  2292.08,1486.45 2292.08,1467.55 \n",
       "  \"/>\n",
       "<path clip-path=\"url(#clip000)\" d=\"M228.427 1517.37 Q224.816 1517.37 222.987 1520.93 Q221.182 1524.47 221.182 1531.6 Q221.182 1538.71 222.987 1542.27 Q224.816 1545.82 228.427 1545.82 Q232.061 1545.82 233.867 1542.27 Q235.695 1538.71 235.695 1531.6 Q235.695 1524.47 233.867 1520.93 Q232.061 1517.37 228.427 1517.37 M228.427 1513.66 Q234.237 1513.66 237.293 1518.27 Q240.371 1522.85 240.371 1531.6 Q240.371 1540.33 237.293 1544.94 Q234.237 1549.52 228.427 1549.52 Q222.617 1549.52 219.538 1544.94 Q216.483 1540.33 216.483 1531.6 Q216.483 1522.85 219.538 1518.27 Q222.617 1513.66 228.427 1513.66 Z\" fill=\"#000000\" fill-rule=\"evenodd\" fill-opacity=\"1\" /><path clip-path=\"url(#clip000)\" d=\"M615.846 1544.91 L623.485 1544.91 L623.485 1518.55 L615.175 1520.21 L615.175 1515.95 L623.439 1514.29 L628.114 1514.29 L628.114 1544.91 L635.753 1544.91 L635.753 1548.85 L615.846 1548.85 L615.846 1544.91 Z\" fill=\"#000000\" fill-rule=\"evenodd\" fill-opacity=\"1\" /><path clip-path=\"url(#clip000)\" d=\"M655.198 1517.37 Q651.587 1517.37 649.758 1520.93 Q647.952 1524.47 647.952 1531.6 Q647.952 1538.71 649.758 1542.27 Q651.587 1545.82 655.198 1545.82 Q658.832 1545.82 660.637 1542.27 Q662.466 1538.71 662.466 1531.6 Q662.466 1524.47 660.637 1520.93 Q658.832 1517.37 655.198 1517.37 M655.198 1513.66 Q661.008 1513.66 664.063 1518.27 Q667.142 1522.85 667.142 1531.6 Q667.142 1540.33 664.063 1544.94 Q661.008 1549.52 655.198 1549.52 Q649.388 1549.52 646.309 1544.94 Q643.253 1540.33 643.253 1531.6 Q643.253 1522.85 646.309 1518.27 Q649.388 1513.66 655.198 1513.66 Z\" fill=\"#000000\" fill-rule=\"evenodd\" fill-opacity=\"1\" /><path clip-path=\"url(#clip000)\" d=\"M1032.66 1544.91 L1048.98 1544.91 L1048.98 1548.85 L1027.04 1548.85 L1027.04 1544.91 Q1029.7 1542.16 1034.28 1537.53 Q1038.89 1532.88 1040.07 1531.53 Q1042.32 1529.01 1043.2 1527.27 Q1044.1 1525.51 1044.1 1523.82 Q1044.1 1521.07 1042.15 1519.33 Q1040.23 1517.6 1037.13 1517.6 Q1034.93 1517.6 1032.48 1518.36 Q1030.05 1519.13 1027.27 1520.68 L1027.27 1515.95 Q1030.09 1514.82 1032.55 1514.24 Q1035 1513.66 1037.04 1513.66 Q1042.41 1513.66 1045.6 1516.35 Q1048.8 1519.03 1048.8 1523.52 Q1048.8 1525.65 1047.99 1527.57 Q1047.2 1529.47 1045.09 1532.07 Q1044.51 1532.74 1041.41 1535.95 Q1038.31 1539.15 1032.66 1544.91 Z\" fill=\"#000000\" fill-rule=\"evenodd\" fill-opacity=\"1\" /><path clip-path=\"url(#clip000)\" d=\"M1068.8 1517.37 Q1065.19 1517.37 1063.36 1520.93 Q1061.55 1524.47 1061.55 1531.6 Q1061.55 1538.71 1063.36 1542.27 Q1065.19 1545.82 1068.8 1545.82 Q1072.43 1545.82 1074.24 1542.27 Q1076.07 1538.71 1076.07 1531.6 Q1076.07 1524.47 1074.24 1520.93 Q1072.43 1517.37 1068.8 1517.37 M1068.8 1513.66 Q1074.61 1513.66 1077.66 1518.27 Q1080.74 1522.85 1080.74 1531.6 Q1080.74 1540.33 1077.66 1544.94 Q1074.61 1549.52 1068.8 1549.52 Q1062.99 1549.52 1059.91 1544.94 Q1056.85 1540.33 1056.85 1531.6 Q1056.85 1522.85 1059.91 1518.27 Q1062.99 1513.66 1068.8 1513.66 Z\" fill=\"#000000\" fill-rule=\"evenodd\" fill-opacity=\"1\" /><path clip-path=\"url(#clip000)\" d=\"M1455.46 1530.21 Q1458.82 1530.93 1460.7 1533.2 Q1462.59 1535.47 1462.59 1538.8 Q1462.59 1543.92 1459.08 1546.72 Q1455.56 1549.52 1449.08 1549.52 Q1446.9 1549.52 1444.58 1549.08 Q1442.29 1548.66 1439.84 1547.81 L1439.84 1543.29 Q1441.78 1544.43 1444.1 1545.01 Q1446.41 1545.58 1448.94 1545.58 Q1453.33 1545.58 1455.63 1543.85 Q1457.94 1542.11 1457.94 1538.8 Q1457.94 1535.75 1455.79 1534.03 Q1453.66 1532.3 1449.84 1532.3 L1445.81 1532.3 L1445.81 1528.45 L1450.02 1528.45 Q1453.47 1528.45 1455.3 1527.09 Q1457.13 1525.7 1457.13 1523.11 Q1457.13 1520.45 1455.23 1519.03 Q1453.36 1517.6 1449.84 1517.6 Q1447.92 1517.6 1445.72 1518.01 Q1443.52 1518.43 1440.88 1519.31 L1440.88 1515.14 Q1443.54 1514.4 1445.86 1514.03 Q1448.2 1513.66 1450.26 1513.66 Q1455.58 1513.66 1458.68 1516.09 Q1461.78 1518.5 1461.78 1522.62 Q1461.78 1525.49 1460.14 1527.48 Q1458.5 1529.45 1455.46 1530.21 Z\" fill=\"#000000\" fill-rule=\"evenodd\" fill-opacity=\"1\" /><path clip-path=\"url(#clip000)\" d=\"M1481.46 1517.37 Q1477.85 1517.37 1476.02 1520.93 Q1474.21 1524.47 1474.21 1531.6 Q1474.21 1538.71 1476.02 1542.27 Q1477.85 1545.82 1481.46 1545.82 Q1485.09 1545.82 1486.9 1542.27 Q1488.73 1538.71 1488.73 1531.6 Q1488.73 1524.47 1486.9 1520.93 Q1485.09 1517.37 1481.46 1517.37 M1481.46 1513.66 Q1487.27 1513.66 1490.32 1518.27 Q1493.4 1522.85 1493.4 1531.6 Q1493.4 1540.33 1490.32 1544.94 Q1487.27 1549.52 1481.46 1549.52 Q1475.65 1549.52 1472.57 1544.94 Q1469.51 1540.33 1469.51 1531.6 Q1469.51 1522.85 1472.57 1518.27 Q1475.65 1513.66 1481.46 1513.66 Z\" fill=\"#000000\" fill-rule=\"evenodd\" fill-opacity=\"1\" /><path clip-path=\"url(#clip000)\" d=\"M1867.52 1518.36 L1855.72 1536.81 L1867.52 1536.81 L1867.52 1518.36 M1866.3 1514.29 L1872.18 1514.29 L1872.18 1536.81 L1877.11 1536.81 L1877.11 1540.7 L1872.18 1540.7 L1872.18 1548.85 L1867.52 1548.85 L1867.52 1540.7 L1851.92 1540.7 L1851.92 1536.19 L1866.3 1514.29 Z\" fill=\"#000000\" fill-rule=\"evenodd\" fill-opacity=\"1\" /><path clip-path=\"url(#clip000)\" d=\"M1894.84 1517.37 Q1891.23 1517.37 1889.4 1520.93 Q1887.59 1524.47 1887.59 1531.6 Q1887.59 1538.71 1889.4 1542.27 Q1891.23 1545.82 1894.84 1545.82 Q1898.47 1545.82 1900.28 1542.27 Q1902.11 1538.71 1902.11 1531.6 Q1902.11 1524.47 1900.28 1520.93 Q1898.47 1517.37 1894.84 1517.37 M1894.84 1513.66 Q1900.65 1513.66 1903.7 1518.27 Q1906.78 1522.85 1906.78 1531.6 Q1906.78 1540.33 1903.7 1544.94 Q1900.65 1549.52 1894.84 1549.52 Q1889.03 1549.52 1885.95 1544.94 Q1882.89 1540.33 1882.89 1531.6 Q1882.89 1522.85 1885.95 1518.27 Q1889.03 1513.66 1894.84 1513.66 Z\" fill=\"#000000\" fill-rule=\"evenodd\" fill-opacity=\"1\" /><path clip-path=\"url(#clip000)\" d=\"M2266.78 1514.29 L2285.14 1514.29 L2285.14 1518.22 L2271.07 1518.22 L2271.07 1526.7 Q2272.08 1526.35 2273.1 1526.19 Q2274.12 1526 2275.14 1526 Q2280.93 1526 2284.31 1529.17 Q2287.69 1532.34 2287.69 1537.76 Q2287.69 1543.34 2284.21 1546.44 Q2280.74 1549.52 2274.42 1549.52 Q2272.25 1549.52 2269.98 1549.15 Q2267.73 1548.78 2265.33 1548.04 L2265.33 1543.34 Q2267.41 1544.47 2269.63 1545.03 Q2271.85 1545.58 2274.33 1545.58 Q2278.33 1545.58 2280.67 1543.48 Q2283.01 1541.37 2283.01 1537.76 Q2283.01 1534.15 2280.67 1532.04 Q2278.33 1529.94 2274.33 1529.94 Q2272.45 1529.94 2270.58 1530.35 Q2268.73 1530.77 2266.78 1531.65 L2266.78 1514.29 Z\" fill=\"#000000\" fill-rule=\"evenodd\" fill-opacity=\"1\" /><path clip-path=\"url(#clip000)\" d=\"M2306.9 1517.37 Q2303.29 1517.37 2301.46 1520.93 Q2299.65 1524.47 2299.65 1531.6 Q2299.65 1538.71 2301.46 1542.27 Q2303.29 1545.82 2306.9 1545.82 Q2310.53 1545.82 2312.34 1542.27 Q2314.17 1538.71 2314.17 1531.6 Q2314.17 1524.47 2312.34 1520.93 Q2310.53 1517.37 2306.9 1517.37 M2306.9 1513.66 Q2312.71 1513.66 2315.76 1518.27 Q2318.84 1522.85 2318.84 1531.6 Q2318.84 1540.33 2315.76 1544.94 Q2312.71 1549.52 2306.9 1549.52 Q2301.09 1549.52 2298.01 1544.94 Q2294.95 1540.33 2294.95 1531.6 Q2294.95 1522.85 2298.01 1518.27 Q2301.09 1513.66 2306.9 1513.66 Z\" fill=\"#000000\" fill-rule=\"evenodd\" fill-opacity=\"1\" /><polyline clip-path=\"url(#clip002)\" style=\"stroke:#000000; stroke-linecap:butt; stroke-linejoin:round; stroke-width:2; stroke-opacity:0.1; fill:none\" points=\"\n",
       "  209.029,1426.44 2352.76,1426.44 \n",
       "  \"/>\n",
       "<polyline clip-path=\"url(#clip002)\" style=\"stroke:#000000; stroke-linecap:butt; stroke-linejoin:round; stroke-width:2; stroke-opacity:0.1; fill:none\" points=\"\n",
       "  209.029,1209.51 2352.76,1209.51 \n",
       "  \"/>\n",
       "<polyline clip-path=\"url(#clip002)\" style=\"stroke:#000000; stroke-linecap:butt; stroke-linejoin:round; stroke-width:2; stroke-opacity:0.1; fill:none\" points=\"\n",
       "  209.029,992.573 2352.76,992.573 \n",
       "  \"/>\n",
       "<polyline clip-path=\"url(#clip002)\" style=\"stroke:#000000; stroke-linecap:butt; stroke-linejoin:round; stroke-width:2; stroke-opacity:0.1; fill:none\" points=\"\n",
       "  209.029,775.639 2352.76,775.639 \n",
       "  \"/>\n",
       "<polyline clip-path=\"url(#clip002)\" style=\"stroke:#000000; stroke-linecap:butt; stroke-linejoin:round; stroke-width:2; stroke-opacity:0.1; fill:none\" points=\"\n",
       "  209.029,558.706 2352.76,558.706 \n",
       "  \"/>\n",
       "<polyline clip-path=\"url(#clip002)\" style=\"stroke:#000000; stroke-linecap:butt; stroke-linejoin:round; stroke-width:2; stroke-opacity:0.1; fill:none\" points=\"\n",
       "  209.029,341.773 2352.76,341.773 \n",
       "  \"/>\n",
       "<polyline clip-path=\"url(#clip002)\" style=\"stroke:#000000; stroke-linecap:butt; stroke-linejoin:round; stroke-width:2; stroke-opacity:0.1; fill:none\" points=\"\n",
       "  209.029,124.839 2352.76,124.839 \n",
       "  \"/>\n",
       "<polyline clip-path=\"url(#clip000)\" style=\"stroke:#000000; stroke-linecap:butt; stroke-linejoin:round; stroke-width:4; stroke-opacity:1; fill:none\" points=\"\n",
       "  209.029,1486.45 209.029,47.2441 \n",
       "  \"/>\n",
       "<polyline clip-path=\"url(#clip000)\" style=\"stroke:#000000; stroke-linecap:butt; stroke-linejoin:round; stroke-width:4; stroke-opacity:1; fill:none\" points=\"\n",
       "  209.029,1426.44 227.926,1426.44 \n",
       "  \"/>\n",
       "<polyline clip-path=\"url(#clip000)\" style=\"stroke:#000000; stroke-linecap:butt; stroke-linejoin:round; stroke-width:4; stroke-opacity:1; fill:none\" points=\"\n",
       "  209.029,1209.51 227.926,1209.51 \n",
       "  \"/>\n",
       "<polyline clip-path=\"url(#clip000)\" style=\"stroke:#000000; stroke-linecap:butt; stroke-linejoin:round; stroke-width:4; stroke-opacity:1; fill:none\" points=\"\n",
       "  209.029,992.573 227.926,992.573 \n",
       "  \"/>\n",
       "<polyline clip-path=\"url(#clip000)\" style=\"stroke:#000000; stroke-linecap:butt; stroke-linejoin:round; stroke-width:4; stroke-opacity:1; fill:none\" points=\"\n",
       "  209.029,775.639 227.926,775.639 \n",
       "  \"/>\n",
       "<polyline clip-path=\"url(#clip000)\" style=\"stroke:#000000; stroke-linecap:butt; stroke-linejoin:round; stroke-width:4; stroke-opacity:1; fill:none\" points=\"\n",
       "  209.029,558.706 227.926,558.706 \n",
       "  \"/>\n",
       "<polyline clip-path=\"url(#clip000)\" style=\"stroke:#000000; stroke-linecap:butt; stroke-linejoin:round; stroke-width:4; stroke-opacity:1; fill:none\" points=\"\n",
       "  209.029,341.773 227.926,341.773 \n",
       "  \"/>\n",
       "<polyline clip-path=\"url(#clip000)\" style=\"stroke:#000000; stroke-linecap:butt; stroke-linejoin:round; stroke-width:4; stroke-opacity:1; fill:none\" points=\"\n",
       "  209.029,124.839 227.926,124.839 \n",
       "  \"/>\n",
       "<path clip-path=\"url(#clip000)\" d=\"M50.9921 1426.89 L80.6679 1426.89 L80.6679 1430.83 L50.9921 1430.83 L50.9921 1426.89 Z\" fill=\"#000000\" fill-rule=\"evenodd\" fill-opacity=\"1\" /><path clip-path=\"url(#clip000)\" d=\"M91.5706 1439.78 L99.2095 1439.78 L99.2095 1413.42 L90.8993 1415.09 L90.8993 1410.83 L99.1632 1409.16 L103.839 1409.16 L103.839 1439.78 L111.478 1439.78 L111.478 1443.72 L91.5706 1443.72 L91.5706 1439.78 Z\" fill=\"#000000\" fill-rule=\"evenodd\" fill-opacity=\"1\" /><path clip-path=\"url(#clip000)\" d=\"M120.969 1409.16 L139.325 1409.16 L139.325 1413.09 L125.251 1413.09 L125.251 1421.57 Q126.27 1421.22 127.288 1421.06 Q128.307 1420.87 129.325 1420.87 Q135.112 1420.87 138.492 1424.04 Q141.871 1427.21 141.871 1432.63 Q141.871 1438.21 138.399 1441.31 Q134.927 1444.39 128.607 1444.39 Q126.432 1444.39 124.163 1444.02 Q121.918 1443.65 119.51 1442.91 L119.51 1438.21 Q121.594 1439.34 123.816 1439.9 Q126.038 1440.46 128.515 1440.46 Q132.519 1440.46 134.857 1438.35 Q137.195 1436.24 137.195 1432.63 Q137.195 1429.02 134.857 1426.91 Q132.519 1424.81 128.515 1424.81 Q126.64 1424.81 124.765 1425.22 Q122.913 1425.64 120.969 1426.52 L120.969 1409.16 Z\" fill=\"#000000\" fill-rule=\"evenodd\" fill-opacity=\"1\" /><path clip-path=\"url(#clip000)\" d=\"M161.084 1412.24 Q157.473 1412.24 155.644 1415.8 Q153.839 1419.34 153.839 1426.47 Q153.839 1433.58 155.644 1437.15 Q157.473 1440.69 161.084 1440.69 Q164.718 1440.69 166.524 1437.15 Q168.353 1433.58 168.353 1426.47 Q168.353 1419.34 166.524 1415.8 Q164.718 1412.24 161.084 1412.24 M161.084 1408.53 Q166.894 1408.53 169.95 1413.14 Q173.029 1417.72 173.029 1426.47 Q173.029 1435.2 169.95 1439.81 Q166.894 1444.39 161.084 1444.39 Q155.274 1444.39 152.195 1439.81 Q149.14 1435.2 149.14 1426.47 Q149.14 1417.72 152.195 1413.14 Q155.274 1408.53 161.084 1408.53 Z\" fill=\"#000000\" fill-rule=\"evenodd\" fill-opacity=\"1\" /><path clip-path=\"url(#clip000)\" d=\"M50.9921 1209.96 L80.6679 1209.96 L80.6679 1213.89 L50.9921 1213.89 L50.9921 1209.96 Z\" fill=\"#000000\" fill-rule=\"evenodd\" fill-opacity=\"1\" /><path clip-path=\"url(#clip000)\" d=\"M91.5706 1222.85 L99.2095 1222.85 L99.2095 1196.49 L90.8993 1198.15 L90.8993 1193.89 L99.1632 1192.23 L103.839 1192.23 L103.839 1222.85 L111.478 1222.85 L111.478 1226.79 L91.5706 1226.79 L91.5706 1222.85 Z\" fill=\"#000000\" fill-rule=\"evenodd\" fill-opacity=\"1\" /><path clip-path=\"url(#clip000)\" d=\"M130.922 1195.3 Q127.311 1195.3 125.482 1198.87 Q123.677 1202.41 123.677 1209.54 Q123.677 1216.65 125.482 1220.21 Q127.311 1223.75 130.922 1223.75 Q134.556 1223.75 136.362 1220.21 Q138.191 1216.65 138.191 1209.54 Q138.191 1202.41 136.362 1198.87 Q134.556 1195.3 130.922 1195.3 M130.922 1191.6 Q136.732 1191.6 139.788 1196.21 Q142.867 1200.79 142.867 1209.54 Q142.867 1218.27 139.788 1222.87 Q136.732 1227.46 130.922 1227.46 Q125.112 1227.46 122.033 1222.87 Q118.978 1218.27 118.978 1209.54 Q118.978 1200.79 122.033 1196.21 Q125.112 1191.6 130.922 1191.6 Z\" fill=\"#000000\" fill-rule=\"evenodd\" fill-opacity=\"1\" /><path clip-path=\"url(#clip000)\" d=\"M161.084 1195.3 Q157.473 1195.3 155.644 1198.87 Q153.839 1202.41 153.839 1209.54 Q153.839 1216.65 155.644 1220.21 Q157.473 1223.75 161.084 1223.75 Q164.718 1223.75 166.524 1220.21 Q168.353 1216.65 168.353 1209.54 Q168.353 1202.41 166.524 1198.87 Q164.718 1195.3 161.084 1195.3 M161.084 1191.6 Q166.894 1191.6 169.95 1196.21 Q173.029 1200.79 173.029 1209.54 Q173.029 1218.27 169.95 1222.87 Q166.894 1227.46 161.084 1227.46 Q155.274 1227.46 152.195 1222.87 Q149.14 1218.27 149.14 1209.54 Q149.14 1200.79 152.195 1196.21 Q155.274 1191.6 161.084 1191.6 Z\" fill=\"#000000\" fill-rule=\"evenodd\" fill-opacity=\"1\" /><path clip-path=\"url(#clip000)\" d=\"M81.154 993.024 L110.83 993.024 L110.83 996.959 L81.154 996.959 L81.154 993.024 Z\" fill=\"#000000\" fill-rule=\"evenodd\" fill-opacity=\"1\" /><path clip-path=\"url(#clip000)\" d=\"M120.969 975.293 L139.325 975.293 L139.325 979.228 L125.251 979.228 L125.251 987.7 Q126.27 987.353 127.288 987.191 Q128.307 987.006 129.325 987.006 Q135.112 987.006 138.492 990.177 Q141.871 993.348 141.871 998.765 Q141.871 1004.34 138.399 1007.45 Q134.927 1010.52 128.607 1010.52 Q126.432 1010.52 124.163 1010.15 Q121.918 1009.78 119.51 1009.04 L119.51 1004.34 Q121.594 1005.48 123.816 1006.03 Q126.038 1006.59 128.515 1006.59 Q132.519 1006.59 134.857 1004.48 Q137.195 1002.38 137.195 998.765 Q137.195 995.154 134.857 993.047 Q132.519 990.941 128.515 990.941 Q126.64 990.941 124.765 991.357 Q122.913 991.774 120.969 992.654 L120.969 975.293 Z\" fill=\"#000000\" fill-rule=\"evenodd\" fill-opacity=\"1\" /><path clip-path=\"url(#clip000)\" d=\"M161.084 978.371 Q157.473 978.371 155.644 981.936 Q153.839 985.478 153.839 992.607 Q153.839 999.714 155.644 1003.28 Q157.473 1006.82 161.084 1006.82 Q164.718 1006.82 166.524 1003.28 Q168.353 999.714 168.353 992.607 Q168.353 985.478 166.524 981.936 Q164.718 978.371 161.084 978.371 M161.084 974.668 Q166.894 974.668 169.95 979.274 Q173.029 983.858 173.029 992.607 Q173.029 1001.33 169.95 1005.94 Q166.894 1010.52 161.084 1010.52 Q155.274 1010.52 152.195 1005.94 Q149.14 1001.33 149.14 992.607 Q149.14 983.858 152.195 979.274 Q155.274 974.668 161.084 974.668 Z\" fill=\"#000000\" fill-rule=\"evenodd\" fill-opacity=\"1\" /><path clip-path=\"url(#clip000)\" d=\"M161.084 761.438 Q157.473 761.438 155.644 765.003 Q153.839 768.545 153.839 775.674 Q153.839 782.781 155.644 786.345 Q157.473 789.887 161.084 789.887 Q164.718 789.887 166.524 786.345 Q168.353 782.781 168.353 775.674 Q168.353 768.545 166.524 765.003 Q164.718 761.438 161.084 761.438 M161.084 757.734 Q166.894 757.734 169.95 762.341 Q173.029 766.924 173.029 775.674 Q173.029 784.401 169.95 789.007 Q166.894 793.591 161.084 793.591 Q155.274 793.591 152.195 789.007 Q149.14 784.401 149.14 775.674 Q149.14 766.924 152.195 762.341 Q155.274 757.734 161.084 757.734 Z\" fill=\"#000000\" fill-rule=\"evenodd\" fill-opacity=\"1\" /><path clip-path=\"url(#clip000)\" d=\"M120.969 541.426 L139.325 541.426 L139.325 545.361 L125.251 545.361 L125.251 553.833 Q126.27 553.486 127.288 553.324 Q128.307 553.139 129.325 553.139 Q135.112 553.139 138.492 556.31 Q141.871 559.481 141.871 564.898 Q141.871 570.477 138.399 573.579 Q134.927 576.657 128.607 576.657 Q126.432 576.657 124.163 576.287 Q121.918 575.917 119.51 575.176 L119.51 570.477 Q121.594 571.611 123.816 572.167 Q126.038 572.722 128.515 572.722 Q132.519 572.722 134.857 570.616 Q137.195 568.509 137.195 564.898 Q137.195 561.287 134.857 559.181 Q132.519 557.074 128.515 557.074 Q126.64 557.074 124.765 557.491 Q122.913 557.907 120.969 558.787 L120.969 541.426 Z\" fill=\"#000000\" fill-rule=\"evenodd\" fill-opacity=\"1\" /><path clip-path=\"url(#clip000)\" d=\"M161.084 544.505 Q157.473 544.505 155.644 548.07 Q153.839 551.611 153.839 558.741 Q153.839 565.847 155.644 569.412 Q157.473 572.954 161.084 572.954 Q164.718 572.954 166.524 569.412 Q168.353 565.847 168.353 558.741 Q168.353 551.611 166.524 548.07 Q164.718 544.505 161.084 544.505 M161.084 540.801 Q166.894 540.801 169.95 545.408 Q173.029 549.991 173.029 558.741 Q173.029 567.468 169.95 572.074 Q166.894 576.657 161.084 576.657 Q155.274 576.657 152.195 572.074 Q149.14 567.468 149.14 558.741 Q149.14 549.991 152.195 545.408 Q155.274 540.801 161.084 540.801 Z\" fill=\"#000000\" fill-rule=\"evenodd\" fill-opacity=\"1\" /><path clip-path=\"url(#clip000)\" d=\"M91.5706 355.118 L99.2095 355.118 L99.2095 328.752 L90.8993 330.419 L90.8993 326.159 L99.1632 324.493 L103.839 324.493 L103.839 355.118 L111.478 355.118 L111.478 359.053 L91.5706 359.053 L91.5706 355.118 Z\" fill=\"#000000\" fill-rule=\"evenodd\" fill-opacity=\"1\" /><path clip-path=\"url(#clip000)\" d=\"M130.922 327.571 Q127.311 327.571 125.482 331.136 Q123.677 334.678 123.677 341.807 Q123.677 348.914 125.482 352.479 Q127.311 356.02 130.922 356.02 Q134.556 356.02 136.362 352.479 Q138.191 348.914 138.191 341.807 Q138.191 334.678 136.362 331.136 Q134.556 327.571 130.922 327.571 M130.922 323.868 Q136.732 323.868 139.788 328.474 Q142.867 333.057 142.867 341.807 Q142.867 350.534 139.788 355.141 Q136.732 359.724 130.922 359.724 Q125.112 359.724 122.033 355.141 Q118.978 350.534 118.978 341.807 Q118.978 333.057 122.033 328.474 Q125.112 323.868 130.922 323.868 Z\" fill=\"#000000\" fill-rule=\"evenodd\" fill-opacity=\"1\" /><path clip-path=\"url(#clip000)\" d=\"M161.084 327.571 Q157.473 327.571 155.644 331.136 Q153.839 334.678 153.839 341.807 Q153.839 348.914 155.644 352.479 Q157.473 356.02 161.084 356.02 Q164.718 356.02 166.524 352.479 Q168.353 348.914 168.353 341.807 Q168.353 334.678 166.524 331.136 Q164.718 327.571 161.084 327.571 M161.084 323.868 Q166.894 323.868 169.95 328.474 Q173.029 333.057 173.029 341.807 Q173.029 350.534 169.95 355.141 Q166.894 359.724 161.084 359.724 Q155.274 359.724 152.195 355.141 Q149.14 350.534 149.14 341.807 Q149.14 333.057 152.195 328.474 Q155.274 323.868 161.084 323.868 Z\" fill=\"#000000\" fill-rule=\"evenodd\" fill-opacity=\"1\" /><path clip-path=\"url(#clip000)\" d=\"M91.5706 138.184 L99.2095 138.184 L99.2095 111.819 L90.8993 113.485 L90.8993 109.226 L99.1632 107.559 L103.839 107.559 L103.839 138.184 L111.478 138.184 L111.478 142.119 L91.5706 142.119 L91.5706 138.184 Z\" fill=\"#000000\" fill-rule=\"evenodd\" fill-opacity=\"1\" /><path clip-path=\"url(#clip000)\" d=\"M120.969 107.559 L139.325 107.559 L139.325 111.494 L125.251 111.494 L125.251 119.967 Q126.27 119.619 127.288 119.457 Q128.307 119.272 129.325 119.272 Q135.112 119.272 138.492 122.443 Q141.871 125.615 141.871 131.031 Q141.871 136.61 138.399 139.712 Q134.927 142.791 128.607 142.791 Q126.432 142.791 124.163 142.42 Q121.918 142.05 119.51 141.309 L119.51 136.61 Q121.594 137.744 123.816 138.3 Q126.038 138.855 128.515 138.855 Q132.519 138.855 134.857 136.749 Q137.195 134.643 137.195 131.031 Q137.195 127.42 134.857 125.314 Q132.519 123.207 128.515 123.207 Q126.64 123.207 124.765 123.624 Q122.913 124.041 120.969 124.92 L120.969 107.559 Z\" fill=\"#000000\" fill-rule=\"evenodd\" fill-opacity=\"1\" /><path clip-path=\"url(#clip000)\" d=\"M161.084 110.638 Q157.473 110.638 155.644 114.203 Q153.839 117.744 153.839 124.874 Q153.839 131.98 155.644 135.545 Q157.473 139.087 161.084 139.087 Q164.718 139.087 166.524 135.545 Q168.353 131.98 168.353 124.874 Q168.353 117.744 166.524 114.203 Q164.718 110.638 161.084 110.638 M161.084 106.934 Q166.894 106.934 169.95 111.541 Q173.029 116.124 173.029 124.874 Q173.029 133.601 169.95 138.207 Q166.894 142.791 161.084 142.791 Q155.274 142.791 152.195 138.207 Q149.14 133.601 149.14 124.874 Q149.14 116.124 152.195 111.541 Q155.274 106.934 161.084 106.934 Z\" fill=\"#000000\" fill-rule=\"evenodd\" fill-opacity=\"1\" /><polyline clip-path=\"url(#clip002)\" style=\"stroke:#009af9; stroke-linecap:butt; stroke-linejoin:round; stroke-width:4; stroke-opacity:1; fill:none\" points=\"\n",
       "  269.7,775.673 310.973,775.741 352.246,775.808 393.519,775.876 434.793,775.953 476.066,776.05 517.339,776.168 558.612,776.306 599.885,776.463 641.158,776.64 \n",
       "  682.432,776.835 723.705,777.047 764.978,777.324 806.251,777.713 847.524,778.213 888.797,778.818 930.07,779.681 971.344,780.953 1012.62,782.628 1053.89,784.701 \n",
       "  1095.16,786.516 1136.44,787.419 1177.71,787.414 1218.98,786.505 1260.26,784.702 1301.53,782.018 1342.8,778.47 1384.08,774.078 1425.35,768.864 1466.62,762.855 \n",
       "  1507.89,756.076 1549.17,748.555 1590.44,741.184 1631.71,734.855 1672.99,729.585 1714.26,725.389 1755.53,722.277 1796.81,720.252 1838.08,719.315 1879.35,719.461 \n",
       "  1920.63,720.683 1961.9,722.965 2003.17,726.291 2044.45,730.638 2085.72,735.98 2126.99,742.286 2168.26,749.524 2209.54,757.655 2250.81,766.638 2292.08,776.43 \n",
       "  \n",
       "  \"/>\n",
       "<polyline clip-path=\"url(#clip002)\" style=\"stroke:#e26f46; stroke-linecap:butt; stroke-linejoin:round; stroke-width:4; stroke-opacity:1; fill:none\" points=\"\n",
       "  269.7,775.64 310.973,775.635 352.246,775.621 393.519,775.597 434.793,775.564 476.066,775.497 517.339,775.37 558.612,775.185 599.885,774.943 641.158,774.597 \n",
       "  682.432,774.1 723.705,773.454 764.978,772.667 806.251,771.619 847.524,770.196 888.797,768.407 930.07,766.263 971.344,764.416 1012.62,763.516 1053.89,763.571 \n",
       "  1095.16,764.585 1136.44,766.554 1177.71,769.468 1218.98,773.31 1260.26,778.055 1301.53,783.634 1342.8,789.972 1384.08,797.026 1425.35,804.75 1466.62,812.264 \n",
       "  1507.89,818.691 1549.17,823.99 1590.44,828.122 1631.71,831.059 1672.99,832.78 1714.26,833.273 1755.53,832.537 1796.81,830.579 1838.08,827.413 1879.35,823.062 \n",
       "  1920.63,817.556 1961.9,810.927 2003.17,803.214 2044.45,794.459 2085.72,784.71 2126.99,774.016 2168.26,762.435 2209.54,750.023 2250.81,736.847 2292.08,723.84 \n",
       "  \n",
       "  \"/>\n",
       "<polyline clip-path=\"url(#clip002)\" style=\"stroke:#3da44d; stroke-linecap:butt; stroke-linejoin:round; stroke-width:4; stroke-opacity:1; fill:none\" points=\"\n",
       "  269.7,775.64 310.973,775.64 352.246,775.648 393.519,775.67 434.793,775.707 476.066,775.758 517.339,775.878 558.612,776.121 599.885,776.485 641.158,776.968 \n",
       "  682.432,777.667 723.705,778.679 764.978,779.998 806.251,781.616 847.524,783.316 888.797,784.883 930.07,786.306 971.344,787.574 1012.62,788.289 1053.89,788.056 \n",
       "  1095.16,786.881 1136.44,784.777 1177.71,781.764 1218.98,777.868 1260.26,773.118 1301.53,767.55 1342.8,762.068 1384.08,757.576 1425.35,754.107 1466.62,751.688 \n",
       "  1507.89,750.34 1549.17,750.076 1590.44,750.901 1631.71,752.809 1672.99,755.788 1714.26,759.817 1755.53,764.868 1796.81,770.908 1838.08,777.033 1879.35,782.335 \n",
       "  1920.63,786.779 1961.9,790.334 2003.17,792.968 2044.45,794.656 2085.72,795.376 2126.99,795.109 2168.26,794.28 2209.54,793.314 2250.81,792.201 2292.08,790.931 \n",
       "  \n",
       "  \"/>\n",
       "<polyline clip-path=\"url(#clip002)\" style=\"stroke:#c271d2; stroke-linecap:butt; stroke-linejoin:round; stroke-width:4; stroke-opacity:1; fill:none\" points=\"\n",
       "  269.7,775.639 310.973,775.639 352.246,775.639 393.519,775.628 434.793,775.592 476.066,775.533 517.339,775.451 558.612,775.282 599.885,774.965 641.158,774.501 \n",
       "  682.432,773.891 723.705,773.144 764.978,772.267 806.251,771.266 847.524,770.145 888.797,769.414 930.07,769.582 971.344,770.65 1012.62,772.62 1053.89,775.272 \n",
       "  1095.16,778.382 1136.44,781.942 1177.71,785.942 1218.98,789.716 1260.26,792.598 1301.53,794.574 1342.8,795.628 1384.08,795.747 1425.35,794.923 1466.62,793.15 \n",
       "  1507.89,790.427 1549.17,786.755 1590.44,782.144 1631.71,776.602 1672.99,770.145 1714.26,763.66 1755.53,758.035 1796.81,753.291 1838.08,749.45 1879.35,746.532 \n",
       "  1920.63,744.552 1961.9,743.525 2003.17,743.459 2044.45,744.359 2085.72,746.227 2126.99,749.061 2168.26,752.854 2209.54,757.598 2250.81,763.28 2292.08,769.889 \n",
       "  \n",
       "  \"/>\n",
       "<polyline clip-path=\"url(#clip002)\" style=\"stroke:#ac8d18; stroke-linecap:butt; stroke-linejoin:round; stroke-width:4; stroke-opacity:1; fill:none\" points=\"\n",
       "  269.7,776.317 310.973,776.315 352.246,776.313 393.519,776.308 434.793,776.514 476.066,776.718 517.339,776.918 558.612,777.112 599.885,777.31 641.158,777.499 \n",
       "  682.432,777.676 723.705,777.838 764.978,778.976 806.251,780.089 847.524,781.169 888.797,782.206 930.07,786.327 971.344,790.385 1012.62,794.386 1053.89,798.341 \n",
       "  1095.16,789.23 1136.44,780.122 1177.71,771.053 1218.98,762.062 1260.26,753.183 1301.53,744.452 1342.8,735.904 1384.08,727.568 1425.35,719.477 1466.62,711.653 \n",
       "  1507.89,704.096 1549.17,696.8 1590.44,707.105 1631.71,717.618 1672.99,728.293 1714.26,739.085 1755.53,749.947 1796.81,760.834 1838.08,771.7 1879.35,782.498 \n",
       "  1920.63,793.184 1961.9,803.713 2003.17,814.043 2044.45,824.131 2085.72,833.937 2126.99,843.422 2168.26,852.549 2209.54,861.281 2250.81,869.587 2292.08,877.44 \n",
       "  \n",
       "  \"/>\n",
       "<polyline clip-path=\"url(#clip002)\" style=\"stroke:#00a9ad; stroke-linecap:butt; stroke-linejoin:round; stroke-width:4; stroke-opacity:1; fill:none\" points=\"\n",
       "  269.7,775.644 310.973,775.546 352.246,775.449 393.519,775.355 434.793,775.264 476.066,774.668 517.339,774.079 558.612,773.502 599.885,772.943 641.158,771.415 \n",
       "  682.432,769.919 723.705,768.467 764.978,767.071 806.251,763.269 847.524,759.558 888.797,755.956 930.07,752.476 971.344,761.888 1012.62,771.405 1053.89,780.981 \n",
       "  1095.16,790.563 1136.44,800.08 1177.71,809.457 1218.98,818.62 1260.26,827.498 1301.53,835.293 1342.8,842.674 1384.08,849.607 1425.35,856.069 1466.62,845.423 \n",
       "  1507.89,834.332 1549.17,822.847 1590.44,811.027 1631.71,798.956 1672.99,786.724 1714.26,774.424 1755.53,762.147 1796.81,749.982 1838.08,738.016 1879.35,726.306 \n",
       "  1920.63,714.905 1961.9,703.862 2003.17,693.223 2044.45,683.035 2085.72,673.337 2126.99,664.17 2168.26,655.571 2209.54,647.589 2250.81,640.268 2292.08,650.997 \n",
       "  \n",
       "  \"/>\n",
       "<polyline clip-path=\"url(#clip002)\" style=\"stroke:#ed5d92; stroke-linecap:butt; stroke-linejoin:round; stroke-width:4; stroke-opacity:1; fill:none\" points=\"\n",
       "  269.7,775.642 310.973,775.642 352.246,775.79 393.519,775.937 434.793,776.082 476.066,776.223 517.339,777.456 558.612,778.677 599.885,779.876 641.158,781.044 \n",
       "  682.432,784.207 723.705,787.311 764.978,790.338 806.251,793.269 847.524,791.996 888.797,790.605 930.07,789.11 971.344,787.531 1012.62,778.042 1053.89,768.582 \n",
       "  1095.16,759.219 1136.44,750.017 1177.71,741.043 1218.98,732.355 1260.26,723.992 1301.53,715.987 1342.8,725.714 1384.08,735.786 1425.35,746.158 1466.62,756.777 \n",
       "  1507.89,767.566 1549.17,778.441 1590.44,789.316 1631.71,800.105 1672.99,810.724 1714.26,821.092 1755.53,831.154 1796.81,840.864 1838.08,832.833 1879.35,824.431 \n",
       "  1920.63,815.685 1961.9,806.629 2003.17,797.294 2044.45,787.716 2085.72,777.932 2126.99,767.982 2168.26,766.684 2209.54,765.267 2250.81,763.74 2292.08,762.119 \n",
       "  \n",
       "  \"/>\n",
       "<polyline clip-path=\"url(#clip002)\" style=\"stroke:#c68125; stroke-linecap:butt; stroke-linejoin:round; stroke-width:4; stroke-opacity:1; fill:none\" points=\"\n",
       "  269.7,775.639 310.973,775.639 352.246,775.639 393.519,775.402 434.793,775.166 476.066,774.932 517.339,774.7 558.612,773.21 599.885,771.729 641.158,770.266 \n",
       "  682.432,768.824 723.705,767.513 764.978,766.242 806.251,765.019 847.524,763.851 888.797,772.817 930.07,781.818 971.344,790.833 1012.62,799.84 1053.89,804.461 \n",
       "  1095.16,809.01 1136.44,813.46 1177.71,817.784 1218.98,808.946 1260.26,799.955 1301.53,790.813 1342.8,781.526 1384.08,772.128 1425.35,762.658 1466.62,753.154 \n",
       "  1507.89,743.658 1549.17,734.21 1590.44,724.85 1631.71,715.619 1672.99,706.557 1714.26,715.052 1755.53,723.759 1796.81,732.681 1838.08,741.813 1879.35,751.127 \n",
       "  1920.63,760.588 1961.9,770.158 2003.17,779.802 2044.45,789.481 2085.72,799.156 2126.99,808.788 2168.26,818.342 2209.54,827.793 2250.81,837.118 2292.08,846.297 \n",
       "  \n",
       "  \"/>\n",
       "<polyline clip-path=\"url(#clip002)\" style=\"stroke:#00a98d; stroke-linecap:butt; stroke-linejoin:round; stroke-width:4; stroke-opacity:1; fill:none\" points=\"\n",
       "  269.7,771.301 310.973,771.402 352.246,771.571 393.519,771.807 434.793,772.121 476.066,772.532 517.339,773.061 558.612,773.727 599.885,774.551 641.158,775.552 \n",
       "  682.432,776.747 723.705,778.155 764.978,779.839 806.251,781.913 847.524,784.486 888.797,787.665 930.07,791.706 971.344,797.02 1012.62,804.009 1053.89,813.07 \n",
       "  1095.16,823.946 1136.44,835.726 1177.71,847.5 1218.98,858.365 1260.26,867.428 1301.53,873.807 1342.8,876.638 1384.08,875.076 1425.35,868.301 1466.62,855.516 \n",
       "  1507.89,835.953 1549.17,808.868 1590.44,774.413 1631.71,733.628 1672.99,687.574 1714.26,637.324 1755.53,583.961 1796.81,528.573 1838.08,472.249 1879.35,416.071 \n",
       "  1920.63,361.114 1961.9,308.44 2003.17,259.091 2044.45,214.089 2085.72,174.43 2126.99,141.077 2168.26,114.962 2209.54,96.9773 2250.81,87.9763 2292.08,88.7664 \n",
       "  \n",
       "  \"/>\n",
       "<polyline clip-path=\"url(#clip002)\" style=\"stroke:#8e971d; stroke-linecap:butt; stroke-linejoin:round; stroke-width:4; stroke-opacity:1; fill:none\" points=\"\n",
       "  269.7,775.639 310.973,775.635 352.246,775.617 393.519,775.574 434.793,775.499 476.066,775.357 517.339,775.087 558.612,774.633 599.885,773.937 641.158,772.895 \n",
       "  682.432,771.355 723.705,769.17 764.978,766.197 806.251,762.177 847.524,756.734 888.797,749.501 930.07,740.125 971.344,728.902 1012.62,716.779 1053.89,704.711 \n",
       "  1095.16,693.656 1136.44,684.571 1177.71,678.4 1218.98,676.071 1260.26,678.486 1301.53,686.481 1342.8,700.813 1384.08,722.2 1425.35,751.31 1466.62,787.935 \n",
       "  1507.89,830.987 1549.17,879.337 1590.44,931.819 1631.71,987.239 1672.99,1044.38 1714.26,1102.01 1755.53,1158.91 1796.81,1213.85 1838.08,1265.62 1879.35,1313.05 \n",
       "  1920.63,1354.96 1961.9,1390.25 2003.17,1417.83 2044.45,1436.65 2085.72,1445.72 2126.99,1444.09 2168.26,1430.89 2209.54,1405.27 2250.81,1366.48 2292.08,1314.68 \n",
       "  \n",
       "  \"/>\n",
       "<polyline clip-path=\"url(#clip002)\" style=\"stroke:#00a8cb; stroke-linecap:butt; stroke-linejoin:round; stroke-width:4; stroke-opacity:1; fill:none\" points=\"\n",
       "  269.7,775.639 310.973,775.64 352.246,775.648 393.519,775.679 434.793,775.746 476.066,775.865 517.339,776.104 558.612,776.586 599.885,777.432 641.158,778.76 \n",
       "  682.432,780.787 723.705,783.827 764.978,788.186 806.251,794.163 847.524,801.839 888.797,811.083 930.07,821.749 971.344,833.684 1012.62,846.334 1053.89,858.751 \n",
       "  1095.16,869.992 1136.44,879.13 1177.71,885.255 1218.98,887.483 1260.26,884.961 1301.53,876.872 1342.8,863.3 1384.08,845.237 1425.35,823.705 1466.62,799.754 \n",
       "  1507.89,774.455 1549.17,748.892 1590.44,724.153 1631.71,701.322 1672.99,681.471 1714.26,665.649 1755.53,654.878 1796.81,650.147 1838.08,651.54 1879.35,658.235 \n",
       "  1920.63,669.375 1961.9,684.069 2003.17,701.398 2044.45,720.415 2085.72,740.152 2126.99,759.622 2168.26,778.262 2209.54,795.937 2250.81,812.499 2292.08,827.791 \n",
       "  \n",
       "  \"/>\n",
       "<polyline clip-path=\"url(#clip002)\" style=\"stroke:#9b7fe8; stroke-linecap:butt; stroke-linejoin:round; stroke-width:4; stroke-opacity:1; fill:none\" points=\"\n",
       "  269.7,775.639 310.973,775.639 352.246,775.639 393.519,775.628 434.793,775.58 476.066,775.474 517.339,775.285 558.612,774.927 599.885,774.253 641.158,773.114 \n",
       "  682.432,771.366 723.705,768.87 764.978,765.498 806.251,761.124 847.524,755.629 888.797,749.404 930.07,743.346 971.344,738.357 1012.62,735.337 1053.89,734.969 \n",
       "  1095.16,737.712 1136.44,744.015 1177.71,754.317 1218.98,768.394 1260.26,785.352 1301.53,804.287 1342.8,824.275 1384.08,844.383 1425.35,863.667 1466.62,881.178 \n",
       "  1507.89,895.965 1549.17,907.081 1590.44,913.585 1631.71,914.548 1672.99,909.054 1714.26,897.074 1755.53,879.469 1796.81,857.121 1838.08,830.932 1879.35,801.824 \n",
       "  1920.63,770.737 1961.9,738.622 2003.17,706.442 2044.45,675.161 2085.72,645.748 2126.99,619.169 2168.26,596.384 2209.54,578.342 2250.81,565.983 2292.08,560.232 \n",
       "  \n",
       "  \"/>\n",
       "<path clip-path=\"url(#clip000)\" d=\"\n",
       "M280.486 769.138 L602.497 769.138 L602.497 95.2176 L280.486 95.2176  Z\n",
       "  \" fill=\"#ffffff\" fill-rule=\"evenodd\" fill-opacity=\"1\"/>\n",
       "<polyline clip-path=\"url(#clip000)\" style=\"stroke:#000000; stroke-linecap:butt; stroke-linejoin:round; stroke-width:4; stroke-opacity:1; fill:none\" points=\"\n",
       "  280.486,769.138 602.497,769.138 602.497,95.2176 280.486,95.2176 280.486,769.138 \n",
       "  \"/>\n",
       "<polyline clip-path=\"url(#clip000)\" style=\"stroke:#009af9; stroke-linecap:butt; stroke-linejoin:round; stroke-width:4; stroke-opacity:1; fill:none\" points=\"\n",
       "  304.305,147.058 447.22,147.058 \n",
       "  \"/>\n",
       "<path clip-path=\"url(#clip000)\" d=\"M484.882 166.745 Q483.077 171.375 481.364 172.787 Q479.651 174.199 476.78 174.199 L473.378 174.199 L473.378 170.634 L475.878 170.634 Q477.637 170.634 478.609 169.8 Q479.581 168.967 480.762 165.865 L481.526 163.921 L471.04 138.412 L475.554 138.412 L483.655 158.689 L491.757 138.412 L496.271 138.412 L484.882 166.745 Z\" fill=\"#000000\" fill-rule=\"evenodd\" fill-opacity=\"1\" /><path clip-path=\"url(#clip000)\" d=\"M503.563 160.402 L511.201 160.402 L511.201 134.037 L502.891 135.703 L502.891 131.444 L511.155 129.778 L515.831 129.778 L515.831 160.402 L523.47 160.402 L523.47 164.338 L503.563 164.338 L503.563 160.402 Z\" fill=\"#000000\" fill-rule=\"evenodd\" fill-opacity=\"1\" /><polyline clip-path=\"url(#clip000)\" style=\"stroke:#e26f46; stroke-linecap:butt; stroke-linejoin:round; stroke-width:4; stroke-opacity:1; fill:none\" points=\"\n",
       "  304.305,198.898 447.22,198.898 \n",
       "  \"/>\n",
       "<path clip-path=\"url(#clip000)\" d=\"M484.882 218.585 Q483.077 223.215 481.364 224.627 Q479.651 226.039 476.78 226.039 L473.378 226.039 L473.378 222.474 L475.878 222.474 Q477.637 222.474 478.609 221.64 Q479.581 220.807 480.762 217.705 L481.526 215.761 L471.04 190.252 L475.554 190.252 L483.655 210.529 L491.757 190.252 L496.271 190.252 L484.882 218.585 Z\" fill=\"#000000\" fill-rule=\"evenodd\" fill-opacity=\"1\" /><path clip-path=\"url(#clip000)\" d=\"M506.78 212.242 L523.1 212.242 L523.1 216.178 L501.155 216.178 L501.155 212.242 Q503.817 209.488 508.401 204.858 Q513.007 200.205 514.188 198.863 Q516.433 196.34 517.313 194.604 Q518.215 192.844 518.215 191.155 Q518.215 188.4 516.271 186.664 Q514.35 184.928 511.248 184.928 Q509.049 184.928 506.595 185.692 Q504.164 186.455 501.387 188.006 L501.387 183.284 Q504.211 182.15 506.664 181.571 Q509.118 180.993 511.155 180.993 Q516.526 180.993 519.72 183.678 Q522.914 186.363 522.914 190.854 Q522.914 192.983 522.104 194.905 Q521.317 196.803 519.211 199.395 Q518.632 200.067 515.53 203.284 Q512.428 206.479 506.78 212.242 Z\" fill=\"#000000\" fill-rule=\"evenodd\" fill-opacity=\"1\" /><polyline clip-path=\"url(#clip000)\" style=\"stroke:#3da44d; stroke-linecap:butt; stroke-linejoin:round; stroke-width:4; stroke-opacity:1; fill:none\" points=\"\n",
       "  304.305,250.738 447.22,250.738 \n",
       "  \"/>\n",
       "<path clip-path=\"url(#clip000)\" d=\"M484.882 270.425 Q483.077 275.055 481.364 276.467 Q479.651 277.879 476.78 277.879 L473.378 277.879 L473.378 274.314 L475.878 274.314 Q477.637 274.314 478.609 273.48 Q479.581 272.647 480.762 269.545 L481.526 267.601 L471.04 242.092 L475.554 242.092 L483.655 262.369 L491.757 242.092 L496.271 242.092 L484.882 270.425 Z\" fill=\"#000000\" fill-rule=\"evenodd\" fill-opacity=\"1\" /><path clip-path=\"url(#clip000)\" d=\"M516.919 249.383 Q520.275 250.101 522.15 252.369 Q524.049 254.638 524.049 257.971 Q524.049 263.087 520.53 265.888 Q517.012 268.689 510.53 268.689 Q508.354 268.689 506.039 268.249 Q503.748 267.832 501.294 266.976 L501.294 262.462 Q503.239 263.596 505.553 264.175 Q507.868 264.754 510.391 264.754 Q514.789 264.754 517.081 263.018 Q519.396 261.281 519.396 257.971 Q519.396 254.916 517.243 253.203 Q515.113 251.467 511.294 251.467 L507.266 251.467 L507.266 247.624 L511.479 247.624 Q514.928 247.624 516.757 246.258 Q518.586 244.87 518.586 242.277 Q518.586 239.615 516.688 238.203 Q514.813 236.768 511.294 236.768 Q509.373 236.768 507.174 237.184 Q504.975 237.601 502.336 238.481 L502.336 234.314 Q504.998 233.573 507.313 233.203 Q509.651 232.833 511.711 232.833 Q517.035 232.833 520.137 235.263 Q523.238 237.67 523.238 241.791 Q523.238 244.661 521.595 246.652 Q519.951 248.62 516.919 249.383 Z\" fill=\"#000000\" fill-rule=\"evenodd\" fill-opacity=\"1\" /><polyline clip-path=\"url(#clip000)\" style=\"stroke:#c271d2; stroke-linecap:butt; stroke-linejoin:round; stroke-width:4; stroke-opacity:1; fill:none\" points=\"\n",
       "  304.305,302.578 447.22,302.578 \n",
       "  \"/>\n",
       "<path clip-path=\"url(#clip000)\" d=\"M484.882 322.265 Q483.077 326.895 481.364 328.307 Q479.651 329.719 476.78 329.719 L473.378 329.719 L473.378 326.154 L475.878 326.154 Q477.637 326.154 478.609 325.32 Q479.581 324.487 480.762 321.385 L481.526 319.441 L471.04 293.932 L475.554 293.932 L483.655 314.209 L491.757 293.932 L496.271 293.932 L484.882 322.265 Z\" fill=\"#000000\" fill-rule=\"evenodd\" fill-opacity=\"1\" /><path clip-path=\"url(#clip000)\" d=\"M515.6 289.372 L503.794 307.821 L515.6 307.821 L515.6 289.372 M514.373 285.298 L520.252 285.298 L520.252 307.821 L525.183 307.821 L525.183 311.709 L520.252 311.709 L520.252 319.858 L515.6 319.858 L515.6 311.709 L499.998 311.709 L499.998 307.196 L514.373 285.298 Z\" fill=\"#000000\" fill-rule=\"evenodd\" fill-opacity=\"1\" /><polyline clip-path=\"url(#clip000)\" style=\"stroke:#ac8d18; stroke-linecap:butt; stroke-linejoin:round; stroke-width:4; stroke-opacity:1; fill:none\" points=\"\n",
       "  304.305,354.418 447.22,354.418 \n",
       "  \"/>\n",
       "<path clip-path=\"url(#clip000)\" d=\"M484.882 374.105 Q483.077 378.735 481.364 380.147 Q479.651 381.559 476.78 381.559 L473.378 381.559 L473.378 377.994 L475.878 377.994 Q477.637 377.994 478.609 377.16 Q479.581 376.327 480.762 373.225 L481.526 371.281 L471.04 345.772 L475.554 345.772 L483.655 366.049 L491.757 345.772 L496.271 345.772 L484.882 374.105 Z\" fill=\"#000000\" fill-rule=\"evenodd\" fill-opacity=\"1\" /><path clip-path=\"url(#clip000)\" d=\"M502.799 337.138 L521.155 337.138 L521.155 341.073 L507.081 341.073 L507.081 349.545 Q508.1 349.198 509.118 349.036 Q510.137 348.85 511.155 348.85 Q516.942 348.85 520.322 352.022 Q523.701 355.193 523.701 360.61 Q523.701 366.188 520.229 369.29 Q516.757 372.369 510.438 372.369 Q508.262 372.369 505.993 371.998 Q503.748 371.628 501.34 370.887 L501.34 366.188 Q503.424 367.323 505.646 367.878 Q507.868 368.434 510.345 368.434 Q514.35 368.434 516.688 366.327 Q519.025 364.221 519.025 360.61 Q519.025 356.999 516.688 354.892 Q514.35 352.786 510.345 352.786 Q508.47 352.786 506.595 353.202 Q504.743 353.619 502.799 354.499 L502.799 337.138 Z\" fill=\"#000000\" fill-rule=\"evenodd\" fill-opacity=\"1\" /><polyline clip-path=\"url(#clip000)\" style=\"stroke:#00a9ad; stroke-linecap:butt; stroke-linejoin:round; stroke-width:4; stroke-opacity:1; fill:none\" points=\"\n",
       "  304.305,406.258 447.22,406.258 \n",
       "  \"/>\n",
       "<path clip-path=\"url(#clip000)\" d=\"M484.882 425.945 Q483.077 430.575 481.364 431.987 Q479.651 433.399 476.78 433.399 L473.378 433.399 L473.378 429.834 L475.878 429.834 Q477.637 429.834 478.609 429 Q479.581 428.167 480.762 425.065 L481.526 423.121 L471.04 397.612 L475.554 397.612 L483.655 417.889 L491.757 397.612 L496.271 397.612 L484.882 425.945 Z\" fill=\"#000000\" fill-rule=\"evenodd\" fill-opacity=\"1\" /><path clip-path=\"url(#clip000)\" d=\"M513.331 404.394 Q510.183 404.394 508.331 406.547 Q506.502 408.7 506.502 412.45 Q506.502 416.176 508.331 418.352 Q510.183 420.505 513.331 420.505 Q516.479 420.505 518.308 418.352 Q520.16 416.176 520.16 412.45 Q520.16 408.7 518.308 406.547 Q516.479 404.394 513.331 404.394 M522.613 389.741 L522.613 394.001 Q520.854 393.167 519.049 392.728 Q517.266 392.288 515.507 392.288 Q510.877 392.288 508.424 395.413 Q505.993 398.538 505.646 404.857 Q507.012 402.843 509.072 401.778 Q511.132 400.69 513.609 400.69 Q518.817 400.69 521.826 403.862 Q524.859 407.01 524.859 412.45 Q524.859 417.774 521.711 420.991 Q518.563 424.209 513.331 424.209 Q507.336 424.209 504.164 419.626 Q500.993 415.019 500.993 406.292 Q500.993 398.098 504.882 393.237 Q508.771 388.353 515.322 388.353 Q517.081 388.353 518.863 388.7 Q520.669 389.047 522.613 389.741 Z\" fill=\"#000000\" fill-rule=\"evenodd\" fill-opacity=\"1\" /><polyline clip-path=\"url(#clip000)\" style=\"stroke:#ed5d92; stroke-linecap:butt; stroke-linejoin:round; stroke-width:4; stroke-opacity:1; fill:none\" points=\"\n",
       "  304.305,458.098 447.22,458.098 \n",
       "  \"/>\n",
       "<path clip-path=\"url(#clip000)\" d=\"M484.882 477.785 Q483.077 482.415 481.364 483.827 Q479.651 485.239 476.78 485.239 L473.378 485.239 L473.378 481.674 L475.878 481.674 Q477.637 481.674 478.609 480.84 Q479.581 480.007 480.762 476.905 L481.526 474.961 L471.04 449.452 L475.554 449.452 L483.655 469.729 L491.757 449.452 L496.271 449.452 L484.882 477.785 Z\" fill=\"#000000\" fill-rule=\"evenodd\" fill-opacity=\"1\" /><path clip-path=\"url(#clip000)\" d=\"M501.572 440.818 L523.794 440.818 L523.794 442.808 L511.248 475.378 L506.364 475.378 L518.169 444.753 L501.572 444.753 L501.572 440.818 Z\" fill=\"#000000\" fill-rule=\"evenodd\" fill-opacity=\"1\" /><polyline clip-path=\"url(#clip000)\" style=\"stroke:#c68125; stroke-linecap:butt; stroke-linejoin:round; stroke-width:4; stroke-opacity:1; fill:none\" points=\"\n",
       "  304.305,509.938 447.22,509.938 \n",
       "  \"/>\n",
       "<path clip-path=\"url(#clip000)\" d=\"M484.882 529.625 Q483.077 534.255 481.364 535.667 Q479.651 537.079 476.78 537.079 L473.378 537.079 L473.378 533.514 L475.878 533.514 Q477.637 533.514 478.609 532.68 Q479.581 531.847 480.762 528.745 L481.526 526.801 L471.04 501.292 L475.554 501.292 L483.655 521.569 L491.757 501.292 L496.271 501.292 L484.882 529.625 Z\" fill=\"#000000\" fill-rule=\"evenodd\" fill-opacity=\"1\" /><path clip-path=\"url(#clip000)\" d=\"M512.752 510.806 Q509.419 510.806 507.498 512.588 Q505.6 514.37 505.6 517.495 Q505.6 520.62 507.498 522.403 Q509.419 524.185 512.752 524.185 Q516.086 524.185 518.007 522.403 Q519.928 520.597 519.928 517.495 Q519.928 514.37 518.007 512.588 Q516.109 510.806 512.752 510.806 M508.076 508.815 Q505.067 508.074 503.377 506.014 Q501.711 503.954 501.711 500.991 Q501.711 496.847 504.651 494.44 Q507.614 492.033 512.752 492.033 Q517.914 492.033 520.854 494.44 Q523.794 496.847 523.794 500.991 Q523.794 503.954 522.104 506.014 Q520.438 508.074 517.451 508.815 Q520.831 509.602 522.706 511.894 Q524.604 514.185 524.604 517.495 Q524.604 522.519 521.525 525.204 Q518.47 527.889 512.752 527.889 Q507.035 527.889 503.956 525.204 Q500.901 522.519 500.901 517.495 Q500.901 514.185 502.799 511.894 Q504.697 509.602 508.076 508.815 M506.364 501.431 Q506.364 504.116 508.03 505.62 Q509.72 507.125 512.752 507.125 Q515.762 507.125 517.451 505.62 Q519.164 504.116 519.164 501.431 Q519.164 498.745 517.451 497.241 Q515.762 495.736 512.752 495.736 Q509.72 495.736 508.03 497.241 Q506.364 498.745 506.364 501.431 Z\" fill=\"#000000\" fill-rule=\"evenodd\" fill-opacity=\"1\" /><polyline clip-path=\"url(#clip000)\" style=\"stroke:#00a98d; stroke-linecap:butt; stroke-linejoin:round; stroke-width:4; stroke-opacity:1; fill:none\" points=\"\n",
       "  304.305,561.778 447.22,561.778 \n",
       "  \"/>\n",
       "<path clip-path=\"url(#clip000)\" d=\"M484.882 581.465 Q483.077 586.095 481.364 587.507 Q479.651 588.919 476.78 588.919 L473.378 588.919 L473.378 585.354 L475.878 585.354 Q477.637 585.354 478.609 584.52 Q479.581 583.687 480.762 580.585 L481.526 578.641 L471.04 553.132 L475.554 553.132 L483.655 573.409 L491.757 553.132 L496.271 553.132 L484.882 581.465 Z\" fill=\"#000000\" fill-rule=\"evenodd\" fill-opacity=\"1\" /><path clip-path=\"url(#clip000)\" d=\"M502.891 578.34 L502.891 574.081 Q504.651 574.914 506.456 575.354 Q508.262 575.794 509.998 575.794 Q514.627 575.794 517.058 572.692 Q519.512 569.567 519.859 563.224 Q518.516 565.215 516.456 566.28 Q514.396 567.345 511.896 567.345 Q506.711 567.345 503.678 564.22 Q500.669 561.072 500.669 555.632 Q500.669 550.308 503.817 547.09 Q506.965 543.873 512.197 543.873 Q518.192 543.873 521.34 548.479 Q524.512 553.062 524.512 561.812 Q524.512 569.984 520.623 574.868 Q516.757 579.729 510.206 579.729 Q508.447 579.729 506.641 579.382 Q504.836 579.034 502.891 578.34 M512.197 563.687 Q515.345 563.687 517.174 561.534 Q519.025 559.382 519.025 555.632 Q519.025 551.905 517.174 549.752 Q515.345 547.576 512.197 547.576 Q509.049 547.576 507.197 549.752 Q505.368 551.905 505.368 555.632 Q505.368 559.382 507.197 561.534 Q509.049 563.687 512.197 563.687 Z\" fill=\"#000000\" fill-rule=\"evenodd\" fill-opacity=\"1\" /><polyline clip-path=\"url(#clip000)\" style=\"stroke:#8e971d; stroke-linecap:butt; stroke-linejoin:round; stroke-width:4; stroke-opacity:1; fill:none\" points=\"\n",
       "  304.305,613.618 447.22,613.618 \n",
       "  \"/>\n",
       "<path clip-path=\"url(#clip000)\" d=\"M484.882 633.305 Q483.077 637.935 481.364 639.347 Q479.651 640.759 476.78 640.759 L473.378 640.759 L473.378 637.194 L475.878 637.194 Q477.637 637.194 478.609 636.36 Q479.581 635.527 480.762 632.425 L481.526 630.481 L471.04 604.972 L475.554 604.972 L483.655 625.249 L491.757 604.972 L496.271 604.972 L484.882 633.305 Z\" fill=\"#000000\" fill-rule=\"evenodd\" fill-opacity=\"1\" /><path clip-path=\"url(#clip000)\" d=\"M503.563 626.962 L511.201 626.962 L511.201 600.597 L502.891 602.263 L502.891 598.004 L511.155 596.338 L515.831 596.338 L515.831 626.962 L523.47 626.962 L523.47 630.898 L503.563 630.898 L503.563 626.962 Z\" fill=\"#000000\" fill-rule=\"evenodd\" fill-opacity=\"1\" /><path clip-path=\"url(#clip000)\" d=\"M542.914 599.416 Q539.303 599.416 537.474 602.981 Q535.669 606.523 535.669 613.652 Q535.669 620.759 537.474 624.324 Q539.303 627.865 542.914 627.865 Q546.548 627.865 548.354 624.324 Q550.183 620.759 550.183 613.652 Q550.183 606.523 548.354 602.981 Q546.548 599.416 542.914 599.416 M542.914 595.713 Q548.724 595.713 551.78 600.319 Q554.859 604.902 554.859 613.652 Q554.859 622.379 551.78 626.986 Q548.724 631.569 542.914 631.569 Q537.104 631.569 534.025 626.986 Q530.97 622.379 530.97 613.652 Q530.97 604.902 534.025 600.319 Q537.104 595.713 542.914 595.713 Z\" fill=\"#000000\" fill-rule=\"evenodd\" fill-opacity=\"1\" /><polyline clip-path=\"url(#clip000)\" style=\"stroke:#00a8cb; stroke-linecap:butt; stroke-linejoin:round; stroke-width:4; stroke-opacity:1; fill:none\" points=\"\n",
       "  304.305,665.458 447.22,665.458 \n",
       "  \"/>\n",
       "<path clip-path=\"url(#clip000)\" d=\"M484.882 685.145 Q483.077 689.775 481.364 691.187 Q479.651 692.599 476.78 692.599 L473.378 692.599 L473.378 689.034 L475.878 689.034 Q477.637 689.034 478.609 688.2 Q479.581 687.367 480.762 684.265 L481.526 682.321 L471.04 656.812 L475.554 656.812 L483.655 677.089 L491.757 656.812 L496.271 656.812 L484.882 685.145 Z\" fill=\"#000000\" fill-rule=\"evenodd\" fill-opacity=\"1\" /><path clip-path=\"url(#clip000)\" d=\"M503.563 678.802 L511.201 678.802 L511.201 652.437 L502.891 654.103 L502.891 649.844 L511.155 648.178 L515.831 648.178 L515.831 678.802 L523.47 678.802 L523.47 682.738 L503.563 682.738 L503.563 678.802 Z\" fill=\"#000000\" fill-rule=\"evenodd\" fill-opacity=\"1\" /><path clip-path=\"url(#clip000)\" d=\"M533.724 678.802 L541.363 678.802 L541.363 652.437 L533.053 654.103 L533.053 649.844 L541.317 648.178 L545.993 648.178 L545.993 678.802 L553.632 678.802 L553.632 682.738 L533.724 682.738 L533.724 678.802 Z\" fill=\"#000000\" fill-rule=\"evenodd\" fill-opacity=\"1\" /><polyline clip-path=\"url(#clip000)\" style=\"stroke:#9b7fe8; stroke-linecap:butt; stroke-linejoin:round; stroke-width:4; stroke-opacity:1; fill:none\" points=\"\n",
       "  304.305,717.298 447.22,717.298 \n",
       "  \"/>\n",
       "<path clip-path=\"url(#clip000)\" d=\"M484.882 736.985 Q483.077 741.615 481.364 743.027 Q479.651 744.439 476.78 744.439 L473.378 744.439 L473.378 740.874 L475.878 740.874 Q477.637 740.874 478.609 740.04 Q479.581 739.207 480.762 736.105 L481.526 734.161 L471.04 708.652 L475.554 708.652 L483.655 728.929 L491.757 708.652 L496.271 708.652 L484.882 736.985 Z\" fill=\"#000000\" fill-rule=\"evenodd\" fill-opacity=\"1\" /><path clip-path=\"url(#clip000)\" d=\"M503.563 730.642 L511.201 730.642 L511.201 704.277 L502.891 705.943 L502.891 701.684 L511.155 700.018 L515.831 700.018 L515.831 730.642 L523.47 730.642 L523.47 734.578 L503.563 734.578 L503.563 730.642 Z\" fill=\"#000000\" fill-rule=\"evenodd\" fill-opacity=\"1\" /><path clip-path=\"url(#clip000)\" d=\"M536.942 730.642 L553.261 730.642 L553.261 734.578 L531.317 734.578 L531.317 730.642 Q533.979 727.888 538.562 723.258 Q543.169 718.605 544.349 717.263 Q546.595 714.74 547.474 713.004 Q548.377 711.244 548.377 709.555 Q548.377 706.8 546.433 705.064 Q544.511 703.328 541.41 703.328 Q539.211 703.328 536.757 704.092 Q534.326 704.855 531.549 706.406 L531.549 701.684 Q534.373 700.55 536.826 699.971 Q539.28 699.393 541.317 699.393 Q546.687 699.393 549.882 702.078 Q553.076 704.763 553.076 709.254 Q553.076 711.383 552.266 713.305 Q551.479 715.203 549.373 717.795 Q548.794 718.467 545.692 721.684 Q542.59 724.879 536.942 730.642 Z\" fill=\"#000000\" fill-rule=\"evenodd\" fill-opacity=\"1\" /></svg>\n"
      ]
     },
     "execution_count": 61,
     "metadata": {},
     "output_type": "execute_result"
    }
   ],
   "source": [
    "plot(z_hist', legend =:topleft)"
   ]
  },
  {
   "cell_type": "code",
   "execution_count": 29,
   "id": "734d1d8b",
   "metadata": {},
   "outputs": [],
   "source": [
    "#savefig(\"MMPCZ\")"
   ]
  },
  {
   "cell_type": "code",
   "execution_count": 62,
   "id": "5f645f32",
   "metadata": {},
   "outputs": [
    {
     "data": {
      "text/plain": [
       "4×50 Matrix{Float64}:\n",
       "  6.16298e-33   6.16222e-33   6.16218e-33  …  -100.0      -100.0      -100.0\n",
       "  1.14719       1.14719       1.14719          100.0      -100.0      -100.0\n",
       " -1.32669e-30  -1.71008      -1.71008           -1.23008    -1.23008   100.0\n",
       " -4.93101e-32  -4.93106e-32   2.73847         -100.0      -100.0      -100.0"
      ]
     },
     "execution_count": 62,
     "metadata": {},
     "output_type": "execute_result"
    }
   ],
   "source": [
    "u_hist"
   ]
  },
  {
   "cell_type": "code",
   "execution_count": 63,
   "id": "50deca3d",
   "metadata": {},
   "outputs": [
    {
     "data": {
      "image/svg+xml": [
       "<?xml version=\"1.0\" encoding=\"utf-8\"?>\n",
       "<svg xmlns=\"http://www.w3.org/2000/svg\" xmlns:xlink=\"http://www.w3.org/1999/xlink\" width=\"600\" height=\"400\" viewBox=\"0 0 2400 1600\">\n",
       "<defs>\n",
       "  <clipPath id=\"clip040\">\n",
       "    <rect x=\"0\" y=\"0\" width=\"2400\" height=\"1600\"/>\n",
       "  </clipPath>\n",
       "</defs>\n",
       "<path clip-path=\"url(#clip040)\" d=\"\n",
       "M0 1600 L2400 1600 L2400 0 L0 0  Z\n",
       "  \" fill=\"#ffffff\" fill-rule=\"evenodd\" fill-opacity=\"1\"/>\n",
       "<defs>\n",
       "  <clipPath id=\"clip041\">\n",
       "    <rect x=\"480\" y=\"0\" width=\"1681\" height=\"1600\"/>\n",
       "  </clipPath>\n",
       "</defs>\n",
       "<path clip-path=\"url(#clip040)\" d=\"\n",
       "M209.029 1486.45 L2352.76 1486.45 L2352.76 47.2441 L209.029 47.2441  Z\n",
       "  \" fill=\"#ffffff\" fill-rule=\"evenodd\" fill-opacity=\"1\"/>\n",
       "<defs>\n",
       "  <clipPath id=\"clip042\">\n",
       "    <rect x=\"209\" y=\"47\" width=\"2145\" height=\"1440\"/>\n",
       "  </clipPath>\n",
       "</defs>\n",
       "<polyline clip-path=\"url(#clip042)\" style=\"stroke:#000000; stroke-linecap:butt; stroke-linejoin:round; stroke-width:2; stroke-opacity:0.1; fill:none\" points=\"\n",
       "  228.427,1486.45 228.427,47.2441 \n",
       "  \"/>\n",
       "<polyline clip-path=\"url(#clip042)\" style=\"stroke:#000000; stroke-linecap:butt; stroke-linejoin:round; stroke-width:2; stroke-opacity:0.1; fill:none\" points=\"\n",
       "  641.158,1486.45 641.158,47.2441 \n",
       "  \"/>\n",
       "<polyline clip-path=\"url(#clip042)\" style=\"stroke:#000000; stroke-linecap:butt; stroke-linejoin:round; stroke-width:2; stroke-opacity:0.1; fill:none\" points=\"\n",
       "  1053.89,1486.45 1053.89,47.2441 \n",
       "  \"/>\n",
       "<polyline clip-path=\"url(#clip042)\" style=\"stroke:#000000; stroke-linecap:butt; stroke-linejoin:round; stroke-width:2; stroke-opacity:0.1; fill:none\" points=\"\n",
       "  1466.62,1486.45 1466.62,47.2441 \n",
       "  \"/>\n",
       "<polyline clip-path=\"url(#clip042)\" style=\"stroke:#000000; stroke-linecap:butt; stroke-linejoin:round; stroke-width:2; stroke-opacity:0.1; fill:none\" points=\"\n",
       "  1879.35,1486.45 1879.35,47.2441 \n",
       "  \"/>\n",
       "<polyline clip-path=\"url(#clip042)\" style=\"stroke:#000000; stroke-linecap:butt; stroke-linejoin:round; stroke-width:2; stroke-opacity:0.1; fill:none\" points=\"\n",
       "  2292.08,1486.45 2292.08,47.2441 \n",
       "  \"/>\n",
       "<polyline clip-path=\"url(#clip040)\" style=\"stroke:#000000; stroke-linecap:butt; stroke-linejoin:round; stroke-width:4; stroke-opacity:1; fill:none\" points=\"\n",
       "  209.029,1486.45 2352.76,1486.45 \n",
       "  \"/>\n",
       "<polyline clip-path=\"url(#clip040)\" style=\"stroke:#000000; stroke-linecap:butt; stroke-linejoin:round; stroke-width:4; stroke-opacity:1; fill:none\" points=\"\n",
       "  228.427,1486.45 228.427,1467.55 \n",
       "  \"/>\n",
       "<polyline clip-path=\"url(#clip040)\" style=\"stroke:#000000; stroke-linecap:butt; stroke-linejoin:round; stroke-width:4; stroke-opacity:1; fill:none\" points=\"\n",
       "  641.158,1486.45 641.158,1467.55 \n",
       "  \"/>\n",
       "<polyline clip-path=\"url(#clip040)\" style=\"stroke:#000000; stroke-linecap:butt; stroke-linejoin:round; stroke-width:4; stroke-opacity:1; fill:none\" points=\"\n",
       "  1053.89,1486.45 1053.89,1467.55 \n",
       "  \"/>\n",
       "<polyline clip-path=\"url(#clip040)\" style=\"stroke:#000000; stroke-linecap:butt; stroke-linejoin:round; stroke-width:4; stroke-opacity:1; fill:none\" points=\"\n",
       "  1466.62,1486.45 1466.62,1467.55 \n",
       "  \"/>\n",
       "<polyline clip-path=\"url(#clip040)\" style=\"stroke:#000000; stroke-linecap:butt; stroke-linejoin:round; stroke-width:4; stroke-opacity:1; fill:none\" points=\"\n",
       "  1879.35,1486.45 1879.35,1467.55 \n",
       "  \"/>\n",
       "<polyline clip-path=\"url(#clip040)\" style=\"stroke:#000000; stroke-linecap:butt; stroke-linejoin:round; stroke-width:4; stroke-opacity:1; fill:none\" points=\"\n",
       "  2292.08,1486.45 2292.08,1467.55 \n",
       "  \"/>\n",
       "<path clip-path=\"url(#clip040)\" d=\"M228.427 1517.37 Q224.816 1517.37 222.987 1520.93 Q221.182 1524.47 221.182 1531.6 Q221.182 1538.71 222.987 1542.27 Q224.816 1545.82 228.427 1545.82 Q232.061 1545.82 233.867 1542.27 Q235.695 1538.71 235.695 1531.6 Q235.695 1524.47 233.867 1520.93 Q232.061 1517.37 228.427 1517.37 M228.427 1513.66 Q234.237 1513.66 237.293 1518.27 Q240.371 1522.85 240.371 1531.6 Q240.371 1540.33 237.293 1544.94 Q234.237 1549.52 228.427 1549.52 Q222.617 1549.52 219.538 1544.94 Q216.483 1540.33 216.483 1531.6 Q216.483 1522.85 219.538 1518.27 Q222.617 1513.66 228.427 1513.66 Z\" fill=\"#000000\" fill-rule=\"evenodd\" fill-opacity=\"1\" /><path clip-path=\"url(#clip040)\" d=\"M615.846 1544.91 L623.485 1544.91 L623.485 1518.55 L615.175 1520.21 L615.175 1515.95 L623.439 1514.29 L628.114 1514.29 L628.114 1544.91 L635.753 1544.91 L635.753 1548.85 L615.846 1548.85 L615.846 1544.91 Z\" fill=\"#000000\" fill-rule=\"evenodd\" fill-opacity=\"1\" /><path clip-path=\"url(#clip040)\" d=\"M655.198 1517.37 Q651.587 1517.37 649.758 1520.93 Q647.952 1524.47 647.952 1531.6 Q647.952 1538.71 649.758 1542.27 Q651.587 1545.82 655.198 1545.82 Q658.832 1545.82 660.637 1542.27 Q662.466 1538.71 662.466 1531.6 Q662.466 1524.47 660.637 1520.93 Q658.832 1517.37 655.198 1517.37 M655.198 1513.66 Q661.008 1513.66 664.063 1518.27 Q667.142 1522.85 667.142 1531.6 Q667.142 1540.33 664.063 1544.94 Q661.008 1549.52 655.198 1549.52 Q649.388 1549.52 646.309 1544.94 Q643.253 1540.33 643.253 1531.6 Q643.253 1522.85 646.309 1518.27 Q649.388 1513.66 655.198 1513.66 Z\" fill=\"#000000\" fill-rule=\"evenodd\" fill-opacity=\"1\" /><path clip-path=\"url(#clip040)\" d=\"M1032.66 1544.91 L1048.98 1544.91 L1048.98 1548.85 L1027.04 1548.85 L1027.04 1544.91 Q1029.7 1542.16 1034.28 1537.53 Q1038.89 1532.88 1040.07 1531.53 Q1042.32 1529.01 1043.2 1527.27 Q1044.1 1525.51 1044.1 1523.82 Q1044.1 1521.07 1042.15 1519.33 Q1040.23 1517.6 1037.13 1517.6 Q1034.93 1517.6 1032.48 1518.36 Q1030.05 1519.13 1027.27 1520.68 L1027.27 1515.95 Q1030.09 1514.82 1032.55 1514.24 Q1035 1513.66 1037.04 1513.66 Q1042.41 1513.66 1045.6 1516.35 Q1048.8 1519.03 1048.8 1523.52 Q1048.8 1525.65 1047.99 1527.57 Q1047.2 1529.47 1045.09 1532.07 Q1044.51 1532.74 1041.41 1535.95 Q1038.31 1539.15 1032.66 1544.91 Z\" fill=\"#000000\" fill-rule=\"evenodd\" fill-opacity=\"1\" /><path clip-path=\"url(#clip040)\" d=\"M1068.8 1517.37 Q1065.19 1517.37 1063.36 1520.93 Q1061.55 1524.47 1061.55 1531.6 Q1061.55 1538.71 1063.36 1542.27 Q1065.19 1545.82 1068.8 1545.82 Q1072.43 1545.82 1074.24 1542.27 Q1076.07 1538.71 1076.07 1531.6 Q1076.07 1524.47 1074.24 1520.93 Q1072.43 1517.37 1068.8 1517.37 M1068.8 1513.66 Q1074.61 1513.66 1077.66 1518.27 Q1080.74 1522.85 1080.74 1531.6 Q1080.74 1540.33 1077.66 1544.94 Q1074.61 1549.52 1068.8 1549.52 Q1062.99 1549.52 1059.91 1544.94 Q1056.85 1540.33 1056.85 1531.6 Q1056.85 1522.85 1059.91 1518.27 Q1062.99 1513.66 1068.8 1513.66 Z\" fill=\"#000000\" fill-rule=\"evenodd\" fill-opacity=\"1\" /><path clip-path=\"url(#clip040)\" d=\"M1455.46 1530.21 Q1458.82 1530.93 1460.7 1533.2 Q1462.59 1535.47 1462.59 1538.8 Q1462.59 1543.92 1459.08 1546.72 Q1455.56 1549.52 1449.08 1549.52 Q1446.9 1549.52 1444.58 1549.08 Q1442.29 1548.66 1439.84 1547.81 L1439.84 1543.29 Q1441.78 1544.43 1444.1 1545.01 Q1446.41 1545.58 1448.94 1545.58 Q1453.33 1545.58 1455.63 1543.85 Q1457.94 1542.11 1457.94 1538.8 Q1457.94 1535.75 1455.79 1534.03 Q1453.66 1532.3 1449.84 1532.3 L1445.81 1532.3 L1445.81 1528.45 L1450.02 1528.45 Q1453.47 1528.45 1455.3 1527.09 Q1457.13 1525.7 1457.13 1523.11 Q1457.13 1520.45 1455.23 1519.03 Q1453.36 1517.6 1449.84 1517.6 Q1447.92 1517.6 1445.72 1518.01 Q1443.52 1518.43 1440.88 1519.31 L1440.88 1515.14 Q1443.54 1514.4 1445.86 1514.03 Q1448.2 1513.66 1450.26 1513.66 Q1455.58 1513.66 1458.68 1516.09 Q1461.78 1518.5 1461.78 1522.62 Q1461.78 1525.49 1460.14 1527.48 Q1458.5 1529.45 1455.46 1530.21 Z\" fill=\"#000000\" fill-rule=\"evenodd\" fill-opacity=\"1\" /><path clip-path=\"url(#clip040)\" d=\"M1481.46 1517.37 Q1477.85 1517.37 1476.02 1520.93 Q1474.21 1524.47 1474.21 1531.6 Q1474.21 1538.71 1476.02 1542.27 Q1477.85 1545.82 1481.46 1545.82 Q1485.09 1545.82 1486.9 1542.27 Q1488.73 1538.71 1488.73 1531.6 Q1488.73 1524.47 1486.9 1520.93 Q1485.09 1517.37 1481.46 1517.37 M1481.46 1513.66 Q1487.27 1513.66 1490.32 1518.27 Q1493.4 1522.85 1493.4 1531.6 Q1493.4 1540.33 1490.32 1544.94 Q1487.27 1549.52 1481.46 1549.52 Q1475.65 1549.52 1472.57 1544.94 Q1469.51 1540.33 1469.51 1531.6 Q1469.51 1522.85 1472.57 1518.27 Q1475.65 1513.66 1481.46 1513.66 Z\" fill=\"#000000\" fill-rule=\"evenodd\" fill-opacity=\"1\" /><path clip-path=\"url(#clip040)\" d=\"M1867.52 1518.36 L1855.72 1536.81 L1867.52 1536.81 L1867.52 1518.36 M1866.3 1514.29 L1872.18 1514.29 L1872.18 1536.81 L1877.11 1536.81 L1877.11 1540.7 L1872.18 1540.7 L1872.18 1548.85 L1867.52 1548.85 L1867.52 1540.7 L1851.92 1540.7 L1851.92 1536.19 L1866.3 1514.29 Z\" fill=\"#000000\" fill-rule=\"evenodd\" fill-opacity=\"1\" /><path clip-path=\"url(#clip040)\" d=\"M1894.84 1517.37 Q1891.23 1517.37 1889.4 1520.93 Q1887.59 1524.47 1887.59 1531.6 Q1887.59 1538.71 1889.4 1542.27 Q1891.23 1545.82 1894.84 1545.82 Q1898.47 1545.82 1900.28 1542.27 Q1902.11 1538.71 1902.11 1531.6 Q1902.11 1524.47 1900.28 1520.93 Q1898.47 1517.37 1894.84 1517.37 M1894.84 1513.66 Q1900.65 1513.66 1903.7 1518.27 Q1906.78 1522.85 1906.78 1531.6 Q1906.78 1540.33 1903.7 1544.94 Q1900.65 1549.52 1894.84 1549.52 Q1889.03 1549.52 1885.95 1544.94 Q1882.89 1540.33 1882.89 1531.6 Q1882.89 1522.85 1885.95 1518.27 Q1889.03 1513.66 1894.84 1513.66 Z\" fill=\"#000000\" fill-rule=\"evenodd\" fill-opacity=\"1\" /><path clip-path=\"url(#clip040)\" d=\"M2266.78 1514.29 L2285.14 1514.29 L2285.14 1518.22 L2271.07 1518.22 L2271.07 1526.7 Q2272.08 1526.35 2273.1 1526.19 Q2274.12 1526 2275.14 1526 Q2280.93 1526 2284.31 1529.17 Q2287.69 1532.34 2287.69 1537.76 Q2287.69 1543.34 2284.21 1546.44 Q2280.74 1549.52 2274.42 1549.52 Q2272.25 1549.52 2269.98 1549.15 Q2267.73 1548.78 2265.33 1548.04 L2265.33 1543.34 Q2267.41 1544.47 2269.63 1545.03 Q2271.85 1545.58 2274.33 1545.58 Q2278.33 1545.58 2280.67 1543.48 Q2283.01 1541.37 2283.01 1537.76 Q2283.01 1534.15 2280.67 1532.04 Q2278.33 1529.94 2274.33 1529.94 Q2272.45 1529.94 2270.58 1530.35 Q2268.73 1530.77 2266.78 1531.65 L2266.78 1514.29 Z\" fill=\"#000000\" fill-rule=\"evenodd\" fill-opacity=\"1\" /><path clip-path=\"url(#clip040)\" d=\"M2306.9 1517.37 Q2303.29 1517.37 2301.46 1520.93 Q2299.65 1524.47 2299.65 1531.6 Q2299.65 1538.71 2301.46 1542.27 Q2303.29 1545.82 2306.9 1545.82 Q2310.53 1545.82 2312.34 1542.27 Q2314.17 1538.71 2314.17 1531.6 Q2314.17 1524.47 2312.34 1520.93 Q2310.53 1517.37 2306.9 1517.37 M2306.9 1513.66 Q2312.71 1513.66 2315.76 1518.27 Q2318.84 1522.85 2318.84 1531.6 Q2318.84 1540.33 2315.76 1544.94 Q2312.71 1549.52 2306.9 1549.52 Q2301.09 1549.52 2298.01 1544.94 Q2294.95 1540.33 2294.95 1531.6 Q2294.95 1522.85 2298.01 1518.27 Q2301.09 1513.66 2306.9 1513.66 Z\" fill=\"#000000\" fill-rule=\"evenodd\" fill-opacity=\"1\" /><polyline clip-path=\"url(#clip042)\" style=\"stroke:#000000; stroke-linecap:butt; stroke-linejoin:round; stroke-width:2; stroke-opacity:0.1; fill:none\" points=\"\n",
       "  209.029,1445.72 2352.76,1445.72 \n",
       "  \"/>\n",
       "<polyline clip-path=\"url(#clip042)\" style=\"stroke:#000000; stroke-linecap:butt; stroke-linejoin:round; stroke-width:2; stroke-opacity:0.1; fill:none\" points=\"\n",
       "  209.029,1106.28 2352.76,1106.28 \n",
       "  \"/>\n",
       "<polyline clip-path=\"url(#clip042)\" style=\"stroke:#000000; stroke-linecap:butt; stroke-linejoin:round; stroke-width:2; stroke-opacity:0.1; fill:none\" points=\"\n",
       "  209.029,766.846 2352.76,766.846 \n",
       "  \"/>\n",
       "<polyline clip-path=\"url(#clip042)\" style=\"stroke:#000000; stroke-linecap:butt; stroke-linejoin:round; stroke-width:2; stroke-opacity:0.1; fill:none\" points=\"\n",
       "  209.029,427.411 2352.76,427.411 \n",
       "  \"/>\n",
       "<polyline clip-path=\"url(#clip042)\" style=\"stroke:#000000; stroke-linecap:butt; stroke-linejoin:round; stroke-width:2; stroke-opacity:0.1; fill:none\" points=\"\n",
       "  209.029,87.9763 2352.76,87.9763 \n",
       "  \"/>\n",
       "<polyline clip-path=\"url(#clip040)\" style=\"stroke:#000000; stroke-linecap:butt; stroke-linejoin:round; stroke-width:4; stroke-opacity:1; fill:none\" points=\"\n",
       "  209.029,1486.45 209.029,47.2441 \n",
       "  \"/>\n",
       "<polyline clip-path=\"url(#clip040)\" style=\"stroke:#000000; stroke-linecap:butt; stroke-linejoin:round; stroke-width:4; stroke-opacity:1; fill:none\" points=\"\n",
       "  209.029,1445.72 227.926,1445.72 \n",
       "  \"/>\n",
       "<polyline clip-path=\"url(#clip040)\" style=\"stroke:#000000; stroke-linecap:butt; stroke-linejoin:round; stroke-width:4; stroke-opacity:1; fill:none\" points=\"\n",
       "  209.029,1106.28 227.926,1106.28 \n",
       "  \"/>\n",
       "<polyline clip-path=\"url(#clip040)\" style=\"stroke:#000000; stroke-linecap:butt; stroke-linejoin:round; stroke-width:4; stroke-opacity:1; fill:none\" points=\"\n",
       "  209.029,766.846 227.926,766.846 \n",
       "  \"/>\n",
       "<polyline clip-path=\"url(#clip040)\" style=\"stroke:#000000; stroke-linecap:butt; stroke-linejoin:round; stroke-width:4; stroke-opacity:1; fill:none\" points=\"\n",
       "  209.029,427.411 227.926,427.411 \n",
       "  \"/>\n",
       "<polyline clip-path=\"url(#clip040)\" style=\"stroke:#000000; stroke-linecap:butt; stroke-linejoin:round; stroke-width:4; stroke-opacity:1; fill:none\" points=\"\n",
       "  209.029,87.9763 227.926,87.9763 \n",
       "  \"/>\n",
       "<path clip-path=\"url(#clip040)\" d=\"M50.9921 1446.17 L80.6679 1446.17 L80.6679 1450.1 L50.9921 1450.1 L50.9921 1446.17 Z\" fill=\"#000000\" fill-rule=\"evenodd\" fill-opacity=\"1\" /><path clip-path=\"url(#clip040)\" d=\"M91.5706 1459.06 L99.2095 1459.06 L99.2095 1432.69 L90.8993 1434.36 L90.8993 1430.1 L99.1632 1428.44 L103.839 1428.44 L103.839 1459.06 L111.478 1459.06 L111.478 1463 L91.5706 1463 L91.5706 1459.06 Z\" fill=\"#000000\" fill-rule=\"evenodd\" fill-opacity=\"1\" /><path clip-path=\"url(#clip040)\" d=\"M130.922 1431.51 Q127.311 1431.51 125.482 1435.08 Q123.677 1438.62 123.677 1445.75 Q123.677 1452.86 125.482 1456.42 Q127.311 1459.96 130.922 1459.96 Q134.556 1459.96 136.362 1456.42 Q138.191 1452.86 138.191 1445.75 Q138.191 1438.62 136.362 1435.08 Q134.556 1431.51 130.922 1431.51 M130.922 1427.81 Q136.732 1427.81 139.788 1432.42 Q142.867 1437 142.867 1445.75 Q142.867 1454.48 139.788 1459.08 Q136.732 1463.67 130.922 1463.67 Q125.112 1463.67 122.033 1459.08 Q118.978 1454.48 118.978 1445.75 Q118.978 1437 122.033 1432.42 Q125.112 1427.81 130.922 1427.81 Z\" fill=\"#000000\" fill-rule=\"evenodd\" fill-opacity=\"1\" /><path clip-path=\"url(#clip040)\" d=\"M161.084 1431.51 Q157.473 1431.51 155.644 1435.08 Q153.839 1438.62 153.839 1445.75 Q153.839 1452.86 155.644 1456.42 Q157.473 1459.96 161.084 1459.96 Q164.718 1459.96 166.524 1456.42 Q168.353 1452.86 168.353 1445.75 Q168.353 1438.62 166.524 1435.08 Q164.718 1431.51 161.084 1431.51 M161.084 1427.81 Q166.894 1427.81 169.95 1432.42 Q173.029 1437 173.029 1445.75 Q173.029 1454.48 169.95 1459.08 Q166.894 1463.67 161.084 1463.67 Q155.274 1463.67 152.195 1459.08 Q149.14 1454.48 149.14 1445.75 Q149.14 1437 152.195 1432.42 Q155.274 1427.81 161.084 1427.81 Z\" fill=\"#000000\" fill-rule=\"evenodd\" fill-opacity=\"1\" /><path clip-path=\"url(#clip040)\" d=\"M81.154 1106.73 L110.83 1106.73 L110.83 1110.67 L81.154 1110.67 L81.154 1106.73 Z\" fill=\"#000000\" fill-rule=\"evenodd\" fill-opacity=\"1\" /><path clip-path=\"url(#clip040)\" d=\"M120.969 1089 L139.325 1089 L139.325 1092.94 L125.251 1092.94 L125.251 1101.41 Q126.27 1101.06 127.288 1100.9 Q128.307 1100.71 129.325 1100.71 Q135.112 1100.71 138.492 1103.89 Q141.871 1107.06 141.871 1112.47 Q141.871 1118.05 138.399 1121.15 Q134.927 1124.23 128.607 1124.23 Q126.432 1124.23 124.163 1123.86 Q121.918 1123.49 119.51 1122.75 L119.51 1118.05 Q121.594 1119.19 123.816 1119.74 Q126.038 1120.3 128.515 1120.3 Q132.519 1120.3 134.857 1118.19 Q137.195 1116.08 137.195 1112.47 Q137.195 1108.86 134.857 1106.76 Q132.519 1104.65 128.515 1104.65 Q126.64 1104.65 124.765 1105.07 Q122.913 1105.48 120.969 1106.36 L120.969 1089 Z\" fill=\"#000000\" fill-rule=\"evenodd\" fill-opacity=\"1\" /><path clip-path=\"url(#clip040)\" d=\"M161.084 1092.08 Q157.473 1092.08 155.644 1095.64 Q153.839 1099.19 153.839 1106.32 Q153.839 1113.42 155.644 1116.99 Q157.473 1120.53 161.084 1120.53 Q164.718 1120.53 166.524 1116.99 Q168.353 1113.42 168.353 1106.32 Q168.353 1099.19 166.524 1095.64 Q164.718 1092.08 161.084 1092.08 M161.084 1088.38 Q166.894 1088.38 169.95 1092.98 Q173.029 1097.57 173.029 1106.32 Q173.029 1115.04 169.95 1119.65 Q166.894 1124.23 161.084 1124.23 Q155.274 1124.23 152.195 1119.65 Q149.14 1115.04 149.14 1106.32 Q149.14 1097.57 152.195 1092.98 Q155.274 1088.38 161.084 1088.38 Z\" fill=\"#000000\" fill-rule=\"evenodd\" fill-opacity=\"1\" /><path clip-path=\"url(#clip040)\" d=\"M161.084 752.645 Q157.473 752.645 155.644 756.209 Q153.839 759.751 153.839 766.881 Q153.839 773.987 155.644 777.552 Q157.473 781.094 161.084 781.094 Q164.718 781.094 166.524 777.552 Q168.353 773.987 168.353 766.881 Q168.353 759.751 166.524 756.209 Q164.718 752.645 161.084 752.645 M161.084 748.941 Q166.894 748.941 169.95 753.547 Q173.029 758.131 173.029 766.881 Q173.029 775.608 169.95 780.214 Q166.894 784.797 161.084 784.797 Q155.274 784.797 152.195 780.214 Q149.14 775.608 149.14 766.881 Q149.14 758.131 152.195 753.547 Q155.274 748.941 161.084 748.941 Z\" fill=\"#000000\" fill-rule=\"evenodd\" fill-opacity=\"1\" /><path clip-path=\"url(#clip040)\" d=\"M120.969 410.131 L139.325 410.131 L139.325 414.066 L125.251 414.066 L125.251 422.538 Q126.27 422.191 127.288 422.029 Q128.307 421.844 129.325 421.844 Q135.112 421.844 138.492 425.015 Q141.871 428.187 141.871 433.603 Q141.871 439.182 138.399 442.284 Q134.927 445.362 128.607 445.362 Q126.432 445.362 124.163 444.992 Q121.918 444.622 119.51 443.881 L119.51 439.182 Q121.594 440.316 123.816 440.872 Q126.038 441.427 128.515 441.427 Q132.519 441.427 134.857 439.321 Q137.195 437.214 137.195 433.603 Q137.195 429.992 134.857 427.886 Q132.519 425.779 128.515 425.779 Q126.64 425.779 124.765 426.196 Q122.913 426.613 120.969 427.492 L120.969 410.131 Z\" fill=\"#000000\" fill-rule=\"evenodd\" fill-opacity=\"1\" /><path clip-path=\"url(#clip040)\" d=\"M161.084 413.21 Q157.473 413.21 155.644 416.775 Q153.839 420.316 153.839 427.446 Q153.839 434.552 155.644 438.117 Q157.473 441.659 161.084 441.659 Q164.718 441.659 166.524 438.117 Q168.353 434.552 168.353 427.446 Q168.353 420.316 166.524 416.775 Q164.718 413.21 161.084 413.21 M161.084 409.506 Q166.894 409.506 169.95 414.113 Q173.029 418.696 173.029 427.446 Q173.029 436.173 169.95 440.779 Q166.894 445.362 161.084 445.362 Q155.274 445.362 152.195 440.779 Q149.14 436.173 149.14 427.446 Q149.14 418.696 152.195 414.113 Q155.274 409.506 161.084 409.506 Z\" fill=\"#000000\" fill-rule=\"evenodd\" fill-opacity=\"1\" /><path clip-path=\"url(#clip040)\" d=\"M91.5706 101.321 L99.2095 101.321 L99.2095 74.9555 L90.8993 76.6222 L90.8993 72.3629 L99.1632 70.6963 L103.839 70.6963 L103.839 101.321 L111.478 101.321 L111.478 105.256 L91.5706 105.256 L91.5706 101.321 Z\" fill=\"#000000\" fill-rule=\"evenodd\" fill-opacity=\"1\" /><path clip-path=\"url(#clip040)\" d=\"M130.922 73.775 Q127.311 73.775 125.482 77.3398 Q123.677 80.8814 123.677 88.011 Q123.677 95.1174 125.482 98.6822 Q127.311 102.224 130.922 102.224 Q134.556 102.224 136.362 98.6822 Q138.191 95.1174 138.191 88.011 Q138.191 80.8814 136.362 77.3398 Q134.556 73.775 130.922 73.775 M130.922 70.0713 Q136.732 70.0713 139.788 74.6777 Q142.867 79.2611 142.867 88.011 Q142.867 96.7378 139.788 101.344 Q136.732 105.928 130.922 105.928 Q125.112 105.928 122.033 101.344 Q118.978 96.7378 118.978 88.011 Q118.978 79.2611 122.033 74.6777 Q125.112 70.0713 130.922 70.0713 Z\" fill=\"#000000\" fill-rule=\"evenodd\" fill-opacity=\"1\" /><path clip-path=\"url(#clip040)\" d=\"M161.084 73.775 Q157.473 73.775 155.644 77.3398 Q153.839 80.8814 153.839 88.011 Q153.839 95.1174 155.644 98.6822 Q157.473 102.224 161.084 102.224 Q164.718 102.224 166.524 98.6822 Q168.353 95.1174 168.353 88.011 Q168.353 80.8814 166.524 77.3398 Q164.718 73.775 161.084 73.775 M161.084 70.0713 Q166.894 70.0713 169.95 74.6777 Q173.029 79.2611 173.029 88.011 Q173.029 96.7378 169.95 101.344 Q166.894 105.928 161.084 105.928 Q155.274 105.928 152.195 101.344 Q149.14 96.7378 149.14 88.011 Q149.14 79.2611 152.195 74.6777 Q155.274 70.0713 161.084 70.0713 Z\" fill=\"#000000\" fill-rule=\"evenodd\" fill-opacity=\"1\" /><polyline clip-path=\"url(#clip042)\" style=\"stroke:#009af9; stroke-linecap:butt; stroke-linejoin:round; stroke-width:4; stroke-opacity:1; fill:none\" points=\"\n",
       "  269.7,766.846 310.973,766.846 352.246,766.846 393.519,783.525 434.793,783.525 476.066,783.525 517.339,783.525 558.612,784.4 599.885,784.4 641.158,784.4 \n",
       "  682.432,784.4 723.705,862.302 764.978,862.302 806.251,862.302 847.524,862.302 888.797,1107.83 930.07,1107.83 971.344,1107.83 1012.62,1107.83 1053.89,87.9763 \n",
       "  1095.16,87.9763 1136.44,87.9763 1177.71,87.9763 1218.98,87.9763 1260.26,87.9763 1301.53,87.9763 1342.8,87.9763 1384.08,87.9763 1425.35,87.9763 1466.62,87.9763 \n",
       "  1507.89,87.9763 1549.17,1445.72 1590.44,1445.72 1631.71,1445.72 1672.99,1445.72 1714.26,1445.72 1755.53,1445.72 1796.81,1445.72 1838.08,1445.72 1879.35,1445.72 \n",
       "  1920.63,1445.72 1961.9,1445.72 2003.17,1445.72 2044.45,1445.72 2085.72,1445.72 2126.99,1445.72 2168.26,1445.72 2209.54,1445.72 2250.81,1445.72 2292.08,1445.72 \n",
       "  \n",
       "  \"/>\n",
       "<polyline clip-path=\"url(#clip042)\" style=\"stroke:#e26f46; stroke-linecap:butt; stroke-linejoin:round; stroke-width:4; stroke-opacity:1; fill:none\" points=\"\n",
       "  269.7,759.058 310.973,759.058 352.246,759.058 393.519,759.058 434.793,719.143 476.066,719.143 517.339,719.143 558.612,719.143 599.885,641.487 641.158,641.487 \n",
       "  682.432,641.487 723.705,641.487 764.978,447.528 806.251,447.528 847.524,447.528 888.797,447.528 930.07,1445.72 971.344,1445.72 1012.62,1445.72 1053.89,1445.72 \n",
       "  1095.16,1445.72 1136.44,1445.72 1177.71,1445.72 1218.98,1445.72 1260.26,1388.78 1301.53,1388.78 1342.8,1388.78 1384.08,1388.78 1425.35,87.9763 1466.62,87.9763 \n",
       "  1507.89,87.9763 1549.17,87.9763 1590.44,87.9763 1631.71,87.9763 1672.99,87.9763 1714.26,87.9763 1755.53,87.9763 1796.81,87.9763 1838.08,87.9763 1879.35,87.9763 \n",
       "  1920.63,87.9763 1961.9,87.9763 2003.17,87.9763 2044.45,87.9763 2085.72,87.9763 2126.99,87.9763 2168.26,87.9763 2209.54,87.9763 2250.81,1445.72 2292.08,1445.72 \n",
       "  \n",
       "  \"/>\n",
       "<polyline clip-path=\"url(#clip042)\" style=\"stroke:#3da44d; stroke-linecap:butt; stroke-linejoin:round; stroke-width:4; stroke-opacity:1; fill:none\" points=\"\n",
       "  269.7,766.846 310.973,778.455 352.246,778.455 393.519,778.455 434.793,778.455 476.066,864.385 517.339,864.385 558.612,864.385 599.885,864.385 641.158,1023.72 \n",
       "  682.432,1023.72 723.705,1023.72 764.978,1023.72 806.251,703.719 847.524,703.719 888.797,703.719 930.07,703.719 971.344,87.9763 1012.62,87.9763 1053.89,87.9763 \n",
       "  1095.16,87.9763 1136.44,87.9763 1177.71,87.9763 1218.98,87.9763 1260.26,87.9763 1301.53,1445.72 1342.8,1445.72 1384.08,1445.72 1425.35,1445.72 1466.62,1445.72 \n",
       "  1507.89,1445.72 1549.17,1445.72 1590.44,1445.72 1631.71,1445.72 1672.99,1445.72 1714.26,1445.72 1755.53,1445.72 1796.81,87.9763 1838.08,87.9763 1879.35,87.9763 \n",
       "  1920.63,87.9763 1961.9,87.9763 2003.17,87.9763 2044.45,87.9763 2085.72,87.9763 2126.99,775.197 2168.26,775.197 2209.54,775.197 2250.81,775.197 2292.08,87.9763 \n",
       "  \n",
       "  \"/>\n",
       "<polyline clip-path=\"url(#clip042)\" style=\"stroke:#c271d2; stroke-linecap:butt; stroke-linejoin:round; stroke-width:4; stroke-opacity:1; fill:none\" points=\"\n",
       "  269.7,766.846 310.973,766.846 352.246,748.255 393.519,748.255 434.793,748.255 476.066,748.255 517.339,649.244 558.612,649.244 599.885,649.244 641.158,649.244 \n",
       "  682.432,657.07 723.705,657.07 764.978,657.07 806.251,657.07 847.524,1445.72 888.797,1445.72 930.07,1445.72 971.344,1445.72 1012.62,1105.95 1053.89,1105.95 \n",
       "  1095.16,1105.95 1136.44,1105.95 1177.71,87.9763 1218.98,87.9763 1260.26,87.9763 1301.53,87.9763 1342.8,87.9763 1384.08,87.9763 1425.35,87.9763 1466.62,87.9763 \n",
       "  1507.89,87.9763 1549.17,87.9763 1590.44,87.9763 1631.71,87.9763 1672.99,1445.72 1714.26,1445.72 1755.53,1445.72 1796.81,1445.72 1838.08,1445.72 1879.35,1445.72 \n",
       "  1920.63,1445.72 1961.9,1445.72 2003.17,1445.72 2044.45,1445.72 2085.72,1445.72 2126.99,1445.72 2168.26,1445.72 2209.54,1445.72 2250.81,1445.72 2292.08,1445.72 \n",
       "  \n",
       "  \"/>\n",
       "<path clip-path=\"url(#clip040)\" d=\"\n",
       "M280.486 354.418 L572.821 354.418 L572.821 95.2176 L280.486 95.2176  Z\n",
       "  \" fill=\"#ffffff\" fill-rule=\"evenodd\" fill-opacity=\"1\"/>\n",
       "<polyline clip-path=\"url(#clip040)\" style=\"stroke:#000000; stroke-linecap:butt; stroke-linejoin:round; stroke-width:4; stroke-opacity:1; fill:none\" points=\"\n",
       "  280.486,354.418 572.821,354.418 572.821,95.2176 280.486,95.2176 280.486,354.418 \n",
       "  \"/>\n",
       "<polyline clip-path=\"url(#clip040)\" style=\"stroke:#009af9; stroke-linecap:butt; stroke-linejoin:round; stroke-width:4; stroke-opacity:1; fill:none\" points=\"\n",
       "  304.305,147.058 447.22,147.058 \n",
       "  \"/>\n",
       "<path clip-path=\"url(#clip040)\" d=\"M484.882 166.745 Q483.077 171.375 481.364 172.787 Q479.651 174.199 476.78 174.199 L473.378 174.199 L473.378 170.634 L475.878 170.634 Q477.637 170.634 478.609 169.8 Q479.581 168.967 480.762 165.865 L481.526 163.921 L471.04 138.412 L475.554 138.412 L483.655 158.689 L491.757 138.412 L496.271 138.412 L484.882 166.745 Z\" fill=\"#000000\" fill-rule=\"evenodd\" fill-opacity=\"1\" /><path clip-path=\"url(#clip040)\" d=\"M503.563 160.402 L511.201 160.402 L511.201 134.037 L502.891 135.703 L502.891 131.444 L511.155 129.778 L515.831 129.778 L515.831 160.402 L523.47 160.402 L523.47 164.338 L503.563 164.338 L503.563 160.402 Z\" fill=\"#000000\" fill-rule=\"evenodd\" fill-opacity=\"1\" /><polyline clip-path=\"url(#clip040)\" style=\"stroke:#e26f46; stroke-linecap:butt; stroke-linejoin:round; stroke-width:4; stroke-opacity:1; fill:none\" points=\"\n",
       "  304.305,198.898 447.22,198.898 \n",
       "  \"/>\n",
       "<path clip-path=\"url(#clip040)\" d=\"M484.882 218.585 Q483.077 223.215 481.364 224.627 Q479.651 226.039 476.78 226.039 L473.378 226.039 L473.378 222.474 L475.878 222.474 Q477.637 222.474 478.609 221.64 Q479.581 220.807 480.762 217.705 L481.526 215.761 L471.04 190.252 L475.554 190.252 L483.655 210.529 L491.757 190.252 L496.271 190.252 L484.882 218.585 Z\" fill=\"#000000\" fill-rule=\"evenodd\" fill-opacity=\"1\" /><path clip-path=\"url(#clip040)\" d=\"M506.78 212.242 L523.1 212.242 L523.1 216.178 L501.155 216.178 L501.155 212.242 Q503.817 209.488 508.401 204.858 Q513.007 200.205 514.188 198.863 Q516.433 196.34 517.313 194.604 Q518.215 192.844 518.215 191.155 Q518.215 188.4 516.271 186.664 Q514.35 184.928 511.248 184.928 Q509.049 184.928 506.595 185.692 Q504.164 186.455 501.387 188.006 L501.387 183.284 Q504.211 182.15 506.664 181.571 Q509.118 180.993 511.155 180.993 Q516.526 180.993 519.72 183.678 Q522.914 186.363 522.914 190.854 Q522.914 192.983 522.104 194.905 Q521.317 196.803 519.211 199.395 Q518.632 200.067 515.53 203.284 Q512.428 206.479 506.78 212.242 Z\" fill=\"#000000\" fill-rule=\"evenodd\" fill-opacity=\"1\" /><polyline clip-path=\"url(#clip040)\" style=\"stroke:#3da44d; stroke-linecap:butt; stroke-linejoin:round; stroke-width:4; stroke-opacity:1; fill:none\" points=\"\n",
       "  304.305,250.738 447.22,250.738 \n",
       "  \"/>\n",
       "<path clip-path=\"url(#clip040)\" d=\"M484.882 270.425 Q483.077 275.055 481.364 276.467 Q479.651 277.879 476.78 277.879 L473.378 277.879 L473.378 274.314 L475.878 274.314 Q477.637 274.314 478.609 273.48 Q479.581 272.647 480.762 269.545 L481.526 267.601 L471.04 242.092 L475.554 242.092 L483.655 262.369 L491.757 242.092 L496.271 242.092 L484.882 270.425 Z\" fill=\"#000000\" fill-rule=\"evenodd\" fill-opacity=\"1\" /><path clip-path=\"url(#clip040)\" d=\"M516.919 249.383 Q520.275 250.101 522.15 252.369 Q524.049 254.638 524.049 257.971 Q524.049 263.087 520.53 265.888 Q517.012 268.689 510.53 268.689 Q508.354 268.689 506.039 268.249 Q503.748 267.832 501.294 266.976 L501.294 262.462 Q503.239 263.596 505.553 264.175 Q507.868 264.754 510.391 264.754 Q514.789 264.754 517.081 263.018 Q519.396 261.281 519.396 257.971 Q519.396 254.916 517.243 253.203 Q515.113 251.467 511.294 251.467 L507.266 251.467 L507.266 247.624 L511.479 247.624 Q514.928 247.624 516.757 246.258 Q518.586 244.87 518.586 242.277 Q518.586 239.615 516.688 238.203 Q514.813 236.768 511.294 236.768 Q509.373 236.768 507.174 237.184 Q504.975 237.601 502.336 238.481 L502.336 234.314 Q504.998 233.573 507.313 233.203 Q509.651 232.833 511.711 232.833 Q517.035 232.833 520.137 235.263 Q523.238 237.67 523.238 241.791 Q523.238 244.661 521.595 246.652 Q519.951 248.62 516.919 249.383 Z\" fill=\"#000000\" fill-rule=\"evenodd\" fill-opacity=\"1\" /><polyline clip-path=\"url(#clip040)\" style=\"stroke:#c271d2; stroke-linecap:butt; stroke-linejoin:round; stroke-width:4; stroke-opacity:1; fill:none\" points=\"\n",
       "  304.305,302.578 447.22,302.578 \n",
       "  \"/>\n",
       "<path clip-path=\"url(#clip040)\" d=\"M484.882 322.265 Q483.077 326.895 481.364 328.307 Q479.651 329.719 476.78 329.719 L473.378 329.719 L473.378 326.154 L475.878 326.154 Q477.637 326.154 478.609 325.32 Q479.581 324.487 480.762 321.385 L481.526 319.441 L471.04 293.932 L475.554 293.932 L483.655 314.209 L491.757 293.932 L496.271 293.932 L484.882 322.265 Z\" fill=\"#000000\" fill-rule=\"evenodd\" fill-opacity=\"1\" /><path clip-path=\"url(#clip040)\" d=\"M515.6 289.372 L503.794 307.821 L515.6 307.821 L515.6 289.372 M514.373 285.298 L520.252 285.298 L520.252 307.821 L525.183 307.821 L525.183 311.709 L520.252 311.709 L520.252 319.858 L515.6 319.858 L515.6 311.709 L499.998 311.709 L499.998 307.196 L514.373 285.298 Z\" fill=\"#000000\" fill-rule=\"evenodd\" fill-opacity=\"1\" /></svg>\n"
      ]
     },
     "execution_count": 63,
     "metadata": {},
     "output_type": "execute_result"
    }
   ],
   "source": [
    "plot(u_hist', legend =:topleft)"
   ]
  },
  {
   "cell_type": "code",
   "execution_count": 32,
   "id": "53d6d510",
   "metadata": {},
   "outputs": [
    {
     "ename": "LoadError",
     "evalue": "UndefVarError: savefig not defined",
     "output_type": "error",
     "traceback": [
      "UndefVarError: savefig not defined",
      "",
      "Stacktrace:",
      " [1] top-level scope",
      "   @ In[32]:1",
      " [2] eval",
      "   @ .\\boot.jl:360 [inlined]",
      " [3] include_string(mapexpr::typeof(REPL.softscope), mod::Module, code::String, filename::String)",
      "   @ Base .\\loading.jl:1116"
     ]
    }
   ],
   "source": [
    "savefig(\"mmpcu\")"
   ]
  },
  {
   "cell_type": "code",
   "execution_count": 33,
   "id": "f7b9cee3",
   "metadata": {},
   "outputs": [
    {
     "ename": "LoadError",
     "evalue": "UndefVarError: plot not defined",
     "output_type": "error",
     "traceback": [
      "UndefVarError: plot not defined",
      "",
      "Stacktrace:",
      " [1] top-level scope",
      "   @ In[33]:1",
      " [2] eval",
      "   @ .\\boot.jl:360 [inlined]",
      " [3] include_string(mapexpr::typeof(REPL.softscope), mod::Module, code::String, filename::String)",
      "   @ Base .\\loading.jl:1116"
     ]
    }
   ],
   "source": [
    "plot(zpos_plan_last')"
   ]
  },
  {
   "cell_type": "code",
   "execution_count": 34,
   "id": "97d3ca33",
   "metadata": {},
   "outputs": [
    {
     "ename": "LoadError",
     "evalue": "UndefVarError: plot not defined",
     "output_type": "error",
     "traceback": [
      "UndefVarError: plot not defined",
      "",
      "Stacktrace:",
      " [1] top-level scope",
      "   @ In[34]:1",
      " [2] eval",
      "   @ .\\boot.jl:360 [inlined]",
      " [3] include_string(mapexpr::typeof(REPL.softscope), mod::Module, code::String, filename::String)",
      "   @ Base .\\loading.jl:1116"
     ]
    }
   ],
   "source": [
    "plot(u_plan_last')"
   ]
  },
  {
   "cell_type": "code",
   "execution_count": null,
   "id": "e426c07a",
   "metadata": {},
   "outputs": [],
   "source": []
  },
  {
   "cell_type": "code",
   "execution_count": null,
   "id": "d97da2a2",
   "metadata": {},
   "outputs": [],
   "source": []
  },
  {
   "cell_type": "code",
   "execution_count": null,
   "id": "3ff14afa",
   "metadata": {},
   "outputs": [],
   "source": []
  },
  {
   "cell_type": "code",
   "execution_count": null,
   "id": "02c00164",
   "metadata": {},
   "outputs": [],
   "source": []
  },
  {
   "cell_type": "code",
   "execution_count": null,
   "id": "27e872a5",
   "metadata": {},
   "outputs": [],
   "source": []
  },
  {
   "cell_type": "code",
   "execution_count": null,
   "id": "d180a24f",
   "metadata": {},
   "outputs": [],
   "source": []
  },
  {
   "cell_type": "code",
   "execution_count": null,
   "id": "af990398",
   "metadata": {},
   "outputs": [],
   "source": []
  },
  {
   "cell_type": "code",
   "execution_count": 35,
   "id": "73de4d47",
   "metadata": {},
   "outputs": [
    {
     "ename": "LoadError",
     "evalue": "UndefVarError: mpc_emo not defined",
     "output_type": "error",
     "traceback": [
      "UndefVarError: mpc_emo not defined",
      "",
      "Stacktrace:",
      " [1] top-level scope",
      "   @ In[35]:1",
      " [2] eval",
      "   @ .\\boot.jl:360 [inlined]",
      " [3] include_string(mapexpr::typeof(REPL.softscope), mod::Module, code::String, filename::String)",
      "   @ Base .\\loading.jl:1116"
     ]
    }
   ],
   "source": [
    "z_plan, Δu_plan, e_plan = mpc_emo(zpos[:,1])"
   ]
  },
  {
   "cell_type": "code",
   "execution_count": 36,
   "id": "0f0783da",
   "metadata": {},
   "outputs": [
    {
     "ename": "LoadError",
     "evalue": "UndefVarError: z_plan not defined",
     "output_type": "error",
     "traceback": [
      "UndefVarError: z_plan not defined",
      "",
      "Stacktrace:",
      " [1] top-level scope",
      "   @ In[36]:1",
      " [2] eval",
      "   @ .\\boot.jl:360 [inlined]",
      " [3] include_string(mapexpr::typeof(REPL.softscope), mod::Module, code::String, filename::String)",
      "   @ Base .\\loading.jl:1116"
     ]
    }
   ],
   "source": [
    "plot(z_plan')"
   ]
  },
  {
   "cell_type": "code",
   "execution_count": 37,
   "id": "ce63c9a8",
   "metadata": {},
   "outputs": [
    {
     "ename": "LoadError",
     "evalue": "UndefVarError: Δu_plan not defined",
     "output_type": "error",
     "traceback": [
      "UndefVarError: Δu_plan not defined",
      "",
      "Stacktrace:",
      " [1] top-level scope",
      "   @ In[37]:1",
      " [2] eval",
      "   @ .\\boot.jl:360 [inlined]",
      " [3] include_string(mapexpr::typeof(REPL.softscope), mod::Module, code::String, filename::String)",
      "   @ Base .\\loading.jl:1116"
     ]
    }
   ],
   "source": [
    "plot(Δu_plan')"
   ]
  },
  {
   "cell_type": "code",
   "execution_count": 38,
   "id": "9b16920f",
   "metadata": {},
   "outputs": [
    {
     "ename": "LoadError",
     "evalue": "UndefVarError: Δu_plan not defined",
     "output_type": "error",
     "traceback": [
      "UndefVarError: Δu_plan not defined",
      "",
      "Stacktrace:",
      " [1] top-level scope",
      "   @ :0",
      " [2] eval",
      "   @ .\\boot.jl:360 [inlined]",
      " [3] include_string(mapexpr::typeof(REPL.softscope), mod::Module, code::String, filename::String)",
      "   @ Base .\\loading.jl:1116"
     ]
    }
   ],
   "source": [
    "Δu_plan"
   ]
  },
  {
   "cell_type": "code",
   "execution_count": 39,
   "id": "5f81dd1f",
   "metadata": {},
   "outputs": [
    {
     "ename": "LoadError",
     "evalue": "UndefVarError: z_plan not defined",
     "output_type": "error",
     "traceback": [
      "UndefVarError: z_plan not defined",
      "",
      "Stacktrace:",
      " [1] top-level scope",
      "   @ In[39]:1",
      " [2] eval",
      "   @ .\\boot.jl:360 [inlined]",
      " [3] include_string(mapexpr::typeof(REPL.softscope), mod::Module, code::String, filename::String)",
      "   @ Base .\\loading.jl:1116"
     ]
    }
   ],
   "source": [
    "zpos = mech_osc_mmpc(z_plan[:,1], Δu_plan[:,1])"
   ]
  },
  {
   "cell_type": "code",
   "execution_count": 40,
   "id": "4b03cd29",
   "metadata": {},
   "outputs": [
    {
     "ename": "LoadError",
     "evalue": "UndefVarError: mpc_emo not defined",
     "output_type": "error",
     "traceback": [
      "UndefVarError: mpc_emo not defined",
      "",
      "Stacktrace:",
      " [1] top-level scope",
      "   @ In[40]:1",
      " [2] eval",
      "   @ .\\boot.jl:360 [inlined]",
      " [3] include_string(mapexpr::typeof(REPL.softscope), mod::Module, code::String, filename::String)",
      "   @ Base .\\loading.jl:1116"
     ]
    }
   ],
   "source": [
    "z_plan, Δu_plan, e_plan = mpc_emo(zpos)"
   ]
  },
  {
   "cell_type": "code",
   "execution_count": 41,
   "id": "0950de20",
   "metadata": {},
   "outputs": [
    {
     "ename": "LoadError",
     "evalue": "UndefVarError: z_plan not defined",
     "output_type": "error",
     "traceback": [
      "UndefVarError: z_plan not defined",
      "",
      "Stacktrace:",
      " [1] top-level scope",
      "   @ In[41]:1",
      " [2] eval",
      "   @ .\\boot.jl:360 [inlined]",
      " [3] include_string(mapexpr::typeof(REPL.softscope), mod::Module, code::String, filename::String)",
      "   @ Base .\\loading.jl:1116"
     ]
    }
   ],
   "source": [
    "plot(z_plan')"
   ]
  },
  {
   "cell_type": "code",
   "execution_count": 42,
   "id": "df813f76",
   "metadata": {},
   "outputs": [
    {
     "ename": "LoadError",
     "evalue": "UndefVarError: Δu_plan not defined",
     "output_type": "error",
     "traceback": [
      "UndefVarError: Δu_plan not defined",
      "",
      "Stacktrace:",
      " [1] top-level scope",
      "   @ :0",
      " [2] eval",
      "   @ .\\boot.jl:360 [inlined]",
      " [3] include_string(mapexpr::typeof(REPL.softscope), mod::Module, code::String, filename::String)",
      "   @ Base .\\loading.jl:1116"
     ]
    }
   ],
   "source": [
    "Δu_plan"
   ]
  },
  {
   "cell_type": "code",
   "execution_count": 43,
   "id": "44c97ec9",
   "metadata": {},
   "outputs": [
    {
     "ename": "LoadError",
     "evalue": "UndefVarError: z_plan not defined",
     "output_type": "error",
     "traceback": [
      "UndefVarError: z_plan not defined",
      "",
      "Stacktrace:",
      " [1] top-level scope",
      "   @ In[43]:1",
      " [2] eval",
      "   @ .\\boot.jl:360 [inlined]",
      " [3] include_string(mapexpr::typeof(REPL.softscope), mod::Module, code::String, filename::String)",
      "   @ Base .\\loading.jl:1116"
     ]
    }
   ],
   "source": [
    "zpos = mech_osc_mmpc(z_plan[:,1], Δu_plan[:,1])\n",
    "z_plan, Δu_plan, e_plan = mpc_emo(zpos)"
   ]
  },
  {
   "cell_type": "code",
   "execution_count": 44,
   "id": "5401bf61",
   "metadata": {},
   "outputs": [
    {
     "ename": "LoadError",
     "evalue": "UndefVarError: z_plan not defined",
     "output_type": "error",
     "traceback": [
      "UndefVarError: z_plan not defined",
      "",
      "Stacktrace:",
      " [1] top-level scope",
      "   @ In[44]:1",
      " [2] eval",
      "   @ .\\boot.jl:360 [inlined]",
      " [3] include_string(mapexpr::typeof(REPL.softscope), mod::Module, code::String, filename::String)",
      "   @ Base .\\loading.jl:1116"
     ]
    }
   ],
   "source": [
    "plot(z_plan')"
   ]
  },
  {
   "cell_type": "code",
   "execution_count": 45,
   "id": "0b15eaae",
   "metadata": {},
   "outputs": [
    {
     "ename": "LoadError",
     "evalue": "UndefVarError: Δu_plan not defined",
     "output_type": "error",
     "traceback": [
      "UndefVarError: Δu_plan not defined",
      "",
      "Stacktrace:",
      " [1] top-level scope",
      "   @ In[45]:1",
      " [2] eval",
      "   @ .\\boot.jl:360 [inlined]",
      " [3] include_string(mapexpr::typeof(REPL.softscope), mod::Module, code::String, filename::String)",
      "   @ Base .\\loading.jl:1116"
     ]
    }
   ],
   "source": [
    "plot(Δu_plan')"
   ]
  },
  {
   "cell_type": "code",
   "execution_count": 46,
   "id": "1aa0c2bf",
   "metadata": {},
   "outputs": [
    {
     "ename": "LoadError",
     "evalue": "UndefVarError: z_plan not defined",
     "output_type": "error",
     "traceback": [
      "UndefVarError: z_plan not defined",
      "",
      "Stacktrace:",
      " [1] top-level scope",
      "   @ In[46]:1",
      " [2] eval",
      "   @ .\\boot.jl:360 [inlined]",
      " [3] include_string(mapexpr::typeof(REPL.softscope), mod::Module, code::String, filename::String)",
      "   @ Base .\\loading.jl:1116"
     ]
    }
   ],
   "source": [
    "zpos = mech_osc_mmpc(z_plan[:,1], Δu_plan[:,1])\n",
    "z_plan, Δu_plan, e_plan = mpc_emo(zpos)"
   ]
  },
  {
   "cell_type": "code",
   "execution_count": 47,
   "id": "332f434e",
   "metadata": {},
   "outputs": [
    {
     "ename": "LoadError",
     "evalue": "UndefVarError: z_plan not defined",
     "output_type": "error",
     "traceback": [
      "UndefVarError: z_plan not defined",
      "",
      "Stacktrace:",
      " [1] top-level scope",
      "   @ In[47]:1",
      " [2] eval",
      "   @ .\\boot.jl:360 [inlined]",
      " [3] include_string(mapexpr::typeof(REPL.softscope), mod::Module, code::String, filename::String)",
      "   @ Base .\\loading.jl:1116"
     ]
    }
   ],
   "source": [
    "plot(z_plan')"
   ]
  },
  {
   "cell_type": "code",
   "execution_count": 55,
   "id": "46219f5d",
   "metadata": {},
   "outputs": [
    {
     "ename": "LoadError",
     "evalue": "UndefVarError: Δu_plan not defined",
     "output_type": "error",
     "traceback": [
      "UndefVarError: Δu_plan not defined",
      "",
      "Stacktrace:",
      " [1] top-level scope",
      "   @ In[55]:1",
      " [2] eval",
      "   @ .\\boot.jl:360 [inlined]",
      " [3] include_string(mapexpr::typeof(REPL.softscope), mod::Module, code::String, filename::String)",
      "   @ Base .\\loading.jl:1116"
     ]
    }
   ],
   "source": [
    "plot(Δu_plan')"
   ]
  },
  {
   "cell_type": "code",
   "execution_count": 56,
   "id": "eeece26a",
   "metadata": {},
   "outputs": [
    {
     "ename": "LoadError",
     "evalue": "UndefVarError: z_plan not defined",
     "output_type": "error",
     "traceback": [
      "UndefVarError: z_plan not defined",
      "",
      "Stacktrace:",
      " [1] top-level scope",
      "   @ In[56]:1",
      " [2] eval",
      "   @ .\\boot.jl:360 [inlined]",
      " [3] include_string(mapexpr::typeof(REPL.softscope), mod::Module, code::String, filename::String)",
      "   @ Base .\\loading.jl:1116"
     ]
    }
   ],
   "source": [
    "zpos = mech_osc_mmpc(z_plan[:,1], Δu_plan[:,1])\n",
    "z_plan, Δu_plan, e_plan = mpc_emo(zpos)"
   ]
  },
  {
   "cell_type": "code",
   "execution_count": 57,
   "id": "169b2637",
   "metadata": {},
   "outputs": [
    {
     "ename": "LoadError",
     "evalue": "UndefVarError: z_plan not defined",
     "output_type": "error",
     "traceback": [
      "UndefVarError: z_plan not defined",
      "",
      "Stacktrace:",
      " [1] top-level scope",
      "   @ In[57]:1",
      " [2] eval",
      "   @ .\\boot.jl:360 [inlined]",
      " [3] include_string(mapexpr::typeof(REPL.softscope), mod::Module, code::String, filename::String)",
      "   @ Base .\\loading.jl:1116"
     ]
    }
   ],
   "source": [
    "plot(z_plan')"
   ]
  },
  {
   "cell_type": "code",
   "execution_count": null,
   "id": "5b0ab731",
   "metadata": {},
   "outputs": [],
   "source": []
  },
  {
   "cell_type": "code",
   "execution_count": null,
   "id": "6d70400e",
   "metadata": {},
   "outputs": [],
   "source": []
  },
  {
   "cell_type": "code",
   "execution_count": null,
   "id": "0d5ac3b1",
   "metadata": {},
   "outputs": [],
   "source": []
  },
  {
   "cell_type": "code",
   "execution_count": null,
   "id": "3a821c50",
   "metadata": {},
   "outputs": [],
   "source": []
  },
  {
   "cell_type": "code",
   "execution_count": 58,
   "id": "30d9cb03",
   "metadata": {},
   "outputs": [
    {
     "ename": "LoadError",
     "evalue": "UndefVarError: mpc_emo not defined",
     "output_type": "error",
     "traceback": [
      "UndefVarError: mpc_emo not defined",
      "",
      "Stacktrace:",
      " [1] top-level scope",
      "   @ .\\In[58]:6",
      " [2] eval",
      "   @ .\\boot.jl:360 [inlined]",
      " [3] include_string(mapexpr::typeof(REPL.softscope), mod::Module, code::String, filename::String)",
      "   @ Base .\\loading.jl:1116"
     ]
    }
   ],
   "source": [
    "for i in 1:49\n",
    "    \n",
    "    # Run the MPC control optimization\n",
    "    #x_plan, u_plan, e_plan = mpc_emo(xpos)\n",
    "    \n",
    "    z_plan, Δu_plan, e_plan = mpc_emo(zpos[:,i])\n",
    "    \n",
    "    # Save states\n",
    "    z_hist = hcat(z_hist, z_plan[:,1])\n",
    "    u_hist = hcat(u_hist, Δu_plan)\n",
    "    # Apply the planned input signals and simulate one step in time\n",
    "    \n",
    "     #zpos = mech_osc_mmpc(z_plan[:,1], Δu_plan[:,1])\n",
    "end"
   ]
  },
  {
   "cell_type": "code",
   "execution_count": 59,
   "id": "ca3edf4b",
   "metadata": {},
   "outputs": [
    {
     "data": {
      "text/plain": [
       "4×50 Matrix{Float64}:\n",
       "  6.16298e-33   6.16222e-33   6.16218e-33  …  -100.0      -100.0      -100.0\n",
       "  1.14719       1.14719       1.14719          100.0      -100.0      -100.0\n",
       " -1.32669e-30  -1.71008      -1.71008           -1.23008    -1.23008   100.0\n",
       " -4.93101e-32  -4.93106e-32   2.73847         -100.0      -100.0      -100.0"
      ]
     },
     "execution_count": 59,
     "metadata": {},
     "output_type": "execute_result"
    }
   ],
   "source": [
    "u_hist"
   ]
  },
  {
   "cell_type": "code",
   "execution_count": 60,
   "id": "d35fb2bd",
   "metadata": {},
   "outputs": [
    {
     "data": {
      "image/svg+xml": [
       "<?xml version=\"1.0\" encoding=\"utf-8\"?>\n",
       "<svg xmlns=\"http://www.w3.org/2000/svg\" xmlns:xlink=\"http://www.w3.org/1999/xlink\" width=\"600\" height=\"400\" viewBox=\"0 0 2400 1600\">\n",
       "<defs>\n",
       "  <clipPath id=\"clip960\">\n",
       "    <rect x=\"0\" y=\"0\" width=\"2400\" height=\"1600\"/>\n",
       "  </clipPath>\n",
       "</defs>\n",
       "<path clip-path=\"url(#clip960)\" d=\"\n",
       "M0 1600 L2400 1600 L2400 0 L0 0  Z\n",
       "  \" fill=\"#ffffff\" fill-rule=\"evenodd\" fill-opacity=\"1\"/>\n",
       "<defs>\n",
       "  <clipPath id=\"clip961\">\n",
       "    <rect x=\"480\" y=\"0\" width=\"1681\" height=\"1600\"/>\n",
       "  </clipPath>\n",
       "</defs>\n",
       "<path clip-path=\"url(#clip960)\" d=\"\n",
       "M112.177 1486.45 L2112.76 1486.45 L2112.76 47.2441 L112.177 47.2441  Z\n",
       "  \" fill=\"#ffffff\" fill-rule=\"evenodd\" fill-opacity=\"1\"/>\n",
       "<defs>\n",
       "  <clipPath id=\"clip962\">\n",
       "    <rect x=\"112\" y=\"47\" width=\"2002\" height=\"1440\"/>\n",
       "  </clipPath>\n",
       "</defs>\n",
       "<polyline clip-path=\"url(#clip962)\" style=\"stroke:#000000; stroke-linecap:butt; stroke-linejoin:round; stroke-width:2; stroke-opacity:0.1; fill:none\" points=\"\n",
       "  492.287,1486.45 492.287,47.2441 \n",
       "  \"/>\n",
       "<polyline clip-path=\"url(#clip962)\" style=\"stroke:#000000; stroke-linecap:butt; stroke-linejoin:round; stroke-width:2; stroke-opacity:0.1; fill:none\" points=\"\n",
       "  892.403,1486.45 892.403,47.2441 \n",
       "  \"/>\n",
       "<polyline clip-path=\"url(#clip962)\" style=\"stroke:#000000; stroke-linecap:butt; stroke-linejoin:round; stroke-width:2; stroke-opacity:0.1; fill:none\" points=\"\n",
       "  1292.52,1486.45 1292.52,47.2441 \n",
       "  \"/>\n",
       "<polyline clip-path=\"url(#clip962)\" style=\"stroke:#000000; stroke-linecap:butt; stroke-linejoin:round; stroke-width:2; stroke-opacity:0.1; fill:none\" points=\"\n",
       "  1692.63,1486.45 1692.63,47.2441 \n",
       "  \"/>\n",
       "<polyline clip-path=\"url(#clip962)\" style=\"stroke:#000000; stroke-linecap:butt; stroke-linejoin:round; stroke-width:2; stroke-opacity:0.1; fill:none\" points=\"\n",
       "  2092.75,1486.45 2092.75,47.2441 \n",
       "  \"/>\n",
       "<polyline clip-path=\"url(#clip960)\" style=\"stroke:#000000; stroke-linecap:butt; stroke-linejoin:round; stroke-width:4; stroke-opacity:1; fill:none\" points=\"\n",
       "  112.177,1486.45 2112.76,1486.45 \n",
       "  \"/>\n",
       "<polyline clip-path=\"url(#clip960)\" style=\"stroke:#000000; stroke-linecap:butt; stroke-linejoin:round; stroke-width:4; stroke-opacity:1; fill:none\" points=\"\n",
       "  492.287,1486.45 492.287,1467.55 \n",
       "  \"/>\n",
       "<polyline clip-path=\"url(#clip960)\" style=\"stroke:#000000; stroke-linecap:butt; stroke-linejoin:round; stroke-width:4; stroke-opacity:1; fill:none\" points=\"\n",
       "  892.403,1486.45 892.403,1467.55 \n",
       "  \"/>\n",
       "<polyline clip-path=\"url(#clip960)\" style=\"stroke:#000000; stroke-linecap:butt; stroke-linejoin:round; stroke-width:4; stroke-opacity:1; fill:none\" points=\"\n",
       "  1292.52,1486.45 1292.52,1467.55 \n",
       "  \"/>\n",
       "<polyline clip-path=\"url(#clip960)\" style=\"stroke:#000000; stroke-linecap:butt; stroke-linejoin:round; stroke-width:4; stroke-opacity:1; fill:none\" points=\"\n",
       "  1692.63,1486.45 1692.63,1467.55 \n",
       "  \"/>\n",
       "<polyline clip-path=\"url(#clip960)\" style=\"stroke:#000000; stroke-linecap:butt; stroke-linejoin:round; stroke-width:4; stroke-opacity:1; fill:none\" points=\"\n",
       "  2092.75,1486.45 2092.75,1467.55 \n",
       "  \"/>\n",
       "<path clip-path=\"url(#clip960)\" d=\"M466.975 1544.91 L474.614 1544.91 L474.614 1518.55 L466.303 1520.21 L466.303 1515.95 L474.567 1514.29 L479.243 1514.29 L479.243 1544.91 L486.882 1544.91 L486.882 1548.85 L466.975 1548.85 L466.975 1544.91 Z\" fill=\"#000000\" fill-rule=\"evenodd\" fill-opacity=\"1\" /><path clip-path=\"url(#clip960)\" d=\"M506.326 1517.37 Q502.715 1517.37 500.887 1520.93 Q499.081 1524.47 499.081 1531.6 Q499.081 1538.71 500.887 1542.27 Q502.715 1545.82 506.326 1545.82 Q509.961 1545.82 511.766 1542.27 Q513.595 1538.71 513.595 1531.6 Q513.595 1524.47 511.766 1520.93 Q509.961 1517.37 506.326 1517.37 M506.326 1513.66 Q512.137 1513.66 515.192 1518.27 Q518.271 1522.85 518.271 1531.6 Q518.271 1540.33 515.192 1544.94 Q512.137 1549.52 506.326 1549.52 Q500.516 1549.52 497.438 1544.94 Q494.382 1540.33 494.382 1531.6 Q494.382 1522.85 497.438 1518.27 Q500.516 1513.66 506.326 1513.66 Z\" fill=\"#000000\" fill-rule=\"evenodd\" fill-opacity=\"1\" /><path clip-path=\"url(#clip960)\" d=\"M871.176 1544.91 L887.495 1544.91 L887.495 1548.85 L865.551 1548.85 L865.551 1544.91 Q868.213 1542.16 872.797 1537.53 Q877.403 1532.88 878.584 1531.53 Q880.829 1529.01 881.708 1527.27 Q882.611 1525.51 882.611 1523.82 Q882.611 1521.07 880.667 1519.33 Q878.746 1517.6 875.644 1517.6 Q873.445 1517.6 870.991 1518.36 Q868.56 1519.13 865.783 1520.68 L865.783 1515.95 Q868.607 1514.82 871.06 1514.24 Q873.514 1513.66 875.551 1513.66 Q880.921 1513.66 884.116 1516.35 Q887.31 1519.03 887.31 1523.52 Q887.31 1525.65 886.5 1527.57 Q885.713 1529.47 883.607 1532.07 Q883.028 1532.74 879.926 1535.95 Q876.824 1539.15 871.176 1544.91 Z\" fill=\"#000000\" fill-rule=\"evenodd\" fill-opacity=\"1\" /><path clip-path=\"url(#clip960)\" d=\"M907.31 1517.37 Q903.699 1517.37 901.87 1520.93 Q900.065 1524.47 900.065 1531.6 Q900.065 1538.71 901.87 1542.27 Q903.699 1545.82 907.31 1545.82 Q910.944 1545.82 912.75 1542.27 Q914.579 1538.71 914.579 1531.6 Q914.579 1524.47 912.75 1520.93 Q910.944 1517.37 907.31 1517.37 M907.31 1513.66 Q913.12 1513.66 916.176 1518.27 Q919.255 1522.85 919.255 1531.6 Q919.255 1540.33 916.176 1544.94 Q913.12 1549.52 907.31 1549.52 Q901.5 1549.52 898.421 1544.94 Q895.366 1540.33 895.366 1531.6 Q895.366 1522.85 898.421 1518.27 Q901.5 1513.66 907.31 1513.66 Z\" fill=\"#000000\" fill-rule=\"evenodd\" fill-opacity=\"1\" /><path clip-path=\"url(#clip960)\" d=\"M1281.36 1530.21 Q1284.72 1530.93 1286.59 1533.2 Q1288.49 1535.47 1288.49 1538.8 Q1288.49 1543.92 1284.97 1546.72 Q1281.45 1549.52 1274.97 1549.52 Q1272.8 1549.52 1270.48 1549.08 Q1268.19 1548.66 1265.74 1547.81 L1265.74 1543.29 Q1267.68 1544.43 1270 1545.01 Q1272.31 1545.58 1274.83 1545.58 Q1279.23 1545.58 1281.52 1543.85 Q1283.84 1542.11 1283.84 1538.8 Q1283.84 1535.75 1281.69 1534.03 Q1279.56 1532.3 1275.74 1532.3 L1271.71 1532.3 L1271.71 1528.45 L1275.92 1528.45 Q1279.37 1528.45 1281.2 1527.09 Q1283.03 1525.7 1283.03 1523.11 Q1283.03 1520.45 1281.13 1519.03 Q1279.25 1517.6 1275.74 1517.6 Q1273.82 1517.6 1271.62 1518.01 Q1269.42 1518.43 1266.78 1519.31 L1266.78 1515.14 Q1269.44 1514.4 1271.75 1514.03 Q1274.09 1513.66 1276.15 1513.66 Q1281.48 1513.66 1284.58 1516.09 Q1287.68 1518.5 1287.68 1522.62 Q1287.68 1525.49 1286.04 1527.48 Q1284.39 1529.45 1281.36 1530.21 Z\" fill=\"#000000\" fill-rule=\"evenodd\" fill-opacity=\"1\" /><path clip-path=\"url(#clip960)\" d=\"M1307.36 1517.37 Q1303.75 1517.37 1301.92 1520.93 Q1300.11 1524.47 1300.11 1531.6 Q1300.11 1538.71 1301.92 1542.27 Q1303.75 1545.82 1307.36 1545.82 Q1310.99 1545.82 1312.8 1542.27 Q1314.62 1538.71 1314.62 1531.6 Q1314.62 1524.47 1312.8 1520.93 Q1310.99 1517.37 1307.36 1517.37 M1307.36 1513.66 Q1313.17 1513.66 1316.22 1518.27 Q1319.3 1522.85 1319.3 1531.6 Q1319.3 1540.33 1316.22 1544.94 Q1313.17 1549.52 1307.36 1549.52 Q1301.55 1549.52 1298.47 1544.94 Q1295.41 1540.33 1295.41 1531.6 Q1295.41 1522.85 1298.47 1518.27 Q1301.55 1513.66 1307.36 1513.66 Z\" fill=\"#000000\" fill-rule=\"evenodd\" fill-opacity=\"1\" /><path clip-path=\"url(#clip960)\" d=\"M1680.81 1518.36 L1669 1536.81 L1680.81 1536.81 L1680.81 1518.36 M1679.58 1514.29 L1685.46 1514.29 L1685.46 1536.81 L1690.39 1536.81 L1690.39 1540.7 L1685.46 1540.7 L1685.46 1548.85 L1680.81 1548.85 L1680.81 1540.7 L1665.2 1540.7 L1665.2 1536.19 L1679.58 1514.29 Z\" fill=\"#000000\" fill-rule=\"evenodd\" fill-opacity=\"1\" /><path clip-path=\"url(#clip960)\" d=\"M1708.12 1517.37 Q1704.51 1517.37 1702.68 1520.93 Q1700.88 1524.47 1700.88 1531.6 Q1700.88 1538.71 1702.68 1542.27 Q1704.51 1545.82 1708.12 1545.82 Q1711.75 1545.82 1713.56 1542.27 Q1715.39 1538.71 1715.39 1531.6 Q1715.39 1524.47 1713.56 1520.93 Q1711.75 1517.37 1708.12 1517.37 M1708.12 1513.66 Q1713.93 1513.66 1716.99 1518.27 Q1720.06 1522.85 1720.06 1531.6 Q1720.06 1540.33 1716.99 1544.94 Q1713.93 1549.52 1708.12 1549.52 Q1702.31 1549.52 1699.23 1544.94 Q1696.18 1540.33 1696.18 1531.6 Q1696.18 1522.85 1699.23 1518.27 Q1702.31 1513.66 1708.12 1513.66 Z\" fill=\"#000000\" fill-rule=\"evenodd\" fill-opacity=\"1\" /><path clip-path=\"url(#clip960)\" d=\"M2067.45 1514.29 L2085.81 1514.29 L2085.81 1518.22 L2071.73 1518.22 L2071.73 1526.7 Q2072.75 1526.35 2073.77 1526.19 Q2074.79 1526 2075.81 1526 Q2081.59 1526 2084.97 1529.17 Q2088.35 1532.34 2088.35 1537.76 Q2088.35 1543.34 2084.88 1546.44 Q2081.41 1549.52 2075.09 1549.52 Q2072.91 1549.52 2070.64 1549.15 Q2068.4 1548.78 2065.99 1548.04 L2065.99 1543.34 Q2068.07 1544.47 2070.3 1545.03 Q2072.52 1545.58 2075 1545.58 Q2079 1545.58 2081.34 1543.48 Q2083.68 1541.37 2083.68 1537.76 Q2083.68 1534.15 2081.34 1532.04 Q2079 1529.94 2075 1529.94 Q2073.12 1529.94 2071.25 1530.35 Q2069.39 1530.77 2067.45 1531.65 L2067.45 1514.29 Z\" fill=\"#000000\" fill-rule=\"evenodd\" fill-opacity=\"1\" /><path clip-path=\"url(#clip960)\" d=\"M2107.56 1517.37 Q2103.95 1517.37 2102.13 1520.93 Q2100.32 1524.47 2100.32 1531.6 Q2100.32 1538.71 2102.13 1542.27 Q2103.95 1545.82 2107.56 1545.82 Q2111.2 1545.82 2113 1542.27 Q2114.83 1538.71 2114.83 1531.6 Q2114.83 1524.47 2113 1520.93 Q2111.2 1517.37 2107.56 1517.37 M2107.56 1513.66 Q2113.38 1513.66 2116.43 1518.27 Q2119.51 1522.85 2119.51 1531.6 Q2119.51 1540.33 2116.43 1544.94 Q2113.38 1549.52 2107.56 1549.52 Q2101.75 1549.52 2098.68 1544.94 Q2095.62 1540.33 2095.62 1531.6 Q2095.62 1522.85 2098.68 1518.27 Q2101.75 1513.66 2107.56 1513.66 Z\" fill=\"#000000\" fill-rule=\"evenodd\" fill-opacity=\"1\" /><polyline clip-path=\"url(#clip962)\" style=\"stroke:#000000; stroke-linecap:butt; stroke-linejoin:round; stroke-width:2; stroke-opacity:0.1; fill:none\" points=\"\n",
       "  112.177,1306.55 2112.76,1306.55 \n",
       "  \"/>\n",
       "<polyline clip-path=\"url(#clip962)\" style=\"stroke:#000000; stroke-linecap:butt; stroke-linejoin:round; stroke-width:2; stroke-opacity:0.1; fill:none\" points=\"\n",
       "  112.177,946.746 2112.76,946.746 \n",
       "  \"/>\n",
       "<polyline clip-path=\"url(#clip962)\" style=\"stroke:#000000; stroke-linecap:butt; stroke-linejoin:round; stroke-width:2; stroke-opacity:0.1; fill:none\" points=\"\n",
       "  112.177,586.946 2112.76,586.946 \n",
       "  \"/>\n",
       "<polyline clip-path=\"url(#clip962)\" style=\"stroke:#000000; stroke-linecap:butt; stroke-linejoin:round; stroke-width:2; stroke-opacity:0.1; fill:none\" points=\"\n",
       "  112.177,227.145 2112.76,227.145 \n",
       "  \"/>\n",
       "<polyline clip-path=\"url(#clip960)\" style=\"stroke:#000000; stroke-linecap:butt; stroke-linejoin:round; stroke-width:4; stroke-opacity:1; fill:none\" points=\"\n",
       "  112.177,1486.45 112.177,47.2441 \n",
       "  \"/>\n",
       "<polyline clip-path=\"url(#clip960)\" style=\"stroke:#000000; stroke-linecap:butt; stroke-linejoin:round; stroke-width:4; stroke-opacity:1; fill:none\" points=\"\n",
       "  112.177,1306.55 129.051,1306.55 \n",
       "  \"/>\n",
       "<polyline clip-path=\"url(#clip960)\" style=\"stroke:#000000; stroke-linecap:butt; stroke-linejoin:round; stroke-width:4; stroke-opacity:1; fill:none\" points=\"\n",
       "  112.177,946.746 129.051,946.746 \n",
       "  \"/>\n",
       "<polyline clip-path=\"url(#clip960)\" style=\"stroke:#000000; stroke-linecap:butt; stroke-linejoin:round; stroke-width:4; stroke-opacity:1; fill:none\" points=\"\n",
       "  112.177,586.946 129.051,586.946 \n",
       "  \"/>\n",
       "<polyline clip-path=\"url(#clip960)\" style=\"stroke:#000000; stroke-linecap:butt; stroke-linejoin:round; stroke-width:4; stroke-opacity:1; fill:none\" points=\"\n",
       "  112.177,227.145 129.051,227.145 \n",
       "  \"/>\n",
       "<path clip-path=\"url(#clip960)\" d=\"M56.2699 1319.89 L63.9087 1319.89 L63.9087 1293.53 L55.5986 1295.19 L55.5986 1290.93 L63.8624 1289.27 L68.5383 1289.27 L68.5383 1319.89 L76.1772 1319.89 L76.1772 1323.83 L56.2699 1323.83 L56.2699 1319.89 Z\" fill=\"#000000\" fill-rule=\"evenodd\" fill-opacity=\"1\" /><path clip-path=\"url(#clip960)\" d=\"M59.8578 960.091 L76.1772 960.091 L76.1772 964.026 L54.2328 964.026 L54.2328 960.091 Q56.8949 957.337 61.4782 952.707 Q66.0846 948.054 67.2652 946.712 Q69.5105 944.189 70.3902 942.452 Q71.2929 940.693 71.2929 939.003 Q71.2929 936.249 69.3485 934.513 Q67.4272 932.777 64.3254 932.777 Q62.1263 932.777 59.6726 933.541 Q57.2421 934.304 54.4643 935.855 L54.4643 931.133 Q57.2884 929.999 59.7421 929.42 Q62.1958 928.841 64.2328 928.841 Q69.6031 928.841 72.7976 931.527 Q75.992 934.212 75.992 938.703 Q75.992 940.832 75.1818 942.753 Q74.3948 944.652 72.2883 947.244 Q71.7096 947.915 68.6078 951.133 Q65.5059 954.327 59.8578 960.091 Z\" fill=\"#000000\" fill-rule=\"evenodd\" fill-opacity=\"1\" /><path clip-path=\"url(#clip960)\" d=\"M69.0476 585.591 Q72.404 586.309 74.279 588.577 Q76.1772 590.846 76.1772 594.179 Q76.1772 599.295 72.6587 602.096 Q69.1402 604.897 62.6587 604.897 Q60.4828 604.897 58.168 604.457 Q55.8764 604.04 53.4227 603.184 L53.4227 598.67 Q55.3671 599.804 57.6819 600.383 Q59.9967 600.962 62.5198 600.962 Q66.918 600.962 69.2096 599.226 Q71.5244 597.489 71.5244 594.179 Q71.5244 591.124 69.3717 589.411 Q67.242 587.675 63.4226 587.675 L59.3949 587.675 L59.3949 583.832 L63.6078 583.832 Q67.0569 583.832 68.8855 582.466 Q70.7142 581.077 70.7142 578.485 Q70.7142 575.823 68.8161 574.411 Q66.9411 572.976 63.4226 572.976 Q61.5013 572.976 59.3023 573.392 Q57.1032 573.809 54.4643 574.689 L54.4643 570.522 Q57.1264 569.781 59.4412 569.411 Q61.7791 569.041 63.8393 569.041 Q69.1633 569.041 72.2652 571.471 Q75.367 573.878 75.367 577.999 Q75.367 580.869 73.7235 582.86 Q72.08 584.827 69.0476 585.591 Z\" fill=\"#000000\" fill-rule=\"evenodd\" fill-opacity=\"1\" /><path clip-path=\"url(#clip960)\" d=\"M66.5939 213.939 L54.7884 232.388 L66.5939 232.388 L66.5939 213.939 M65.367 209.865 L71.2466 209.865 L71.2466 232.388 L76.1772 232.388 L76.1772 236.276 L71.2466 236.276 L71.2466 244.425 L66.5939 244.425 L66.5939 236.276 L50.9921 236.276 L50.9921 231.763 L65.367 209.865 Z\" fill=\"#000000\" fill-rule=\"evenodd\" fill-opacity=\"1\" /><g clip-path=\"url(#clip962)\">\n",
       "<image width=\"2001\" height=\"1439\" xlink:href=\"data:image/png;base64,\n",
       "iVBORw0KGgoAAAANSUhEUgAAB9EAAAWfCAYAAAAcawbXAAAgAElEQVR4nOzZIW6VYRQAUX5aFBVN\n",
       "qtgBOBRvAXhcgyAktewKwwZIUA24GhSeBVSRqrr2vZrRIEi4JN85Kxg/2+Xu/PCIv/Lk6G46gYU9\n",
       "O/s1ncDC9vttOoGFvfhyNZ3Awt6efphOYGGfbnbTCQCwnOPtYjoBAIB/6PF0AAAAAAAAAAD8L0x0\n",
       "AAAAAAAAAIiJDgAAAAAAAAAx0QEAAAAAAAAgJjoAAAAAAAAAxEQHAAAAAAAAgJjoAAAAAAAAABAT\n",
       "HQAAAAAAAABiogMAAAAAAABATHQAAAAAAAAAiIkOAAAAAAAAADHRAQAAAAAAACAmOgAAAAAAAADE\n",
       "RAcAAAAAAACAmOgAAAAAAAAAEBMdAAAAAAAAAGKiAwAAAAAAAEBMdAAAAAAAAACIiQ4AAAAAAAAA\n",
       "MdEBAAAAAAAAICY6AAAAAAAAAMREBwAAAAAAAICY6AAAAAAAAAAQEx0AAAAAAAAAYqIDAAAAAAAA\n",
       "QEx0AAAAAAAAAIiJDgAAAAAAAAAx0QEAAAAAAAAgJjoAAAAAAAAAxEQHAAAAAAAAgJjoAAAAAAAA\n",
       "ABATHQAAAAAAAABiogMAAAAAAABATHQAAAAAAAAAiIkOAAAAAAAAADHRAQAAAAAAACAmOgAAAAAA\n",
       "AADERAcAAAAAAACAmOgAAAAAAAAAEBMdAAAAAAAAAGKiAwAAAAAAAEBMdAAAAAAAAACIiQ4AAAAA\n",
       "AAAAMdEBAAAAAAAAICY6AAAAAAAAAMREBwAAAAAAAICY6AAAAAAAAAAQEx0AAAAAAAAAYqIDAAAA\n",
       "AAAAQEx0AAAAAAAAAIiJDgAAAAAAAAAx0QEAAAAAAAAgJjoAAAAAAAAAxEQHAAAAAAAAgJjoAAAA\n",
       "AAAAABATHQAAAAAAAABiogMAAAAAAABATHQAAAAAAAAAiIkOAAAAAAAAADHRAQAAAAAAACAmOgAA\n",
       "AAAAAADERAcAAAAAAACAmOgAAAAAAAAAEBMdAAAAAAAAAGKiAwAAAAAAAEBMdAAAAAAAAACIiQ4A\n",
       "AAAAAAAAMdEBAAAAAAAAICY6AAAAAAAAAMREBwAAAAAAAICY6AAAAAAAAAAQEx0AAAAAAAAAYqID\n",
       "AAAAAAAAQEx0AAAAAAAAAIiJDgAAAAAAAAAx0QEAAAAAAAAgJjoAAAAAAAAAxEQHAAAAAAAAgJjo\n",
       "AAAAAAAAABATHQAAAAAAAABiogMAAAAAAABATHQAAAAAAAAAiIkOAAAAAAAAADHRAQAAAAAAACAm\n",
       "OgAAAAAAAADERAcAAAAAAACAmOgAAAAAAAAAEBMdAAAAAAAAAGKiAwAAAAAAAEBMdAAAAAAAAACI\n",
       "iQ4AAAAAAAAAMdEBAAAAAAAAICY6AAAAAAAAAMREBwAAAAAAAICY6AAAAAAAAAAQEx0AAAAAAAAA\n",
       "YqIDAAAAAAAAQEx0AAAAAAAAAIiJDgAAAAAAAAAx0QEAAAAAAAAgJjoAAAAAAAAAxEQHAAAAAAAA\n",
       "gJjoAAAAAAAAABATHQAAAAAAAABiogMAAAAAAABATHQAAAAAAAAAiIkOAAAAAAAAADHRAQAAAAAA\n",
       "ACAmOgAAAAAAAADERAcAAAAAAACAmOgAAAAAAAAAEBMdAAAAAAAAAGKiAwAAAAAAAEBMdAAAAAAA\n",
       "AACIiQ4AAAAAAAAAMdEBAAAAAAAAICY6AAAAAAAAAMREBwAAAAAAAICY6AAAAAAAAAAQEx0AAAAA\n",
       "AAAAYqIDAAAAAAAAQEx0AAAAAAAAAIiJDgAAAAAAAAAx0QEAAAAAAAAgJjoAAAAAAAAAxEQHAAAA\n",
       "AAAAgJjoAAAAAAAAABATHQAAAAAAAABiogMAAAAAAABATHQAAAAAAAAAiIkOAAAAAAAAADHRAQAA\n",
       "AAAAACAmOgAAAAAAAADERAcAAAAAAACAmOgAAAAAAAAAEBMdAAAAAAAAAGKiAwAAAAAAAEBMdAAA\n",
       "AAAAAACIiQ4AAAAAAAAAMdEBAAAAAAAAICY6AAAAAAAAAMREBwAAAAAAAICY6AAAAAAAAAAQEx0A\n",
       "AAAAAAAAYqIDAAAAAAAAQEx0AAAAAAAAAIiJDgAAAAAAAAAx0QEAAAAAAAAgJjoAAAAAAAAAxEQH\n",
       "AAAAAAAAgJjoAAAAAAAAABATHQAAAAAAAABiogMAAAAAAABATHQAAAAAAAAAiIkOAAAAAAAAADHR\n",
       "AQAAAAAAACAmOgAAAAAAAADERAcAAAAAAACAmOgAAAAAAAAAEBMdAAAAAAAAAGKiAwAAAAAAAEBM\n",
       "dAAAAAAAAACIiQ4AAAAAAAAAMdEBAAAAAAAAICY6AAAAAAAAAMREBwAAAAAAAICY6AAAAAAAAAAQ\n",
       "Ex0AAAAAAAAAYqIDAAAAAAAAQEx0AAAAAAAAAIiJDgAAAAAAAAAx0QEAAAAAAAAgJjoAAAAAAAAA\n",
       "xEQHAAAAAAAAgJjoAAAAAAAAABATHQAAAAAAAABiogMAAAAAAABATHQAAAAAAAAAiIkOAAAAAAAA\n",
       "ADHRAQAAAAAAACAmOgAAAAAAAADERAcAAAAAAACAmOgAAAAAAAAAEBMdAAAAAAAAAGKiAwAAAAAA\n",
       "AEBMdAAAAAAAAACIiQ4AAAAAAAAAMdEBAAAAAAAAICY6AAAAAAAAAMREBwAAAAAAAICY6AAAAAAA\n",
       "AAAQEx0AAAAAAAAAYqIDAAAAAAAAQEx0AAAAAAAAAIiJDgAAAAAAAAAx0QEAAAAAAAAgJjoAAAAA\n",
       "AAAAxEQHAAAAAAAAgJjoAAAAAAAAABATHQAAAAAAAABiogMAAAAAAABATHQAAAAAAAAAiIkOAAAA\n",
       "AAAAADHRAQAAAAAAACAmOgAAAAAAAADERAcAAAAAAACAmOgAAAAAAAAAEBMdAAAAAAAAAGKiAwAA\n",
       "AAAAAEBMdAAAAAAAAACIiQ4AAAAAAAAAMdEBAAAAAAAAICY6AAAAAAAAAMREBwAAAAAAAICY6AAA\n",
       "AAAAAAAQEx0AAAAAAAAAYqIDAAAAAAAAQEx0AAAAAAAAAIiJDgAAAAAAAAAx0QEAAAAAAAAgJjoA\n",
       "AAAAAAAAxEQHAAAAAAAAgJjoAAAAAAAAABATHQAAAAAAAABiogMAAAAAAABATHQAAAAAAAAAiIkO\n",
       "AAAAAAAAADHRAQAAAAAAACAmOgAAAAAAAADERAcAAAAAAACAmOgAAAAAAAAAEBMdAAAAAAAAAGKi\n",
       "AwAAAAAAAEBMdAAAAAAAAACIiQ4AAAAAAAAAMdEBAAAAAAAAICY6AAAAAAAAAMREBwAAAAAAAICY\n",
       "6AAAAAAAAAAQEx0AAAAAAAAAYqIDAAAAAAAAQEx0AAAAAAAAAIiJDgAAAAAAAAAx0QEAAAAAAAAg\n",
       "JjoAAAAAAAAAxEQHAAAAAAAAgJjoAAAAAAAAABATHQAAAAAAAABiogMAAAAAAABATHQAAAAAAAAA\n",
       "iIkOAAAAAAAAADHRAQAAAAAAACAmOgAAAAAAAADERAcAAAAAAACAmOgAAAAAAAAAEBMdAAAAAAAA\n",
       "AGKiAwAAAAAAAEBMdAAAAAAAAACIiQ4AAAAAAAAAMdEBAAAAAAAAICY6AAAAAAAAAMREBwAAAAAA\n",
       "AICY6AAAAAAAAAAQEx0AAAAAAAAAYqIDAAAAAAAAQEx0AAAAAAAAAIiJDgAAAAAAAAAx0QEAAAAA\n",
       "AAAgJjoAAAAAAAAAxEQHAAAAAAAAgJjoAAAAAAAAABATHQAAAAAAAABiogMAAAAAAABATHQAAAAA\n",
       "AAAAiIkOAAAAAAAAADHRAQAAAAAAACAmOgAAAAAAAADERAcAAAAAAACAmOgAAAAAAAAAEBMdAAAA\n",
       "AAAAAGKiAwAAAAAAAEBMdAAAAAAAAACIiQ4AAAAAAAAAMdEBAAAAAAAAICY6AAAAAAAAAMREBwAA\n",
       "AAAAAICY6AAAAAAAAAAQEx0AAAAAAAAAYqIDAAAAAAAAQEx0AAAAAAAAAIiJDgAAAAAAAAAx0QEA\n",
       "AAAAAAAgJjoAAAAAAAAAxEQHAAAAAAAAgJjoAAAAAAAAABATHQAAAAAAAABiogMAAAAAAABATHQA\n",
       "AAAAAAAAiIkOAAAAAAAAADHRAQAAAAAAACAmOgAAAAAAAADERAcAAAAAAACAmOgAAAAAAAAAEBMd\n",
       "AAAAAAAAAGKiAwAAAAAAAEBMdAAAAAAAAACIiQ4AAAAAAAAAMdEBAAAAAAAAICY6AAAAAAAAAMRE\n",
       "BwAAAAAAAICY6AAAAAAAAAAQEx0AAAAAAAAAYqIDAAAAAAAAQEx0AAAAAAAAAIiJDgAAAAAAAAAx\n",
       "0QEAAAAAAAAgJjoAAAAAAAAAxEQHAAAAAAAAgJjoAAAAAAAAABATHQAAAAAAAABiogMAAAAAAABA\n",
       "THQAAAAAAAAAiIkOAAAAAAAAADHRAQAAAAAAACAmOgAAAAAAAADERAcAAAAAAACAmOgAAAAAAAAA\n",
       "EBMdAAAAAAAAAGKiAwAAAAAAAEBMdAAAAAAAAACIiQ4AAAAAAAAAMdEBAAAAAAAAICY6AAAAAAAA\n",
       "AMREBwAAAAAAAICY6AAAAAAAAAAQEx0AAAAAAAAAYqIDAAAAAAAAQEx0AAAAAAAAAIiJDgAAAAAA\n",
       "AAAx0QEAAAAAAAAgJjoAAAAAAAAAxEQHAAAAAAAAgJjoAAAAAAAAABATHQAAAAAAAABiogMAAAAA\n",
       "AABATHQAAAAAAAAAiIkOAAAAAAAAADHRAQAAAAAAACAmOgAAAAAAAADERAcAAAAAAACAmOgAAAAA\n",
       "AAAAEBMdAAAAAAAAAGKiAwAAAAAAAEBMdAAAAAAAAACIiQ4AAAAAAAAAMdEBAAAAAAAAICY6AAAA\n",
       "AAAAAMREBwAAAAAAAICY6AAAAAAAAACQ7XJ3fpiO+JP7vdfPnOvbk+kEFvbj5ul0Agt7//zndAIL\n",
       "e/nt3XQCwIjj7WI6AQCWc3f4OJ0AMOLrq8/TCSzs9fc30wm/5U4DAAAAAAAAQEx0AAAAAAAAAIiJ\n",
       "DgAAAAAAAAAx0QEAAAAAAAAgJjoAAAAAAAAAxEQHAAAAAAAAgJjoAAAAAAAAABATHQAAAAAAAABi\n",
       "ogMAAAAAAABATHQAAAAAAAAAiIkOAAAAAAAAADHRAQAAAAAAACAmOgAAAAAAAADERAcAAAAAAACA\n",
       "mOgAAAAAAAAAEBMdAAAAAAAAAGKiAwAAAAAAAEBMdAAAAAAAAACIiQ4AAAAAAAAAMdEBAAAAAAAA\n",
       "ICY6AAAAAAAAAMREBwAAAAAAAICY6AAAAAAAAAAQEx0AAAAAAAAAYqIDAAAAAAAAQEx0AAAAAAAA\n",
       "AIiJDgAAAAAAAAAx0QEAAAAAAAAgJjoAAAAAAAAAxEQHAAAAAAAAgJjoAAAAAAAAABATHQAAAAAA\n",
       "AABiogMAAAAAAABATHQAAAAAAAAAiIkOAAAAAAAAADHRAQAAAAAAACAmOgAAAAAAAADERAcAAAAA\n",
       "AACAmOgAAAAAAAAAEBMdAAAAAAAAAGKiAwAAAAAAAEBMdAAAAAAAAACIiQ4AAAAAAAAAMdEBAAAA\n",
       "AAAAICY6AAAAAAAAAMREBwAAAAAAAICY6AAAAAAAAAAQEx0AAAAAAAAAYqIDAAAAAAAAQEx0AAAA\n",
       "AAAAAIiJDgAAAAAAAAAx0QEAAAAAAAAgJjoAAAAAAAAAxEQHAAAAAAAAgJjoAAAAAAAAABATHQAA\n",
       "AAAAAABiogMAAAAAAABATHQAAAAAAAAAiIkOAAAAAAAAADHRAQAAAAAAACAmOgAAAAAAAADERAcA\n",
       "AAAAAACAmOgAAAAAAAAAEBMdAAAAAAAAAGKiAwAAAAAAAEBMdAAAAAAAAACIiQ4AAAAAAAAAMdEB\n",
       "AAAAAAAAICY6AAAAAAAAAMREBwAAAAAAAICY6AAAAAAAAAAQEx0AAAAAAAAAYqIDAAAAAAAAQEx0\n",
       "AAAAAAAAAIiJDgAAAAAAAAAx0QEAAAAAAAAgJjoAAAAAAAAAxEQHAAAAAAAAgJjoAAAAAAAAABAT\n",
       "HQAAAAAAAABiogMAAAAAAABATHQAAAAAAAAAiIkOAAAAAAAAADHRAQAAAAAAACAmOgAAAAAAAADE\n",
       "RAcAAAAAAACAmOgAAAAAAAAAEBMdAAAAAAAAAGKiAwAAAAAAAEBMdAAAAAAAAACIiQ4AAAAAAAAA\n",
       "MdEBAAAAAAAAICY6AAAAAAAAAMREBwAAAAAAAICY6AAAAAAAAAAQEx0AAAAAAAAAYqIDAAAAAAAA\n",
       "QEx0AAAAAAAAAIiJDgAAAAAAAAAx0QEAAAAAAAAgJjoAAAAAAAAAxEQHAAAAAAAAgJjoAAAAAAAA\n",
       "ABATHQAAAAAAAABiogMAAAAAAABATHQAAAAAAAAAiIkOAAAAAAAAADHRAQAAAAAAACAmOgAAAAAA\n",
       "AADERAcAAAAAAACAmOgAAAAAAAAAEBMdAAAAAAAAAGKiAwAAAAAAAEBMdAAAAAAAAACIiQ4AAAAA\n",
       "AAAAMdEBAAAAAAAAICY6AAAAAAAAAMREBwAAAAAAAICY6AAAAAAAAAAQEx0AAAAAAAAAYqIDAAAA\n",
       "AAAAQEx0AAAAAAAAAIiJDgAAAAAAAAAx0QEAAAAAAAAgJjoAAAAAAAAAxEQHAAAAAAAAgJjoAAAA\n",
       "AAAAABATHQAAAAAAAABiogMAAAAAAABATHQAAAAAAAAAiIkOAAAAAAAAADHRAQAAAAAAACAmOgAA\n",
       "AAAAAADERAcAAAAAAACAmOgAAAAAAAAAEBMdAAAAAAAAAGKiAwAAAAAAAEBMdAAAAAAAAACIiQ4A\n",
       "AAAAAAAAMdEBAAAAAAAAICY6AAAAAAAAAMREBwAAAAAAAICY6AAAAAAAAAAQEx0AAAAAAAAAYqID\n",
       "AAAAAAAAQEx0AAAAAAAAAIiJDgAAAAAAAAAx0QEAAAAAAAAgJjoAAAAAAMAD+3ZsmmAYRmEU4U8I\n",
       "2IRg7Rzu4QLOkRmykks4SSqDpEiaZ4cX+c6Z4PYPFwAiogMAAAAAAABARHQAAAAAAAAAiIgOAAAA\n",
       "AAAAABHRAQAAAAAAACAiOgAAAAAAAABERAcAAAAAAACAiOgAAAAAAAAAEBEdAAAAAAAAACKiAwAA\n",
       "AAAAAEBEdAAAAAAAAACIiA4AAAAAAAAAEdEBAAAAAAAAICI6AAAAAAAAAEREBwAAAAAAAICI6AAA\n",
       "AAAAAAAQER0AAAAAAAAAIqIDAAAAAAAAQER0AAAAAAAAAIiIDgAAAAAAAAAR0QEAAAAAAAAgIjoA\n",
       "AAAAAAAAREQHAAAAAAAAgIjoAAAAAAAAABARHQAAAAAAAAAiogMAAAAAAABARHQAAAAAAAAAiIgO\n",
       "AAAAAAAAABHRAQAAAAAAACAiOgAAAAAAAABERAcAAAAAAACAiOgAAAAAAAAAEBEdAAAAAAAAACKi\n",
       "AwAAAAAAAEBEdAAAAAAAAACIiA4AAAAAAAAAEdEBAAAAAAAAICI6AAAAAAAAAEREBwAAAAAAAICI\n",
       "6AAAAAAAAAAQER0AAAAAAAAAIqIDAAAAAAAAQER0AAAAAAAAAIiIDgAAAAAAAAAR0QEAAAAAAAAg\n",
       "IjoAAAAAAAAAREQHAAAAAAAAgIjoAAAAAAAAABARHQAAAAAAAAAiogMAAAAAAABARHQAAAAAAAAA\n",
       "iIgOAAAAAAAAABHRAQAAAAAAACAiOgAAAAAAAABERAcAAAAAAACAiOgAAAAAAAAAEBEdAAAAAAAA\n",
       "ACKiAwAAAAAAAEBEdAAAAAAAAACIiA4AAAAAAAAAEdEBAAAAAAAAICI6AAAAAAAAAEREBwAAAAAA\n",
       "AICI6AAAAAAAAAAQER0AAAAAAAAAIqIDAAAAAAAAQER0AAAAAAAAAIiIDgAAAAAAAAAR0QEAAAAA\n",
       "AAAgIjoAAAAAAAAAREQHAAAAAAAAgIjoAAAAAAAAABARHQAAAAAAAAAiogMAAAAAAABARHQAAAAA\n",
       "AAAAiIgOAAAAAAAAABHRAQAAAAAAACAiOgAAAAAAAABERAcAAAAAAACAiOgAAAAAAAAAEBEdAAAA\n",
       "AAAAACKiAwAAAAAAAEBEdAAAAAAAAACIiA4AAAAAAAAAEdEBAAAAAAAAICI6AAAAAAAAAEREBwAA\n",
       "AAAAAICI6AAAAAAAAAAQER0AAAAAAAAAIqIDAAAAAAAAQER0AAAAAAAAAIiIDgAAAAAAAAAR0QEA\n",
       "AAAAAAAgIjoAAAAAAAAAREQHAAAAAAAAgIjoAAAAAAAAABARHQAAAAAAAAAiogMAAAAAAABARHQA\n",
       "AAAAAAAAiIgOAAAAAAAAABHRAQAAAAAAACAiOgAAAAAAAABERAcAAAAAAACAiOgAAAAAAAAAEBEd\n",
       "AAAAAAAAACKiAwAAAAAAAEBEdAAAAAAAAACIiA4AAAAAAAAAEdEBAAAAAAAAICI6AAAAAAAAAERE\n",
       "BwAAAAAAAICI6AAAAAAAAAAQER0AAAAAAAAAIqIDAAAAAAAAQER0AAAAAAAAAIiIDgAAAAAAAAAR\n",
       "0QEAAAAAAAAgIjoAAAAAAAAAREQHAAAAAAAAgIjoAAAAAAAAABARHQAAAAAAAAAiogMAAAAAAABA\n",
       "RHQAAAAAAAAAiIgOAAAAAAAAABHRAQAAAAAAACAiOgAAAAAAAABERAcAAAAAAACAiOgAAAAAAAAA\n",
       "EBEdAAAAAAAAACKiAwAAAAAAAEBEdAAAAAAAAACIiA4AAAAAAAAAEdEBAAAAAAAAICI6AAAAAAAA\n",
       "AEREBwAAAAAAAICI6AAAAAAAAAAQER0AAAAAAAAAIqIDAAAAAAAAQER0AAAAAAAAAIiIDgAAAAAA\n",
       "AAAR0QEAAAAAAAAgIjoAAAAAAAAAREQHAAAAAAAAgIjoAAAAAAAAABARHQAAAAAAAAAiogMAAAAA\n",
       "AABARHQAAAAAAAAAiIgOAAAAAAAAABHRAQAAAAAAACAiOgAAAAAAAABERAcAAAAAAACAiOgAAAAA\n",
       "AAAAEBEdAAAAAAAAACKiAwAAAAAAAEBEdAAAAAAAAACIiA4AAAAAAAAAEdEBAAAAAAAAICI6AAAA\n",
       "AAAAAEREBwAAAAAAAICI6AAAAAAAAAAQER0AAAAAAAAAIqIDAAAAAAAAQER0AAAAAAAAAIiIDgAA\n",
       "AAAAAAAR0QEAAAAAAAAgIjoAAAAAAAAAREQHAAAAAAAAgIjoAAAAAAAAABARHQAAAAAAAAAiogMA\n",
       "AAAAAABARHQAAAAAAAAAiIgOAAAAAAAAABHRAQAAAAAAACAiOgAAAAAAAABERAcAAAAAAACAiOgA\n",
       "AAAAAAAAEBEdAAAAAAAAACKiAwAAAAAAAEBEdAAAAAAAAACIiA4AAAAAAAAAEdEBAAAAAAAAICI6\n",
       "AAAAAAAAAEREBwAAAAAAAICI6AAAAAAAAAAQER0AAAAAAAAAIqIDAAAAAAAAQER0AAAAAAAAAIiI\n",
       "DgAAAAAAAAAR0QEAAAAAAAAgIjoAAAAAAAAAREQHAAAAAAAAgIjoAAAAAAAAABARHQAAAAAAAAAi\n",
       "ogMAAAAAAABARHQAAAAAAAAAiIgOAAAAAAAAABHRAQAAAAAAACAiOgAAAAAAAABERAcAAAAAAACA\n",
       "iOgAAAAAAAAAEBEdAAAAAAAAACKiAwAAAAAAAEBEdAAAAAAAAACIiA4AAAAAAAAAEdEBAAAAAAAA\n",
       "ICI6AAAAAAAAAEREBwAAAAAAAICI6AAAAAAAAAAQER0AAAAAAAAAIqIDAAAAAAAAQER0AAAAAAAA\n",
       "AMjuejr/TY9gbfvXx/QEFvbx/j09gYUdT7fpCSzs7fM+PQFgxMt2mJ7Awn5+v6YnAAAAi9h2l+kJ\n",
       "T80THQAAAAAAAAAiogMAAAAAAABARHQAAAAAAAAAiIgOAAAAAAAAABHRAQAAAAAAACAiOgAAAAAA\n",
       "AABERAcAAAAAAACAiOgAAAAAAAAAEBEdAAAAAAAAACKiAwAAAAAAAEBEdAAAAAAAAACIiA4AAAAA\n",
       "AAAAEdEBAAAAAAAAICI6AAAAAAAAAEREBwAAAAAAAICI6AAAAAAAAAAQER0AAAAAAAAAIqIDAAAA\n",
       "AAAAQER0AAAAAAAAAIiIDgAAAAAAAAAR0QEAAAAAAAAgIjoAAAAAAAAAREQHAAAAAAAAgIjoAAAA\n",
       "AAAAABARHQAAAAAAAAAiogMAAAAAAABARHQAAAAAAAAAiIgOAAAAAAAAABHRAQAAAAAAACAiOgAA\n",
       "AAAAAABERAcAAAAAAACAiOgAAAAAAAAAEBEdAAAAAAAAACKiAwAAAAAAAEBEdAAAAAAAAACIiA4A\n",
       "AAAAAAAAEdEBAAAAAAAAICI6AAAAAAAAAEREBwAAAAAAAICI6AAAAAAAAAAQER0AAAAAAAAAIqID\n",
       "AAAAAAAAQER0AAAAAAAAAIiIDgAAAAAAAAAR0QEAAAAAAAAgIjoAAAAAAAAAREQHAAAAAAAAgIjo\n",
       "AAAAAAAAABARHQAAAAAAAAAiogMAAAAAAABARHQAAAAAAAAAiIgOAAAAAAAAABHRAQAAAAAAACAi\n",
       "OgAAAAAAAABERAcAAAAAAACAiOgAAAAAAAAAEBEdAAAAAAAAACKiAwAAAAAAAEBEdAAAAAAAAACI\n",
       "iA4AAAAAAAAAEdEBAAAAAAAAICI6AAAAAAAAAEREBwAAAAAAAICI6AAAAAAAAAAQER0AAAAAAAAA\n",
       "IqIDAAAAAAAAQER0AAAAAAAAAIiIDgAAAAAAAAAR0QEAAAAAAAAgIjoAAAAAAAAAREQHAAAAAAAA\n",
       "gIjoAAAAAAAAABARHQAAAAAAAAAiogMAAAAAAABARHQAAAAAAAAAiIgOAAAAAAAAABHRAQAAAAAA\n",
       "ACAiOgAAAAAAAABERAcAAAAAAACAiOgAAAAAAAAAEBEdAAAAAAAAACKiAwAAAAAAAEBEdAAAAAAA\n",
       "AACIiA4AAAAAAAAAEdEBAAAAAAAAICI6AAAAAAAAAEREBwAAAAAAAICI6AAAAAAAAAAQER0AAAAA\n",
       "AAAAIqIDAAAAAAAAQER0AAAAAAAAAIiIDgAAAAAAAAAR0QEAAAAAAAAgIjoAAAAAAAAAREQHAAAA\n",
       "AAAAgIjoAAAAAAAAABARHQAAAAAAAAAiogMAAAAAAABARHQAAAAAAAAAiIgOAAAAAAAAABHRAQAA\n",
       "AAAAACAiOgAAAAAAAABERAcAAAAAAACAiBd8On8AABdvSURBVOgAAAAAAAAAEBEdAAAAAAAAACKi\n",
       "AwAAAAAAAEBEdAAAAAAAAACIiA4AAAAAAAAAEdEBAAAAAAAAICI6AAAAAAAAAEREBwAAAAAAAICI\n",
       "6AAAAAAAAAAQER0AAAAAAAAAIqIDAAAAAAAAQER0AAAAAAAAAIiIDgAAAAAAAAAR0QEAAAAAAAAg\n",
       "IjoAAAAAAAAAREQHAAAAAAAAgIjoAAAAAAAAABARHQAAAAAAAAAiogMAAAAAAABARHQAAAAAAAAA\n",
       "iIgOAAAAAAAAABHRAQAAAAAAACAiOgAAAAAAAABERAcAAAAAAACAiOgAAAAAAAAAEBEdAAAAAAAA\n",
       "ACKiAwAAAAAAAEBEdAAAAAAAAACIiA4AAAAAAAAAEdEBAAAAAAAAICI6AAAAAAAAAEREBwAAAAAA\n",
       "AICI6AAAAAAAAAAQER0AAAAAAAAAIqIDAAAAAAAAQER0AAAAAAAAAIiIDgAAAAAAAAAR0QEAAAAA\n",
       "AAAgIjoAAAAAAAAAREQHAAAAAAAAgIjoAAAAAAAAABARHQAAAAAAAAAiogMAAAAAAABARHQAAAAA\n",
       "AAAAiIgOAAAAAAAAABHRAQAAAAAAACAiOgAAAAAAAABERAcAAAAAAACAiOgAAAAAAAAAEBEdAAAA\n",
       "AAAAACKiAwAAAAAAAEBEdAAAAAAAAACIiA4AAAAAAAAAEdEBAAAAAAAAICI6AAAAAAAAAEREBwAA\n",
       "AAAAAICI6AAAAAAAAAAQER0AAAAAAAAAIqIDAAAAAAAAQER0AAAAAAAAAIiIDgAAAAAAAAAR0QEA\n",
       "AAAAAAAgIjoAAAAAAAAAREQHAAAAAAAAgIjoAAAAAAAAABARHQAAAAAAAAAiogMAAAAAAABARHQA\n",
       "AAAAAAAAiIgOAAAAAAAAABHRAQAAAAAAACAiOgAAAAAAAABERAcAAAAAAACAiOgAAAAAAAAAEBEd\n",
       "AAAAAAAAACKiAwAAAAAAAEBEdAAAAAAAAACIiA4AAAAAAAAAEdEBAAAAAAAAICI6AAAAAAAAAERE\n",
       "BwAAAAAAAICI6AAAAAAAAAAQER0AAAAAAAAAIqIDAAAAAAAAQER0AAAAAAAAAIiIDgAAAAAAAAAR\n",
       "0QEAAAAAAAAgIjoAAAAAAAAAREQHAAAAAAAAgIjoAAAAAAAAABARHQAAAAAAAAAiogMAAAAAAABA\n",
       "RHQAAAAAAAAAiIgOAAAAAAAAABHRAQAAAAAAACAiOgAAAAAAAABERAcAAAAAAACAiOgAAAAAAAAA\n",
       "EBEdAAAAAAAAACKiAwAAAAAAAEBEdAAAAAAAAACIiA4AAAAAAAAAEdEBAAAAAAAAICI6AAAAAAAA\n",
       "AEREBwAAAAAAAICI6AAAAAAAAAAQER0AAAAAAAAAIqIDAAAAAAAAQER0AAAAAAAAAIiIDgAAAAAA\n",
       "AAAR0QEAAAAAAAAgIjoAAAAAAAAAREQHAAAAAAAAgIjoAAAAAAAAABARHQAAAAAAAAAiogMAAAAA\n",
       "AABARHQAAAAAAAAAiIgOAAAAAAAAABHRAQAAAAAAACAiOgAAAAAAAABERAcAAAAAAACAiOgAAAAA\n",
       "AAAAEBEdAAAAAAAAACKiAwAAAAAAAEBEdAAAAAAAAACIiA4AAAAAAAAAEdEBAAAAAAAAICI6AAAA\n",
       "AAAAAEREBwAAAAAAAICI6AAAAAAAAAAQER0AAAAAAAAAIqIDAAAAAAAAQER0AAAAAAAAAIiIDgAA\n",
       "AAAAAAAR0QEAAAAAAAAgIjoAAAAAAAAAREQHAAAAAAAAgIjoAAAAAAAAABARHQAAAAAAAAAiogMA\n",
       "AAAAAABARHQAAAAAAAAAiIgOAAAAAAAAABHRAQAAAAAAACAiOgAAAAAAAABERAcAAAAAAACAiOgA\n",
       "AAAAAAAAEBEdAAAAAAAAACKiAwAAAAAAAEBEdAAAAAAAAACIiA4AAAAAAAAAEdEBAAAAAAAAICI6\n",
       "AAAAAAAAAEREBwAAAAAAAICI6AAAAAAAAAAQER0AAAAAAAAAIqIDAAAAAAAAQER0AAAAAAAAAIiI\n",
       "DgAAAAAAAAAR0QEAAAAAAAAgIjoAAAAAAAAAREQHAAAAAAAAgIjoAAAAAAAAABARHQAAAAAAAAAi\n",
       "ogMAAAAAAABARHQAAAAAAAAAiIgOAAAAAAAAABHRAQAAAAAAACAiOgAAAAAAAABERAcAAAAAAACA\n",
       "iOgAAAAAAAAAEBEdAAAAAAAAACKiAwAAAAAAAEBEdAAAAAAAAACIiA4AAAAAAAAAEdEBAAAAAAAA\n",
       "ICI6AAAAAAAAAEREBwAAAAAAAICI6AAAAAAAAAAQER0AAAAAAAAAIqIDAAAAAAAAQER0AAAAAAAA\n",
       "AIiIDgAAAAAAAAAR0QEAAAAAAAAgIjoAAAAAAAAAREQHAAAAAAAAgIjoAAAAAAAAABARHQAAAAAA\n",
       "AAAiogMAAAAAAABARHQAAAAAAAAAiIgOAAAAAAAAABHRAQAAAAAAACAiOgAAAAAAAABERAcAAAAA\n",
       "AACAiOgAAAAAAAAAEBEdAAAAAAAAACKiAwAAAAAAAEBEdAAAAAAAAACIiA4AAAAAAMB/u3Zog1AQ\n",
       "AFEwl6CgoF8JnupoAUE/JCgchhAwrwTIiZupYP1bACKiAwAAAAAAAEBEdAAAAAAAAACIiA4AAAAA\n",
       "AAAAEdEBAAAAAAAAICI6AAAAAAAAAEREBwAAAAAAAICI6AAAAAAAAAAQER0AAAAAAAAAIqIDAAAA\n",
       "AAAAQER0AAAAAAAAAIiIDgAAAAAAAAAR0QEAAAAAAAAgIjoAAAAAAAAAREQHAAAAAAAAgIjoAAAA\n",
       "AAAAABARHQAAAAAAAAAiogMAAAAAAABARHQAAAAAAAAAiIgOAAAAAAAAABHRAQAAAAAAACAiOgAA\n",
       "AAAAAABERAcAAAAAAACAiOgAAAAAAAAAEBEdAAAAAAAAACKiAwAAAAAAAEBEdAAAAAAAAACIiA4A\n",
       "AAAAAAAAEdEBAAAAAAAAICI6AAAAAAAAAEREBwAAAAAAAICI6AAAAAAAAAAQER0AAAAAAAAAIqID\n",
       "AAAAAAAAQER0AAAAAAAAAIiIDgAAAAAAAAAR0QEAAAAAAAAgIjoAAAAAAAAAREQHAAAAAAAAgIjo\n",
       "AAAAAAAAABARHQAAAAAAAAAiogMAAAAAAABARHQAAAAAAAAAiIgOAAAAAAAAABHRAQAAAAAAACAi\n",
       "OgAAAAAAAABERAcAAAAAAACAiOgAAAAAAAAAEBEdAAAAAAAAACKiAwAAAAAAAEBEdAAAAAAAAACI\n",
       "iA4AAAAAAAAAEdEBAAAAAAAAICI6AAAAAAAAAEREBwAAAAAAAICI6AAAAAAAAAAQER0AAAAAAAAA\n",
       "IqIDAAAAAAAAQER0AAAAAAAAAIiIDgAAAAAAAAAZ1+34mT2C/3q9fSWYacwewMLuz8PsCSzsctvP\n",
       "nsDCzo9t9gQAWM5unGZPAAAAfkRdBQAAAAAAAICI6AAAAAAAAAAQER0AAAAAAAAAIqIDAAAAAAAA\n",
       "QER0AAAAAAAAAIiIDgAAAAAAAAAR0QEAAAAAAAAgIjoAAAAAAAAAREQHAAAAAAAAgIjoAAAAAAAA\n",
       "ABARHQAAAAAAAAAiogMAAAAAAABARHQAAAAAAAAAiIgOAAAAAAAAABHRAQAAAAAAACAiOgAAAAAA\n",
       "AABERAcAAAAAAACAiOgAAAAAAAAAEBEdAAAAAAAAACKiAwAAAAAAAEBEdAAAAAAAAACIiA4AAAAA\n",
       "AAAAEdEBAAAAAAAAICI6AAAAAAAAAEREBwAAAAAAAICI6AAAAAAAAAAQER0AAAAAAAAAIqIDAAAA\n",
       "AAAAQER0AAAAAAAAAIiIDgAAAAAAAAAR0QEAAAAAAAAgIjoAAAAAAAAAREQHAAAAAAAAgIjoAAAA\n",
       "AAAAABARHQAAAAAAAAAiogMAAAAAAABARHQAAAAAAAAAiIgOAAAAAAAAABHRAQAAAAAAACAiOgAA\n",
       "AAAAAABERAcAAAAAAACAiOgAAAAAAAAAEBEdAAAAAAAAACKiAwAAAAAAAEBEdAAAAAAAAACIiA4A\n",
       "AAAAAAAAEdEBAAAAAAAAICI6AAAAAAAAAEREBwAAAAAAAICI6AAAAAAAAAAQER0AAAAAAAAAIqID\n",
       "AAAAAAAAQER0AAAAAAAAAIiIDgAAAAAAAAAR0QEAAAAAAAAgIjoAAAAAAAAAREQHAAAAAAAAgIjo\n",
       "AAAAAAAAABARHQAAAAAAAAAiogMAAAAAAABARHQAAAAAAAAAiIgOAAAAAAAAABHRAQAAAAAAACAi\n",
       "OgAAAAAAAABERAcAAAAAAACAiOgAAAAAAAAAEBEdAAAAAAAAACKiAwAAAAAAAEBEdAAAAAAAAACI\n",
       "iA4AAAAAAAAAEdEBAAAAAAAAICI6AAAAAAAAAEREBwAAAAAAAICI6AAAAAAAAAAQER0AAAAAAAAA\n",
       "IqIDAAAAAAAAQER0AAAAAAAAAIiIDgAAAAAAAAAR0QEAAAAAAAAgIjoAAAAAAAAAREQHAAAAAAAA\n",
       "gIjoAAAAAAAAABARHQAAAAAAAAAiogMAAAAAAABARHQAAAAAAAAAiIgOAAAAAAAAABHRAQAAAAAA\n",
       "ACAiOgAAAAAAAABERAcAAAAAAACAiOgAAAAAAAAAEBEdAAAAAAAAACKiAwAAAAAAAEBEdAAAAAAA\n",
       "AACIiA4AAAAAAAAAEdEBAAAAAAAAICI6AAAAAAAAAEREBwAAAAAAAICI6AAAAAAAAAAQER0AAAAA\n",
       "AAAAIqIDAAAAAAAAQER0AAAAAAAAAIiIDgAAAAAAAAAR0QEAAAAAAAAgIjoAAAAAAAAAREQHAAAA\n",
       "AAAAgIjoAAAAAAAAABARHQAAAAAAAAAiogMAAAAAAABARHQAAAAAAAAAiIgOAAAAAAAAABHRAQAA\n",
       "AAAAACAiOgAAAAAAAABERAcAAAAAAACAiOgAAAAAAAAAEBEdAAAAAAAAACKiAwAAAAAAAEBEdAAA\n",
       "AAAAAACIiA4AAAAAAAAAEdEBAAAAAAAAICI6AAAAAAAAAEREBwAAAAAAAICI6AAAAAAAAAAQER0A\n",
       "AAAAAAAAIqIDAAAAAAAAQER0AAAAAAAAAIiIDgAAAAAAAAAR0QEAAAAAAAAgIjoAAAAAAAAAREQH\n",
       "AAAAAAAAgIjoAAAAAAAAABARHQAAAAAAAAAiogMAAAAAAABARHQAAAAAAAAAiIgOAAAAAAAAABHR\n",
       "AQAAAAAAACAiOgAAAAAAAABERAcAAAAAAACAiOgAAAAAAAAAEBEdAAAAAAAAACKiAwAAAAAAAEBE\n",
       "dAAAAAAAAACIiA4AAAAAAAAAEdEBAAAAAAAAICI6AAAAAAAAAEREBwAAAAAAAICI6AAAAAAAAAAQ\n",
       "ER0AAAAAAAAAIqIDAAAAAAAAQER0AAAAAAAAAIiIDgAAAAAAAAAR0QEAAAAAAAAgIjoAAAAAAAAA\n",
       "REQHAAAAAAAAgIjoAAAAAAAAABARHQAAAAAAAAAiogMAAAAAAABARHQAAAAAAAAAiIgOAAAAAAAA\n",
       "ABHRAQAAAAAAACAiOgAAAAAAAABERAcAAAAAAACAiOgAAAAAAAAAEBEdAAAAAAAAACKiAwAAAAAA\n",
       "AEBEdAAAAAAAAACIiA4AAAAAAAAAEdEBAAAAAAAAICI6AAAAAAAAAEREBwAAAAAAAICI6AAAAAAA\n",
       "AAAQER0AAAAAAAAAIqIDAAAAAAAAQER0AAAAAAAAAIiIDgAAAAAAAAAR0QEAAAAAAAAgIjoAAAAA\n",
       "AAAAREQHAAAAAAAAgIjoAAAAAAAAABARHQAAAAAAAAAiogMAAAAAAABARHQAAAAAAAAAiIgOAAAA\n",
       "AAAAABHRAQAAAAAAACAiOgAAAAAAAABERAcAAAAAAACAiOgAAAAAAAAAEBEdAAAAAAAAACKiAwAA\n",
       "AAAAAEBEdAAAAAAAAACIiA4AAAAAAAAAEdEBAAAAAAAAICI6AAAAAAAAAEREBwAAAAAAAICI6AAA\n",
       "AAAAAAAQER0AAAAAAAAAIqIDAAAAAAAAQER0AAAAAAAAAIiIDgAAAAAAAAAR0QEAAAAAAAAgIjoA\n",
       "AAAAAAAAREQHAAAAAAAAgIjoAAAAAAAAABARHQAAAAAAAAAiogMAAAAAAABARHQAAAAAAAAAiIgO\n",
       "AAAAAAAAABHRAQAAAAAAACAiOgAAAAAAAABERAcAAAAAAACAiOgAAAAAAAAAEBEdAAAAAAAAACKi\n",
       "AwAAAAAAAEBEdAAAAAAAAACIiA4AAAAAAAAAEdEBAAAAAAAAICI6AAAAAAAAAEREBwAAAAAAAICI\n",
       "6AAAAAAAAAAQER0AAAAAAAAAIqIDAAAAAAAAQER0AAAAAAAAAIiIDgAAAAAAAAAR0QEAAAAAAAAg\n",
       "IjoAAAAAAAAAREQHAAAAAAAAgIjoAAAAAAAAABARHQAAAAAAAAAiogMAAAAAAABARHQAAAAAAAAA\n",
       "iIgOAAAAAAAAABHRAQAAAAAAACAiOgAAAAAAAABERAcAAAAAAACAiOgAAAAAAAAAEBEdAAAAAAAA\n",
       "ACKiAwAAAAAAAEBEdAAAAAAAAACIiA4AAAAAAAAAEdEBAAAAAAAAICI6AAAAAAAAAEREBwAAAAAA\n",
       "AICI6AAAAAAAAAAQER0AAAAAAAAAIqIDAAAAAAAAQER0AAAAAAAAAIiIDgAAAAAAAAAR0QEAAAAA\n",
       "AAAgIjoAAAAAAAAAREQHAAAAAAAAgIjoAAAAAAAAABARHQAAAAAAAAAiogMAAAAAAABARHQAAAAA\n",
       "AAAAiIgOAAAAAAAAABHRAQAAAAAAACAiOgAAAAAAAABERAcAAAAAAACAiOgAAAAAAAAAEBEdAAAA\n",
       "AAAAACKiAwAAAAAAAEBEdAAAAAAAAACIiA4AAAAAAAAAEdEBAAAAAAAAICI6AAAAAAAAAEREBwAA\n",
       "AAAAAICI6AAAAAAAAAAQER0AAAAAAAAAIqIDAAAAAAAAQER0AAAAAAAAAIiIDgAAAAAAAAAR0QEA\n",
       "AAAAAAAgIjoAAAAAAAAAREQHAAAAAAAAgIjoAAAAAAAAABARHQAAAAAAAAAiogMAAAAAAABARHQA\n",
       "AAAAAAAAiIgOAAAAAAAAABHRAQAAAAAAACAiOgAAAAAAAABERAcAAAAAAACAiOgAAAAAAAAAEBEd\n",
       "AAAAAAAAACKiAwAAAAAAAEBEdAAAAAAAAACIiA4AAAAAAAAAEdEBAAAAAAAAICI6AAAAAAAAAERE\n",
       "BwAAAAAAAICI6AAAAAAAAAAQER0AAAAAAAAAIqIDAAAAAAAAQER0AAAAAAAAAIiIDgAAAAAAAAAR\n",
       "0QEAAAAAAAAgIjoAAAAAAAAAREQHAAAAAAAAgIjoAAAAAAAAABARHQAAAAAAAAAiogMAAAAAAABA\n",
       "RHQAAAAAAAAAiIgOAAAAAAAAABHRAQAAAAAAACAiOgAAAAAAAABERAcAAAAAAACAiOgAAAAAAAAA\n",
       "EBEdAAAAAAAAACKiAwAAAAAAAEBEdAAAAAAAAACIiA4AAAAAAAAAEdEBAAAAAAAAICI6AAAAAAAA\n",
       "AEREBwAAAAAAAICI6AAAAAAAAAAQER0AAAAAAAAAIqIDAAAAAAAAQER0AAAAAAAAAIiIDgAAAAAA\n",
       "AAAR0QEAAAAAAAAgIjoAAAAAAAAAREQHAAAAAAAAgIjoAAAAAAAAABARHQAAAAAAAAAiogMAAAAA\n",
       "AABARHQAAAAAAAAAiIgOAAAAAAAAABHRAQAAAAAAACAiOgAAAAAAAABERAcAAAAAAACAiOgAAAAA\n",
       "AAAAEBEdAAAAAAAAACKiAwAAAAAAAEBEdAAAAAAAAACIiA4AAAAAAAAAEdEBAAAAAAAAICI6AAAA\n",
       "AAAAAEREBwAAAAAAAICI6AAAAAAAAAAQER0AAAAAAAAAIqIDAAAAAAAAQER0AAAAAAAAAIiIDgAA\n",
       "AAAAAAAR0QEAAAAAAAAgIjoAAAAAAAAAREQHAAAAAAAAgIjoAAAAAAAAABARHQAAAAAAAAAiogMA\n",
       "AAAAAABARHQAAAAAAAAAiIgOAAAAAAAAABHRAQAAAAAAACAiOgAAAAAAAABERAcAAAAAAACAiOgA\n",
       "AAAAAAAAEBEdAAAAAAAAACKiAwAAAAAAAEBEdAAAAAAAAACIiA4AAAAAAAAA+QKO0Tri2DWvEQAA\n",
       "AABJRU5ErkJggg==\n",
       "\" transform=\"translate(112, 47)\"/>\n",
       "</g>\n",
       "<defs>\n",
       "  <clipPath id=\"clip963\">\n",
       "    <rect x=\"2160\" y=\"47\" width=\"73\" height=\"1440\"/>\n",
       "  </clipPath>\n",
       "</defs>\n",
       "<g clip-path=\"url(#clip963)\">\n",
       "<image width=\"72\" height=\"1439\" xlink:href=\"data:image/png;base64,\n",
       "iVBORw0KGgoAAAANSUhEUgAAAEgAAAWfCAYAAAAI7rB3AAAMWUlEQVR4nO3dwY0rRxAFwaZQ/lsh\n",
       "L6XfLQtUeSQPERYsEg8c9MyQ+/n3/v0O/+uvb/8Bv06gIFAQKAgU5r5/v/03/DQLCgIFgYJAQaAw\n",
       "7/359t/w0ywoCBQECgIFR41gQUGgIFAQKAgU5rmKrSwoCBQECgIFgcK86yq2saAgUBAoCBQcNYIF\n",
       "BYGCQEGgIFBwFQsWFAQKAgWBgvtBwYKCQEGgIFAQKMxx1FhZUBAoCBQECgIFN8yCBQWBgkBBoDDH\n",
       "DbOVBQWBgkBBoCBQmHP/+fbf8NMsKAgUBAoCBYGCxz7BgoJAQaAgUHDDLFhQECgIFAQKAgVXsWBB\n",
       "QaAgUBAouB8ULCgIFAQKAgWBwnwcNVYWFAQKAgWBgkBhzvWfWTYWFAQKAgWBgqNGsKAgUBAoCBQE\n",
       "Co4awYKCQEGgIFAQKHjDLFhQECgIFAQK83HUWFlQECgIFAQKAgXvSQcLCgIFgYJAwVEjWFAQKAgU\n",
       "BAoCBc/mgwUFgYJAQaAgUHAWCxYUBAoCBYGCo0awoCBQECgIFAQKjhrBgoJAQaAgUBAozLn323/D\n",
       "T7OgIFAQKAgUHDWCBQWBgkBBoCBQ8NgnWFAQKAgUBAo+pIMFBYGCQEGgIFCYj6caKwsKAgWBgkBB\n",
       "oOAsFiwoCBQECgIFL1AFCwoCBYGCQEGg4IZZsKAgUBAoCBTcDwoWFAQKAgWBgkDBDbNgQUGgIFAQ\n",
       "KAgUXMWCBQWBgkBBoOB788GCgkBBoCBQECg4agQLCgIFgYJAQaDgKhYsKAgUBAoCBR/SwYKCQEGg\n",
       "IFAQKLiKBQsKAgWBgkBhzvMhvbGgIFAQKAgUBAqOGsGCgkBBoCBQECi4igULCgIFgYJAwYd0sKAg\n",
       "UBAoCBQECnPu+/bf8NMsKAgUBAoCBYGCs1iwoCBQECgIFBw1ggUFgYJAQaAgUHDUCBYUBAoCBYGC\n",
       "o0awoCBQECgIFAQKc5w0VhYUBAoCBYGCQGHOcxbbWFAQKAgUBAqOGsGCgkBBoCBQECi4igULCgIF\n",
       "gYJAQaAwfohzZ0FBoCBQECg4agQLCgIFgYJAQaDgKhYsKAgUBAoChTn38+2/4adZUBAoCBQECgKF\n",
       "ec9VbGNBQaAgUBAoCBTcMAsWFAQKAgWBghtmwYKCQEGgIFAQKMy7Gm3UCQIFgYJAwVEjWFAQKAgU\n",
       "BAoChTmeza8sKAgUBAoCBYHCPGexlQUFgYJAQaAwx1ONlTpBoCBQECgIFBw1ggUFgYJAQaAgUPDY\n",
       "J1hQECgIFAQKXgMO6gSBgkBBoCBQ8J50sKAgUBAoCBQ81QgWFAQKAgWBgkBh3tNoo04QKAgUBAoC\n",
       "BTfMggUFgYJAQaDghlmwoCBQECgIFAQKc9wwW6kTBAoCBYGCQMFZLFhQECgIFAQKPqSDBQWBgkBB\n",
       "oCBQ8L35YEFBoCBQECj43nxQJwgUBAoCBYHCPEeNlQUFgYJAQaAgUPDYJ1hQECgIFAQK/jNLUCcI\n",
       "FAQKAgWBghtmwYKCQEGgIFAQKLhhFiwoCBQECgIFR41gQUGgIFAQKAgUvCcd1AkCBYGCQMFRI1hQ\n",
       "ECgIFAQKAgVPNYIFBYGCQEGgIFBwFgsWFAQKAgWBgn+fFSwoCBQECgIFgYJ/ZRzUCQIFgYJAQaDg\n",
       "hlmwoCBQECgIFDybDxYUBAoCBYGCQMFRI1hQECgIFAQKc31IrywoCBQECgIFgYLvzQd1gkBBoCBQ\n",
       "ECi4YRYsKAgUBAoCBR/SwYKCQEGgIFAQKHjDLFhQECgIFAQKjhrBgoJAQaAgUBAouIoFCwoCBYGC\n",
       "QEGg4NdfgjpBoCBQECjM9VRjZUFBoCBQECgIFNwwCxYUBAoCBYGCQMFVLFhQECgIFAQKPqSDBQWB\n",
       "gkBBoCBQ8BtmwYKCQEGgIFBw1AgWFAQKAgWBgkDBVSxYUBAoCBQECgIFX2YJ6gSBgkBBoODLLMGC\n",
       "gkBBoCBQECi4YRYsKAgUBAoCBYGCq1iwoCBQECgIFLwGHCwoCBQECgIFgYKjRrCgIFAQKAgU5h0f\n",
       "0hsLCgIFgYJAQaDghlmwoCBQECgIFAQKbpgFCwoCBYGCQMFRI1hQECgIFAQKAgVHjWBBQaAgUBAo\n",
       "CBScxYIFBYGCQEGg4KgRLCgIFAQKAgWBgqtYsKAgUBAoCBTm+jLLyoKCQEGgIFAQKDhqBAsKAgWB\n",
       "gkBBoODZfLCgIFAQKAgU5r1v/wm/zYKCQEGgIFAQKDhqBAsKAgWBgkDBD00GCwoCBYGCQEGg4KgR\n",
       "LCgIFAQKAgWBgjfMggUFgYJAQaDgyyzBgoJAQaAgUBAoeMMsWFAQKAgUBAoCBY99ggUFgYJAQaDg\n",
       "qUawoCBQECgIFAQKHvsECwoCBYGCQMH9oGBBQaAgUBAoCBQ8mw8WFAQKAgWBgkDBDbNgQUGgIFAQ\n",
       "KHg2HywoCBQECgIFgcLcb/8FP86CgkBBoCBQECg4iwULCgIFgYJAwRtmwYKCQEGgIFAQKLhhFiwo\n",
       "CBQECgIF94OCBQWBgkBBoCBQcNQIFhQECgIFgYJAwVksWFAQKAgUBAqezQcLCgIFgYJAQaAwfvxl\n",
       "Z0FBoCBQECgIFJzFggUFgYJAQaDg2XywoCBQECgIFAQKns0HCwoCBYGCQMFRI1hQECgIFAQKAgVH\n",
       "jWBBQaAgUBAoCBTmesVsZUFBoCBQECi4YRYsKAgUBAoCBYGCG2bBgoJAQaAgUHDUCBYUBAoCBYGC\n",
       "QGGepxorCwoCBYGCQEGgMPe4YbaxoCBQECgIFLxAFSwoCBQECgIFgYIfmgwWFAQKAgWBgkDBD00G\n",
       "CwoCBYGCQMGz+WBBQaAgUBAoCBS8Jx0sKAgUBAoCBd84DBYUBAoCBYGCQMFRI1hQECgIFAQKAgXv\n",
       "SQcLCgIFgYJAwWvAwYKCQEGgIFAQKDhqBAsKAgWBgkBBoOA96WBBQaAgUBAo+ImuYEFBoCBQECgI\n",
       "FNwwCxYUBAoCBYGCZ/PBgoJAQaAgUBAoOGoECwoCBYGCQEGg4CwWLCgIFAQKAgVHjWBBQaAgUBAo\n",
       "CBRcxYIFBYGCQEGgIFBwwyxYUBAoCBQECo4awYKCQEGgIFAQKDhqBAsKAgWBgkDBUSNYUBAoCBQE\n",
       "CgIFP9EVLCgIFAQKAgWBgv8vFiwoCBQECgIFN8yCBQWBgkBBoCBQmHdcxjYWFAQKAgWBgkDBWSxY\n",
       "UBAoCBQECp7NBwsKAgWBgkBBoODZfLCgIFAQKAgU3A8KFhQECgIFgYJAwbP5YEFBoCBQECgIFJzF\n",
       "ggUFgYJAQaDgJ7qCBQWBgkBBoCBQmOsVs5UFBYGCQEGg4AWqYEFBoCBQECgIFOY5aqwsKAgUBAoC\n",
       "BYGCs1iwoCBQECgIFDzVCBYUBAoCBYGCQMEbZsGCgkBBoCBQECjM9ZXMlQUFgYJAQaDghlmwoCBQ\n",
       "ECgIFAQKfv0lWFAQKAgUBApeoAoWFAQKAgWBgkDBU41gQUGgIFAQKAgU3DALFhQECgIFgcLc45bZ\n",
       "xoKCQEGgIFAQKLhhFiwoCBQECgIFgYKrWLCgIFAQKAgUPNUIFhQECgIFgYJAwWOfYEFBoCBQECjM\n",
       "/ThqbCwoCBQECgIFgYKjRrCgIFAQKAgUBArzXMVWFhQECgIFgYKjRrCgIFAQKAgUBApzP65iGwsK\n",
       "AgWBgkBBoOAsFiwoCBQECgIFTzWCBQWBgkBBoCBQcNQIFhQECgIFgYIP6WBBQaAgUBAoCBQ8mw8W\n",
       "FAQKAgWBgkBh3vnz7b/hp1lQECgIFAQKbpgFCwoCBYGCQEGg4A2zYEFBoCBQECjMfe4HbSwoCBQE\n",
       "CgIFgYKjRrCgIFAQKAgUBApzPZtfWVAQKAgUBAqOGsGCgkBBoCBQECg4agQLCgIFgYJAQaAw7zmL\n",
       "bSwoCBQECgIFN8yCBQWBgkBBoCBQ8J50sKAgUBAoCBQcNYIFBYGCQEGgIFCY56ixsqAgUBAoCBQE\n",
       "Cs5iwYKCQEGgIFCY6wWqlQUFgYJAQaAgUPCb9sGCgkBBoCBQECj4MkuwoCBQECgIFDzVCBYUBAoC\n",
       "BYGCQMFRI1hQECgIFAQKPqSDBQWBgkBBoCBQ8Gw+WFAQKAgUBAoCBWexYEFBoCBQECjM8Wx+ZUFB\n",
       "oCBQECgIFBw1ggUFgYJAQaAgUPCedLCgIFAQKAgU5jhqrCwoCBQECgIFgYI3zIIFBYGCQEGg4Nl8\n",
       "sKAgUBAoCBQECm6YBQsKAgWBgkBBoDDvvG//DT/NgoJAQaAgUHDDLFhQECgIFAQKAoU5jhorCwoC\n",
       "BYGCQOE/LrLuTX/wFc8AAAAASUVORK5CYII=\n",
       "\" transform=\"translate(2161, 47)\"/>\n",
       "</g>\n",
       "<path clip-path=\"url(#clip960)\" d=\"M2268.76 1483.27 L2298.43 1483.27 L2298.43 1487.21 L2268.76 1487.21 L2268.76 1483.27 Z\" fill=\"#000000\" fill-rule=\"evenodd\" fill-opacity=\"1\" /><path clip-path=\"url(#clip960)\" d=\"M2309.33 1496.16 L2316.97 1496.16 L2316.97 1469.8 L2308.66 1471.46 L2308.66 1467.21 L2316.93 1465.54 L2321.6 1465.54 L2321.6 1496.16 L2329.24 1496.16 L2329.24 1500.1 L2309.33 1500.1 L2309.33 1496.16 Z\" fill=\"#000000\" fill-rule=\"evenodd\" fill-opacity=\"1\" /><path clip-path=\"url(#clip960)\" d=\"M2348.69 1468.62 Q2345.07 1468.62 2343.25 1472.18 Q2341.44 1475.72 2341.44 1482.85 Q2341.44 1489.96 2343.25 1493.53 Q2345.07 1497.07 2348.69 1497.07 Q2352.32 1497.07 2354.13 1493.53 Q2355.95 1489.96 2355.95 1482.85 Q2355.95 1475.72 2354.13 1472.18 Q2352.32 1468.62 2348.69 1468.62 M2348.69 1464.91 Q2354.5 1464.91 2357.55 1469.52 Q2360.63 1474.1 2360.63 1482.85 Q2360.63 1491.58 2357.55 1496.19 Q2354.5 1500.77 2348.69 1500.77 Q2342.88 1500.77 2339.8 1496.19 Q2336.74 1491.58 2336.74 1482.85 Q2336.74 1474.1 2339.8 1469.52 Q2342.88 1464.91 2348.69 1464.91 Z\" fill=\"#000000\" fill-rule=\"evenodd\" fill-opacity=\"1\" /><path clip-path=\"url(#clip960)\" d=\"M2378.85 1468.62 Q2375.24 1468.62 2373.41 1472.18 Q2371.6 1475.72 2371.6 1482.85 Q2371.6 1489.96 2373.41 1493.53 Q2375.24 1497.07 2378.85 1497.07 Q2382.48 1497.07 2384.29 1493.53 Q2386.12 1489.96 2386.12 1482.85 Q2386.12 1475.72 2384.29 1472.18 Q2382.48 1468.62 2378.85 1468.62 M2378.85 1464.91 Q2384.66 1464.91 2387.71 1469.52 Q2390.79 1474.1 2390.79 1482.85 Q2390.79 1491.58 2387.71 1496.19 Q2384.66 1500.77 2378.85 1500.77 Q2373.04 1500.77 2369.96 1496.19 Q2366.9 1491.58 2366.9 1482.85 Q2366.9 1474.1 2369.96 1469.52 Q2373.04 1464.91 2378.85 1464.91 Z\" fill=\"#000000\" fill-rule=\"evenodd\" fill-opacity=\"1\" /><path clip-path=\"url(#clip960)\" d=\"M2268.76 1303.37 L2298.43 1303.37 L2298.43 1307.31 L2268.76 1307.31 L2268.76 1303.37 Z\" fill=\"#000000\" fill-rule=\"evenodd\" fill-opacity=\"1\" /><path clip-path=\"url(#clip960)\" d=\"M2307.34 1285.64 L2329.57 1285.64 L2329.57 1287.63 L2317.02 1320.2 L2312.14 1320.2 L2323.94 1289.57 L2307.34 1289.57 L2307.34 1285.64 Z\" fill=\"#000000\" fill-rule=\"evenodd\" fill-opacity=\"1\" /><path clip-path=\"url(#clip960)\" d=\"M2338.73 1285.64 L2357.09 1285.64 L2357.09 1289.57 L2343.01 1289.57 L2343.01 1298.05 Q2344.03 1297.7 2345.05 1297.54 Q2346.07 1297.35 2347.09 1297.35 Q2352.88 1297.35 2356.26 1300.52 Q2359.64 1303.69 2359.64 1309.11 Q2359.64 1314.69 2356.16 1317.79 Q2352.69 1320.87 2346.37 1320.87 Q2344.2 1320.87 2341.93 1320.5 Q2339.68 1320.13 2337.27 1319.39 L2337.27 1314.69 Q2339.36 1315.82 2341.58 1316.38 Q2343.8 1316.93 2346.28 1316.93 Q2350.28 1316.93 2352.62 1314.83 Q2354.96 1312.72 2354.96 1309.11 Q2354.96 1305.5 2352.62 1303.39 Q2350.28 1301.29 2346.28 1301.29 Q2344.4 1301.29 2342.53 1301.7 Q2340.68 1302.12 2338.73 1303 L2338.73 1285.64 Z\" fill=\"#000000\" fill-rule=\"evenodd\" fill-opacity=\"1\" /><path clip-path=\"url(#clip960)\" d=\"M2268.76 1123.47 L2298.43 1123.47 L2298.43 1127.4 L2268.76 1127.4 L2268.76 1123.47 Z\" fill=\"#000000\" fill-rule=\"evenodd\" fill-opacity=\"1\" /><path clip-path=\"url(#clip960)\" d=\"M2308.57 1105.74 L2326.93 1105.74 L2326.93 1109.67 L2312.85 1109.67 L2312.85 1118.15 Q2313.87 1117.8 2314.89 1117.64 Q2315.91 1117.45 2316.93 1117.45 Q2322.71 1117.45 2326.09 1120.62 Q2329.47 1123.79 2329.47 1129.21 Q2329.47 1134.79 2326 1137.89 Q2322.53 1140.97 2316.21 1140.97 Q2314.03 1140.97 2311.76 1140.6 Q2309.52 1140.23 2307.11 1139.49 L2307.11 1134.79 Q2309.2 1135.92 2311.42 1136.48 Q2313.64 1137.03 2316.12 1137.03 Q2320.12 1137.03 2322.46 1134.93 Q2324.8 1132.82 2324.8 1129.21 Q2324.8 1125.6 2322.46 1123.49 Q2320.12 1121.39 2316.12 1121.39 Q2314.24 1121.39 2312.37 1121.8 Q2310.51 1122.22 2308.57 1123.1 L2308.57 1105.74 Z\" fill=\"#000000\" fill-rule=\"evenodd\" fill-opacity=\"1\" /><path clip-path=\"url(#clip960)\" d=\"M2348.69 1108.82 Q2345.07 1108.82 2343.25 1112.38 Q2341.44 1115.92 2341.44 1123.05 Q2341.44 1130.16 2343.25 1133.72 Q2345.07 1137.27 2348.69 1137.27 Q2352.32 1137.27 2354.13 1133.72 Q2355.95 1130.16 2355.95 1123.05 Q2355.95 1115.92 2354.13 1112.38 Q2352.32 1108.82 2348.69 1108.82 M2348.69 1105.11 Q2354.5 1105.11 2357.55 1109.72 Q2360.63 1114.3 2360.63 1123.05 Q2360.63 1131.78 2357.55 1136.39 Q2354.5 1140.97 2348.69 1140.97 Q2342.88 1140.97 2339.8 1136.39 Q2336.74 1131.78 2336.74 1123.05 Q2336.74 1114.3 2339.8 1109.72 Q2342.88 1105.11 2348.69 1105.11 Z\" fill=\"#000000\" fill-rule=\"evenodd\" fill-opacity=\"1\" /><path clip-path=\"url(#clip960)\" d=\"M2268.76 943.569 L2298.43 943.569 L2298.43 947.504 L2268.76 947.504 L2268.76 943.569 Z\" fill=\"#000000\" fill-rule=\"evenodd\" fill-opacity=\"1\" /><path clip-path=\"url(#clip960)\" d=\"M2312.55 956.462 L2328.87 956.462 L2328.87 960.398 L2306.93 960.398 L2306.93 956.462 Q2309.59 953.708 2314.17 949.078 Q2318.78 944.426 2319.96 943.083 Q2322.2 940.56 2323.08 938.824 Q2323.99 937.064 2323.99 935.375 Q2323.99 932.62 2322.04 930.884 Q2320.12 929.148 2317.02 929.148 Q2314.82 929.148 2312.37 929.912 Q2309.94 930.676 2307.16 932.227 L2307.16 927.504 Q2309.98 926.37 2312.44 925.791 Q2314.89 925.213 2316.93 925.213 Q2322.3 925.213 2325.49 927.898 Q2328.69 930.583 2328.69 935.074 Q2328.69 937.203 2327.88 939.125 Q2327.09 941.023 2324.98 943.615 Q2324.4 944.287 2321.3 947.504 Q2318.2 950.699 2312.55 956.462 Z\" fill=\"#000000\" fill-rule=\"evenodd\" fill-opacity=\"1\" /><path clip-path=\"url(#clip960)\" d=\"M2338.73 925.838 L2357.09 925.838 L2357.09 929.773 L2343.01 929.773 L2343.01 938.245 Q2344.03 937.898 2345.05 937.736 Q2346.07 937.551 2347.09 937.551 Q2352.88 937.551 2356.26 940.722 Q2359.64 943.893 2359.64 949.31 Q2359.64 954.888 2356.16 957.99 Q2352.69 961.069 2346.37 961.069 Q2344.2 961.069 2341.93 960.699 Q2339.68 960.328 2337.27 959.587 L2337.27 954.888 Q2339.36 956.023 2341.58 956.578 Q2343.8 957.134 2346.28 957.134 Q2350.28 957.134 2352.62 955.027 Q2354.96 952.921 2354.96 949.31 Q2354.96 945.699 2352.62 943.592 Q2350.28 941.486 2346.28 941.486 Q2344.4 941.486 2342.53 941.902 Q2340.68 942.319 2338.73 943.199 L2338.73 925.838 Z\" fill=\"#000000\" fill-rule=\"evenodd\" fill-opacity=\"1\" /><path clip-path=\"url(#clip960)\" d=\"M2280.7 749.016 Q2277.09 749.016 2275.26 752.581 Q2273.45 756.122 2273.45 763.252 Q2273.45 770.358 2275.26 773.923 Q2277.09 777.465 2280.7 777.465 Q2284.33 777.465 2286.14 773.923 Q2287.97 770.358 2287.97 763.252 Q2287.97 756.122 2286.14 752.581 Q2284.33 749.016 2280.7 749.016 M2280.7 745.312 Q2286.51 745.312 2289.57 749.919 Q2292.64 754.502 2292.64 763.252 Q2292.64 771.979 2289.57 776.585 Q2286.51 781.168 2280.7 781.168 Q2274.89 781.168 2271.81 776.585 Q2268.76 771.979 2268.76 763.252 Q2268.76 754.502 2271.81 749.919 Q2274.89 745.312 2280.7 745.312 Z\" fill=\"#000000\" fill-rule=\"evenodd\" fill-opacity=\"1\" /><path clip-path=\"url(#clip960)\" d=\"M2274.38 596.662 L2290.7 596.662 L2290.7 600.597 L2268.76 600.597 L2268.76 596.662 Q2271.42 593.907 2276 589.277 Q2280.61 584.625 2281.79 583.282 Q2284.03 580.759 2284.91 579.023 Q2285.82 577.264 2285.82 575.574 Q2285.82 572.819 2283.87 571.083 Q2281.95 569.347 2278.85 569.347 Q2276.65 569.347 2274.2 570.111 Q2271.77 570.875 2268.99 572.426 L2268.99 567.703 Q2271.81 566.569 2274.27 565.99 Q2276.72 565.412 2278.76 565.412 Q2284.13 565.412 2287.32 568.097 Q2290.52 570.782 2290.52 575.273 Q2290.52 577.402 2289.7 579.324 Q2288.92 581.222 2286.81 583.814 Q2286.23 584.486 2283.13 587.703 Q2280.03 590.898 2274.38 596.662 Z\" fill=\"#000000\" fill-rule=\"evenodd\" fill-opacity=\"1\" /><path clip-path=\"url(#clip960)\" d=\"M2300.56 566.037 L2318.92 566.037 L2318.92 569.972 L2304.84 569.972 L2304.84 578.444 Q2305.86 578.097 2306.88 577.935 Q2307.9 577.75 2308.92 577.75 Q2314.7 577.75 2318.08 580.921 Q2321.46 584.092 2321.46 589.509 Q2321.46 595.087 2317.99 598.189 Q2314.52 601.268 2308.2 601.268 Q2306.02 601.268 2303.76 600.898 Q2301.51 600.527 2299.1 599.787 L2299.1 595.087 Q2301.19 596.222 2303.41 596.777 Q2305.63 597.333 2308.11 597.333 Q2312.11 597.333 2314.45 595.226 Q2316.79 593.12 2316.79 589.509 Q2316.79 585.898 2314.45 583.791 Q2312.11 581.685 2308.11 581.685 Q2306.23 581.685 2304.36 582.101 Q2302.51 582.518 2300.56 583.398 L2300.56 566.037 Z\" fill=\"#000000\" fill-rule=\"evenodd\" fill-opacity=\"1\" /><path clip-path=\"url(#clip960)\" d=\"M2270.21 386.136 L2288.57 386.136 L2288.57 390.071 L2274.5 390.071 L2274.5 398.544 Q2275.52 398.196 2276.53 398.034 Q2277.55 397.849 2278.57 397.849 Q2284.36 397.849 2287.74 401.02 Q2291.12 404.192 2291.12 409.608 Q2291.12 415.187 2287.64 418.289 Q2284.17 421.368 2277.85 421.368 Q2275.68 421.368 2273.41 420.997 Q2271.16 420.627 2268.76 419.886 L2268.76 415.187 Q2270.84 416.321 2273.06 416.877 Q2275.28 417.432 2277.76 417.432 Q2281.77 417.432 2284.1 415.326 Q2286.44 413.219 2286.44 409.608 Q2286.44 405.997 2284.1 403.891 Q2281.77 401.784 2277.76 401.784 Q2275.89 401.784 2274.01 402.201 Q2272.16 402.618 2270.21 403.497 L2270.21 386.136 Z\" fill=\"#000000\" fill-rule=\"evenodd\" fill-opacity=\"1\" /><path clip-path=\"url(#clip960)\" d=\"M2310.33 389.215 Q2306.72 389.215 2304.89 392.78 Q2303.08 396.321 2303.08 403.451 Q2303.08 410.557 2304.89 414.122 Q2306.72 417.664 2310.33 417.664 Q2313.96 417.664 2315.77 414.122 Q2317.6 410.557 2317.6 403.451 Q2317.6 396.321 2315.77 392.78 Q2313.96 389.215 2310.33 389.215 M2310.33 385.511 Q2316.14 385.511 2319.2 390.118 Q2322.27 394.701 2322.27 403.451 Q2322.27 412.178 2319.2 416.784 Q2316.14 421.368 2310.33 421.368 Q2304.52 421.368 2301.44 416.784 Q2298.39 412.178 2298.39 403.451 Q2298.39 394.701 2301.44 390.118 Q2304.52 385.511 2310.33 385.511 Z\" fill=\"#000000\" fill-rule=\"evenodd\" fill-opacity=\"1\" /><path clip-path=\"url(#clip960)\" d=\"M2268.76 206.236 L2290.98 206.236 L2290.98 208.227 L2278.43 240.796 L2273.55 240.796 L2285.35 210.171 L2268.76 210.171 L2268.76 206.236 Z\" fill=\"#000000\" fill-rule=\"evenodd\" fill-opacity=\"1\" /><path clip-path=\"url(#clip960)\" d=\"M2300.14 206.236 L2318.5 206.236 L2318.5 210.171 L2304.43 210.171 L2304.43 218.643 Q2305.45 218.296 2306.46 218.134 Q2307.48 217.949 2308.5 217.949 Q2314.29 217.949 2317.67 221.12 Q2321.05 224.291 2321.05 229.708 Q2321.05 235.287 2317.58 238.388 Q2314.1 241.467 2307.78 241.467 Q2305.61 241.467 2303.34 241.097 Q2301.09 240.726 2298.69 239.986 L2298.69 235.287 Q2300.77 236.421 2302.99 236.976 Q2305.21 237.532 2307.69 237.532 Q2311.7 237.532 2314.03 235.425 Q2316.37 233.319 2316.37 229.708 Q2316.37 226.097 2314.03 223.99 Q2311.7 221.884 2307.69 221.884 Q2305.82 221.884 2303.94 222.301 Q2302.09 222.717 2300.14 223.597 L2300.14 206.236 Z\" fill=\"#000000\" fill-rule=\"evenodd\" fill-opacity=\"1\" /><path clip-path=\"url(#clip960)\" d=\"M2269.43 56.9601 L2277.07 56.9601 L2277.07 30.5945 L2268.76 32.2612 L2268.76 28.002 L2277.02 26.3353 L2281.7 26.3353 L2281.7 56.9601 L2289.33 56.9601 L2289.33 60.8953 L2269.43 60.8953 L2269.43 56.9601 Z\" fill=\"#000000\" fill-rule=\"evenodd\" fill-opacity=\"1\" /><path clip-path=\"url(#clip960)\" d=\"M2308.78 29.414 Q2305.17 29.414 2303.34 32.9788 Q2301.53 36.5204 2301.53 43.65 Q2301.53 50.7565 2303.34 54.3213 Q2305.17 57.8629 2308.78 57.8629 Q2312.41 57.8629 2314.22 54.3213 Q2316.05 50.7565 2316.05 43.65 Q2316.05 36.5204 2314.22 32.9788 Q2312.41 29.414 2308.78 29.414 M2308.78 25.7103 Q2314.59 25.7103 2317.64 30.3168 Q2320.72 34.9001 2320.72 43.65 Q2320.72 52.3768 2317.64 56.9833 Q2314.59 61.5666 2308.78 61.5666 Q2302.97 61.5666 2299.89 56.9833 Q2296.83 52.3768 2296.83 43.65 Q2296.83 34.9001 2299.89 30.3168 Q2302.97 25.7103 2308.78 25.7103 Z\" fill=\"#000000\" fill-rule=\"evenodd\" fill-opacity=\"1\" /><path clip-path=\"url(#clip960)\" d=\"M2338.94 29.414 Q2335.33 29.414 2333.5 32.9788 Q2331.7 36.5204 2331.7 43.65 Q2331.7 50.7565 2333.5 54.3213 Q2335.33 57.8629 2338.94 57.8629 Q2342.57 57.8629 2344.38 54.3213 Q2346.21 50.7565 2346.21 43.65 Q2346.21 36.5204 2344.38 32.9788 Q2342.57 29.414 2338.94 29.414 M2338.94 25.7103 Q2344.75 25.7103 2347.81 30.3168 Q2350.89 34.9001 2350.89 43.65 Q2350.89 52.3768 2347.81 56.9833 Q2344.75 61.5666 2338.94 61.5666 Q2333.13 61.5666 2330.05 56.9833 Q2327 52.3768 2327 43.65 Q2327 34.9001 2330.05 30.3168 Q2333.13 25.7103 2338.94 25.7103 Z\" fill=\"#000000\" fill-rule=\"evenodd\" fill-opacity=\"1\" /><polyline clip-path=\"url(#clip960)\" style=\"stroke:#000000; stroke-linecap:butt; stroke-linejoin:round; stroke-width:4; stroke-opacity:1; fill:none\" points=\"\n",
       "  2232.76,1486.45 2232.76,1486.45 2256.76,1486.45 2232.76,1486.45 2232.76,1306.55 2256.76,1306.55 2232.76,1306.55 2232.76,1126.65 2256.76,1126.65 2232.76,1126.65 \n",
       "  2232.76,946.746 2256.76,946.746 2232.76,946.746 2232.76,766.846 2256.76,766.846 2232.76,766.846 2232.76,586.946 2256.76,586.946 2232.76,586.946 2232.76,407.045 \n",
       "  2256.76,407.045 2232.76,407.045 2232.76,227.145 2256.76,227.145 2232.76,227.145 2232.76,47.2441 2256.76,47.2441 2232.76,47.2441 2232.76,47.2441 \n",
       "  \"/>\n",
       "</svg>\n"
      ]
     },
     "execution_count": 60,
     "metadata": {},
     "output_type": "execute_result"
    }
   ],
   "source": [
    "using Plots\n",
    "heatmap(u_hist)"
   ]
  },
  {
   "cell_type": "code",
   "execution_count": 54,
   "id": "2767a9b3",
   "metadata": {},
   "outputs": [
    {
     "data": {
      "image/svg+xml": [
       "<?xml version=\"1.0\" encoding=\"utf-8\"?>\n",
       "<svg xmlns=\"http://www.w3.org/2000/svg\" xmlns:xlink=\"http://www.w3.org/1999/xlink\" width=\"600\" height=\"400\" viewBox=\"0 0 2400 1600\">\n",
       "<defs>\n",
       "  <clipPath id=\"clip920\">\n",
       "    <rect x=\"0\" y=\"0\" width=\"2400\" height=\"1600\"/>\n",
       "  </clipPath>\n",
       "</defs>\n",
       "<path clip-path=\"url(#clip920)\" d=\"\n",
       "M0 1600 L2400 1600 L2400 0 L0 0  Z\n",
       "  \" fill=\"#ffffff\" fill-rule=\"evenodd\" fill-opacity=\"1\"/>\n",
       "<defs>\n",
       "  <clipPath id=\"clip921\">\n",
       "    <rect x=\"480\" y=\"0\" width=\"1681\" height=\"1600\"/>\n",
       "  </clipPath>\n",
       "</defs>\n",
       "<path clip-path=\"url(#clip920)\" d=\"\n",
       "M209.029 1486.45 L2352.76 1486.45 L2352.76 47.2441 L209.029 47.2441  Z\n",
       "  \" fill=\"#ffffff\" fill-rule=\"evenodd\" fill-opacity=\"1\"/>\n",
       "<defs>\n",
       "  <clipPath id=\"clip922\">\n",
       "    <rect x=\"209\" y=\"47\" width=\"2145\" height=\"1440\"/>\n",
       "  </clipPath>\n",
       "</defs>\n",
       "<polyline clip-path=\"url(#clip922)\" style=\"stroke:#000000; stroke-linecap:butt; stroke-linejoin:round; stroke-width:2; stroke-opacity:0.1; fill:none\" points=\"\n",
       "  228.427,1486.45 228.427,47.2441 \n",
       "  \"/>\n",
       "<polyline clip-path=\"url(#clip922)\" style=\"stroke:#000000; stroke-linecap:butt; stroke-linejoin:round; stroke-width:2; stroke-opacity:0.1; fill:none\" points=\"\n",
       "  641.158,1486.45 641.158,47.2441 \n",
       "  \"/>\n",
       "<polyline clip-path=\"url(#clip922)\" style=\"stroke:#000000; stroke-linecap:butt; stroke-linejoin:round; stroke-width:2; stroke-opacity:0.1; fill:none\" points=\"\n",
       "  1053.89,1486.45 1053.89,47.2441 \n",
       "  \"/>\n",
       "<polyline clip-path=\"url(#clip922)\" style=\"stroke:#000000; stroke-linecap:butt; stroke-linejoin:round; stroke-width:2; stroke-opacity:0.1; fill:none\" points=\"\n",
       "  1466.62,1486.45 1466.62,47.2441 \n",
       "  \"/>\n",
       "<polyline clip-path=\"url(#clip922)\" style=\"stroke:#000000; stroke-linecap:butt; stroke-linejoin:round; stroke-width:2; stroke-opacity:0.1; fill:none\" points=\"\n",
       "  1879.35,1486.45 1879.35,47.2441 \n",
       "  \"/>\n",
       "<polyline clip-path=\"url(#clip922)\" style=\"stroke:#000000; stroke-linecap:butt; stroke-linejoin:round; stroke-width:2; stroke-opacity:0.1; fill:none\" points=\"\n",
       "  2292.08,1486.45 2292.08,47.2441 \n",
       "  \"/>\n",
       "<polyline clip-path=\"url(#clip920)\" style=\"stroke:#000000; stroke-linecap:butt; stroke-linejoin:round; stroke-width:4; stroke-opacity:1; fill:none\" points=\"\n",
       "  209.029,1486.45 2352.76,1486.45 \n",
       "  \"/>\n",
       "<polyline clip-path=\"url(#clip920)\" style=\"stroke:#000000; stroke-linecap:butt; stroke-linejoin:round; stroke-width:4; stroke-opacity:1; fill:none\" points=\"\n",
       "  228.427,1486.45 228.427,1467.55 \n",
       "  \"/>\n",
       "<polyline clip-path=\"url(#clip920)\" style=\"stroke:#000000; stroke-linecap:butt; stroke-linejoin:round; stroke-width:4; stroke-opacity:1; fill:none\" points=\"\n",
       "  641.158,1486.45 641.158,1467.55 \n",
       "  \"/>\n",
       "<polyline clip-path=\"url(#clip920)\" style=\"stroke:#000000; stroke-linecap:butt; stroke-linejoin:round; stroke-width:4; stroke-opacity:1; fill:none\" points=\"\n",
       "  1053.89,1486.45 1053.89,1467.55 \n",
       "  \"/>\n",
       "<polyline clip-path=\"url(#clip920)\" style=\"stroke:#000000; stroke-linecap:butt; stroke-linejoin:round; stroke-width:4; stroke-opacity:1; fill:none\" points=\"\n",
       "  1466.62,1486.45 1466.62,1467.55 \n",
       "  \"/>\n",
       "<polyline clip-path=\"url(#clip920)\" style=\"stroke:#000000; stroke-linecap:butt; stroke-linejoin:round; stroke-width:4; stroke-opacity:1; fill:none\" points=\"\n",
       "  1879.35,1486.45 1879.35,1467.55 \n",
       "  \"/>\n",
       "<polyline clip-path=\"url(#clip920)\" style=\"stroke:#000000; stroke-linecap:butt; stroke-linejoin:round; stroke-width:4; stroke-opacity:1; fill:none\" points=\"\n",
       "  2292.08,1486.45 2292.08,1467.55 \n",
       "  \"/>\n",
       "<path clip-path=\"url(#clip920)\" d=\"M228.427 1517.37 Q224.816 1517.37 222.987 1520.93 Q221.182 1524.47 221.182 1531.6 Q221.182 1538.71 222.987 1542.27 Q224.816 1545.82 228.427 1545.82 Q232.061 1545.82 233.867 1542.27 Q235.695 1538.71 235.695 1531.6 Q235.695 1524.47 233.867 1520.93 Q232.061 1517.37 228.427 1517.37 M228.427 1513.66 Q234.237 1513.66 237.293 1518.27 Q240.371 1522.85 240.371 1531.6 Q240.371 1540.33 237.293 1544.94 Q234.237 1549.52 228.427 1549.52 Q222.617 1549.52 219.538 1544.94 Q216.483 1540.33 216.483 1531.6 Q216.483 1522.85 219.538 1518.27 Q222.617 1513.66 228.427 1513.66 Z\" fill=\"#000000\" fill-rule=\"evenodd\" fill-opacity=\"1\" /><path clip-path=\"url(#clip920)\" d=\"M615.846 1544.91 L623.485 1544.91 L623.485 1518.55 L615.175 1520.21 L615.175 1515.95 L623.439 1514.29 L628.114 1514.29 L628.114 1544.91 L635.753 1544.91 L635.753 1548.85 L615.846 1548.85 L615.846 1544.91 Z\" fill=\"#000000\" fill-rule=\"evenodd\" fill-opacity=\"1\" /><path clip-path=\"url(#clip920)\" d=\"M655.198 1517.37 Q651.587 1517.37 649.758 1520.93 Q647.952 1524.47 647.952 1531.6 Q647.952 1538.71 649.758 1542.27 Q651.587 1545.82 655.198 1545.82 Q658.832 1545.82 660.637 1542.27 Q662.466 1538.71 662.466 1531.6 Q662.466 1524.47 660.637 1520.93 Q658.832 1517.37 655.198 1517.37 M655.198 1513.66 Q661.008 1513.66 664.063 1518.27 Q667.142 1522.85 667.142 1531.6 Q667.142 1540.33 664.063 1544.94 Q661.008 1549.52 655.198 1549.52 Q649.388 1549.52 646.309 1544.94 Q643.253 1540.33 643.253 1531.6 Q643.253 1522.85 646.309 1518.27 Q649.388 1513.66 655.198 1513.66 Z\" fill=\"#000000\" fill-rule=\"evenodd\" fill-opacity=\"1\" /><path clip-path=\"url(#clip920)\" d=\"M1032.66 1544.91 L1048.98 1544.91 L1048.98 1548.85 L1027.04 1548.85 L1027.04 1544.91 Q1029.7 1542.16 1034.28 1537.53 Q1038.89 1532.88 1040.07 1531.53 Q1042.32 1529.01 1043.2 1527.27 Q1044.1 1525.51 1044.1 1523.82 Q1044.1 1521.07 1042.15 1519.33 Q1040.23 1517.6 1037.13 1517.6 Q1034.93 1517.6 1032.48 1518.36 Q1030.05 1519.13 1027.27 1520.68 L1027.27 1515.95 Q1030.09 1514.82 1032.55 1514.24 Q1035 1513.66 1037.04 1513.66 Q1042.41 1513.66 1045.6 1516.35 Q1048.8 1519.03 1048.8 1523.52 Q1048.8 1525.65 1047.99 1527.57 Q1047.2 1529.47 1045.09 1532.07 Q1044.51 1532.74 1041.41 1535.95 Q1038.31 1539.15 1032.66 1544.91 Z\" fill=\"#000000\" fill-rule=\"evenodd\" fill-opacity=\"1\" /><path clip-path=\"url(#clip920)\" d=\"M1068.8 1517.37 Q1065.19 1517.37 1063.36 1520.93 Q1061.55 1524.47 1061.55 1531.6 Q1061.55 1538.71 1063.36 1542.27 Q1065.19 1545.82 1068.8 1545.82 Q1072.43 1545.82 1074.24 1542.27 Q1076.07 1538.71 1076.07 1531.6 Q1076.07 1524.47 1074.24 1520.93 Q1072.43 1517.37 1068.8 1517.37 M1068.8 1513.66 Q1074.61 1513.66 1077.66 1518.27 Q1080.74 1522.85 1080.74 1531.6 Q1080.74 1540.33 1077.66 1544.94 Q1074.61 1549.52 1068.8 1549.52 Q1062.99 1549.52 1059.91 1544.94 Q1056.85 1540.33 1056.85 1531.6 Q1056.85 1522.85 1059.91 1518.27 Q1062.99 1513.66 1068.8 1513.66 Z\" fill=\"#000000\" fill-rule=\"evenodd\" fill-opacity=\"1\" /><path clip-path=\"url(#clip920)\" d=\"M1455.46 1530.21 Q1458.82 1530.93 1460.7 1533.2 Q1462.59 1535.47 1462.59 1538.8 Q1462.59 1543.92 1459.08 1546.72 Q1455.56 1549.52 1449.08 1549.52 Q1446.9 1549.52 1444.58 1549.08 Q1442.29 1548.66 1439.84 1547.81 L1439.84 1543.29 Q1441.78 1544.43 1444.1 1545.01 Q1446.41 1545.58 1448.94 1545.58 Q1453.33 1545.58 1455.63 1543.85 Q1457.94 1542.11 1457.94 1538.8 Q1457.94 1535.75 1455.79 1534.03 Q1453.66 1532.3 1449.84 1532.3 L1445.81 1532.3 L1445.81 1528.45 L1450.02 1528.45 Q1453.47 1528.45 1455.3 1527.09 Q1457.13 1525.7 1457.13 1523.11 Q1457.13 1520.45 1455.23 1519.03 Q1453.36 1517.6 1449.84 1517.6 Q1447.92 1517.6 1445.72 1518.01 Q1443.52 1518.43 1440.88 1519.31 L1440.88 1515.14 Q1443.54 1514.4 1445.86 1514.03 Q1448.2 1513.66 1450.26 1513.66 Q1455.58 1513.66 1458.68 1516.09 Q1461.78 1518.5 1461.78 1522.62 Q1461.78 1525.49 1460.14 1527.48 Q1458.5 1529.45 1455.46 1530.21 Z\" fill=\"#000000\" fill-rule=\"evenodd\" fill-opacity=\"1\" /><path clip-path=\"url(#clip920)\" d=\"M1481.46 1517.37 Q1477.85 1517.37 1476.02 1520.93 Q1474.21 1524.47 1474.21 1531.6 Q1474.21 1538.71 1476.02 1542.27 Q1477.85 1545.82 1481.46 1545.82 Q1485.09 1545.82 1486.9 1542.27 Q1488.73 1538.71 1488.73 1531.6 Q1488.73 1524.47 1486.9 1520.93 Q1485.09 1517.37 1481.46 1517.37 M1481.46 1513.66 Q1487.27 1513.66 1490.32 1518.27 Q1493.4 1522.85 1493.4 1531.6 Q1493.4 1540.33 1490.32 1544.94 Q1487.27 1549.52 1481.46 1549.52 Q1475.65 1549.52 1472.57 1544.94 Q1469.51 1540.33 1469.51 1531.6 Q1469.51 1522.85 1472.57 1518.27 Q1475.65 1513.66 1481.46 1513.66 Z\" fill=\"#000000\" fill-rule=\"evenodd\" fill-opacity=\"1\" /><path clip-path=\"url(#clip920)\" d=\"M1867.52 1518.36 L1855.72 1536.81 L1867.52 1536.81 L1867.52 1518.36 M1866.3 1514.29 L1872.18 1514.29 L1872.18 1536.81 L1877.11 1536.81 L1877.11 1540.7 L1872.18 1540.7 L1872.18 1548.85 L1867.52 1548.85 L1867.52 1540.7 L1851.92 1540.7 L1851.92 1536.19 L1866.3 1514.29 Z\" fill=\"#000000\" fill-rule=\"evenodd\" fill-opacity=\"1\" /><path clip-path=\"url(#clip920)\" d=\"M1894.84 1517.37 Q1891.23 1517.37 1889.4 1520.93 Q1887.59 1524.47 1887.59 1531.6 Q1887.59 1538.71 1889.4 1542.27 Q1891.23 1545.82 1894.84 1545.82 Q1898.47 1545.82 1900.28 1542.27 Q1902.11 1538.71 1902.11 1531.6 Q1902.11 1524.47 1900.28 1520.93 Q1898.47 1517.37 1894.84 1517.37 M1894.84 1513.66 Q1900.65 1513.66 1903.7 1518.27 Q1906.78 1522.85 1906.78 1531.6 Q1906.78 1540.33 1903.7 1544.94 Q1900.65 1549.52 1894.84 1549.52 Q1889.03 1549.52 1885.95 1544.94 Q1882.89 1540.33 1882.89 1531.6 Q1882.89 1522.85 1885.95 1518.27 Q1889.03 1513.66 1894.84 1513.66 Z\" fill=\"#000000\" fill-rule=\"evenodd\" fill-opacity=\"1\" /><path clip-path=\"url(#clip920)\" d=\"M2266.78 1514.29 L2285.14 1514.29 L2285.14 1518.22 L2271.07 1518.22 L2271.07 1526.7 Q2272.08 1526.35 2273.1 1526.19 Q2274.12 1526 2275.14 1526 Q2280.93 1526 2284.31 1529.17 Q2287.69 1532.34 2287.69 1537.76 Q2287.69 1543.34 2284.21 1546.44 Q2280.74 1549.52 2274.42 1549.52 Q2272.25 1549.52 2269.98 1549.15 Q2267.73 1548.78 2265.33 1548.04 L2265.33 1543.34 Q2267.41 1544.47 2269.63 1545.03 Q2271.85 1545.58 2274.33 1545.58 Q2278.33 1545.58 2280.67 1543.48 Q2283.01 1541.37 2283.01 1537.76 Q2283.01 1534.15 2280.67 1532.04 Q2278.33 1529.94 2274.33 1529.94 Q2272.45 1529.94 2270.58 1530.35 Q2268.73 1530.77 2266.78 1531.65 L2266.78 1514.29 Z\" fill=\"#000000\" fill-rule=\"evenodd\" fill-opacity=\"1\" /><path clip-path=\"url(#clip920)\" d=\"M2306.9 1517.37 Q2303.29 1517.37 2301.46 1520.93 Q2299.65 1524.47 2299.65 1531.6 Q2299.65 1538.71 2301.46 1542.27 Q2303.29 1545.82 2306.9 1545.82 Q2310.53 1545.82 2312.34 1542.27 Q2314.17 1538.71 2314.17 1531.6 Q2314.17 1524.47 2312.34 1520.93 Q2310.53 1517.37 2306.9 1517.37 M2306.9 1513.66 Q2312.71 1513.66 2315.76 1518.27 Q2318.84 1522.85 2318.84 1531.6 Q2318.84 1540.33 2315.76 1544.94 Q2312.71 1549.52 2306.9 1549.52 Q2301.09 1549.52 2298.01 1544.94 Q2294.95 1540.33 2294.95 1531.6 Q2294.95 1522.85 2298.01 1518.27 Q2301.09 1513.66 2306.9 1513.66 Z\" fill=\"#000000\" fill-rule=\"evenodd\" fill-opacity=\"1\" /><polyline clip-path=\"url(#clip922)\" style=\"stroke:#000000; stroke-linecap:butt; stroke-linejoin:round; stroke-width:2; stroke-opacity:0.1; fill:none\" points=\"\n",
       "  209.029,1426.44 2352.76,1426.44 \n",
       "  \"/>\n",
       "<polyline clip-path=\"url(#clip922)\" style=\"stroke:#000000; stroke-linecap:butt; stroke-linejoin:round; stroke-width:2; stroke-opacity:0.1; fill:none\" points=\"\n",
       "  209.029,1209.51 2352.76,1209.51 \n",
       "  \"/>\n",
       "<polyline clip-path=\"url(#clip922)\" style=\"stroke:#000000; stroke-linecap:butt; stroke-linejoin:round; stroke-width:2; stroke-opacity:0.1; fill:none\" points=\"\n",
       "  209.029,992.573 2352.76,992.573 \n",
       "  \"/>\n",
       "<polyline clip-path=\"url(#clip922)\" style=\"stroke:#000000; stroke-linecap:butt; stroke-linejoin:round; stroke-width:2; stroke-opacity:0.1; fill:none\" points=\"\n",
       "  209.029,775.639 2352.76,775.639 \n",
       "  \"/>\n",
       "<polyline clip-path=\"url(#clip922)\" style=\"stroke:#000000; stroke-linecap:butt; stroke-linejoin:round; stroke-width:2; stroke-opacity:0.1; fill:none\" points=\"\n",
       "  209.029,558.706 2352.76,558.706 \n",
       "  \"/>\n",
       "<polyline clip-path=\"url(#clip922)\" style=\"stroke:#000000; stroke-linecap:butt; stroke-linejoin:round; stroke-width:2; stroke-opacity:0.1; fill:none\" points=\"\n",
       "  209.029,341.773 2352.76,341.773 \n",
       "  \"/>\n",
       "<polyline clip-path=\"url(#clip922)\" style=\"stroke:#000000; stroke-linecap:butt; stroke-linejoin:round; stroke-width:2; stroke-opacity:0.1; fill:none\" points=\"\n",
       "  209.029,124.839 2352.76,124.839 \n",
       "  \"/>\n",
       "<polyline clip-path=\"url(#clip920)\" style=\"stroke:#000000; stroke-linecap:butt; stroke-linejoin:round; stroke-width:4; stroke-opacity:1; fill:none\" points=\"\n",
       "  209.029,1486.45 209.029,47.2441 \n",
       "  \"/>\n",
       "<polyline clip-path=\"url(#clip920)\" style=\"stroke:#000000; stroke-linecap:butt; stroke-linejoin:round; stroke-width:4; stroke-opacity:1; fill:none\" points=\"\n",
       "  209.029,1426.44 227.926,1426.44 \n",
       "  \"/>\n",
       "<polyline clip-path=\"url(#clip920)\" style=\"stroke:#000000; stroke-linecap:butt; stroke-linejoin:round; stroke-width:4; stroke-opacity:1; fill:none\" points=\"\n",
       "  209.029,1209.51 227.926,1209.51 \n",
       "  \"/>\n",
       "<polyline clip-path=\"url(#clip920)\" style=\"stroke:#000000; stroke-linecap:butt; stroke-linejoin:round; stroke-width:4; stroke-opacity:1; fill:none\" points=\"\n",
       "  209.029,992.573 227.926,992.573 \n",
       "  \"/>\n",
       "<polyline clip-path=\"url(#clip920)\" style=\"stroke:#000000; stroke-linecap:butt; stroke-linejoin:round; stroke-width:4; stroke-opacity:1; fill:none\" points=\"\n",
       "  209.029,775.639 227.926,775.639 \n",
       "  \"/>\n",
       "<polyline clip-path=\"url(#clip920)\" style=\"stroke:#000000; stroke-linecap:butt; stroke-linejoin:round; stroke-width:4; stroke-opacity:1; fill:none\" points=\"\n",
       "  209.029,558.706 227.926,558.706 \n",
       "  \"/>\n",
       "<polyline clip-path=\"url(#clip920)\" style=\"stroke:#000000; stroke-linecap:butt; stroke-linejoin:round; stroke-width:4; stroke-opacity:1; fill:none\" points=\"\n",
       "  209.029,341.773 227.926,341.773 \n",
       "  \"/>\n",
       "<polyline clip-path=\"url(#clip920)\" style=\"stroke:#000000; stroke-linecap:butt; stroke-linejoin:round; stroke-width:4; stroke-opacity:1; fill:none\" points=\"\n",
       "  209.029,124.839 227.926,124.839 \n",
       "  \"/>\n",
       "<path clip-path=\"url(#clip920)\" d=\"M50.9921 1426.89 L80.6679 1426.89 L80.6679 1430.83 L50.9921 1430.83 L50.9921 1426.89 Z\" fill=\"#000000\" fill-rule=\"evenodd\" fill-opacity=\"1\" /><path clip-path=\"url(#clip920)\" d=\"M91.5706 1439.78 L99.2095 1439.78 L99.2095 1413.42 L90.8993 1415.09 L90.8993 1410.83 L99.1632 1409.16 L103.839 1409.16 L103.839 1439.78 L111.478 1439.78 L111.478 1443.72 L91.5706 1443.72 L91.5706 1439.78 Z\" fill=\"#000000\" fill-rule=\"evenodd\" fill-opacity=\"1\" /><path clip-path=\"url(#clip920)\" d=\"M120.969 1409.16 L139.325 1409.16 L139.325 1413.09 L125.251 1413.09 L125.251 1421.57 Q126.27 1421.22 127.288 1421.06 Q128.307 1420.87 129.325 1420.87 Q135.112 1420.87 138.492 1424.04 Q141.871 1427.21 141.871 1432.63 Q141.871 1438.21 138.399 1441.31 Q134.927 1444.39 128.607 1444.39 Q126.432 1444.39 124.163 1444.02 Q121.918 1443.65 119.51 1442.91 L119.51 1438.21 Q121.594 1439.34 123.816 1439.9 Q126.038 1440.46 128.515 1440.46 Q132.519 1440.46 134.857 1438.35 Q137.195 1436.24 137.195 1432.63 Q137.195 1429.02 134.857 1426.91 Q132.519 1424.81 128.515 1424.81 Q126.64 1424.81 124.765 1425.22 Q122.913 1425.64 120.969 1426.52 L120.969 1409.16 Z\" fill=\"#000000\" fill-rule=\"evenodd\" fill-opacity=\"1\" /><path clip-path=\"url(#clip920)\" d=\"M161.084 1412.24 Q157.473 1412.24 155.644 1415.8 Q153.839 1419.34 153.839 1426.47 Q153.839 1433.58 155.644 1437.15 Q157.473 1440.69 161.084 1440.69 Q164.718 1440.69 166.524 1437.15 Q168.353 1433.58 168.353 1426.47 Q168.353 1419.34 166.524 1415.8 Q164.718 1412.24 161.084 1412.24 M161.084 1408.53 Q166.894 1408.53 169.95 1413.14 Q173.029 1417.72 173.029 1426.47 Q173.029 1435.2 169.95 1439.81 Q166.894 1444.39 161.084 1444.39 Q155.274 1444.39 152.195 1439.81 Q149.14 1435.2 149.14 1426.47 Q149.14 1417.72 152.195 1413.14 Q155.274 1408.53 161.084 1408.53 Z\" fill=\"#000000\" fill-rule=\"evenodd\" fill-opacity=\"1\" /><path clip-path=\"url(#clip920)\" d=\"M50.9921 1209.96 L80.6679 1209.96 L80.6679 1213.89 L50.9921 1213.89 L50.9921 1209.96 Z\" fill=\"#000000\" fill-rule=\"evenodd\" fill-opacity=\"1\" /><path clip-path=\"url(#clip920)\" d=\"M91.5706 1222.85 L99.2095 1222.85 L99.2095 1196.49 L90.8993 1198.15 L90.8993 1193.89 L99.1632 1192.23 L103.839 1192.23 L103.839 1222.85 L111.478 1222.85 L111.478 1226.79 L91.5706 1226.79 L91.5706 1222.85 Z\" fill=\"#000000\" fill-rule=\"evenodd\" fill-opacity=\"1\" /><path clip-path=\"url(#clip920)\" d=\"M130.922 1195.3 Q127.311 1195.3 125.482 1198.87 Q123.677 1202.41 123.677 1209.54 Q123.677 1216.65 125.482 1220.21 Q127.311 1223.75 130.922 1223.75 Q134.556 1223.75 136.362 1220.21 Q138.191 1216.65 138.191 1209.54 Q138.191 1202.41 136.362 1198.87 Q134.556 1195.3 130.922 1195.3 M130.922 1191.6 Q136.732 1191.6 139.788 1196.21 Q142.867 1200.79 142.867 1209.54 Q142.867 1218.27 139.788 1222.87 Q136.732 1227.46 130.922 1227.46 Q125.112 1227.46 122.033 1222.87 Q118.978 1218.27 118.978 1209.54 Q118.978 1200.79 122.033 1196.21 Q125.112 1191.6 130.922 1191.6 Z\" fill=\"#000000\" fill-rule=\"evenodd\" fill-opacity=\"1\" /><path clip-path=\"url(#clip920)\" d=\"M161.084 1195.3 Q157.473 1195.3 155.644 1198.87 Q153.839 1202.41 153.839 1209.54 Q153.839 1216.65 155.644 1220.21 Q157.473 1223.75 161.084 1223.75 Q164.718 1223.75 166.524 1220.21 Q168.353 1216.65 168.353 1209.54 Q168.353 1202.41 166.524 1198.87 Q164.718 1195.3 161.084 1195.3 M161.084 1191.6 Q166.894 1191.6 169.95 1196.21 Q173.029 1200.79 173.029 1209.54 Q173.029 1218.27 169.95 1222.87 Q166.894 1227.46 161.084 1227.46 Q155.274 1227.46 152.195 1222.87 Q149.14 1218.27 149.14 1209.54 Q149.14 1200.79 152.195 1196.21 Q155.274 1191.6 161.084 1191.6 Z\" fill=\"#000000\" fill-rule=\"evenodd\" fill-opacity=\"1\" /><path clip-path=\"url(#clip920)\" d=\"M81.154 993.024 L110.83 993.024 L110.83 996.959 L81.154 996.959 L81.154 993.024 Z\" fill=\"#000000\" fill-rule=\"evenodd\" fill-opacity=\"1\" /><path clip-path=\"url(#clip920)\" d=\"M120.969 975.293 L139.325 975.293 L139.325 979.228 L125.251 979.228 L125.251 987.7 Q126.27 987.353 127.288 987.191 Q128.307 987.006 129.325 987.006 Q135.112 987.006 138.492 990.177 Q141.871 993.348 141.871 998.765 Q141.871 1004.34 138.399 1007.45 Q134.927 1010.52 128.607 1010.52 Q126.432 1010.52 124.163 1010.15 Q121.918 1009.78 119.51 1009.04 L119.51 1004.34 Q121.594 1005.48 123.816 1006.03 Q126.038 1006.59 128.515 1006.59 Q132.519 1006.59 134.857 1004.48 Q137.195 1002.38 137.195 998.765 Q137.195 995.154 134.857 993.047 Q132.519 990.941 128.515 990.941 Q126.64 990.941 124.765 991.357 Q122.913 991.774 120.969 992.654 L120.969 975.293 Z\" fill=\"#000000\" fill-rule=\"evenodd\" fill-opacity=\"1\" /><path clip-path=\"url(#clip920)\" d=\"M161.084 978.371 Q157.473 978.371 155.644 981.936 Q153.839 985.478 153.839 992.607 Q153.839 999.714 155.644 1003.28 Q157.473 1006.82 161.084 1006.82 Q164.718 1006.82 166.524 1003.28 Q168.353 999.714 168.353 992.607 Q168.353 985.478 166.524 981.936 Q164.718 978.371 161.084 978.371 M161.084 974.668 Q166.894 974.668 169.95 979.274 Q173.029 983.858 173.029 992.607 Q173.029 1001.33 169.95 1005.94 Q166.894 1010.52 161.084 1010.52 Q155.274 1010.52 152.195 1005.94 Q149.14 1001.33 149.14 992.607 Q149.14 983.858 152.195 979.274 Q155.274 974.668 161.084 974.668 Z\" fill=\"#000000\" fill-rule=\"evenodd\" fill-opacity=\"1\" /><path clip-path=\"url(#clip920)\" d=\"M161.084 761.438 Q157.473 761.438 155.644 765.003 Q153.839 768.545 153.839 775.674 Q153.839 782.781 155.644 786.345 Q157.473 789.887 161.084 789.887 Q164.718 789.887 166.524 786.345 Q168.353 782.781 168.353 775.674 Q168.353 768.545 166.524 765.003 Q164.718 761.438 161.084 761.438 M161.084 757.734 Q166.894 757.734 169.95 762.341 Q173.029 766.924 173.029 775.674 Q173.029 784.401 169.95 789.007 Q166.894 793.591 161.084 793.591 Q155.274 793.591 152.195 789.007 Q149.14 784.401 149.14 775.674 Q149.14 766.924 152.195 762.341 Q155.274 757.734 161.084 757.734 Z\" fill=\"#000000\" fill-rule=\"evenodd\" fill-opacity=\"1\" /><path clip-path=\"url(#clip920)\" d=\"M120.969 541.426 L139.325 541.426 L139.325 545.361 L125.251 545.361 L125.251 553.833 Q126.27 553.486 127.288 553.324 Q128.307 553.139 129.325 553.139 Q135.112 553.139 138.492 556.31 Q141.871 559.481 141.871 564.898 Q141.871 570.477 138.399 573.579 Q134.927 576.657 128.607 576.657 Q126.432 576.657 124.163 576.287 Q121.918 575.917 119.51 575.176 L119.51 570.477 Q121.594 571.611 123.816 572.167 Q126.038 572.722 128.515 572.722 Q132.519 572.722 134.857 570.616 Q137.195 568.509 137.195 564.898 Q137.195 561.287 134.857 559.181 Q132.519 557.074 128.515 557.074 Q126.64 557.074 124.765 557.491 Q122.913 557.907 120.969 558.787 L120.969 541.426 Z\" fill=\"#000000\" fill-rule=\"evenodd\" fill-opacity=\"1\" /><path clip-path=\"url(#clip920)\" d=\"M161.084 544.505 Q157.473 544.505 155.644 548.07 Q153.839 551.611 153.839 558.741 Q153.839 565.847 155.644 569.412 Q157.473 572.954 161.084 572.954 Q164.718 572.954 166.524 569.412 Q168.353 565.847 168.353 558.741 Q168.353 551.611 166.524 548.07 Q164.718 544.505 161.084 544.505 M161.084 540.801 Q166.894 540.801 169.95 545.408 Q173.029 549.991 173.029 558.741 Q173.029 567.468 169.95 572.074 Q166.894 576.657 161.084 576.657 Q155.274 576.657 152.195 572.074 Q149.14 567.468 149.14 558.741 Q149.14 549.991 152.195 545.408 Q155.274 540.801 161.084 540.801 Z\" fill=\"#000000\" fill-rule=\"evenodd\" fill-opacity=\"1\" /><path clip-path=\"url(#clip920)\" d=\"M91.5706 355.118 L99.2095 355.118 L99.2095 328.752 L90.8993 330.419 L90.8993 326.159 L99.1632 324.493 L103.839 324.493 L103.839 355.118 L111.478 355.118 L111.478 359.053 L91.5706 359.053 L91.5706 355.118 Z\" fill=\"#000000\" fill-rule=\"evenodd\" fill-opacity=\"1\" /><path clip-path=\"url(#clip920)\" d=\"M130.922 327.571 Q127.311 327.571 125.482 331.136 Q123.677 334.678 123.677 341.807 Q123.677 348.914 125.482 352.479 Q127.311 356.02 130.922 356.02 Q134.556 356.02 136.362 352.479 Q138.191 348.914 138.191 341.807 Q138.191 334.678 136.362 331.136 Q134.556 327.571 130.922 327.571 M130.922 323.868 Q136.732 323.868 139.788 328.474 Q142.867 333.057 142.867 341.807 Q142.867 350.534 139.788 355.141 Q136.732 359.724 130.922 359.724 Q125.112 359.724 122.033 355.141 Q118.978 350.534 118.978 341.807 Q118.978 333.057 122.033 328.474 Q125.112 323.868 130.922 323.868 Z\" fill=\"#000000\" fill-rule=\"evenodd\" fill-opacity=\"1\" /><path clip-path=\"url(#clip920)\" d=\"M161.084 327.571 Q157.473 327.571 155.644 331.136 Q153.839 334.678 153.839 341.807 Q153.839 348.914 155.644 352.479 Q157.473 356.02 161.084 356.02 Q164.718 356.02 166.524 352.479 Q168.353 348.914 168.353 341.807 Q168.353 334.678 166.524 331.136 Q164.718 327.571 161.084 327.571 M161.084 323.868 Q166.894 323.868 169.95 328.474 Q173.029 333.057 173.029 341.807 Q173.029 350.534 169.95 355.141 Q166.894 359.724 161.084 359.724 Q155.274 359.724 152.195 355.141 Q149.14 350.534 149.14 341.807 Q149.14 333.057 152.195 328.474 Q155.274 323.868 161.084 323.868 Z\" fill=\"#000000\" fill-rule=\"evenodd\" fill-opacity=\"1\" /><path clip-path=\"url(#clip920)\" d=\"M91.5706 138.184 L99.2095 138.184 L99.2095 111.819 L90.8993 113.485 L90.8993 109.226 L99.1632 107.559 L103.839 107.559 L103.839 138.184 L111.478 138.184 L111.478 142.119 L91.5706 142.119 L91.5706 138.184 Z\" fill=\"#000000\" fill-rule=\"evenodd\" fill-opacity=\"1\" /><path clip-path=\"url(#clip920)\" d=\"M120.969 107.559 L139.325 107.559 L139.325 111.494 L125.251 111.494 L125.251 119.967 Q126.27 119.619 127.288 119.457 Q128.307 119.272 129.325 119.272 Q135.112 119.272 138.492 122.443 Q141.871 125.615 141.871 131.031 Q141.871 136.61 138.399 139.712 Q134.927 142.791 128.607 142.791 Q126.432 142.791 124.163 142.42 Q121.918 142.05 119.51 141.309 L119.51 136.61 Q121.594 137.744 123.816 138.3 Q126.038 138.855 128.515 138.855 Q132.519 138.855 134.857 136.749 Q137.195 134.643 137.195 131.031 Q137.195 127.42 134.857 125.314 Q132.519 123.207 128.515 123.207 Q126.64 123.207 124.765 123.624 Q122.913 124.041 120.969 124.92 L120.969 107.559 Z\" fill=\"#000000\" fill-rule=\"evenodd\" fill-opacity=\"1\" /><path clip-path=\"url(#clip920)\" d=\"M161.084 110.638 Q157.473 110.638 155.644 114.203 Q153.839 117.744 153.839 124.874 Q153.839 131.98 155.644 135.545 Q157.473 139.087 161.084 139.087 Q164.718 139.087 166.524 135.545 Q168.353 131.98 168.353 124.874 Q168.353 117.744 166.524 114.203 Q164.718 110.638 161.084 110.638 M161.084 106.934 Q166.894 106.934 169.95 111.541 Q173.029 116.124 173.029 124.874 Q173.029 133.601 169.95 138.207 Q166.894 142.791 161.084 142.791 Q155.274 142.791 152.195 138.207 Q149.14 133.601 149.14 124.874 Q149.14 116.124 152.195 111.541 Q155.274 106.934 161.084 106.934 Z\" fill=\"#000000\" fill-rule=\"evenodd\" fill-opacity=\"1\" /><polyline clip-path=\"url(#clip922)\" style=\"stroke:#009af9; stroke-linecap:butt; stroke-linejoin:round; stroke-width:4; stroke-opacity:1; fill:none\" points=\"\n",
       "  269.7,775.673 310.973,775.741 352.246,775.808 393.519,775.876 434.793,775.953 476.066,776.05 517.339,776.168 558.612,776.306 599.885,776.463 641.158,776.64 \n",
       "  682.432,776.835 723.705,777.047 764.978,777.324 806.251,777.713 847.524,778.213 888.797,778.818 930.07,779.681 971.344,780.953 1012.62,782.628 1053.89,784.701 \n",
       "  1095.16,786.516 1136.44,787.419 1177.71,787.414 1218.98,786.505 1260.26,784.702 1301.53,782.018 1342.8,778.47 1384.08,774.078 1425.35,768.864 1466.62,762.855 \n",
       "  1507.89,756.076 1549.17,748.555 1590.44,741.184 1631.71,734.855 1672.99,729.585 1714.26,725.389 1755.53,722.277 1796.81,720.252 1838.08,719.315 1879.35,719.461 \n",
       "  1920.63,720.683 1961.9,722.965 2003.17,726.291 2044.45,730.638 2085.72,735.98 2126.99,742.286 2168.26,749.524 2209.54,757.655 2250.81,766.638 2292.08,776.43 \n",
       "  \n",
       "  \"/>\n",
       "<polyline clip-path=\"url(#clip922)\" style=\"stroke:#e26f46; stroke-linecap:butt; stroke-linejoin:round; stroke-width:4; stroke-opacity:1; fill:none\" points=\"\n",
       "  269.7,775.64 310.973,775.635 352.246,775.621 393.519,775.597 434.793,775.564 476.066,775.497 517.339,775.37 558.612,775.185 599.885,774.943 641.158,774.597 \n",
       "  682.432,774.1 723.705,773.454 764.978,772.667 806.251,771.619 847.524,770.196 888.797,768.407 930.07,766.263 971.344,764.416 1012.62,763.516 1053.89,763.571 \n",
       "  1095.16,764.585 1136.44,766.554 1177.71,769.468 1218.98,773.31 1260.26,778.055 1301.53,783.634 1342.8,789.972 1384.08,797.026 1425.35,804.75 1466.62,812.264 \n",
       "  1507.89,818.691 1549.17,823.99 1590.44,828.122 1631.71,831.059 1672.99,832.78 1714.26,833.273 1755.53,832.537 1796.81,830.579 1838.08,827.413 1879.35,823.062 \n",
       "  1920.63,817.556 1961.9,810.927 2003.17,803.214 2044.45,794.459 2085.72,784.71 2126.99,774.016 2168.26,762.435 2209.54,750.023 2250.81,736.847 2292.08,723.84 \n",
       "  \n",
       "  \"/>\n",
       "<polyline clip-path=\"url(#clip922)\" style=\"stroke:#3da44d; stroke-linecap:butt; stroke-linejoin:round; stroke-width:4; stroke-opacity:1; fill:none\" points=\"\n",
       "  269.7,775.64 310.973,775.64 352.246,775.648 393.519,775.67 434.793,775.707 476.066,775.758 517.339,775.878 558.612,776.121 599.885,776.485 641.158,776.968 \n",
       "  682.432,777.667 723.705,778.679 764.978,779.998 806.251,781.616 847.524,783.316 888.797,784.883 930.07,786.306 971.344,787.574 1012.62,788.289 1053.89,788.056 \n",
       "  1095.16,786.881 1136.44,784.777 1177.71,781.764 1218.98,777.868 1260.26,773.118 1301.53,767.55 1342.8,762.068 1384.08,757.576 1425.35,754.107 1466.62,751.688 \n",
       "  1507.89,750.34 1549.17,750.076 1590.44,750.901 1631.71,752.809 1672.99,755.788 1714.26,759.817 1755.53,764.868 1796.81,770.908 1838.08,777.033 1879.35,782.335 \n",
       "  1920.63,786.779 1961.9,790.334 2003.17,792.968 2044.45,794.656 2085.72,795.376 2126.99,795.109 2168.26,794.28 2209.54,793.314 2250.81,792.201 2292.08,790.931 \n",
       "  \n",
       "  \"/>\n",
       "<polyline clip-path=\"url(#clip922)\" style=\"stroke:#c271d2; stroke-linecap:butt; stroke-linejoin:round; stroke-width:4; stroke-opacity:1; fill:none\" points=\"\n",
       "  269.7,775.639 310.973,775.639 352.246,775.639 393.519,775.628 434.793,775.592 476.066,775.533 517.339,775.451 558.612,775.282 599.885,774.965 641.158,774.501 \n",
       "  682.432,773.891 723.705,773.144 764.978,772.267 806.251,771.266 847.524,770.145 888.797,769.414 930.07,769.582 971.344,770.65 1012.62,772.62 1053.89,775.272 \n",
       "  1095.16,778.382 1136.44,781.942 1177.71,785.942 1218.98,789.716 1260.26,792.598 1301.53,794.574 1342.8,795.628 1384.08,795.747 1425.35,794.923 1466.62,793.15 \n",
       "  1507.89,790.427 1549.17,786.755 1590.44,782.144 1631.71,776.602 1672.99,770.145 1714.26,763.66 1755.53,758.035 1796.81,753.291 1838.08,749.45 1879.35,746.532 \n",
       "  1920.63,744.552 1961.9,743.525 2003.17,743.459 2044.45,744.359 2085.72,746.227 2126.99,749.061 2168.26,752.854 2209.54,757.598 2250.81,763.28 2292.08,769.889 \n",
       "  \n",
       "  \"/>\n",
       "<polyline clip-path=\"url(#clip922)\" style=\"stroke:#ac8d18; stroke-linecap:butt; stroke-linejoin:round; stroke-width:4; stroke-opacity:1; fill:none\" points=\"\n",
       "  269.7,776.317 310.973,776.315 352.246,776.313 393.519,776.308 434.793,776.514 476.066,776.718 517.339,776.918 558.612,777.112 599.885,777.31 641.158,777.499 \n",
       "  682.432,777.676 723.705,777.838 764.978,778.976 806.251,780.089 847.524,781.169 888.797,782.206 930.07,786.327 971.344,790.385 1012.62,794.386 1053.89,798.341 \n",
       "  1095.16,789.23 1136.44,780.122 1177.71,771.053 1218.98,762.062 1260.26,753.183 1301.53,744.452 1342.8,735.904 1384.08,727.568 1425.35,719.477 1466.62,711.653 \n",
       "  1507.89,704.096 1549.17,696.8 1590.44,707.105 1631.71,717.618 1672.99,728.293 1714.26,739.085 1755.53,749.947 1796.81,760.834 1838.08,771.7 1879.35,782.498 \n",
       "  1920.63,793.184 1961.9,803.713 2003.17,814.043 2044.45,824.131 2085.72,833.937 2126.99,843.422 2168.26,852.549 2209.54,861.281 2250.81,869.587 2292.08,877.44 \n",
       "  \n",
       "  \"/>\n",
       "<polyline clip-path=\"url(#clip922)\" style=\"stroke:#00a9ad; stroke-linecap:butt; stroke-linejoin:round; stroke-width:4; stroke-opacity:1; fill:none\" points=\"\n",
       "  269.7,775.644 310.973,775.546 352.246,775.449 393.519,775.355 434.793,775.264 476.066,774.668 517.339,774.079 558.612,773.502 599.885,772.943 641.158,771.415 \n",
       "  682.432,769.919 723.705,768.467 764.978,767.071 806.251,763.269 847.524,759.558 888.797,755.956 930.07,752.476 971.344,761.888 1012.62,771.405 1053.89,780.981 \n",
       "  1095.16,790.563 1136.44,800.08 1177.71,809.457 1218.98,818.62 1260.26,827.498 1301.53,835.293 1342.8,842.674 1384.08,849.607 1425.35,856.069 1466.62,845.423 \n",
       "  1507.89,834.332 1549.17,822.847 1590.44,811.027 1631.71,798.956 1672.99,786.724 1714.26,774.424 1755.53,762.147 1796.81,749.982 1838.08,738.016 1879.35,726.306 \n",
       "  1920.63,714.905 1961.9,703.862 2003.17,693.223 2044.45,683.035 2085.72,673.337 2126.99,664.17 2168.26,655.571 2209.54,647.589 2250.81,640.268 2292.08,650.997 \n",
       "  \n",
       "  \"/>\n",
       "<polyline clip-path=\"url(#clip922)\" style=\"stroke:#ed5d92; stroke-linecap:butt; stroke-linejoin:round; stroke-width:4; stroke-opacity:1; fill:none\" points=\"\n",
       "  269.7,775.642 310.973,775.642 352.246,775.79 393.519,775.937 434.793,776.082 476.066,776.223 517.339,777.456 558.612,778.677 599.885,779.876 641.158,781.044 \n",
       "  682.432,784.207 723.705,787.311 764.978,790.338 806.251,793.269 847.524,791.996 888.797,790.605 930.07,789.11 971.344,787.531 1012.62,778.042 1053.89,768.582 \n",
       "  1095.16,759.219 1136.44,750.017 1177.71,741.043 1218.98,732.355 1260.26,723.992 1301.53,715.987 1342.8,725.714 1384.08,735.786 1425.35,746.158 1466.62,756.777 \n",
       "  1507.89,767.566 1549.17,778.441 1590.44,789.316 1631.71,800.105 1672.99,810.724 1714.26,821.092 1755.53,831.154 1796.81,840.864 1838.08,832.833 1879.35,824.431 \n",
       "  1920.63,815.685 1961.9,806.629 2003.17,797.294 2044.45,787.716 2085.72,777.932 2126.99,767.982 2168.26,766.684 2209.54,765.267 2250.81,763.74 2292.08,762.119 \n",
       "  \n",
       "  \"/>\n",
       "<polyline clip-path=\"url(#clip922)\" style=\"stroke:#c68125; stroke-linecap:butt; stroke-linejoin:round; stroke-width:4; stroke-opacity:1; fill:none\" points=\"\n",
       "  269.7,775.639 310.973,775.639 352.246,775.639 393.519,775.402 434.793,775.166 476.066,774.932 517.339,774.7 558.612,773.21 599.885,771.729 641.158,770.266 \n",
       "  682.432,768.824 723.705,767.513 764.978,766.242 806.251,765.019 847.524,763.851 888.797,772.817 930.07,781.818 971.344,790.833 1012.62,799.84 1053.89,804.461 \n",
       "  1095.16,809.01 1136.44,813.46 1177.71,817.784 1218.98,808.946 1260.26,799.955 1301.53,790.813 1342.8,781.526 1384.08,772.128 1425.35,762.658 1466.62,753.154 \n",
       "  1507.89,743.658 1549.17,734.21 1590.44,724.85 1631.71,715.619 1672.99,706.557 1714.26,715.052 1755.53,723.759 1796.81,732.681 1838.08,741.813 1879.35,751.127 \n",
       "  1920.63,760.588 1961.9,770.158 2003.17,779.802 2044.45,789.481 2085.72,799.156 2126.99,808.788 2168.26,818.342 2209.54,827.793 2250.81,837.118 2292.08,846.297 \n",
       "  \n",
       "  \"/>\n",
       "<polyline clip-path=\"url(#clip922)\" style=\"stroke:#00a98d; stroke-linecap:butt; stroke-linejoin:round; stroke-width:4; stroke-opacity:1; fill:none\" points=\"\n",
       "  269.7,771.301 310.973,771.402 352.246,771.571 393.519,771.807 434.793,772.121 476.066,772.532 517.339,773.061 558.612,773.727 599.885,774.551 641.158,775.552 \n",
       "  682.432,776.747 723.705,778.155 764.978,779.839 806.251,781.913 847.524,784.486 888.797,787.665 930.07,791.706 971.344,797.02 1012.62,804.009 1053.89,813.07 \n",
       "  1095.16,823.946 1136.44,835.726 1177.71,847.5 1218.98,858.365 1260.26,867.428 1301.53,873.807 1342.8,876.638 1384.08,875.076 1425.35,868.301 1466.62,855.516 \n",
       "  1507.89,835.953 1549.17,808.868 1590.44,774.413 1631.71,733.628 1672.99,687.574 1714.26,637.324 1755.53,583.961 1796.81,528.573 1838.08,472.249 1879.35,416.071 \n",
       "  1920.63,361.114 1961.9,308.44 2003.17,259.091 2044.45,214.089 2085.72,174.43 2126.99,141.077 2168.26,114.962 2209.54,96.9773 2250.81,87.9763 2292.08,88.7664 \n",
       "  \n",
       "  \"/>\n",
       "<polyline clip-path=\"url(#clip922)\" style=\"stroke:#8e971d; stroke-linecap:butt; stroke-linejoin:round; stroke-width:4; stroke-opacity:1; fill:none\" points=\"\n",
       "  269.7,775.639 310.973,775.635 352.246,775.617 393.519,775.574 434.793,775.499 476.066,775.357 517.339,775.087 558.612,774.633 599.885,773.937 641.158,772.895 \n",
       "  682.432,771.355 723.705,769.17 764.978,766.197 806.251,762.177 847.524,756.734 888.797,749.501 930.07,740.125 971.344,728.902 1012.62,716.779 1053.89,704.711 \n",
       "  1095.16,693.656 1136.44,684.571 1177.71,678.4 1218.98,676.071 1260.26,678.486 1301.53,686.481 1342.8,700.813 1384.08,722.2 1425.35,751.31 1466.62,787.935 \n",
       "  1507.89,830.987 1549.17,879.337 1590.44,931.819 1631.71,987.239 1672.99,1044.38 1714.26,1102.01 1755.53,1158.91 1796.81,1213.85 1838.08,1265.62 1879.35,1313.05 \n",
       "  1920.63,1354.96 1961.9,1390.25 2003.17,1417.83 2044.45,1436.65 2085.72,1445.72 2126.99,1444.09 2168.26,1430.89 2209.54,1405.27 2250.81,1366.48 2292.08,1314.68 \n",
       "  \n",
       "  \"/>\n",
       "<polyline clip-path=\"url(#clip922)\" style=\"stroke:#00a8cb; stroke-linecap:butt; stroke-linejoin:round; stroke-width:4; stroke-opacity:1; fill:none\" points=\"\n",
       "  269.7,775.639 310.973,775.64 352.246,775.648 393.519,775.679 434.793,775.746 476.066,775.865 517.339,776.104 558.612,776.586 599.885,777.432 641.158,778.76 \n",
       "  682.432,780.787 723.705,783.827 764.978,788.186 806.251,794.163 847.524,801.839 888.797,811.083 930.07,821.749 971.344,833.684 1012.62,846.334 1053.89,858.751 \n",
       "  1095.16,869.992 1136.44,879.13 1177.71,885.255 1218.98,887.483 1260.26,884.961 1301.53,876.872 1342.8,863.3 1384.08,845.237 1425.35,823.705 1466.62,799.754 \n",
       "  1507.89,774.455 1549.17,748.892 1590.44,724.153 1631.71,701.322 1672.99,681.471 1714.26,665.649 1755.53,654.878 1796.81,650.147 1838.08,651.54 1879.35,658.235 \n",
       "  1920.63,669.375 1961.9,684.069 2003.17,701.398 2044.45,720.415 2085.72,740.152 2126.99,759.622 2168.26,778.262 2209.54,795.937 2250.81,812.499 2292.08,827.791 \n",
       "  \n",
       "  \"/>\n",
       "<polyline clip-path=\"url(#clip922)\" style=\"stroke:#9b7fe8; stroke-linecap:butt; stroke-linejoin:round; stroke-width:4; stroke-opacity:1; fill:none\" points=\"\n",
       "  269.7,775.639 310.973,775.639 352.246,775.639 393.519,775.628 434.793,775.58 476.066,775.474 517.339,775.285 558.612,774.927 599.885,774.253 641.158,773.114 \n",
       "  682.432,771.366 723.705,768.87 764.978,765.498 806.251,761.124 847.524,755.629 888.797,749.404 930.07,743.346 971.344,738.357 1012.62,735.337 1053.89,734.969 \n",
       "  1095.16,737.712 1136.44,744.015 1177.71,754.317 1218.98,768.394 1260.26,785.352 1301.53,804.287 1342.8,824.275 1384.08,844.383 1425.35,863.667 1466.62,881.178 \n",
       "  1507.89,895.965 1549.17,907.081 1590.44,913.585 1631.71,914.548 1672.99,909.054 1714.26,897.074 1755.53,879.469 1796.81,857.121 1838.08,830.932 1879.35,801.824 \n",
       "  1920.63,770.737 1961.9,738.622 2003.17,706.442 2044.45,675.161 2085.72,645.748 2126.99,619.169 2168.26,596.384 2209.54,578.342 2250.81,565.983 2292.08,560.232 \n",
       "  \n",
       "  \"/>\n",
       "<path clip-path=\"url(#clip920)\" d=\"\n",
       "M1963.08 769.138 L2281.3 769.138 L2281.3 95.2176 L1963.08 95.2176  Z\n",
       "  \" fill=\"#ffffff\" fill-rule=\"evenodd\" fill-opacity=\"1\"/>\n",
       "<polyline clip-path=\"url(#clip920)\" style=\"stroke:#000000; stroke-linecap:butt; stroke-linejoin:round; stroke-width:4; stroke-opacity:1; fill:none\" points=\"\n",
       "  1963.08,769.138 2281.3,769.138 2281.3,95.2176 1963.08,95.2176 1963.08,769.138 \n",
       "  \"/>\n",
       "<polyline clip-path=\"url(#clip920)\" style=\"stroke:#009af9; stroke-linecap:butt; stroke-linejoin:round; stroke-width:4; stroke-opacity:1; fill:none\" points=\"\n",
       "  1986.9,147.058 2129.82,147.058 \n",
       "  \"/>\n",
       "<path clip-path=\"url(#clip920)\" d=\"M2154.22 138.412 L2174.45 138.412 L2174.45 142.301 L2158.43 160.935 L2174.45 160.935 L2174.45 164.338 L2153.64 164.338 L2153.64 160.449 L2169.66 141.815 L2154.22 141.815 L2154.22 138.412 Z\" fill=\"#000000\" fill-rule=\"evenodd\" fill-opacity=\"1\" /><path clip-path=\"url(#clip920)\" d=\"M2182.36 160.402 L2190 160.402 L2190 134.037 L2181.69 135.703 L2181.69 131.444 L2189.96 129.778 L2194.63 129.778 L2194.63 160.402 L2202.27 160.402 L2202.27 164.338 L2182.36 164.338 L2182.36 160.402 Z\" fill=\"#000000\" fill-rule=\"evenodd\" fill-opacity=\"1\" /><polyline clip-path=\"url(#clip920)\" style=\"stroke:#e26f46; stroke-linecap:butt; stroke-linejoin:round; stroke-width:4; stroke-opacity:1; fill:none\" points=\"\n",
       "  1986.9,198.898 2129.82,198.898 \n",
       "  \"/>\n",
       "<path clip-path=\"url(#clip920)\" d=\"M2154.22 190.252 L2174.45 190.252 L2174.45 194.141 L2158.43 212.775 L2174.45 212.775 L2174.45 216.178 L2153.64 216.178 L2153.64 212.289 L2169.66 193.655 L2154.22 193.655 L2154.22 190.252 Z\" fill=\"#000000\" fill-rule=\"evenodd\" fill-opacity=\"1\" /><path clip-path=\"url(#clip920)\" d=\"M2185.58 212.242 L2201.9 212.242 L2201.9 216.178 L2179.96 216.178 L2179.96 212.242 Q2182.62 209.488 2187.2 204.858 Q2191.81 200.205 2192.99 198.863 Q2195.23 196.34 2196.11 194.604 Q2197.02 192.844 2197.02 191.155 Q2197.02 188.4 2195.07 186.664 Q2193.15 184.928 2190.05 184.928 Q2187.85 184.928 2185.4 185.692 Q2182.97 186.455 2180.19 188.006 L2180.19 183.284 Q2183.01 182.15 2185.47 181.571 Q2187.92 180.993 2189.96 180.993 Q2195.33 180.993 2198.52 183.678 Q2201.72 186.363 2201.72 190.854 Q2201.72 192.983 2200.91 194.905 Q2200.12 196.803 2198.01 199.395 Q2197.43 200.067 2194.33 203.284 Q2191.23 206.479 2185.58 212.242 Z\" fill=\"#000000\" fill-rule=\"evenodd\" fill-opacity=\"1\" /><polyline clip-path=\"url(#clip920)\" style=\"stroke:#3da44d; stroke-linecap:butt; stroke-linejoin:round; stroke-width:4; stroke-opacity:1; fill:none\" points=\"\n",
       "  1986.9,250.738 2129.82,250.738 \n",
       "  \"/>\n",
       "<path clip-path=\"url(#clip920)\" d=\"M2154.22 242.092 L2174.45 242.092 L2174.45 245.981 L2158.43 264.615 L2174.45 264.615 L2174.45 268.018 L2153.64 268.018 L2153.64 264.129 L2169.66 245.495 L2154.22 245.495 L2154.22 242.092 Z\" fill=\"#000000\" fill-rule=\"evenodd\" fill-opacity=\"1\" /><path clip-path=\"url(#clip920)\" d=\"M2195.72 249.383 Q2199.08 250.101 2200.95 252.369 Q2202.85 254.638 2202.85 257.971 Q2202.85 263.087 2199.33 265.888 Q2195.81 268.689 2189.33 268.689 Q2187.16 268.689 2184.84 268.249 Q2182.55 267.832 2180.1 266.976 L2180.1 262.462 Q2182.04 263.596 2184.35 264.175 Q2186.67 264.754 2189.19 264.754 Q2193.59 264.754 2195.88 263.018 Q2198.2 261.281 2198.2 257.971 Q2198.2 254.916 2196.04 253.203 Q2193.91 251.467 2190.1 251.467 L2186.07 251.467 L2186.07 247.624 L2190.28 247.624 Q2193.73 247.624 2195.56 246.258 Q2197.39 244.87 2197.39 242.277 Q2197.39 239.615 2195.49 238.203 Q2193.61 236.768 2190.1 236.768 Q2188.17 236.768 2185.98 237.184 Q2183.78 237.601 2181.14 238.481 L2181.14 234.314 Q2183.8 233.573 2186.11 233.203 Q2188.45 232.833 2190.51 232.833 Q2195.84 232.833 2198.94 235.263 Q2202.04 237.67 2202.04 241.791 Q2202.04 244.661 2200.4 246.652 Q2198.75 248.62 2195.72 249.383 Z\" fill=\"#000000\" fill-rule=\"evenodd\" fill-opacity=\"1\" /><polyline clip-path=\"url(#clip920)\" style=\"stroke:#c271d2; stroke-linecap:butt; stroke-linejoin:round; stroke-width:4; stroke-opacity:1; fill:none\" points=\"\n",
       "  1986.9,302.578 2129.82,302.578 \n",
       "  \"/>\n",
       "<path clip-path=\"url(#clip920)\" d=\"M2154.22 293.932 L2174.45 293.932 L2174.45 297.821 L2158.43 316.455 L2174.45 316.455 L2174.45 319.858 L2153.64 319.858 L2153.64 315.969 L2169.66 297.335 L2154.22 297.335 L2154.22 293.932 Z\" fill=\"#000000\" fill-rule=\"evenodd\" fill-opacity=\"1\" /><path clip-path=\"url(#clip920)\" d=\"M2194.4 289.372 L2182.6 307.821 L2194.4 307.821 L2194.4 289.372 M2193.17 285.298 L2199.05 285.298 L2199.05 307.821 L2203.98 307.821 L2203.98 311.709 L2199.05 311.709 L2199.05 319.858 L2194.4 319.858 L2194.4 311.709 L2178.8 311.709 L2178.8 307.196 L2193.17 285.298 Z\" fill=\"#000000\" fill-rule=\"evenodd\" fill-opacity=\"1\" /><polyline clip-path=\"url(#clip920)\" style=\"stroke:#ac8d18; stroke-linecap:butt; stroke-linejoin:round; stroke-width:4; stroke-opacity:1; fill:none\" points=\"\n",
       "  1986.9,354.418 2129.82,354.418 \n",
       "  \"/>\n",
       "<path clip-path=\"url(#clip920)\" d=\"M2154.22 345.772 L2174.45 345.772 L2174.45 349.661 L2158.43 368.295 L2174.45 368.295 L2174.45 371.698 L2153.64 371.698 L2153.64 367.809 L2169.66 349.175 L2154.22 349.175 L2154.22 345.772 Z\" fill=\"#000000\" fill-rule=\"evenodd\" fill-opacity=\"1\" /><path clip-path=\"url(#clip920)\" d=\"M2181.6 337.138 L2199.96 337.138 L2199.96 341.073 L2185.88 341.073 L2185.88 349.545 Q2186.9 349.198 2187.92 349.036 Q2188.94 348.85 2189.96 348.85 Q2195.74 348.85 2199.12 352.022 Q2202.5 355.193 2202.5 360.61 Q2202.5 366.188 2199.03 369.29 Q2195.56 372.369 2189.24 372.369 Q2187.06 372.369 2184.79 371.998 Q2182.55 371.628 2180.14 370.887 L2180.14 366.188 Q2182.23 367.323 2184.45 367.878 Q2186.67 368.434 2189.15 368.434 Q2193.15 368.434 2195.49 366.327 Q2197.83 364.221 2197.83 360.61 Q2197.83 356.999 2195.49 354.892 Q2193.15 352.786 2189.15 352.786 Q2187.27 352.786 2185.4 353.202 Q2183.54 353.619 2181.6 354.499 L2181.6 337.138 Z\" fill=\"#000000\" fill-rule=\"evenodd\" fill-opacity=\"1\" /><polyline clip-path=\"url(#clip920)\" style=\"stroke:#00a9ad; stroke-linecap:butt; stroke-linejoin:round; stroke-width:4; stroke-opacity:1; fill:none\" points=\"\n",
       "  1986.9,406.258 2129.82,406.258 \n",
       "  \"/>\n",
       "<path clip-path=\"url(#clip920)\" d=\"M2154.22 397.612 L2174.45 397.612 L2174.45 401.501 L2158.43 420.135 L2174.45 420.135 L2174.45 423.538 L2153.64 423.538 L2153.64 419.649 L2169.66 401.015 L2154.22 401.015 L2154.22 397.612 Z\" fill=\"#000000\" fill-rule=\"evenodd\" fill-opacity=\"1\" /><path clip-path=\"url(#clip920)\" d=\"M2192.13 404.394 Q2188.98 404.394 2187.13 406.547 Q2185.3 408.7 2185.3 412.45 Q2185.3 416.176 2187.13 418.352 Q2188.98 420.505 2192.13 420.505 Q2195.28 420.505 2197.11 418.352 Q2198.96 416.176 2198.96 412.45 Q2198.96 408.7 2197.11 406.547 Q2195.28 404.394 2192.13 404.394 M2201.41 389.741 L2201.41 394.001 Q2199.66 393.167 2197.85 392.728 Q2196.07 392.288 2194.31 392.288 Q2189.68 392.288 2187.23 395.413 Q2184.79 398.538 2184.45 404.857 Q2185.81 402.843 2187.87 401.778 Q2189.93 400.69 2192.41 400.69 Q2197.62 400.69 2200.63 403.862 Q2203.66 407.01 2203.66 412.45 Q2203.66 417.774 2200.51 420.991 Q2197.36 424.209 2192.13 424.209 Q2186.14 424.209 2182.97 419.626 Q2179.79 415.019 2179.79 406.292 Q2179.79 398.098 2183.68 393.237 Q2187.57 388.353 2194.12 388.353 Q2195.88 388.353 2197.66 388.7 Q2199.47 389.047 2201.41 389.741 Z\" fill=\"#000000\" fill-rule=\"evenodd\" fill-opacity=\"1\" /><polyline clip-path=\"url(#clip920)\" style=\"stroke:#ed5d92; stroke-linecap:butt; stroke-linejoin:round; stroke-width:4; stroke-opacity:1; fill:none\" points=\"\n",
       "  1986.9,458.098 2129.82,458.098 \n",
       "  \"/>\n",
       "<path clip-path=\"url(#clip920)\" d=\"M2154.22 449.452 L2174.45 449.452 L2174.45 453.341 L2158.43 471.975 L2174.45 471.975 L2174.45 475.378 L2153.64 475.378 L2153.64 471.489 L2169.66 452.855 L2154.22 452.855 L2154.22 449.452 Z\" fill=\"#000000\" fill-rule=\"evenodd\" fill-opacity=\"1\" /><path clip-path=\"url(#clip920)\" d=\"M2180.37 440.818 L2202.6 440.818 L2202.6 442.808 L2190.05 475.378 L2185.16 475.378 L2196.97 444.753 L2180.37 444.753 L2180.37 440.818 Z\" fill=\"#000000\" fill-rule=\"evenodd\" fill-opacity=\"1\" /><polyline clip-path=\"url(#clip920)\" style=\"stroke:#c68125; stroke-linecap:butt; stroke-linejoin:round; stroke-width:4; stroke-opacity:1; fill:none\" points=\"\n",
       "  1986.9,509.938 2129.82,509.938 \n",
       "  \"/>\n",
       "<path clip-path=\"url(#clip920)\" d=\"M2154.22 501.292 L2174.45 501.292 L2174.45 505.181 L2158.43 523.815 L2174.45 523.815 L2174.45 527.218 L2153.64 527.218 L2153.64 523.329 L2169.66 504.695 L2154.22 504.695 L2154.22 501.292 Z\" fill=\"#000000\" fill-rule=\"evenodd\" fill-opacity=\"1\" /><path clip-path=\"url(#clip920)\" d=\"M2191.55 510.806 Q2188.22 510.806 2186.3 512.588 Q2184.4 514.37 2184.4 517.495 Q2184.4 520.62 2186.3 522.403 Q2188.22 524.185 2191.55 524.185 Q2194.89 524.185 2196.81 522.403 Q2198.73 520.597 2198.73 517.495 Q2198.73 514.37 2196.81 512.588 Q2194.91 510.806 2191.55 510.806 M2186.88 508.815 Q2183.87 508.074 2182.18 506.014 Q2180.51 503.954 2180.51 500.991 Q2180.51 496.847 2183.45 494.44 Q2186.41 492.033 2191.55 492.033 Q2196.72 492.033 2199.66 494.44 Q2202.6 496.847 2202.6 500.991 Q2202.6 503.954 2200.91 506.014 Q2199.24 508.074 2196.25 508.815 Q2199.63 509.602 2201.51 511.894 Q2203.41 514.185 2203.41 517.495 Q2203.41 522.519 2200.33 525.204 Q2197.27 527.889 2191.55 527.889 Q2185.84 527.889 2182.76 525.204 Q2179.7 522.519 2179.7 517.495 Q2179.7 514.185 2181.6 511.894 Q2183.5 509.602 2186.88 508.815 M2185.16 501.431 Q2185.16 504.116 2186.83 505.62 Q2188.52 507.125 2191.55 507.125 Q2194.56 507.125 2196.25 505.62 Q2197.97 504.116 2197.97 501.431 Q2197.97 498.745 2196.25 497.241 Q2194.56 495.736 2191.55 495.736 Q2188.52 495.736 2186.83 497.241 Q2185.16 498.745 2185.16 501.431 Z\" fill=\"#000000\" fill-rule=\"evenodd\" fill-opacity=\"1\" /><polyline clip-path=\"url(#clip920)\" style=\"stroke:#00a98d; stroke-linecap:butt; stroke-linejoin:round; stroke-width:4; stroke-opacity:1; fill:none\" points=\"\n",
       "  1986.9,561.778 2129.82,561.778 \n",
       "  \"/>\n",
       "<path clip-path=\"url(#clip920)\" d=\"M2154.22 553.132 L2174.45 553.132 L2174.45 557.021 L2158.43 575.655 L2174.45 575.655 L2174.45 579.058 L2153.64 579.058 L2153.64 575.169 L2169.66 556.535 L2154.22 556.535 L2154.22 553.132 Z\" fill=\"#000000\" fill-rule=\"evenodd\" fill-opacity=\"1\" /><path clip-path=\"url(#clip920)\" d=\"M2181.69 578.34 L2181.69 574.081 Q2183.45 574.914 2185.26 575.354 Q2187.06 575.794 2188.8 575.794 Q2193.43 575.794 2195.86 572.692 Q2198.31 569.567 2198.66 563.224 Q2197.32 565.215 2195.26 566.28 Q2193.2 567.345 2190.7 567.345 Q2185.51 567.345 2182.48 564.22 Q2179.47 561.072 2179.47 555.632 Q2179.47 550.308 2182.62 547.09 Q2185.77 543.873 2191 543.873 Q2196.99 543.873 2200.14 548.479 Q2203.31 553.062 2203.31 561.812 Q2203.31 569.984 2199.42 574.868 Q2195.56 579.729 2189.01 579.729 Q2187.25 579.729 2185.44 579.382 Q2183.64 579.034 2181.69 578.34 M2191 563.687 Q2194.15 563.687 2195.97 561.534 Q2197.83 559.382 2197.83 555.632 Q2197.83 551.905 2195.97 549.752 Q2194.15 547.576 2191 547.576 Q2187.85 547.576 2186 549.752 Q2184.17 551.905 2184.17 555.632 Q2184.17 559.382 2186 561.534 Q2187.85 563.687 2191 563.687 Z\" fill=\"#000000\" fill-rule=\"evenodd\" fill-opacity=\"1\" /><polyline clip-path=\"url(#clip920)\" style=\"stroke:#8e971d; stroke-linecap:butt; stroke-linejoin:round; stroke-width:4; stroke-opacity:1; fill:none\" points=\"\n",
       "  1986.9,613.618 2129.82,613.618 \n",
       "  \"/>\n",
       "<path clip-path=\"url(#clip920)\" d=\"M2154.22 604.972 L2174.45 604.972 L2174.45 608.861 L2158.43 627.495 L2174.45 627.495 L2174.45 630.898 L2153.64 630.898 L2153.64 627.009 L2169.66 608.375 L2154.22 608.375 L2154.22 604.972 Z\" fill=\"#000000\" fill-rule=\"evenodd\" fill-opacity=\"1\" /><path clip-path=\"url(#clip920)\" d=\"M2182.36 626.962 L2190 626.962 L2190 600.597 L2181.69 602.263 L2181.69 598.004 L2189.96 596.338 L2194.63 596.338 L2194.63 626.962 L2202.27 626.962 L2202.27 630.898 L2182.36 630.898 L2182.36 626.962 Z\" fill=\"#000000\" fill-rule=\"evenodd\" fill-opacity=\"1\" /><path clip-path=\"url(#clip920)\" d=\"M2221.72 599.416 Q2218.1 599.416 2216.28 602.981 Q2214.47 606.523 2214.47 613.652 Q2214.47 620.759 2216.28 624.324 Q2218.1 627.865 2221.72 627.865 Q2225.35 627.865 2227.16 624.324 Q2228.98 620.759 2228.98 613.652 Q2228.98 606.523 2227.16 602.981 Q2225.35 599.416 2221.72 599.416 M2221.72 595.713 Q2227.53 595.713 2230.58 600.319 Q2233.66 604.902 2233.66 613.652 Q2233.66 622.379 2230.58 626.986 Q2227.53 631.569 2221.72 631.569 Q2215.91 631.569 2212.83 626.986 Q2209.77 622.379 2209.77 613.652 Q2209.77 604.902 2212.83 600.319 Q2215.91 595.713 2221.72 595.713 Z\" fill=\"#000000\" fill-rule=\"evenodd\" fill-opacity=\"1\" /><polyline clip-path=\"url(#clip920)\" style=\"stroke:#00a8cb; stroke-linecap:butt; stroke-linejoin:round; stroke-width:4; stroke-opacity:1; fill:none\" points=\"\n",
       "  1986.9,665.458 2129.82,665.458 \n",
       "  \"/>\n",
       "<path clip-path=\"url(#clip920)\" d=\"M2154.22 656.812 L2174.45 656.812 L2174.45 660.701 L2158.43 679.335 L2174.45 679.335 L2174.45 682.738 L2153.64 682.738 L2153.64 678.849 L2169.66 660.215 L2154.22 660.215 L2154.22 656.812 Z\" fill=\"#000000\" fill-rule=\"evenodd\" fill-opacity=\"1\" /><path clip-path=\"url(#clip920)\" d=\"M2182.36 678.802 L2190 678.802 L2190 652.437 L2181.69 654.103 L2181.69 649.844 L2189.96 648.178 L2194.63 648.178 L2194.63 678.802 L2202.27 678.802 L2202.27 682.738 L2182.36 682.738 L2182.36 678.802 Z\" fill=\"#000000\" fill-rule=\"evenodd\" fill-opacity=\"1\" /><path clip-path=\"url(#clip920)\" d=\"M2212.53 678.802 L2220.16 678.802 L2220.16 652.437 L2211.85 654.103 L2211.85 649.844 L2220.12 648.178 L2224.79 648.178 L2224.79 678.802 L2232.43 678.802 L2232.43 682.738 L2212.53 682.738 L2212.53 678.802 Z\" fill=\"#000000\" fill-rule=\"evenodd\" fill-opacity=\"1\" /><polyline clip-path=\"url(#clip920)\" style=\"stroke:#9b7fe8; stroke-linecap:butt; stroke-linejoin:round; stroke-width:4; stroke-opacity:1; fill:none\" points=\"\n",
       "  1986.9,717.298 2129.82,717.298 \n",
       "  \"/>\n",
       "<path clip-path=\"url(#clip920)\" d=\"M2154.22 708.652 L2174.45 708.652 L2174.45 712.541 L2158.43 731.175 L2174.45 731.175 L2174.45 734.578 L2153.64 734.578 L2153.64 730.689 L2169.66 712.055 L2154.22 712.055 L2154.22 708.652 Z\" fill=\"#000000\" fill-rule=\"evenodd\" fill-opacity=\"1\" /><path clip-path=\"url(#clip920)\" d=\"M2182.36 730.642 L2190 730.642 L2190 704.277 L2181.69 705.943 L2181.69 701.684 L2189.96 700.018 L2194.63 700.018 L2194.63 730.642 L2202.27 730.642 L2202.27 734.578 L2182.36 734.578 L2182.36 730.642 Z\" fill=\"#000000\" fill-rule=\"evenodd\" fill-opacity=\"1\" /><path clip-path=\"url(#clip920)\" d=\"M2215.74 730.642 L2232.06 730.642 L2232.06 734.578 L2210.12 734.578 L2210.12 730.642 Q2212.78 727.888 2217.36 723.258 Q2221.97 718.605 2223.15 717.263 Q2225.4 714.74 2226.28 713.004 Q2227.18 711.244 2227.18 709.555 Q2227.18 706.8 2225.23 705.064 Q2223.31 703.328 2220.21 703.328 Q2218.01 703.328 2215.56 704.092 Q2213.13 704.855 2210.35 706.406 L2210.35 701.684 Q2213.17 700.55 2215.63 699.971 Q2218.08 699.393 2220.12 699.393 Q2225.49 699.393 2228.68 702.078 Q2231.88 704.763 2231.88 709.254 Q2231.88 711.383 2231.07 713.305 Q2230.28 715.203 2228.17 717.795 Q2227.6 718.467 2224.49 721.684 Q2221.39 724.879 2215.74 730.642 Z\" fill=\"#000000\" fill-rule=\"evenodd\" fill-opacity=\"1\" /></svg>\n"
      ]
     },
     "execution_count": 54,
     "metadata": {},
     "output_type": "execute_result"
    }
   ],
   "source": [
    "\n",
    "plot(z_hist', labels=[\"z1\" \"z2\" \"z3\" \"z4\" \"z5\" \"z6\" \"z7\" \"z8\" \"z9\" \"z10\" \"z11\" \"z12\"])"
   ]
  },
  {
   "cell_type": "code",
   "execution_count": null,
   "id": "0beaffcd",
   "metadata": {},
   "outputs": [],
   "source": []
  },
  {
   "cell_type": "code",
   "execution_count": null,
   "id": "f5e7493c",
   "metadata": {},
   "outputs": [],
   "source": []
  }
 ],
 "metadata": {
  "kernelspec": {
   "display_name": "Julia 1.6.3",
   "language": "julia",
   "name": "julia-1.6"
  },
  "language_info": {
   "file_extension": ".jl",
   "mimetype": "application/julia",
   "name": "julia",
   "version": "1.6.3"
  }
 },
 "nbformat": 4,
 "nbformat_minor": 5
}
